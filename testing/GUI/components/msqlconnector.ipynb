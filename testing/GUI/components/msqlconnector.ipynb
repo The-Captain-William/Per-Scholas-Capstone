{
 "cells": [
  {
   "cell_type": "code",
   "execution_count": 2,
   "metadata": {},
   "outputs": [],
   "source": [
    "import mysql.connector as MariaDb\n",
    "import os"
   ]
  },
  {
   "attachments": {},
   "cell_type": "markdown",
   "metadata": {},
   "source": [
    "Establishing connection "
   ]
  },
  {
   "cell_type": "code",
   "execution_count": 3,
   "metadata": {},
   "outputs": [],
   "source": [
    "user = os.getenv('DB_USER')\n",
    "pw = os.getenv('DB_PASSWORD')"
   ]
  },
  {
   "cell_type": "code",
   "execution_count": 4,
   "metadata": {},
   "outputs": [],
   "source": [
    "connection = MariaDb.connect(\n",
    "    host='localhost',\n",
    "    user= user,\n",
    "    password=pw,\n",
    "    database='drugsatfda'\n",
    ")"
   ]
  },
  {
   "attachments": {},
   "cell_type": "markdown",
   "metadata": {},
   "source": [
    "Establish Cursor"
   ]
  },
  {
   "cell_type": "code",
   "execution_count": 5,
   "metadata": {},
   "outputs": [],
   "source": [
    "cursor = connection.cursor()"
   ]
  },
  {
   "cell_type": "code",
   "execution_count": 14,
   "metadata": {},
   "outputs": [],
   "source": [
    "cursor.execute('SHOW TABLES;')   # every time cursor execute its contents are dumped. \n"
   ]
  },
  {
   "cell_type": "code",
   "execution_count": 25,
   "metadata": {},
   "outputs": [
    {
     "name": "stdout",
     "output_type": "stream",
     "text": [
      "('000004', '004', 'SOLUTION/DROPS;OPHTHALMIC', '1%', 0, 'PAREDRINE', 'HYDROXYAMPHETAMINE HYDROBROMIDE', 0)\n",
      "('000159', '001', 'TABLET;ORAL', '500MG', 0, 'SULFAPYRIDINE', 'SULFAPYRIDINE', 0)\n",
      "('000552', '001', 'INJECTABLE;INJECTION', '20,000 UNITS/ML', 0, 'LIQUAEMIN SODIUM', 'HEPARIN SODIUM', 0)\n",
      "('000552', '002', 'INJECTABLE;INJECTION', '40,000 UNITS/ML', 0, 'LIQUAEMIN SODIUM', 'HEPARIN SODIUM', 0)\n",
      "('000552', '003', 'INJECTABLE;INJECTION', '5,000 UNITS/ML', 0, 'LIQUAEMIN SODIUM', 'HEPARIN SODIUM', 0)\n",
      "('000552', '004', 'INJECTABLE;INJECTION', '1,000 UNITS/ML', 0, 'LIQUAEMIN SODIUM', 'HEPARIN SODIUM', 0)\n",
      "('000552', '005', 'INJECTABLE;INJECTION', '10,000 UNITS/ML', 0, 'LIQUAEMIN SODIUM', 'HEPARIN SODIUM', 0)\n",
      "('000552', '007', 'INJECTABLE;INJECTION', '100 UNITS/ML', 0, 'LIQUAEMIN LOCK FLUSH', 'HEPARIN SODIUM', 0)\n",
      "('000552', '008', 'INJECTABLE;INJECTION', '1,000 UNITS/ML', 0, 'HEPARIN SODIUM', 'HEPARIN SODIUM', 0)\n",
      "('000552', '009', 'INJECTABLE;INJECTION', '5,000 UNITS/ML', 0, 'HEPARIN SODIUM', 'HEPARIN SODIUM', 0)\n",
      "('000552', '010', 'INJECTABLE;INJECTION', '10,000 UNITS/ML', 0, 'HEPARIN SODIUM', 'HEPARIN SODIUM', 0)\n",
      "('000552', '011', 'INJECTABLE;INJECTION', '1,000 UNITS/ML', 0, 'LIQUAEMIN SODIUM PRESERVATIVE FREE', 'HEPARIN SODIUM', 0)\n",
      "('000552', '012', 'INJECTABLE;INJECTION', '5,000 UNITS/ML', 0, 'LIQUAEMIN SODIUM PRESERVATIVE FREE', 'HEPARIN SODIUM', 0)\n",
      "('000552', '013', 'INJECTABLE;INJECTION', '10,000 UNITS/ML', 0, 'LIQUAEMIN SODIUM PRESERVATIVE FREE', 'HEPARIN SODIUM', 0)\n",
      "('000734', '001', 'INJECTABLE;INJECTION', 'EQ 1MG BASE/ML', 0, 'HISTAMINE PHOSPHATE', 'HISTAMINE PHOSPHATE', 0)\n",
      "('000734', '002', 'INJECTABLE;INJECTION', 'EQ 0.2MG BASE/ML', 0, 'HISTAMINE PHOSPHATE', 'HISTAMINE PHOSPHATE', 0)\n",
      "('000734', '003', 'INJECTABLE;INJECTION', 'EQ 0.1MG BASE/ML', 0, 'HISTAMINE PHOSPHATE', 'HISTAMINE PHOSPHATE', 0)\n",
      "('000793', '002', 'TABLET;ORAL', '15MG', 0, 'BUTISOL SODIUM', 'BUTABARBITAL SODIUM', 0)\n",
      "('000793', '003', 'TABLET;ORAL', '50MG', 0, 'BUTISOL SODIUM', 'BUTABARBITAL SODIUM', 0)\n",
      "('000793', '004', 'TABLET;ORAL', '30MG', 1, 'BUTISOL SODIUM', 'BUTABARBITAL SODIUM', 1)\n",
      "('000793', '005', 'TABLET;ORAL', '100MG', 0, 'BUTISOL SODIUM', 'BUTABARBITAL SODIUM', 0)\n",
      "('001104', '001', 'INJECTABLE;INJECTION', '5MG/ML', 0, 'DOCA', 'DESOXYCORTICOSTERONE ACETATE', 0)\n",
      "('001504', '001', 'UNKNOWN', 'UNKNOWN', 0, 'VERARD', 'VERARD', 0)\n",
      "('001546', '001', 'TABLET;ORAL', '125MG', 0, 'GUANIDINE HYDROCHLORIDE', 'GUANIDINE HYDROCHLORIDE', 0)\n",
      "('002139', '003', 'TABLET;ORAL', '5MG', 0, 'MENADIONE', 'MENADIONE', 0)\n",
      "('002245', '002', 'TABLET;ORAL', '65MG', 0, 'PROLOID', 'THYROGLOBULIN', 0)\n",
      "('002245', '004', 'TABLET;ORAL', '325MG', 0, 'PROLOID', 'THYROGLOBULIN', 0)\n",
      "('002245', '005', 'TABLET;ORAL', '32MG', 0, 'PROLOID', 'THYROGLOBULIN', 0)\n",
      "('002245', '007', 'TABLET;ORAL', '200MG', 0, 'PROLOID', 'THYROGLOBULIN', 0)\n",
      "('002245', '008', 'TABLET;ORAL', '100MG', 0, 'PROLOID', 'THYROGLOBULIN', 0)\n",
      "('002245', '009', 'TABLET;ORAL', '16MG', 0, 'PROLOID', 'THYROGLOBULIN', 0)\n",
      "('002245', '010', 'TABLET;ORAL', '130MG', 0, 'PROLOID', 'THYROGLOBULIN', 0)\n",
      "('002282', '001', 'INJECTABLE;INJECTION', '100MG/ML', 0, 'INULIN AND SODIUM CHLORIDE', 'INULIN', 0)\n",
      "('002386', '002', 'TABLET;ORAL', '100MG', 0, 'AMINOPHYLLIN', 'AMINOPHYLLINE', 0)\n",
      "('002386', '003', 'TABLET;ORAL', '200MG', 0, 'AMINOPHYLLIN', 'AMINOPHYLLINE', 0)\n",
      "('002918', '001', 'POWDER;TOPICAL', '33.32%', 0, 'BENSULFOID', 'SULFUR', 0)\n",
      "('003158', '001', 'TABLET;ORAL', '10MG', 0, 'ORETON METHYL', 'METHYLTESTOSTERONE', 0)\n",
      "('003158', '002', 'TABLET;ORAL', '25MG', 0, 'ORETON METHYL', 'METHYLTESTOSTERONE', 0)\n",
      "('003240', '001', 'TABLET;BUCCAL, SUBLINGUAL', '10MG', 0, 'METANDREN', 'METHYLTESTOSTERONE', 0)\n",
      "('003240', '003', 'TABLET;BUCCAL, SUBLINGUAL', '25MG', 0, 'METANDREN', 'METHYLTESTOSTERONE', 0)\n",
      "('003240', '004', 'TABLET;BUCCAL, SUBLINGUAL', '5MG', 0, 'METANDREN', 'METHYLTESTOSTERONE', 0)\n",
      "('003240', '005', 'TABLET;BUCCAL, SUBLINGUAL', '10MG', 0, 'METANDREN', 'METHYLTESTOSTERONE', 0)\n",
      "('003402', '001', 'INJECTABLE;INJECTION', '5PRESSOR UNITS/ML **Federal Register determination that product was not discontinued or withdrawn for safety or efficacy reasons**', 1, 'PITRESSIN TANNATE', 'VASOPRESSIN TANNATE', 0)\n",
      "('003444', '001', 'CAPSULE;ORAL', '50,000 IU', 1, 'DRISDOL', 'ERGOCALCIFEROL', 1)\n",
      "('003718', '004', 'INJECTABLE;INJECTION', '5MG/ML', 0, 'SYNKAYVITE', 'MENADIOL SODIUM DIPHOSPHATE', 0)\n",
      "('003718', '006', 'INJECTABLE;INJECTION', '10MG/ML', 0, 'SYNKAYVITE', 'MENADIOL SODIUM DIPHOSPHATE', 0)\n",
      "('003718', '008', 'INJECTABLE;INJECTION', '37.5MG/ML', 0, 'SYNKAYVITE', 'MENADIOL SODIUM DIPHOSPHATE', 0)\n",
      "('003718', '010', 'TABLET;ORAL', '5MG', 0, 'SYNKAYVITE', 'MENADIOL SODIUM DIPHOSPHATE', 0)\n",
      "('003977', '001', 'INJECTABLE;INJECTION', '1MG/ML', 0, 'THEELIN', 'ESTRONE', 0)\n",
      "('003977', '002', 'INJECTABLE;INJECTION', '2MG/ML', 0, 'THEELIN', 'ESTRONE', 0)\n",
      "('003977', '003', 'INJECTABLE;INJECTION', '5MG/ML', 0, 'THEELIN', 'ESTRONE', 0)\n",
      "('004039', '002', 'TABLET, DELAYED RELEASE;ORAL', '0.1MG', 0, 'DIETHYLSTILBESTROL', 'DIETHYLSTILBESTROL', 0)\n",
      "('004039', '003', 'TABLET, DELAYED RELEASE;ORAL', '0.5MG', 0, 'DIETHYLSTILBESTROL', 'DIETHYLSTILBESTROL', 0)\n",
      "('004039', '004', 'TABLET, DELAYED RELEASE;ORAL', '1MG', 0, 'DIETHYLSTILBESTROL', 'DIETHYLSTILBESTROL', 0)\n",
      "('004039', '005', 'TABLET, DELAYED RELEASE;ORAL', '0.25MG', 0, 'DIETHYLSTILBESTROL', 'DIETHYLSTILBESTROL', 0)\n",
      "('004039', '006', 'TABLET, DELAYED RELEASE;ORAL', '5MG', 0, 'DIETHYLSTILBESTROL', 'DIETHYLSTILBESTROL', 0)\n",
      "('004040', '001', 'SUPPOSITORY;VAGINAL', '0.1MG', 0, 'DIETHYLSTILBESTROL', 'DIETHYLSTILBESTROL', 0)\n",
      "('004040', '002', 'SUPPOSITORY;VAGINAL', '0.5MG', 0, 'DIETHYLSTILBESTROL', 'DIETHYLSTILBESTROL', 0)\n",
      "('004041', '002', 'TABLET;ORAL', '0.1MG', 0, 'DIETHYLSTILBESTROL', 'DIETHYLSTILBESTROL', 0)\n",
      "('004041', '003', 'TABLET;ORAL', '0.5MG', 0, 'DIETHYLSTILBESTROL', 'DIETHYLSTILBESTROL', 0)\n",
      "('004041', '004', 'TABLET;ORAL', '1MG', 0, 'DIETHYLSTILBESTROL', 'DIETHYLSTILBESTROL', 0)\n",
      "('004041', '005', 'TABLET;ORAL', '5MG', 0, 'DIETHYLSTILBESTROL', 'DIETHYLSTILBESTROL', 0)\n",
      "('004054', '001', 'TABLET;ORAL', '500MG', 0, 'SULFADIAZINE', 'SULFADIAZINE', 0)\n",
      "('004054', '002', 'INJECTABLE;INJECTION', '250MG/ML', 0, 'SULFADIAZINE SODIUM', 'SULFADIAZINE SODIUM', 0)\n",
      "('004056', '001', 'SUPPOSITORY;VAGINAL', '0.1MG', 0, 'STILBESTROL', 'DIETHYLSTILBESTROL', 0)\n",
      "('004056', '002', 'SUPPOSITORY;VAGINAL', '0.5MG', 0, 'STILBESTROL', 'DIETHYLSTILBESTROL', 0)\n",
      "('004056', '003', 'INJECTABLE;INJECTION', '0.2MG/ML', 0, 'STILBESTROL', 'DIETHYLSTILBESTROL', 0)\n",
      "('004056', '004', 'INJECTABLE;INJECTION', '0.5MG/ML', 0, 'STILBESTROL', 'DIETHYLSTILBESTROL', 0)\n",
      "('004056', '005', 'INJECTABLE;INJECTION', '1MG/ML', 0, 'STILBESTROL', 'DIETHYLSTILBESTROL', 0)\n",
      "('004056', '006', 'INJECTABLE;INJECTION', '5MG/ML', 0, 'STILBESTROL', 'DIETHYLSTILBESTROL', 0)\n",
      "('004056', '007', 'TABLET;ORAL', '0.1MG', 0, 'STILBETIN', 'DIETHYLSTILBESTROL', 0)\n",
      "('004056', '008', 'TABLET;ORAL', '0.5MG', 0, 'STILBETIN', 'DIETHYLSTILBESTROL', 0)\n",
      "('004056', '009', 'TABLET;ORAL', '1MG', 0, 'STILBETIN', 'DIETHYLSTILBESTROL', 0)\n",
      "('004056', '010', 'TABLET;ORAL', '5MG', 0, 'STILBETIN', 'DIETHYLSTILBESTROL', 0)\n",
      "('004056', '011', 'TABLET, DELAYED RELEASE;ORAL', '0.1MG', 0, 'STILBETIN', 'DIETHYLSTILBESTROL', 0)\n",
      "('004056', '012', 'TABLET, DELAYED RELEASE;ORAL', '0.5MG', 0, 'STILBETIN', 'DIETHYLSTILBESTROL', 0)\n",
      "('004056', '013', 'TABLET, DELAYED RELEASE;ORAL', '1MG', 0, 'STILBETIN', 'DIETHYLSTILBESTROL', 0)\n",
      "('004056', '014', 'TABLET, DELAYED RELEASE;ORAL', '5MG', 0, 'STILBETIN', 'DIETHYLSTILBESTROL', 0)\n",
      "('004056', '017', 'TABLET;ORAL', '0.25MG', 0, 'STILBETIN', 'DIETHYLSTILBESTROL', 0)\n",
      "('004122', '002', 'TABLET;ORAL', '500MG', 1, 'SULFADIAZINE', 'SULFADIAZINE', 0)\n",
      "('004125', '005', 'TABLET;ORAL', '300MG', 0, 'SULFADIAZINE', 'SULFADIAZINE', 0)\n",
      "('004570', '001', 'INJECTABLE;INJECTION', '1,000 UNITS/ML', 0, 'HEPARIN SODIUM', 'HEPARIN SODIUM', 0)\n",
      "('004570', '002', 'INJECTABLE;INJECTION', '5,000 UNITS/ML', 0, 'HEPARIN SODIUM', 'HEPARIN SODIUM', 0)\n",
      "('004570', '003', 'INJECTABLE;INJECTION', '10,000 UNITS/ML', 0, 'HEPARIN SODIUM', 'HEPARIN SODIUM', 0)\n",
      "('004589', '004', 'INJECTABLE;INJECTION', '5ML/100ML;5GM/100ML', 0, 'ALCOHOL 5% AND DEXTROSE 5%', 'ALCOHOL; DEXTROSE', 0)\n",
      "('004589', '006', 'INJECTABLE;INJECTION', '10ML/100ML;5GM/100ML', 0, 'ALCOHOL 10% AND DEXTROSE 5%', 'ALCOHOL; DEXTROSE', 0)\n",
      "('004782', '001', 'TABLET;ORAL', '1.25MG', 1, 'PREMARIN', 'ESTROGENS, CONJUGATED', 1)\n",
      "('004782', '002', 'TABLET;ORAL', '2.5MG', 0, 'PREMARIN', 'ESTROGENS, CONJUGATED', 0)\n",
      "('004782', '003', 'TABLET;ORAL', '0.3MG', 1, 'PREMARIN', 'ESTROGENS, CONJUGATED', 0)\n",
      "('004782', '004', 'TABLET;ORAL', '0.625MG', 1, 'PREMARIN', 'ESTROGENS, CONJUGATED', 1)\n",
      "('004782', '005', 'TABLET;ORAL', '0.9MG', 1, 'PREMARIN', 'ESTROGENS, CONJUGATED', 1)\n",
      "('004782', '006', 'TABLET;ORAL', '0.45MG', 1, 'PREMARIN', 'ESTROGENS, CONJUGATED', 0)\n",
      "('005010', '001', 'TABLET;ORAL', '50MG', 1, 'DEMEROL', 'MEPERIDINE HYDROCHLORIDE', 1)\n",
      "('005010', '002', 'INJECTABLE;INJECTION', '50MG/ML', 0, 'DEMEROL', 'MEPERIDINE HYDROCHLORIDE', 0)\n",
      "('005010', '003', 'INJECTABLE;INJECTION', '100MG/ML', 0, 'DEMEROL', 'MEPERIDINE HYDROCHLORIDE', 0)\n",
      "('005010', '004', 'TABLET;ORAL', '100MG', 1, 'DEMEROL', 'MEPERIDINE HYDROCHLORIDE', 1)\n",
      "('005010', '005', 'SYRUP;ORAL', '50MG/5ML **Federal Register determination that product was not discontinued or withdrawn for safety or efficacy reasons**', 0, 'DEMEROL', 'MEPERIDINE HYDROCHLORIDE', 0)\n",
      "('005010', '007', 'INJECTABLE;INJECTION', '25MG/ML', 0, 'DEMEROL', 'MEPERIDINE HYDROCHLORIDE', 0)\n",
      "('005010', '009', 'INJECTABLE;INJECTION', '75MG/ML', 0, 'DEMEROL', 'MEPERIDINE HYDROCHLORIDE', 0)\n",
      "('005151', '001', 'PELLET;IMPLANTATION', '125MG', 0, 'PERCORTEN', 'DESOXYCORTICOSTERONE ACETATE', 0)\n"
     ]
    }
   ],
   "source": [
    "for item in cursor:\n",
    "    print(item)"
   ]
  },
  {
   "cell_type": "code",
   "execution_count": 16,
   "metadata": {},
   "outputs": [],
   "source": [
    "cursor.execute('DESCRIBE PRODUCTS')"
   ]
  },
  {
   "cell_type": "code",
   "execution_count": 27,
   "metadata": {},
   "outputs": [],
   "source": [
    "cursor.execute(\"\"\"\n",
    "SELECT * \n",
    "FROM PRODUCTS\n",
    "LIMIT 100;\n",
    "\"\"\")"
   ]
  },
  {
   "cell_type": "code",
   "execution_count": 32,
   "metadata": {},
   "outputs": [],
   "source": [
    "cursor.execute('USE db_capstone;')"
   ]
  },
  {
   "cell_type": "code",
   "execution_count": 33,
   "metadata": {},
   "outputs": [],
   "source": [
    "cursor.execute(\"\"\" \n",
    "CREATE VIEW avg_trans AS\n",
    "SELECT transaction_type, ROUND(avg(transaction_value), 2) as `average transaction value`\n",
    "FROM \n",
    "cdw_sapp_credit_card\n",
    "GROUP BY transaction_type\n",
    "ORDER BY 2 ASC;\n",
    "\"\"\")\n",
    "\n",
    "# offload processing to db engine"
   ]
  },
  {
   "cell_type": "code",
   "execution_count": 34,
   "metadata": {},
   "outputs": [],
   "source": [
    "cursor.execute('SELECT * FROM avg_trans')"
   ]
  },
  {
   "cell_type": "code",
   "execution_count": 35,
   "metadata": {},
   "outputs": [
    {
     "name": "stdout",
     "output_type": "stream",
     "text": [
      "('Healthcare', 50.64)\n",
      "('Gas', 50.88)\n",
      "('Education', 50.92)\n",
      "('Test', 51.07)\n",
      "('Entertainment', 51.09)\n",
      "('Bills', 51.22)\n",
      "('Grocery', 51.47)\n"
     ]
    }
   ],
   "source": [
    "for _ in cursor:  \n",
    "    print(_)"
   ]
  },
  {
   "cell_type": "code",
   "execution_count": 36,
   "metadata": {},
   "outputs": [],
   "source": [
    "cursor.execute('DROP VIEW avg_trans')"
   ]
  }
 ],
 "metadata": {
  "kernelspec": {
   "display_name": "ETL-capstone-env",
   "language": "python",
   "name": "python3"
  },
  "language_info": {
   "codemirror_mode": {
    "name": "ipython",
    "version": 3
   },
   "file_extension": ".py",
   "mimetype": "text/x-python",
   "name": "python",
   "nbconvert_exporter": "python",
   "pygments_lexer": "ipython3",
   "version": "3.10.7"
  },
  "orig_nbformat": 4
 },
 "nbformat": 4,
 "nbformat_minor": 2
}
