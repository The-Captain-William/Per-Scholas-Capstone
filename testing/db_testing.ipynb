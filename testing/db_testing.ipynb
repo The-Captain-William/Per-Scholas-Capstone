{
 "cells": [
  {
   "cell_type": "code",
   "execution_count": 1,
   "metadata": {},
   "outputs": [],
   "source": [
    "import pyspark.sql\n",
    "from pyspark.sql import SparkSession\n",
    "from super_secret_password import PASSWORD\n",
    "\n",
    "# PYSPARK INITALIZE\n",
    "session = SparkSession.builder.appName('CLI User Interface Test').getOrCreate()\n",
    "\n",
    "# TODO make a password saver or something\n",
    "\n",
    "DATABASE_VALUES= {\"url\": \"jdbc:mysql://localhost:3306/creditcard_capstone\",\n",
    "                \"table\":[\"CDW_SAPP_BRANCH\", \"CDW_SAPP_CREDIT_CARD\", \"CDW_SAPP_CUSTOMER\"],\n",
    "                \"mode\":\"overwrite\",\n",
    "                \"properties\":{\"user\":\"root\", \"password\":PASSWORD, \"driver\":\"com.mysql.cj.jdbc.Driver\"}}\n"
   ]
  },
  {
   "cell_type": "code",
   "execution_count": 27,
   "metadata": {},
   "outputs": [],
   "source": [
    "\n",
    "\n",
    "query = \"\"\"\n",
    "    SELECT *\n",
    "    FROM cdw_sapp_customer\n",
    "    JOIN cdw_sapp_credit_card \n",
    "    ON cdw_sapp_credit_card.CUST_SSN = cdw_sapp_customer.SSN\n",
    "    WHERE CUST_ZIP = '17201' AND YEAR(TIMEID) = '2018' AND MONTH(TIMEID) = 'September'\n",
    "    ORDER BY DAYOFMONTH(cdw_sapp_credit_card.TIMEID) DESC \n",
    "\"\"\"\n",
    "\n",
    "\n",
    "# sql_db_df_custom = session.read.format(\"jdbc\").options(\n",
    "#     driver=\"com.mysql.cj.jdbc.Driver\",\n",
    "#     user=\"root\",\n",
    "#     password=PASSWORD,  \n",
    "#     url=DATABASE_VALUES[\"url\"],\n",
    "#     dbtable=query).load()\n"
   ]
  },
  {
   "cell_type": "code",
   "execution_count": 23,
   "metadata": {},
   "outputs": [],
   "source": [
    "\n",
    "sql_branch_df = session.read.jdbc(\n",
    "        url=DATABASE_VALUES[\"url\"],\n",
    "        properties=DATABASE_VALUES[\"properties\"],\n",
    "        table=DATABASE_VALUES[\"table\"][0]\n",
    "    )"
   ]
  },
  {
   "cell_type": "code",
   "execution_count": 19,
   "metadata": {},
   "outputs": [],
   "source": [
    "sql_credit_df = session.read.jdbc(\n",
    "        url=DATABASE_VALUES[\"url\"],\n",
    "        properties=DATABASE_VALUES[\"properties\"],\n",
    "        table=DATABASE_VALUES[\"table\"][1]\n",
    "    )"
   ]
  },
  {
   "cell_type": "code",
   "execution_count": 20,
   "metadata": {},
   "outputs": [],
   "source": [
    "sql_customer_df = session.read.jdbc(\n",
    "        url=DATABASE_VALUES[\"url\"],\n",
    "        properties=DATABASE_VALUES[\"properties\"],\n",
    "        table=DATABASE_VALUES[\"table\"][2]\n",
    "    )"
   ]
  },
  {
   "cell_type": "code",
   "execution_count": 31,
   "metadata": {},
   "outputs": [],
   "source": [
    "sql_credit_customer_df = sql_customer_df.join(sql_credit_df, sql_customer_df.SSN == sql_credit_df.CUST_SSN)"
   ]
  },
  {
   "cell_type": "code",
   "execution_count": 33,
   "metadata": {},
   "outputs": [
    {
     "name": "stdout",
     "output_type": "stream",
     "text": [
      "+----------------+---------+-------------+-------------------+------------+----------+--------+----------+---------+-------------------+-----------+---------+-------------------+-----------+----------------+---------+--------------+----------------+-----------------+--------+\n",
      "|  CREDIT_CARD_NO|CUST_CITY| CUST_COUNTRY|         CUST_EMAIL|  CUST_PHONE|CUST_STATE|CUST_ZIP|FIRST_NAME|LAST_NAME|       LAST_UPDATED|MIDDLE_NAME|      SSN|FULL_STREET_ADDRESS|BRANCH_CODE|  CREDIT_CARD_NO| CUST_SSN|TRANSACTION_ID|TRANSACTION_TYPE|TRANSACTION_VALUE|  TIMEID|\n",
      "+----------------+---------+-------------+-------------------+------------+----------+--------+----------+---------+-------------------+-----------+---------+-------------------+-----------+----------------+---------+--------------+----------------+-----------------+--------+\n",
      "|4210653341381529|   Vienna|United States|CSavage@example.com|(555)1242572|        VA|   22180|     Clara|   Savage|2018-04-21 12:49:02|     lenore|123452490|Lincoln Street, 642|         93|4210653341381529|123452490|         39544|      Healthcare|             13.1|20180714|\n",
      "|4210653341381529|   Vienna|United States|CSavage@example.com|(555)1242572|        VA|   22180|     Clara|   Savage|2018-04-21 12:49:02|     lenore|123452490|Lincoln Street, 642|         77|4210653341381529|123452490|         39545|         Grocery|            41.33|20180526|\n",
      "+----------------+---------+-------------+-------------------+------------+----------+--------+----------+---------+-------------------+-----------+---------+-------------------+-----------+----------------+---------+--------------+----------------+-----------------+--------+\n",
      "only showing top 2 rows\n",
      "\n"
     ]
    }
   ],
   "source": [
    "session.sql(query)"
   ]
  }
 ],
 "metadata": {
  "kernelspec": {
   "display_name": "ETL-capstone-env",
   "language": "python",
   "name": "python3"
  },
  "language_info": {
   "codemirror_mode": {
    "name": "ipython",
    "version": 3
   },
   "file_extension": ".py",
   "mimetype": "text/x-python",
   "name": "python",
   "nbconvert_exporter": "python",
   "pygments_lexer": "ipython3",
   "version": "3.10.7"
  },
  "orig_nbformat": 4,
  "vscode": {
   "interpreter": {
    "hash": "ee7ea43159b5ae9688b9ea80145f8aa5b0cd36336747c8056b8bd8bf647002b8"
   }
  }
 },
 "nbformat": 4,
 "nbformat_minor": 2
}
