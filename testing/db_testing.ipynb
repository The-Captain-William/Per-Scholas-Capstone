{
 "cells": [
  {
   "cell_type": "code",
   "execution_count": 1,
   "metadata": {},
   "outputs": [],
   "source": [
    "import pyspark.sql\n",
    "from pyspark.sql import SparkSession\n",
    "from super_secret_password import PASSWORD\n",
    "\n",
    "# PYSPARK INITALIZE\n",
    "session = SparkSession.builder.appName('CLI User Interface Test').getOrCreate()\n",
    "\n",
    "# TODO make a password saver or something\n",
    "\n",
    "DATABASE_VALUES= {\"url\": \"jdbc:mysql://localhost:3306/creditcard_capstone\",\n",
    "                \"table\":[\"CDW_SAPP_BRANCH\", \"CDW_SAPP_CREDIT_CARD\", \"CDW_SAPP_CUSTOMER\"],\n",
    "                \"mode\":\"overwrite\",\n",
    "                \"properties\":{\"user\":\"root\", \"password\":PASSWORD, \"driver\":\"com.mysql.cj.jdbc.Driver\"}}\n"
   ]
  },
  {
   "cell_type": "code",
   "execution_count": 119,
   "metadata": {},
   "outputs": [],
   "source": [
    "import pyspark.sql.functions as F"
   ]
  },
  {
   "cell_type": "code",
   "execution_count": 27,
   "metadata": {},
   "outputs": [],
   "source": [
    "\n",
    "\n",
    "query = \"\"\"\n",
    "    SELECT *\n",
    "    FROM \n",
    "    WHERE CUST_ZIP = '17201' AND YEAR(TIMEID) = '2018' AND MONTH(TIMEID) = 'September'\n",
    "    ORDER BY DAYOFMONTH(cdw_sapp_credit_card.TIMEID) DESC \n",
    "\"\"\"\n",
    "\n",
    "\n",
    "# sql_db_df_custom = session.read.format(\"jdbc\").options(\n",
    "#     driver=\"com.mysql.cj.jdbc.Driver\",\n",
    "#     user=\"root\",\n",
    "#     password=PASSWORD,  \n",
    "#     url=DATABASE_VALUES[\"url\"],\n",
    "#     dbtable=query).load()\n"
   ]
  },
  {
   "cell_type": "code",
   "execution_count": 23,
   "metadata": {},
   "outputs": [],
   "source": [
    "\n",
    "sql_branch_df = session.read.jdbc(\n",
    "        url=DATABASE_VALUES[\"url\"],\n",
    "        properties=DATABASE_VALUES[\"properties\"],\n",
    "        table=DATABASE_VALUES[\"table\"][0]\n",
    "    )"
   ]
  },
  {
   "cell_type": "code",
   "execution_count": 178,
   "metadata": {},
   "outputs": [],
   "source": [
    "sql_credit_df = session.read.jdbc(\n",
    "        url=DATABASE_VALUES[\"url\"],\n",
    "        properties=DATABASE_VALUES[\"properties\"],\n",
    "        table=DATABASE_VALUES[\"table\"][1]\n",
    "    )"
   ]
  },
  {
   "cell_type": "code",
   "execution_count": 20,
   "metadata": {},
   "outputs": [],
   "source": [
    "sql_customer_df = session.read.jdbc(\n",
    "        url=DATABASE_VALUES[\"url\"],\n",
    "        properties=DATABASE_VALUES[\"properties\"],\n",
    "        table=DATABASE_VALUES[\"table\"][2]\n",
    "    )"
   ]
  },
  {
   "cell_type": "code",
   "execution_count": 179,
   "metadata": {},
   "outputs": [],
   "source": [
    "sql_credit_customer_df = sql_customer_df.join(sql_credit_df, sql_customer_df.SSN == sql_credit_df.CUST_SSN)"
   ]
  },
  {
   "cell_type": "code",
   "execution_count": 180,
   "metadata": {},
   "outputs": [],
   "source": [
    "sql_credit_customer_df = sql_credit_customer_df.drop('CUST_SSN')"
   ]
  },
  {
   "cell_type": "code",
   "execution_count": 181,
   "metadata": {},
   "outputs": [],
   "source": [
    "sql_credit_customer_df = sql_credit_customer_df.drop(sql_customer_df.CREDIT_CARD_NO)"
   ]
  },
  {
   "cell_type": "code",
   "execution_count": 182,
   "metadata": {},
   "outputs": [
    {
     "name": "stdout",
     "output_type": "stream",
     "text": [
      "root\n",
      " |-- CUST_CITY: string (nullable = true)\n",
      " |-- CUST_COUNTRY: string (nullable = true)\n",
      " |-- CUST_EMAIL: string (nullable = true)\n",
      " |-- CUST_PHONE: string (nullable = true)\n",
      " |-- CUST_STATE: string (nullable = true)\n",
      " |-- CUST_ZIP: long (nullable = true)\n",
      " |-- FIRST_NAME: string (nullable = true)\n",
      " |-- LAST_NAME: string (nullable = true)\n",
      " |-- LAST_UPDATED: timestamp (nullable = true)\n",
      " |-- MIDDLE_NAME: string (nullable = true)\n",
      " |-- SSN: long (nullable = true)\n",
      " |-- FULL_STREET_ADDRESS: string (nullable = true)\n",
      " |-- BRANCH_CODE: long (nullable = true)\n",
      " |-- CREDIT_CARD_NO: string (nullable = true)\n",
      " |-- TRANSACTION_ID: long (nullable = true)\n",
      " |-- TRANSACTION_TYPE: string (nullable = true)\n",
      " |-- TRANSACTION_VALUE: double (nullable = true)\n",
      " |-- TIMEID: date (nullable = true)\n",
      "\n"
     ]
    }
   ],
   "source": [
    "sql_credit_customer_df.printSchema()"
   ]
  },
  {
   "cell_type": "code",
   "execution_count": 183,
   "metadata": {},
   "outputs": [],
   "source": [
    "sql_credit_customer_df.createOrReplaceTempView(\"credit_customer_df\")"
   ]
  },
  {
   "cell_type": "code",
   "execution_count": 214,
   "metadata": {},
   "outputs": [],
   "source": [
    "transaction_container_query = {\"zipcode\":\"\",\n",
    "                                \"type\":\"\",\n",
    "                                \"state\":\"\",\n",
    "                                \"branches\":\"\",\n",
    "                                \"year\":\"2018\",\n",
    "                                \"month\":\"\"}"
   ]
  },
  {
   "cell_type": "code",
   "execution_count": 215,
   "metadata": {},
   "outputs": [],
   "source": [
    "transaction_container_query[\"zipcode\"] = '17201'\n"
   ]
  },
  {
   "cell_type": "code",
   "execution_count": 223,
   "metadata": {},
   "outputs": [],
   "source": [
    "transaction_container_query['month'] = 'september'"
   ]
  },
  {
   "cell_type": "code",
   "execution_count": 224,
   "metadata": {},
   "outputs": [],
   "source": [
    "# zipcode \n",
    "# month\n",
    "# year\n",
    "\n",
    "#  dates\n",
    "# date_format(date, selection)\n",
    "# DAYOFMONTH(TIMEID)\n",
    "\n",
    "transaction_menu_choice_one = session.sql(f\"\"\"\n",
    "    SELECT \n",
    "        CUST_ZIP,\n",
    "        FIRST_NAME,\n",
    "        LAST_NAME,\n",
    "        CREDIT_CARD_NO,\n",
    "        TRANSACTION_ID, \n",
    "        TRANSACTION_TYPE, \n",
    "        TRANSACTION_VALUE, \n",
    "        TIMEID,\n",
    "\n",
    "        DATE_FORMAT(TIMEID, 'MMMM')\n",
    "    FROM credit_customer_df\n",
    "    WHERE \n",
    "        CUST_ZIP = {transaction_container_query[\"zipcode\"]}\n",
    "        AND \n",
    "        YEAR(TIMEID) = {transaction_container_query[\"year\"]}\n",
    "        AND \n",
    "        DATE_FORMAT(TIMEID, 'MMMM') LIKE(\"{transaction_container_query['month']}%\")\n",
    "        \n",
    "\n",
    "    ORDER BY DAYOFMONTH(TIMEID) DESC; \"\"\")"
   ]
  },
  {
   "cell_type": "code",
   "execution_count": 225,
   "metadata": {},
   "outputs": [
    {
     "name": "stdout",
     "output_type": "stream",
     "text": [
      "+--------+----------+---------+----------------+--------------+----------------+-----------------+----------+------------------+-------------------------+\n",
      "|CUST_ZIP|FIRST_NAME|LAST_NAME|  CREDIT_CARD_NO|TRANSACTION_ID|TRANSACTION_TYPE|TRANSACTION_VALUE|    TIMEID|dayofmonth(TIMEID)|date_format(TIMEID, MMMM)|\n",
      "+--------+----------+---------+----------------+--------------+----------------+-----------------+----------+------------------+-------------------------+\n",
      "|   17201|      Otha| Atkinson|4210653324260789|         17117|           Bills|             1.02|2018-09-28|                28|                September|\n",
      "|   17201|    Brooke|    Neely|4210653373620931|         14169|             Gas|            73.58|2018-09-28|                28|                September|\n",
      "|   17201|    Marcel|     Camp|4210653344660822|         46659|   Entertainment|            47.92|2018-09-27|                27|                September|\n",
      "|   17201|    Rickey|  Robbins|4210653374041659|         13490|            Test|            33.57|2018-09-26|                26|                September|\n",
      "|   17201|    Brooke|    Neely|4210653373620931|         14121|   Entertainment|             12.6|2018-09-26|                26|                September|\n",
      "|   17201|    Elaine|    Moran|4210653389909043|         35368|            Test|           100.52|2018-09-26|                26|                September|\n",
      "|   17201|      Otha| Atkinson|4210653324260789|         17181|         Grocery|            32.74|2018-09-25|                25|                September|\n",
      "|   17201|      Otha| Atkinson|4210653324260789|         17157|             Gas|             93.2|2018-09-23|                23|                September|\n",
      "|   17201|    Rickey|  Robbins|4210653374041659|         13471|             Gas|            70.29|2018-09-23|                23|                September|\n",
      "|   17201|    Rickey|  Robbins|4210653374041659|         13458|         Grocery|            41.78|2018-09-22|                22|                September|\n",
      "+--------+----------+---------+----------------+--------------+----------------+-----------------+----------+------------------+-------------------------+\n",
      "only showing top 10 rows\n",
      "\n"
     ]
    }
   ],
   "source": [
    "transaction_menu_choice_one.show(10)"
   ]
  }
 ],
 "metadata": {
  "kernelspec": {
   "display_name": "ETL-capstone-env",
   "language": "python",
   "name": "python3"
  },
  "language_info": {
   "codemirror_mode": {
    "name": "ipython",
    "version": 3
   },
   "file_extension": ".py",
   "mimetype": "text/x-python",
   "name": "python",
   "nbconvert_exporter": "python",
   "pygments_lexer": "ipython3",
   "version": "3.10.7"
  },
  "orig_nbformat": 4,
  "vscode": {
   "interpreter": {
    "hash": "ee7ea43159b5ae9688b9ea80145f8aa5b0cd36336747c8056b8bd8bf647002b8"
   }
  }
 },
 "nbformat": 4,
 "nbformat_minor": 2
}
