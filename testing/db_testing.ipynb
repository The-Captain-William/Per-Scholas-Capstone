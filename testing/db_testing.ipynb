{
 "cells": [
  {
   "cell_type": "code",
   "execution_count": 1,
   "metadata": {},
   "outputs": [],
   "source": [
    "import pyspark.sql\n",
    "from pyspark.sql import SparkSession\n",
    "from super_secret_password import PASSWORD\n",
    "\n",
    "\n",
    "# PYSPARK INITALIZE\n",
    "session = SparkSession.builder.appName('CLI User Interface Test').getOrCreate()\n",
    "\n",
    "# TODO make a password saver or something\n",
    "\n",
    "DATABASE_VALUES= {\"url\": \"jdbc:mysql://localhost:3306/creditcard_capstone\",\n",
    "                \"table\":[\"CDW_SAPP_BRANCH\", \"CDW_SAPP_CREDIT_CARD\", \"CDW_SAPP_CUSTOMER\"],\n",
    "                \"mode\":\"overwrite\",\n",
    "                \"properties\":{\"user\":\"root\", \"password\":PASSWORD, \"driver\":\"com.mysql.cj.jdbc.Driver\"}}\n",
    "\n",
    "\n"
   ]
  },
  {
   "cell_type": "code",
   "execution_count": null,
   "metadata": {},
   "outputs": [],
   "source": []
  },
  {
   "cell_type": "code",
   "execution_count": 2,
   "metadata": {},
   "outputs": [
    {
     "name": "stderr",
     "output_type": "stream",
     "text": [
      "c:\\Users\\GzuzC\\OneDrive\\Documents\\Notes\\Personal Studies\\Workbooks and Worksheets\\Python\\PerScholas Data Engineering\\perscholas_capstone_project\\ignore\\ETL-capstone-env\\lib\\site-packages\\pyspark\\pandas\\__init__.py:49: UserWarning: 'PYARROW_IGNORE_TIMEZONE' environment variable was not set. It is required to set this environment variable to '1' in both driver and executor sides if you use pyarrow>=2.0.0. pandas-on-Spark will set it for you but it does not work if there is a Spark context already launched.\n",
      "  warnings.warn(\n"
     ]
    }
   ],
   "source": [
    "import pyspark.pandas as pd"
   ]
  },
  {
   "cell_type": "code",
   "execution_count": 119,
   "metadata": {},
   "outputs": [],
   "source": [
    "import pyspark.sql.functions as F"
   ]
  },
  {
   "cell_type": "code",
   "execution_count": 1,
   "metadata": {},
   "outputs": [],
   "source": [
    "from capstone_classes import TransactionMenu"
   ]
  },
  {
   "cell_type": "code",
   "execution_count": 2,
   "metadata": {},
   "outputs": [],
   "source": [
    "tans_test = TransactionMenu()"
   ]
  },
  {
   "cell_type": "code",
   "execution_count": 3,
   "metadata": {},
   "outputs": [],
   "source": [
    "tans_test.user_values['zip'] = '17201'\n",
    "tans_test.user_values['transaction-month'] = 'Sep'\n"
   ]
  },
  {
   "cell_type": "code",
   "execution_count": 6,
   "metadata": {},
   "outputs": [
    {
     "name": "stdout",
     "output_type": "stream",
     "text": [
      "\n",
      "        SELECT \n",
      "            CUST_ZIP,\n",
      "            FIRST_NAME,\n",
      "            LAST_NAME,\n",
      "            CREDIT_CARD_NO,\n",
      "            TRANSACTION_ID, \n",
      "            TRANSACTION_TYPE, \n",
      "            TRANSACTION_VALUE, \n",
      "            TIMEID,\n",
      "            DATE_FORMAT(TIMEID, 'MMMM')\n",
      "        FROM credit_customer_df\n",
      "        WHERE \n",
      "            CUST_ZIP = 17201\n",
      "            AND \n",
      "            YEAR(TIMEID) = 2018\n",
      "            AND \n",
      "            DATE_FORMAT(TIMEID, 'MMMM') LIKE(\"Sep%\")\n",
      "        ORDER BY DAYOFMONTH(TIMEID) DESC;\n"
     ]
    }
   ],
   "source": [
    "print(tans_test.query_one_return())"
   ]
  },
  {
   "cell_type": "code",
   "execution_count": 91,
   "metadata": {},
   "outputs": [
    {
     "data": {
      "text/plain": [
       "{'zip': '17201',\n",
       " 'transaction-month': 'Sep',\n",
       " 'year': '2018',\n",
       " 'transaction-type': 'None',\n",
       " 'transaction-state': 'None',\n",
       " 'transaction-branch': 'None',\n",
       " 'table-size': 10}"
      ]
     },
     "execution_count": 91,
     "metadata": {},
     "output_type": "execute_result"
    }
   ],
   "source": [
    "tans_test.user_values"
   ]
  },
  {
   "cell_type": "code",
   "execution_count": 54,
   "metadata": {},
   "outputs": [
    {
     "name": "stdout",
     "output_type": "stream",
     "text": [
      "\n",
      "====================\n",
      "Current Values:\n",
      "====================\n",
      "zip: 17201,\n",
      "transaction-month: sep,\n",
      "year: 2018,\n",
      "transaction-type: None,\n",
      "transaction-state: None,\n",
      "transaction-branch: None,\n",
      "table-size: 10\n"
     ]
    }
   ],
   "source": [
    "tans_test.present_stored_user_inputs()"
   ]
  },
  {
   "cell_type": "code",
   "execution_count": 98,
   "metadata": {},
   "outputs": [],
   "source": [
    "def test(value):\n",
    "\n",
    "    return f\"\"\"{value['zip']}\"\"\""
   ]
  },
  {
   "cell_type": "code",
   "execution_count": 99,
   "metadata": {},
   "outputs": [
    {
     "data": {
      "text/plain": [
       "'17201'"
      ]
     },
     "execution_count": 99,
     "metadata": {},
     "output_type": "execute_result"
    }
   ],
   "source": [
    "test(tans_test.user_values)"
   ]
  },
  {
   "cell_type": "code",
   "execution_count": 101,
   "metadata": {},
   "outputs": [],
   "source": [
    "def test_two(values):\n",
    "\n",
    "        return f\"\"\"\n",
    "        SELECT \n",
    "            CUST_ZIP,\n",
    "            FIRST_NAME,\n",
    "            LAST_NAME,\n",
    "            CREDIT_CARD_NO,\n",
    "            TRANSACTION_ID, \n",
    "            TRANSACTION_TYPE, \n",
    "            TRANSACTION_VALUE, \n",
    "            TIMEID,\n",
    "            DATE_FORMAT(TIMEID, 'MMMM')\n",
    "        FROM credit_customer_df\n",
    "        WHERE \n",
    "            CUST_ZIP = {values[\"zip\"]}\n",
    "            AND \n",
    "            YEAR(TIMEID) = {values[\"year\"]}\n",
    "            AND \n",
    "            DATE_FORMAT(TIMEID, 'MMMM') LIKE(\"{values['transaction-month']}%\")\n",
    "        ORDER BY DAYOFMONTH(TIMEID) DESC;\"\"\""
   ]
  },
  {
   "cell_type": "code",
   "execution_count": 103,
   "metadata": {},
   "outputs": [
    {
     "name": "stdout",
     "output_type": "stream",
     "text": [
      "\n",
      "        SELECT \n",
      "            CUST_ZIP,\n",
      "            FIRST_NAME,\n",
      "            LAST_NAME,\n",
      "            CREDIT_CARD_NO,\n",
      "            TRANSACTION_ID, \n",
      "            TRANSACTION_TYPE, \n",
      "            TRANSACTION_VALUE, \n",
      "            TIMEID,\n",
      "            DATE_FORMAT(TIMEID, 'MMMM')\n",
      "        FROM credit_customer_df\n",
      "        WHERE \n",
      "            CUST_ZIP = 17201\n",
      "            AND \n",
      "            YEAR(TIMEID) = 2018\n",
      "            AND \n",
      "            DATE_FORMAT(TIMEID, 'MMMM') LIKE(\"Sep%\")\n",
      "        ORDER BY DAYOFMONTH(TIMEID) DESC;\n"
     ]
    }
   ],
   "source": [
    "print(test_two(tans_test.user_values))"
   ]
  },
  {
   "cell_type": "code",
   "execution_count": 92,
   "metadata": {},
   "outputs": [
    {
     "data": {
      "text/plain": [
       "'17201'"
      ]
     },
     "execution_count": 92,
     "metadata": {},
     "output_type": "execute_result"
    }
   ],
   "source": [
    "tans_test.user_values['zip']"
   ]
  },
  {
   "cell_type": "code",
   "execution_count": 104,
   "metadata": {},
   "outputs": [
    {
     "ename": "TypeError",
     "evalue": "'str' object is not callable",
     "output_type": "error",
     "traceback": [
      "\u001b[1;31m---------------------------------------------------------------------------\u001b[0m",
      "\u001b[1;31mTypeError\u001b[0m                                 Traceback (most recent call last)",
      "Cell \u001b[1;32mIn[104], line 1\u001b[0m\n\u001b[1;32m----> 1\u001b[0m tans_test\u001b[39m.\u001b[39;49mquery_one(tans_test\u001b[39m.\u001b[39;49muser_values)\n",
      "\u001b[1;31mTypeError\u001b[0m: 'str' object is not callable"
     ]
    }
   ],
   "source": [
    "tans_test.query_one(tans_test.user_values)"
   ]
  },
  {
   "cell_type": "code",
   "execution_count": 94,
   "metadata": {},
   "outputs": [
    {
     "ename": "TypeError",
     "evalue": "'str' object is not callable",
     "output_type": "error",
     "traceback": [
      "\u001b[1;31m---------------------------------------------------------------------------\u001b[0m",
      "\u001b[1;31mTypeError\u001b[0m                                 Traceback (most recent call last)",
      "Cell \u001b[1;32mIn[94], line 1\u001b[0m\n\u001b[1;32m----> 1\u001b[0m session\u001b[39m.\u001b[39msql(tans_test\u001b[39m.\u001b[39;49mquery_one(tans_test\u001b[39m.\u001b[39;49muser_values))\n",
      "\u001b[1;31mTypeError\u001b[0m: 'str' object is not callable"
     ]
    }
   ],
   "source": [
    "session.sql(tans_test.query_one(tans_test.user_values))"
   ]
  },
  {
   "cell_type": "code",
   "execution_count": 52,
   "metadata": {},
   "outputs": [
    {
     "name": "stdout",
     "output_type": "stream",
     "text": [
      "\n",
      "====================\n",
      "Month: Sep Accepted\n",
      "====================\n"
     ]
    },
    {
     "data": {
      "text/plain": [
       "True"
      ]
     },
     "execution_count": 52,
     "metadata": {},
     "output_type": "execute_result"
    }
   ],
   "source": [
    "tans_test.input_month('sep')"
   ]
  },
  {
   "cell_type": "code",
   "execution_count": 100,
   "metadata": {},
   "outputs": [
    {
     "name": "stdout",
     "output_type": "stream",
     "text": [
      "\n",
      "====================\n",
      "Current Values:\n",
      "====================\n",
      "zip: 17201,\n",
      "transaction-month: Sep,\n",
      "year: 2018,\n",
      "transaction-type: None,\n",
      "transaction-state: None,\n",
      "transaction-branch: None,\n",
      "table-size: 10\n"
     ]
    }
   ],
   "source": [
    "tans_test.present_stored_user_inputs()"
   ]
  },
  {
   "cell_type": "code",
   "execution_count": 27,
   "metadata": {},
   "outputs": [],
   "source": [
    "\n",
    "\n",
    "query = \"\"\"\n",
    "    SELECT *\n",
    "    FROM \n",
    "    WHERE CUST_ZIP = '17201' AND YEAR(TIMEID) = '2018' AND MONTH(TIMEID) = 'September'\n",
    "    ORDER BY DAYOFMONTH(cdw_sapp_credit_card.TIMEID) DESC \n",
    "\"\"\"\n",
    "\n",
    "\n",
    "# sql_db_df_custom = session.read.format(\"jdbc\").options(\n",
    "#     driver=\"com.mysql.cj.jdbc.Driver\",\n",
    "#     user=\"root\",\n",
    "#     password=PASSWORD,  \n",
    "#     url=DATABASE_VALUES[\"url\"],\n",
    "#     dbtable=query).load()\n"
   ]
  },
  {
   "cell_type": "code",
   "execution_count": 8,
   "metadata": {},
   "outputs": [],
   "source": [
    "\n",
    "sql_branch_df = session.read.jdbc(\n",
    "        url=DATABASE_VALUES[\"url\"],\n",
    "        properties=DATABASE_VALUES[\"properties\"],\n",
    "        table=DATABASE_VALUES[\"table\"][0]\n",
    "    )"
   ]
  },
  {
   "cell_type": "code",
   "execution_count": 9,
   "metadata": {},
   "outputs": [],
   "source": [
    "sql_credit_df = session.read.jdbc(\n",
    "        url=DATABASE_VALUES[\"url\"],\n",
    "        properties=DATABASE_VALUES[\"properties\"],\n",
    "        table=DATABASE_VALUES[\"table\"][1]\n",
    "    )"
   ]
  },
  {
   "cell_type": "markdown",
   "metadata": {},
   "source": []
  },
  {
   "cell_type": "code",
   "execution_count": 3,
   "metadata": {},
   "outputs": [],
   "source": [
    "sql_customer_df = session.read.jdbc(\n",
    "        url=DATABASE_VALUES[\"url\"],\n",
    "        properties=DATABASE_VALUES[\"properties\"],\n",
    "        table=DATABASE_VALUES[\"table\"][2]\n",
    "    )"
   ]
  },
  {
   "cell_type": "code",
   "execution_count": null,
   "metadata": {},
   "outputs": [],
   "source": [
    "# filter customer df\n",
    "# show df\n",
    "# alter table\n"
   ]
  },
  {
   "cell_type": "code",
   "execution_count": 80,
   "metadata": {},
   "outputs": [],
   "source": [
    "columns = ['FIRST_NAME', 'LAST_NAME', 'FULL_STREET_ADDRESS', 'CUST_STATE', 'CUST_ZIP', 'CUST_EMAIL', 'CUST_PHONE', 'CREDIT_CARD_NO', 'SSN']\n"
   ]
  },
  {
   "cell_type": "code",
   "execution_count": 112,
   "metadata": {},
   "outputs": [],
   "source": [
    "sql_customer_df.createOrReplaceTempView('specific_customer_df')"
   ]
  },
  {
   "cell_type": "code",
   "execution_count": 114,
   "metadata": {},
   "outputs": [],
   "source": [
    "query = session.sql(f\"\"\"\n",
    "    SELECT {\", \".join(column for column in columns)}\n",
    "    FROM specific_customer_df\n",
    "    WHERE\n",
    "         FIRST_NAME = 'Laurie'\n",
    "    AND \n",
    "        LAST_NAME = 'Burch'\n",
    "\"\"\")"
   ]
  },
  {
   "cell_type": "code",
   "execution_count": null,
   "metadata": {},
   "outputs": [],
   "source": [
    "query.withColumn()"
   ]
  },
  {
   "cell_type": "code",
   "execution_count": 116,
   "metadata": {},
   "outputs": [],
   "source": [
    "query.createOrReplaceTempView('cust_df_test')"
   ]
  },
  {
   "cell_type": "code",
   "execution_count": 115,
   "metadata": {},
   "outputs": [
    {
     "name": "stdout",
     "output_type": "stream",
     "text": [
      "+----------+---------+-------------------+----------+--------+------------------+------------+----------------+---------+\n",
      "|FIRST_NAME|LAST_NAME|FULL_STREET_ADDRESS|CUST_STATE|CUST_ZIP|        CUST_EMAIL|  CUST_PHONE|  CREDIT_CARD_NO|      SSN|\n",
      "+----------+---------+-------------------+----------+--------+------------------+------------+----------------+---------+\n",
      "|    Laurie|    Burch|  Canal Street, 286|        MD|   20772|LBurch@example.com|(555)1237654|4210653383332703|123451383|\n",
      "+----------+---------+-------------------+----------+--------+------------------+------------+----------------+---------+\n",
      "\n"
     ]
    }
   ],
   "source": [
    "query.show(10)"
   ]
  },
  {
   "cell_type": "code",
   "execution_count": null,
   "metadata": {},
   "outputs": [],
   "source": []
  },
  {
   "cell_type": "code",
   "execution_count": 95,
   "metadata": {},
   "outputs": [
    {
     "name": "stdout",
     "output_type": "stream",
     "text": [
      "root\n",
      " |-- CREDIT_CARD_NO: string (nullable = true)\n",
      " |-- CUST_CITY: string (nullable = true)\n",
      " |-- CUST_COUNTRY: string (nullable = true)\n",
      " |-- CUST_EMAIL: string (nullable = true)\n",
      " |-- CUST_PHONE: string (nullable = true)\n",
      " |-- CUST_STATE: string (nullable = true)\n",
      " |-- CUST_ZIP: long (nullable = true)\n",
      " |-- FIRST_NAME: string (nullable = true)\n",
      " |-- LAST_NAME: string (nullable = true)\n",
      " |-- LAST_UPDATED: timestamp (nullable = true)\n",
      " |-- MIDDLE_NAME: string (nullable = true)\n",
      " |-- SSN: long (nullable = true)\n",
      " |-- FULL_STREET_ADDRESS: string (nullable = true)\n",
      "\n"
     ]
    }
   ],
   "source": [
    "sql_customer_df.printSchema()"
   ]
  },
  {
   "cell_type": "code",
   "execution_count": 16,
   "metadata": {},
   "outputs": [],
   "source": [
    "import mysql.connector as mariaDb"
   ]
  },
  {
   "cell_type": "code",
   "execution_count": 18,
   "metadata": {},
   "outputs": [],
   "source": [
    "from super_secret_password import PASSWORD"
   ]
  },
  {
   "cell_type": "code",
   "execution_count": 19,
   "metadata": {},
   "outputs": [],
   "source": [
    "con = mariaDb.connect(\n",
    "    host = \"localhost\",\n",
    "    user=\"root\",\n",
    "    password=PASSWORD,\n",
    "    database=\"creditcard_capstone\"\n",
    ")"
   ]
  },
  {
   "cell_type": "code",
   "execution_count": 38,
   "metadata": {},
   "outputs": [],
   "source": [
    "name = 'Laurie2'\n",
    "name_l = 'Burch2'\n",
    "SSN = '1383'"
   ]
  },
  {
   "cell_type": "code",
   "execution_count": 39,
   "metadata": {},
   "outputs": [],
   "source": [
    "str = f\"\"\"UPDATE\n",
    "\tcdw_sapp_customer\n",
    "SET\n",
    "FIRST_NAME = '{name}', LAST_NAME = '{name_l}' \n",
    "WHERE SSN LIKE('%{SSN}')\"\"\""
   ]
  },
  {
   "cell_type": "code",
   "execution_count": 51,
   "metadata": {},
   "outputs": [
    {
     "name": "stdout",
     "output_type": "stream",
     "text": [
      "FIRST_NAME = 'Laurie2', LAST_NAME = 'Burch2'\n",
      "\n",
      "            UPDATE \n",
      "                cdw_sapp_customer\n",
      "            SET \n",
      "            FIRST_NAME = 'Laurie2', LAST_NAME = 'Burch2' WHERE SSN LIKE('%1383')\n"
     ]
    }
   ],
   "source": [
    "from capstone_functions import query_concat\n",
    "test_container = {\"FIRST_NAME\":\"Laurie2\", \"LAST_NAME\":\"Burch2\"}\n",
    "results = query_concat(test_container, 1383)"
   ]
  },
  {
   "cell_type": "code",
   "execution_count": null,
   "metadata": {},
   "outputs": [],
   "source": []
  },
  {
   "cell_type": "code",
   "execution_count": 52,
   "metadata": {},
   "outputs": [],
   "source": [
    "cursor = con.cursor()"
   ]
  },
  {
   "cell_type": "markdown",
   "metadata": {},
   "source": []
  },
  {
   "cell_type": "code",
   "execution_count": 53,
   "metadata": {},
   "outputs": [],
   "source": [
    "cursor.execute(results)"
   ]
  },
  {
   "cell_type": "code",
   "execution_count": 54,
   "metadata": {},
   "outputs": [],
   "source": [
    "con.commit()"
   ]
  },
  {
   "cell_type": "code",
   "execution_count": 5,
   "metadata": {},
   "outputs": [],
   "source": [
    "sql_customer_pd = sql_customer_df.pandas_api()"
   ]
  },
  {
   "cell_type": "code",
   "execution_count": 86,
   "metadata": {},
   "outputs": [
    {
     "data": {
      "text/html": [
       "<div>\n",
       "<style scoped>\n",
       "    .dataframe tbody tr th:only-of-type {\n",
       "        vertical-align: middle;\n",
       "    }\n",
       "\n",
       "    .dataframe tbody tr th {\n",
       "        vertical-align: top;\n",
       "    }\n",
       "\n",
       "    .dataframe thead th {\n",
       "        text-align: right;\n",
       "    }\n",
       "</style>\n",
       "<table border=\"1\" class=\"dataframe\">\n",
       "  <thead>\n",
       "    <tr style=\"text-align: right;\">\n",
       "      <th></th>\n",
       "      <th>FIRST_NAME</th>\n",
       "      <th>LAST_NAME</th>\n",
       "      <th>FULL_STREET_ADDRESS</th>\n",
       "      <th>CUST_STATE</th>\n",
       "      <th>CUST_ZIP</th>\n",
       "      <th>CUST_EMAIL</th>\n",
       "      <th>CUST_PHONE</th>\n",
       "      <th>CREDIT_CARD_NO</th>\n",
       "    </tr>\n",
       "  </thead>\n",
       "  <tbody>\n",
       "    <tr>\n",
       "      <th>0</th>\n",
       "      <td>Laurie</td>\n",
       "      <td>Burch</td>\n",
       "      <td>Canal Street, 286</td>\n",
       "      <td>MD</td>\n",
       "      <td>20772</td>\n",
       "      <td>LBurch@example.com</td>\n",
       "      <td>(555)1237654</td>\n",
       "      <td>4210653383332703</td>\n",
       "    </tr>\n",
       "    <tr>\n",
       "      <th>1</th>\n",
       "      <td>Louis</td>\n",
       "      <td>Draper</td>\n",
       "      <td>2nd Street East, 8</td>\n",
       "      <td>FL</td>\n",
       "      <td>32034</td>\n",
       "      <td>LDraper@example.com</td>\n",
       "      <td>(555)1237718</td>\n",
       "      <td>4210653346070342</td>\n",
       "    </tr>\n",
       "  </tbody>\n",
       "</table>\n",
       "</div>"
      ],
      "text/plain": [
       "  FIRST_NAME LAST_NAME FULL_STREET_ADDRESS CUST_STATE  CUST_ZIP           CUST_EMAIL    CUST_PHONE    CREDIT_CARD_NO\n",
       "0     Laurie     Burch   Canal Street, 286         MD     20772   LBurch@example.com  (555)1237654  4210653383332703\n",
       "1      Louis    Draper  2nd Street East, 8         FL     32034  LDraper@example.com  (555)1237718  4210653346070342"
      ]
     },
     "execution_count": 86,
     "metadata": {},
     "output_type": "execute_result"
    }
   ],
   "source": [
    "sql_customer_pd[columns[:-1]].head(2)"
   ]
  },
  {
   "cell_type": "code",
   "execution_count": 93,
   "metadata": {},
   "outputs": [],
   "source": [
    "from pyspark.sql import functions as F\n",
    "from pyspark.sql import types as T"
   ]
  },
  {
   "cell_type": "code",
   "execution_count": null,
   "metadata": {},
   "outputs": [],
   "source": [
    "F.cast"
   ]
  },
  {
   "cell_type": "code",
   "execution_count": 4,
   "metadata": {},
   "outputs": [
    {
     "name": "stdout",
     "output_type": "stream",
     "text": [
      "True\n"
     ]
    }
   ],
   "source": [
    "print(\"aa\".isalnum())"
   ]
  },
  {
   "cell_type": "code",
   "execution_count": 12,
   "metadata": {},
   "outputs": [],
   "source": [
    "customer_pd = sql_customer_pd[['FIRST_NAME', 'LAST_NAME', 'FULL_STREET_ADDRESS', 'CUST_STATE', 'CUST_ZIP', 'CUST_EMAIL', 'CUST_PHONE', 'CREDIT_CARD_NO', 'SSN']]"
   ]
  },
  {
   "cell_type": "code",
   "execution_count": 31,
   "metadata": {},
   "outputs": [],
   "source": []
  },
  {
   "cell_type": "code",
   "execution_count": null,
   "metadata": {},
   "outputs": [],
   "source": []
  },
  {
   "cell_type": "code",
   "execution_count": null,
   "metadata": {},
   "outputs": [],
   "source": [
    "SSN = '123451383'"
   ]
  },
  {
   "cell_type": "code",
   "execution_count": 43,
   "metadata": {},
   "outputs": [
    {
     "data": {
      "text/html": [
       "<div>\n",
       "<style scoped>\n",
       "    .dataframe tbody tr th:only-of-type {\n",
       "        vertical-align: middle;\n",
       "    }\n",
       "\n",
       "    .dataframe tbody tr th {\n",
       "        vertical-align: top;\n",
       "    }\n",
       "\n",
       "    .dataframe thead th {\n",
       "        text-align: right;\n",
       "    }\n",
       "</style>\n",
       "<table border=\"1\" class=\"dataframe\">\n",
       "  <thead>\n",
       "    <tr style=\"text-align: right;\">\n",
       "      <th></th>\n",
       "      <th>FIRST_NAME</th>\n",
       "      <th>LAST_NAME</th>\n",
       "      <th>FULL_STREET_ADDRESS</th>\n",
       "      <th>CUST_STATE</th>\n",
       "      <th>CUST_ZIP</th>\n",
       "      <th>CUST_EMAIL</th>\n",
       "      <th>CUST_PHONE</th>\n",
       "      <th>CREDIT_CARD_NO</th>\n",
       "      <th>SSN</th>\n",
       "    </tr>\n",
       "  </thead>\n",
       "  <tbody>\n",
       "    <tr>\n",
       "      <th>0</th>\n",
       "      <td>Laurie</td>\n",
       "      <td>Burch</td>\n",
       "      <td>Canal Street, 286</td>\n",
       "      <td>MD</td>\n",
       "      <td>20772</td>\n",
       "      <td>LBurch@example.com</td>\n",
       "      <td>(555)1237654</td>\n",
       "      <td>4210653383332703</td>\n",
       "      <td>123451383</td>\n",
       "    </tr>\n",
       "  </tbody>\n",
       "</table>\n",
       "</div>"
      ],
      "text/plain": [
       "  FIRST_NAME LAST_NAME FULL_STREET_ADDRESS CUST_STATE  CUST_ZIP          CUST_EMAIL    CUST_PHONE    CREDIT_CARD_NO        SSN\n",
       "0     Laurie     Burch   Canal Street, 286         MD     20772  LBurch@example.com  (555)1237654  4210653383332703  123451383"
      ]
     },
     "execution_count": 43,
     "metadata": {},
     "output_type": "execute_result"
    }
   ],
   "source": [
    "refined_ps_df = customer_pd[(customer_pd['FIRST_NAME'] == 'Laurie') & (customer_pd['LAST_NAME'] == 'Burch')]\n",
    "refined_ps_df"
   ]
  },
  {
   "cell_type": "markdown",
   "metadata": {},
   "source": []
  },
  {
   "cell_type": "code",
   "execution_count": 74,
   "metadata": {},
   "outputs": [],
   "source": [
    "import re"
   ]
  },
  {
   "cell_type": "code",
   "execution_count": 64,
   "metadata": {},
   "outputs": [
    {
     "data": {
      "text/html": [
       "<div>\n",
       "<style scoped>\n",
       "    .dataframe tbody tr th:only-of-type {\n",
       "        vertical-align: middle;\n",
       "    }\n",
       "\n",
       "    .dataframe tbody tr th {\n",
       "        vertical-align: top;\n",
       "    }\n",
       "\n",
       "    .dataframe thead th {\n",
       "        text-align: right;\n",
       "    }\n",
       "</style>\n",
       "<table border=\"1\" class=\"dataframe\">\n",
       "  <thead>\n",
       "    <tr style=\"text-align: right;\">\n",
       "      <th></th>\n",
       "      <th>FIRST_NAME</th>\n",
       "      <th>LAST_NAME</th>\n",
       "      <th>FULL_STREET_ADDRESS</th>\n",
       "      <th>CUST_STATE</th>\n",
       "      <th>CUST_ZIP</th>\n",
       "      <th>CUST_EMAIL</th>\n",
       "      <th>CUST_PHONE</th>\n",
       "      <th>CREDIT_CARD_NO</th>\n",
       "      <th>SSN</th>\n",
       "    </tr>\n",
       "  </thead>\n",
       "  <tbody>\n",
       "    <tr>\n",
       "      <th>0</th>\n",
       "      <td>Laurie</td>\n",
       "      <td>Burch</td>\n",
       "      <td>Canal Street, 286</td>\n",
       "      <td>MD</td>\n",
       "      <td>20772</td>\n",
       "      <td>LBurch@example.com</td>\n",
       "      <td>(555)1237654</td>\n",
       "      <td>4210653383332703</td>\n",
       "      <td>123451383</td>\n",
       "    </tr>\n",
       "  </tbody>\n",
       "</table>\n",
       "</div>"
      ],
      "text/plain": [
       "  FIRST_NAME LAST_NAME FULL_STREET_ADDRESS CUST_STATE  CUST_ZIP          CUST_EMAIL    CUST_PHONE    CREDIT_CARD_NO        SSN\n",
       "0     Laurie     Burch   Canal Street, 286         MD     20772  LBurch@example.com  (555)1237654  4210653383332703  123451383"
      ]
     },
     "execution_count": 64,
     "metadata": {},
     "output_type": "execute_result"
    }
   ],
   "source": [
    "refined_ps_df = customer_pd[(customer_pd['FIRST_NAME'] == 'Laurie') & (customer_pd['LAST_NAME'] == 'Burch')]\n"
   ]
  },
  {
   "cell_type": "code",
   "execution_count": 76,
   "metadata": {},
   "outputs": [
    {
     "data": {
      "text/plain": [
       "'1383'"
      ]
     },
     "execution_count": 76,
     "metadata": {},
     "output_type": "execute_result"
    }
   ],
   "source": [
    "re1 = re.search(pattern='1383', string=str(refined_ps_df['SSN'][0]))\n",
    "re1[0]\n"
   ]
  },
  {
   "cell_type": "code",
   "execution_count": 27,
   "metadata": {},
   "outputs": [
    {
     "data": {
      "text/html": [
       "<div>\n",
       "<style scoped>\n",
       "    .dataframe tbody tr th:only-of-type {\n",
       "        vertical-align: middle;\n",
       "    }\n",
       "\n",
       "    .dataframe tbody tr th {\n",
       "        vertical-align: top;\n",
       "    }\n",
       "\n",
       "    .dataframe thead th {\n",
       "        text-align: right;\n",
       "    }\n",
       "</style>\n",
       "<table border=\"1\" class=\"dataframe\">\n",
       "  <thead>\n",
       "    <tr style=\"text-align: right;\">\n",
       "      <th></th>\n",
       "      <th>FIRST_NAME</th>\n",
       "      <th>LAST_NAME</th>\n",
       "      <th>FULL_STREET_ADDRESS</th>\n",
       "      <th>CUST_STATE</th>\n",
       "      <th>CUST_ZIP</th>\n",
       "      <th>CUST_EMAIL</th>\n",
       "      <th>CUST_PHONE</th>\n",
       "      <th>CREDIT_CARD_NO</th>\n",
       "      <th>SSN</th>\n",
       "    </tr>\n",
       "  </thead>\n",
       "  <tbody>\n",
       "    <tr>\n",
       "      <th>0</th>\n",
       "      <td>Laurie</td>\n",
       "      <td>Burch</td>\n",
       "      <td>Canal Street, 286</td>\n",
       "      <td>MD</td>\n",
       "      <td>20772</td>\n",
       "      <td>LBurch@example.com</td>\n",
       "      <td>(555)1237654</td>\n",
       "      <td>4210653383332703</td>\n",
       "      <td>123451383</td>\n",
       "    </tr>\n",
       "  </tbody>\n",
       "</table>\n",
       "</div>"
      ],
      "text/plain": [
       "  FIRST_NAME LAST_NAME FULL_STREET_ADDRESS CUST_STATE  CUST_ZIP          CUST_EMAIL    CUST_PHONE    CREDIT_CARD_NO        SSN\n",
       "0     Laurie     Burch   Canal Street, 286         MD     20772  LBurch@example.com  (555)1237654  4210653383332703  123451383"
      ]
     },
     "execution_count": 27,
     "metadata": {},
     "output_type": "execute_result"
    }
   ],
   "source": [
    "refined_ps_df = customer_pd[customer_pd['SSN'] == '123451383']\n",
    "refined_ps_df"
   ]
  },
  {
   "cell_type": "code",
   "execution_count": 25,
   "metadata": {},
   "outputs": [
    {
     "data": {
      "text/html": [
       "<div>\n",
       "<style scoped>\n",
       "    .dataframe tbody tr th:only-of-type {\n",
       "        vertical-align: middle;\n",
       "    }\n",
       "\n",
       "    .dataframe tbody tr th {\n",
       "        vertical-align: top;\n",
       "    }\n",
       "\n",
       "    .dataframe thead th {\n",
       "        text-align: right;\n",
       "    }\n",
       "</style>\n",
       "<table border=\"1\" class=\"dataframe\">\n",
       "  <thead>\n",
       "    <tr style=\"text-align: right;\">\n",
       "      <th></th>\n",
       "      <th>FIRST_NAME</th>\n",
       "      <th>LAST_NAME</th>\n",
       "      <th>FULL_STREET_ADDRESS</th>\n",
       "      <th>CUST_STATE</th>\n",
       "      <th>CUST_ZIP</th>\n",
       "      <th>CUST_EMAIL</th>\n",
       "      <th>CUST_PHONE</th>\n",
       "      <th>CREDIT_CARD_NO</th>\n",
       "      <th>SSN</th>\n",
       "    </tr>\n",
       "  </thead>\n",
       "  <tbody>\n",
       "    <tr>\n",
       "      <th>0</th>\n",
       "      <td>Test</td>\n",
       "      <td>Burch</td>\n",
       "      <td>Canal Street, 286</td>\n",
       "      <td>MD</td>\n",
       "      <td>20772</td>\n",
       "      <td>LBurch@example.com</td>\n",
       "      <td>(555)1237654</td>\n",
       "      <td>4210653383332703</td>\n",
       "      <td>123451383</td>\n",
       "    </tr>\n",
       "  </tbody>\n",
       "</table>\n",
       "</div>"
      ],
      "text/plain": [
       "  FIRST_NAME LAST_NAME FULL_STREET_ADDRESS CUST_STATE  CUST_ZIP          CUST_EMAIL    CUST_PHONE    CREDIT_CARD_NO        SSN\n",
       "0       Test     Burch   Canal Street, 286         MD     20772  LBurch@example.com  (555)1237654  4210653383332703  123451383"
      ]
     },
     "execution_count": 25,
     "metadata": {},
     "output_type": "execute_result"
    }
   ],
   "source": [
    "refined_ps_df['FIRST_NAME'] = 'Test'\n",
    "refined_ps_df"
   ]
  },
  {
   "cell_type": "code",
   "execution_count": 26,
   "metadata": {},
   "outputs": [
    {
     "data": {
      "text/html": [
       "<div>\n",
       "<style scoped>\n",
       "    .dataframe tbody tr th:only-of-type {\n",
       "        vertical-align: middle;\n",
       "    }\n",
       "\n",
       "    .dataframe tbody tr th {\n",
       "        vertical-align: top;\n",
       "    }\n",
       "\n",
       "    .dataframe thead th {\n",
       "        text-align: right;\n",
       "    }\n",
       "</style>\n",
       "<table border=\"1\" class=\"dataframe\">\n",
       "  <thead>\n",
       "    <tr style=\"text-align: right;\">\n",
       "      <th></th>\n",
       "      <th>FIRST_NAME</th>\n",
       "      <th>LAST_NAME</th>\n",
       "      <th>FULL_STREET_ADDRESS</th>\n",
       "      <th>CUST_STATE</th>\n",
       "      <th>CUST_ZIP</th>\n",
       "      <th>CUST_EMAIL</th>\n",
       "      <th>CUST_PHONE</th>\n",
       "      <th>CREDIT_CARD_NO</th>\n",
       "      <th>SSN</th>\n",
       "    </tr>\n",
       "  </thead>\n",
       "  <tbody>\n",
       "    <tr>\n",
       "      <th>0</th>\n",
       "      <td>Test</td>\n",
       "      <td>Bananas</td>\n",
       "      <td>Canal Street, 286</td>\n",
       "      <td>MD</td>\n",
       "      <td>20772</td>\n",
       "      <td>LBurch@example.com</td>\n",
       "      <td>(555)1237654</td>\n",
       "      <td>4210653383332703</td>\n",
       "      <td>123451383</td>\n",
       "    </tr>\n",
       "  </tbody>\n",
       "</table>\n",
       "</div>"
      ],
      "text/plain": [
       "  FIRST_NAME LAST_NAME FULL_STREET_ADDRESS CUST_STATE  CUST_ZIP          CUST_EMAIL    CUST_PHONE    CREDIT_CARD_NO        SSN\n",
       "0       Test   Bananas   Canal Street, 286         MD     20772  LBurch@example.com  (555)1237654  4210653383332703  123451383"
      ]
     },
     "execution_count": 26,
     "metadata": {},
     "output_type": "execute_result"
    }
   ],
   "source": [
    "refined_ps_df['LAST_NAME'] = 'Bananas'\n",
    "refined_ps_df"
   ]
  },
  {
   "cell_type": "code",
   "execution_count": 11,
   "metadata": {},
   "outputs": [],
   "source": [
    "sql_credit_customer_df = sql_customer_df.join(sql_credit_df, sql_customer_df.SSN == sql_credit_df.CUST_SSN)"
   ]
  },
  {
   "cell_type": "code",
   "execution_count": 12,
   "metadata": {},
   "outputs": [],
   "source": [
    "sql_credit_customer_df = sql_credit_customer_df.drop('CUST_SSN')"
   ]
  },
  {
   "cell_type": "code",
   "execution_count": 13,
   "metadata": {},
   "outputs": [],
   "source": [
    "sql_credit_customer_df = sql_credit_customer_df.drop(sql_customer_df.CREDIT_CARD_NO)"
   ]
  },
  {
   "cell_type": "code",
   "execution_count": null,
   "metadata": {},
   "outputs": [],
   "source": []
  },
  {
   "cell_type": "code",
   "execution_count": 11,
   "metadata": {},
   "outputs": [
    {
     "name": "stdout",
     "output_type": "stream",
     "text": [
      "<class 'tuple'>\n",
      "('1234',)\n"
     ]
    }
   ],
   "source": [
    "str = '1234'\n",
    "print(f\"{type((str, ) )}\")\n",
    "print(f\"{(str, )}\")"
   ]
  },
  {
   "cell_type": "code",
   "execution_count": 240,
   "metadata": {},
   "outputs": [
    {
     "name": "stdout",
     "output_type": "stream",
     "text": [
      "root\n",
      " |-- CUST_CITY: string (nullable = true)\n",
      " |-- CUST_COUNTRY: string (nullable = true)\n",
      " |-- CUST_EMAIL: string (nullable = true)\n",
      " |-- CUST_PHONE: string (nullable = true)\n",
      " |-- CUST_STATE: string (nullable = true)\n",
      " |-- CUST_ZIP: long (nullable = true)\n",
      " |-- FIRST_NAME: string (nullable = true)\n",
      " |-- LAST_NAME: string (nullable = true)\n",
      " |-- LAST_UPDATED: timestamp (nullable = true)\n",
      " |-- MIDDLE_NAME: string (nullable = true)\n",
      " |-- SSN: long (nullable = true)\n",
      " |-- FULL_STREET_ADDRESS: string (nullable = true)\n",
      " |-- BRANCH_CODE: long (nullable = true)\n",
      " |-- CREDIT_CARD_NO: string (nullable = true)\n",
      " |-- TRANSACTION_ID: long (nullable = true)\n",
      " |-- TRANSACTION_TYPE: string (nullable = true)\n",
      " |-- TRANSACTION_VALUE: double (nullable = true)\n",
      " |-- TIMEID: date (nullable = true)\n",
      "\n"
     ]
    }
   ],
   "source": [
    "sql_credit_customer_df.printSchema()"
   ]
  },
  {
   "cell_type": "code",
   "execution_count": 14,
   "metadata": {},
   "outputs": [],
   "source": [
    "sql_credit_customer_df.createOrReplaceTempView(\"credit_customer_df\")"
   ]
  },
  {
   "cell_type": "code",
   "execution_count": 242,
   "metadata": {},
   "outputs": [],
   "source": [
    "transaction_container_query = {\"zipcode\":\"\",\n",
    "                                \"type\":\"\",\n",
    "                                \"state\":\"\",\n",
    "                                \"branches\":\"\",\n",
    "                                \"year\":\"2018\",\n",
    "                                \"month\":\"\"}"
   ]
  },
  {
   "cell_type": "code",
   "execution_count": 16,
   "metadata": {},
   "outputs": [],
   "source": [
    "query_one = session.sql(tans_test.query_one_return())"
   ]
  },
  {
   "cell_type": "code",
   "execution_count": 17,
   "metadata": {},
   "outputs": [
    {
     "name": "stdout",
     "output_type": "stream",
     "text": [
      "+--------+----------+---------+----------------+--------------+----------------+-----------------+----------+-------------------------+\n",
      "|CUST_ZIP|FIRST_NAME|LAST_NAME|  CREDIT_CARD_NO|TRANSACTION_ID|TRANSACTION_TYPE|TRANSACTION_VALUE|    TIMEID|date_format(TIMEID, MMMM)|\n",
      "+--------+----------+---------+----------------+--------------+----------------+-----------------+----------+-------------------------+\n",
      "|   17201|      Otha| Atkinson|4210653324260789|         17117|           Bills|             1.02|2018-09-28|                September|\n",
      "|   17201|    Brooke|    Neely|4210653373620931|         14169|             Gas|            73.58|2018-09-28|                September|\n",
      "|   17201|    Marcel|     Camp|4210653344660822|         46659|   Entertainment|            47.92|2018-09-27|                September|\n",
      "|   17201|    Elaine|    Moran|4210653389909043|         35368|            Test|           100.52|2018-09-26|                September|\n",
      "|   17201|    Brooke|    Neely|4210653373620931|         14121|   Entertainment|             12.6|2018-09-26|                September|\n",
      "|   17201|    Rickey|  Robbins|4210653374041659|         13490|            Test|            33.57|2018-09-26|                September|\n",
      "|   17201|      Otha| Atkinson|4210653324260789|         17181|         Grocery|            32.74|2018-09-25|                September|\n",
      "|   17201|    Rickey|  Robbins|4210653374041659|         13471|             Gas|            70.29|2018-09-23|                September|\n",
      "|   17201|      Otha| Atkinson|4210653324260789|         17157|             Gas|             93.2|2018-09-23|                September|\n",
      "|   17201|   Bertram|  Padgett|4210653388487485|         26877|       Education|             16.8|2018-09-22|                September|\n",
      "|   17201|    Rickey|  Robbins|4210653374041659|         13458|         Grocery|            41.78|2018-09-22|                September|\n",
      "|   17201|    Rickey|  Robbins|4210653374041659|         13470|      Healthcare|            77.63|2018-09-20|                September|\n",
      "|   17201|     Sofia|    Brady|4210653320012911|         44818|             Gas|            29.61|2018-09-20|                September|\n",
      "|   17201|     Sofia|    Brady|4210653320012911|         44806|         Grocery|            58.58|2018-09-19|                September|\n",
      "|   17201|    Rickey|  Robbins|4210653374041659|         13444|             Gas|            66.47|2018-09-18|                September|\n",
      "|   17201|    Brooke|    Neely|4210653373620931|         14146|   Entertainment|             51.9|2018-09-16|                September|\n",
      "|   17201|     Sofia|    Brady|4210653320012911|         44840|             Gas|            22.33|2018-09-15|                September|\n",
      "|   17201|    Rickey|  Robbins|4210653374041659|         13446|           Bills|            27.43|2018-09-14|                September|\n",
      "|   17201|      Alma|    Russo|4210653358330252|         29028|   Entertainment|             77.6|2018-09-13|                September|\n",
      "|   17201|      Alma|    Russo|4210653358330252|         29074|      Healthcare|             56.0|2018-09-12|                September|\n",
      "+--------+----------+---------+----------------+--------------+----------------+-----------------+----------+-------------------------+\n",
      "only showing top 20 rows\n",
      "\n"
     ]
    }
   ],
   "source": [
    "query_one.show()"
   ]
  },
  {
   "cell_type": "code",
   "execution_count": 243,
   "metadata": {},
   "outputs": [],
   "source": [
    "transaction_container_query[\"zipcode\"] = '17201'\n"
   ]
  },
  {
   "cell_type": "code",
   "execution_count": 248,
   "metadata": {},
   "outputs": [],
   "source": [
    "session.stop()"
   ]
  },
  {
   "cell_type": "code",
   "execution_count": 244,
   "metadata": {},
   "outputs": [],
   "source": [
    "transaction_container_query['month'] = 'september'.title()"
   ]
  },
  {
   "cell_type": "code",
   "execution_count": 245,
   "metadata": {},
   "outputs": [],
   "source": [
    "# zipcode \n",
    "# month\n",
    "# year\n",
    "\n",
    "#  dates\n",
    "# date_format(date, selection)\n",
    "# DAYOFMONTH(TIMEID)\n",
    "\n",
    "transaction_menu_choice_one = session.sql(f\"\"\"\n",
    "    SELECT \n",
    "        CUST_ZIP,\n",
    "        FIRST_NAME,\n",
    "        LAST_NAME,\n",
    "        CREDIT_CARD_NO,\n",
    "        TRANSACTION_ID, \n",
    "        TRANSACTION_TYPE, \n",
    "        TRANSACTION_VALUE, \n",
    "        TIMEID,\n",
    "        DATE_FORMAT(TIMEID, 'MMMM')\n",
    "    FROM credit_customer_df\n",
    "    WHERE \n",
    "        CUST_ZIP = {transaction_container_query[\"zipcode\"]}\n",
    "        AND \n",
    "        YEAR(TIMEID) = {transaction_container_query[\"year\"]}\n",
    "        AND \n",
    "        DATE_FORMAT(TIMEID, 'MMMM') LIKE(\"{transaction_container_query['month']}%\")\n",
    "        \n",
    "\n",
    "    ORDER BY DAYOFMONTH(TIMEID) DESC; \"\"\")"
   ]
  },
  {
   "cell_type": "code",
   "execution_count": 246,
   "metadata": {},
   "outputs": [
    {
     "name": "stdout",
     "output_type": "stream",
     "text": [
      "+--------+----------+---------+----------------+--------------+----------------+-----------------+----------+-------------------------+\n",
      "|CUST_ZIP|FIRST_NAME|LAST_NAME|  CREDIT_CARD_NO|TRANSACTION_ID|TRANSACTION_TYPE|TRANSACTION_VALUE|    TIMEID|date_format(TIMEID, MMMM)|\n",
      "+--------+----------+---------+----------------+--------------+----------------+-----------------+----------+-------------------------+\n",
      "|   17201|      Otha| Atkinson|4210653324260789|         17117|           Bills|             1.02|2018-09-28|                September|\n",
      "|   17201|    Brooke|    Neely|4210653373620931|         14169|             Gas|            73.58|2018-09-28|                September|\n",
      "|   17201|    Marcel|     Camp|4210653344660822|         46659|   Entertainment|            47.92|2018-09-27|                September|\n",
      "|   17201|    Rickey|  Robbins|4210653374041659|         13490|            Test|            33.57|2018-09-26|                September|\n",
      "|   17201|    Brooke|    Neely|4210653373620931|         14121|   Entertainment|             12.6|2018-09-26|                September|\n",
      "|   17201|    Elaine|    Moran|4210653389909043|         35368|            Test|           100.52|2018-09-26|                September|\n",
      "|   17201|      Otha| Atkinson|4210653324260789|         17181|         Grocery|            32.74|2018-09-25|                September|\n",
      "|   17201|      Otha| Atkinson|4210653324260789|         17157|             Gas|             93.2|2018-09-23|                September|\n",
      "|   17201|    Rickey|  Robbins|4210653374041659|         13471|             Gas|            70.29|2018-09-23|                September|\n",
      "|   17201|    Rickey|  Robbins|4210653374041659|         13458|         Grocery|            41.78|2018-09-22|                September|\n",
      "+--------+----------+---------+----------------+--------------+----------------+-----------------+----------+-------------------------+\n",
      "only showing top 10 rows\n",
      "\n"
     ]
    }
   ],
   "source": [
    "transaction_menu_choice_one.show(10)"
   ]
  }
 ],
 "metadata": {
  "kernelspec": {
   "display_name": "ETL-capstone-env",
   "language": "python",
   "name": "python3"
  },
  "language_info": {
   "codemirror_mode": {
    "name": "ipython",
    "version": 3
   },
   "file_extension": ".py",
   "mimetype": "text/x-python",
   "name": "python",
   "nbconvert_exporter": "python",
   "pygments_lexer": "ipython3",
   "version": "3.10.7"
  },
  "orig_nbformat": 4,
  "vscode": {
   "interpreter": {
    "hash": "ee7ea43159b5ae9688b9ea80145f8aa5b0cd36336747c8056b8bd8bf647002b8"
   }
  }
 },
 "nbformat": 4,
 "nbformat_minor": 2
}
