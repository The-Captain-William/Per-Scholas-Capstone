{
 "cells": [
  {
   "cell_type": "code",
   "execution_count": null,
   "metadata": {},
   "outputs": [],
   "source": [
    "# TODO\n",
    "# Set up spark session ✔\n",
    "# Import single-line JSON files ✔\n",
    "    # Optimize ==> Create a Function to Import all of these files and assign names ot them; perhaps using wrappers?\n",
    "\n",
    "# Data validation\n",
    "    # Check if any null values ✔\n",
    "    # Customer according to specs:\n",
    "\n",
    "\n"
   ]
  },
  {
   "attachments": {},
   "cell_type": "markdown",
   "metadata": {},
   "source": [
    "## Required Imports\n",
    "---"
   ]
  },
  {
   "cell_type": "code",
   "execution_count": 54,
   "metadata": {},
   "outputs": [],
   "source": [
    "import pyspark \n",
    "import pyspark.pandas as pd\n",
    "from pyspark.sql import SparkSession\n",
    "from pyspark.sql.types import \\\n",
    "    IntegerType, \\\n",
    "    StringType, \\\n",
    "    TimestampType, \\\n",
    "    DoubleType\n"
   ]
  },
  {
   "cell_type": "code",
   "execution_count": 4,
   "metadata": {},
   "outputs": [],
   "source": [
    "session = SparkSession.builder.appName('Credit Card ETL').getOrCreate()\n"
   ]
  },
  {
   "cell_type": "code",
   "execution_count": 5,
   "metadata": {},
   "outputs": [
    {
     "data": {
      "text/html": [
       "\n",
       "            <div>\n",
       "                <p><b>SparkSession - in-memory</b></p>\n",
       "                \n",
       "        <div>\n",
       "            <p><b>SparkContext</b></p>\n",
       "\n",
       "            <p><a href=\"http://DESKTOP-AQ9UQ3O:4040\">Spark UI</a></p>\n",
       "\n",
       "            <dl>\n",
       "              <dt>Version</dt>\n",
       "                <dd><code>v3.3.1</code></dd>\n",
       "              <dt>Master</dt>\n",
       "                <dd><code>local[*]</code></dd>\n",
       "              <dt>AppName</dt>\n",
       "                <dd><code>Credit Card ETL</code></dd>\n",
       "            </dl>\n",
       "        </div>\n",
       "        \n",
       "            </div>\n",
       "        "
      ],
      "text/plain": [
       "<pyspark.sql.session.SparkSession at 0x27103db8fa0>"
      ]
     },
     "execution_count": 5,
     "metadata": {},
     "output_type": "execute_result"
    }
   ],
   "source": [
    "session"
   ]
  },
  {
   "attachments": {},
   "cell_type": "markdown",
   "metadata": {},
   "source": [
    "## Extract:\n",
    "---\n",
    "- Customer\n",
    "- Branch\n",
    "- Credit\n"
   ]
  },
  {
   "cell_type": "code",
   "execution_count": 6,
   "metadata": {},
   "outputs": [],
   "source": [
    "customer_df = session.read.load('../data/credit_card_dataset/cdw_sapp_custmer.json', format='json')"
   ]
  },
  {
   "cell_type": "code",
   "execution_count": 40,
   "metadata": {},
   "outputs": [],
   "source": [
    "branch_df = session.read.load('../data/credit_card_dataset/cdw_sapp_branch.json', format='json')"
   ]
  },
  {
   "cell_type": "code",
   "execution_count": 41,
   "metadata": {},
   "outputs": [],
   "source": [
    "credit_df = session.read.load('../data/credit_card_dataset/cdw_sapp_credit.json', format='json')"
   ]
  },
  {
   "cell_type": "code",
   "execution_count": 42,
   "metadata": {},
   "outputs": [],
   "source": [
    "customer_df_dirty_backup = customer_df\n",
    "branch_df_dirty_backup = branch_df\n",
    "credit_df_dirty_backup = credit_df"
   ]
  },
  {
   "attachments": {},
   "cell_type": "markdown",
   "metadata": {},
   "source": [
    "## Transform\n",
    "---"
   ]
  },
  {
   "attachments": {},
   "cell_type": "markdown",
   "metadata": {},
   "source": [
    "### Data Validation\n",
    "- Ensure Correct Schema, View Current DataTypes\n",
    "- Determine if any null values"
   ]
  },
  {
   "cell_type": "code",
   "execution_count": 50,
   "metadata": {},
   "outputs": [
    {
     "name": "stdout",
     "output_type": "stream",
     "text": [
      "Customer DataFrame:\n",
      "\n",
      "root\n",
      " |-- APT_NO: string (nullable = true)\n",
      " |-- CREDIT_CARD_NO: string (nullable = true)\n",
      " |-- CUST_CITY: string (nullable = true)\n",
      " |-- CUST_COUNTRY: string (nullable = true)\n",
      " |-- CUST_EMAIL: string (nullable = true)\n",
      " |-- CUST_PHONE: long (nullable = true)\n",
      " |-- CUST_STATE: string (nullable = true)\n",
      " |-- CUST_ZIP: string (nullable = true)\n",
      " |-- FIRST_NAME: string (nullable = true)\n",
      " |-- LAST_NAME: string (nullable = true)\n",
      " |-- LAST_UPDATED: string (nullable = true)\n",
      " |-- MIDDLE_NAME: string (nullable = true)\n",
      " |-- SSN: long (nullable = true)\n",
      " |-- STREET_NAME: string (nullable = true)\n",
      "\n",
      "\n",
      "Branch DataFrame:\n",
      "\n",
      "root\n",
      " |-- BRANCH_CITY: string (nullable = true)\n",
      " |-- BRANCH_CODE: long (nullable = true)\n",
      " |-- BRANCH_NAME: string (nullable = true)\n",
      " |-- BRANCH_PHONE: string (nullable = true)\n",
      " |-- BRANCH_STATE: string (nullable = true)\n",
      " |-- BRANCH_STREET: string (nullable = true)\n",
      " |-- BRANCH_ZIP: long (nullable = true)\n",
      " |-- LAST_UPDATED: string (nullable = true)\n",
      "\n",
      "\n",
      "Credit DataFrame:\n",
      "\n",
      "root\n",
      " |-- BRANCH_CITY: string (nullable = true)\n",
      " |-- BRANCH_CODE: long (nullable = true)\n",
      " |-- BRANCH_NAME: string (nullable = true)\n",
      " |-- BRANCH_PHONE: string (nullable = true)\n",
      " |-- BRANCH_STATE: string (nullable = true)\n",
      " |-- BRANCH_STREET: string (nullable = true)\n",
      " |-- BRANCH_ZIP: long (nullable = true)\n",
      " |-- LAST_UPDATED: string (nullable = true)\n",
      "\n"
     ]
    }
   ],
   "source": [
    "print(\"Customer DataFrame:\\n\")\n",
    "customer_df.printSchema()\n",
    "print(\"\\nBranch DataFrame:\\n\")\n",
    "branch_df.printSchema()\n",
    "print(\"\\nCredit DataFrame:\\n\")\n",
    "branch_df.printSchema()\n",
    "\n",
    "\n"
   ]
  },
  {
   "cell_type": "code",
   "execution_count": 51,
   "metadata": {},
   "outputs": [],
   "source": [
    "def null_checker(dataframe):\n",
    "    original_count= dataframe.count()\n",
    "    drop_na = dataframe.dropna()\n",
    "    new_count = drop_na.count()\n",
    "    if new_count != original_count:\n",
    "        print(f\"Original Number of Rows: {original_count} \\\n",
    "            \\nNew Number of Rows: {new_count}\\n\")\n",
    "    else:\n",
    "        print(\"No nulls, no changes made\\n\")\n"
   ]
  },
  {
   "cell_type": "code",
   "execution_count": 53,
   "metadata": {},
   "outputs": [
    {
     "name": "stdout",
     "output_type": "stream",
     "text": [
      "No nulls, no changes made\n",
      "No nulls, no changes made\n",
      "No nulls, no changes made\n"
     ]
    }
   ],
   "source": [
    "null_checker(customer_df)\n",
    "null_checker(branch_df)\n",
    "null_checker(credit_df)"
   ]
  },
  {
   "attachments": {},
   "cell_type": "markdown",
   "metadata": {},
   "source": [
    "### Casting Correct Data Types"
   ]
  },
  {
   "cell_type": "code",
   "execution_count": 86,
   "metadata": {},
   "outputs": [],
   "source": [
    "test = customer_df.select(customer_df['SSN'], customer_df['SSN'].cast(\"INT\"))"
   ]
  },
  {
   "cell_type": "code",
   "execution_count": 64,
   "metadata": {},
   "outputs": [],
   "source": [
    "customer_df.createOrReplaceTempView(\"customer_df\")"
   ]
  },
  {
   "cell_type": "code",
   "execution_count": 90,
   "metadata": {},
   "outputs": [],
   "source": [
    "test_2 = customer_df.withColumns({'SSN':customer_df['SSN'].cast(IntegerType()), \n",
    "                                  'CUST_ZIP':customer_df['CUST_ZIP'].cast(IntegerType()),\n",
    "                                  'CUST_PHONE':customer_df['CUST_PHONE'].cast(StringType()),\n",
    "                                  'LAST_UPDATED':customer_df['LAST_UPDATED'].cast(TimestampType())})"
   ]
  },
  {
   "cell_type": "code",
   "execution_count": 70,
   "metadata": {},
   "outputs": [],
   "source": [
    "test_temp = session.sql(f\"\"\"\n",
    "SELECT CAST(FIRST_NAME AS VARCHAR(50))\n",
    "FROM customer_df \"\"\")"
   ]
  },
  {
   "cell_type": "code",
   "execution_count": 71,
   "metadata": {},
   "outputs": [
    {
     "name": "stdout",
     "output_type": "stream",
     "text": [
      "root\n",
      " |-- FIRST_NAME: string (nullable = true)\n",
      "\n"
     ]
    }
   ],
   "source": [
    "test_temp.printSchema()"
   ]
  }
 ],
 "metadata": {
  "kernelspec": {
   "display_name": "ETL-capstone-env",
   "language": "python",
   "name": "python3"
  },
  "language_info": {
   "codemirror_mode": {
    "name": "ipython",
    "version": 3
   },
   "file_extension": ".py",
   "mimetype": "text/x-python",
   "name": "python",
   "nbconvert_exporter": "python",
   "pygments_lexer": "ipython3",
   "version": "3.10.7"
  },
  "orig_nbformat": 4,
  "vscode": {
   "interpreter": {
    "hash": "ee7ea43159b5ae9688b9ea80145f8aa5b0cd36336747c8056b8bd8bf647002b8"
   }
  }
 },
 "nbformat": 4,
 "nbformat_minor": 2
}
