{
 "cells": [
  {
   "cell_type": "code",
   "execution_count": 1,
   "metadata": {},
   "outputs": [],
   "source": [
    "import pandas\n",
    "from pyspark.sql import SparkSession\n",
    "from pyspark.sql.functions import desc\n",
    "from super_secret_password import PASSWORD\n",
    "from matplotlib import pyplot as plt\n"
   ]
  },
  {
   "cell_type": "code",
   "execution_count": 2,
   "metadata": {},
   "outputs": [],
   "source": [
    "DATABASE_VALUES= {\"url\": \"jdbc:mysql://localhost:3306/creditcard_capstone\",\n",
    "                \"table\":[\"CDW_SAPP_BRANCH\", \"CDW_SAPP_CREDIT_CARD\", \"CDW_SAPP_CUSTOMER\", \"CDW_SAPP_LOAN_APPLICATION\"],  # 0 1 2 3\n",
    "                \"mode\":\"overwrite\",\n",
    "                \"properties\":{\"user\":\"root\", \"password\":PASSWORD, \"driver\":\"com.mysql.cj.jdbc.Driver\"}}"
   ]
  },
  {
   "cell_type": "code",
   "execution_count": 3,
   "metadata": {},
   "outputs": [],
   "source": [
    "spark_sesh = SparkSession.builder.appName('CLI Spark Session').getOrCreate()\n",
    "\n",
    "# Importing all for good measure but not required\n",
    "sql_branch_df = spark_sesh.read.jdbc(\n",
    "url=DATABASE_VALUES[\"url\"],\n",
    "properties=DATABASE_VALUES[\"properties\"],\n",
    "table=DATABASE_VALUES[\"table\"][0]\n",
    ")\n",
    "\n",
    "sql_credit_df = spark_sesh.read.jdbc(\n",
    "    url=DATABASE_VALUES[\"url\"],\n",
    "    properties=DATABASE_VALUES[\"properties\"],\n",
    "    table=DATABASE_VALUES[\"table\"][1]\n",
    ")\n",
    "\n",
    "sql_customer_df = spark_sesh.read.jdbc(\n",
    "url=DATABASE_VALUES[\"url\"],\n",
    "properties=DATABASE_VALUES[\"properties\"],\n",
    "table=DATABASE_VALUES[\"table\"][2]\n",
    ")\n",
    "\n",
    "sql_loan_df = spark_sesh.read.jdbc(\n",
    "url=DATABASE_VALUES[\"url\"],\n",
    "properties=DATABASE_VALUES[\"properties\"],\n",
    "table=DATABASE_VALUES[\"table\"][3]\n",
    ")"
   ]
  },
  {
   "cell_type": "code",
   "execution_count": 52,
   "metadata": {},
   "outputs": [
    {
     "name": "stdout",
     "output_type": "stream",
     "text": [
      "root\n",
      " |-- BRANCH_CODE: long (nullable = true)\n",
      " |-- CREDIT_CARD_NO: string (nullable = true)\n",
      " |-- CUST_SSN: long (nullable = true)\n",
      " |-- TRANSACTION_ID: long (nullable = true)\n",
      " |-- TRANSACTION_TYPE: string (nullable = true)\n",
      " |-- TRANSACTION_VALUE: double (nullable = true)\n",
      " |-- TIMEID: date (nullable = true)\n",
      "\n"
     ]
    }
   ],
   "source": [
    "sql_credit_df.printSchema()"
   ]
  },
  {
   "cell_type": "code",
   "execution_count": 4,
   "metadata": {},
   "outputs": [],
   "source": [
    "trans_types_values_df = sql_credit_df[['TRANSACTION_TYPE', 'TRANSACTION_ID', 'TRANSACTION_VALUE', 'CUST_SSN']]"
   ]
  },
  {
   "cell_type": "code",
   "execution_count": 54,
   "metadata": {},
   "outputs": [
    {
     "name": "stdout",
     "output_type": "stream",
     "text": [
      "+----------------+--------------+-----------------+---------+\n",
      "|TRANSACTION_TYPE|TRANSACTION_ID|TRANSACTION_VALUE| CUST_SSN|\n",
      "+----------------+--------------+-----------------+---------+\n",
      "|         Grocery|         15771|             13.9|123457068|\n",
      "|           Bills|         15772|             3.23|123457068|\n",
      "|         Grocery|         15773|            38.33|123457068|\n",
      "|           Bills|         15774|            29.99|123457068|\n",
      "|         Grocery|         15775|            87.64|123457068|\n",
      "+----------------+--------------+-----------------+---------+\n",
      "only showing top 5 rows\n",
      "\n"
     ]
    }
   ],
   "source": [
    "trans_types_values_df.show(5)"
   ]
  },
  {
   "attachments": {},
   "cell_type": "markdown",
   "metadata": {},
   "source": [
    "### Transactions Ranked by Type"
   ]
  },
  {
   "cell_type": "code",
   "execution_count": 55,
   "metadata": {},
   "outputs": [
    {
     "name": "stdout",
     "output_type": "stream",
     "text": [
      "+----------------+-----+\n",
      "|TRANSACTION_TYPE|count|\n",
      "+----------------+-----+\n",
      "|           Bills| 6861|\n",
      "|      Healthcare| 6723|\n",
      "|            Test| 6683|\n",
      "|       Education| 6638|\n",
      "|   Entertainment| 6635|\n",
      "|             Gas| 6605|\n",
      "|         Grocery| 6549|\n",
      "+----------------+-----+\n",
      "\n"
     ]
    }
   ],
   "source": [
    "trans_types_values_df = trans_types_values_df.groupBy('TRANSACTION_TYPE').count().sort(desc('count')) # only 7 choices\n",
    "# this is verbose af but It's good to get used to pyspark\n",
    "trans_types_values_df.show()"
   ]
  },
  {
   "cell_type": "code",
   "execution_count": 59,
   "metadata": {},
   "outputs": [],
   "source": [
    "to_pd = trans_types_values_df.toPandas()"
   ]
  },
  {
   "cell_type": "code",
   "execution_count": 68,
   "metadata": {},
   "outputs": [
    {
     "data": {
      "text/plain": [
       "Text(0.5, 1.0, 'Number of Transactions by Type')"
      ]
     },
     "execution_count": 68,
     "metadata": {},
     "output_type": "execute_result"
    },
    {
     "data": {
      "image/png": "[encoded data removed]",
      "text/plain": [
       "<Figure size 640x480 with 1 Axes>"
      ]
     },
     "metadata": {},
     "output_type": "display_data"
    }
   ],
   "source": [
    "plt.bar(to_pd['TRANSACTION_TYPE'],to_pd['count'])  # only superficial graphs for now\n",
    "plt.title('Number of Transactions by Type') # NOTE fix this\n"
   ]
  },
  {
   "cell_type": "code",
   "execution_count": 100,
   "metadata": {},
   "outputs": [],
   "source": [
    "trans_types_values_sorted = spark_sesh.createDataFrame(trans_types_values_df.groupBy('TRANSACTION_TYPE').count().sort(desc('count')).collect())  "
   ]
  },
  {
   "cell_type": "code",
   "execution_count": 101,
   "metadata": {},
   "outputs": [
    {
     "name": "stdout",
     "output_type": "stream",
     "text": [
      "+----------------+-----+\n",
      "|TRANSACTION_TYPE|count|\n",
      "+----------------+-----+\n",
      "|           Bills| 6861|\n",
      "|      Healthcare| 6723|\n",
      "|            Test| 6683|\n",
      "|       Education| 6638|\n",
      "|   Entertainment| 6635|\n",
      "|             Gas| 6605|\n",
      "|         Grocery| 6549|\n",
      "+----------------+-----+\n",
      "\n"
     ]
    }
   ],
   "source": [
    "trans_types_values_sorted.show()"
   ]
  },
  {
   "attachments": {},
   "cell_type": "markdown",
   "metadata": {},
   "source": [
    "### Transactions Ranked by State"
   ]
  },
  {
   "cell_type": "code",
   "execution_count": 5,
   "metadata": {},
   "outputs": [
    {
     "name": "stdout",
     "output_type": "stream",
     "text": [
      "root\n",
      " |-- CREDIT_CARD_NO: string (nullable = true)\n",
      " |-- CUST_CITY: string (nullable = true)\n",
      " |-- CUST_COUNTRY: string (nullable = true)\n",
      " |-- CUST_EMAIL: string (nullable = true)\n",
      " |-- CUST_PHONE: string (nullable = true)\n",
      " |-- CUST_STATE: string (nullable = true)\n",
      " |-- CUST_ZIP: long (nullable = true)\n",
      " |-- FIRST_NAME: string (nullable = true)\n",
      " |-- LAST_NAME: string (nullable = true)\n",
      " |-- LAST_UPDATED: timestamp (nullable = true)\n",
      " |-- MIDDLE_NAME: string (nullable = true)\n",
      " |-- SSN: long (nullable = true)\n",
      " |-- FULL_STREET_ADDRESS: string (nullable = true)\n",
      "\n"
     ]
    }
   ],
   "source": [
    "sql_customer_df.printSchema()"
   ]
  },
  {
   "cell_type": "code",
   "execution_count": 6,
   "metadata": {},
   "outputs": [],
   "source": [
    "trans_state_cust = sql_customer_df[['FIRST_NAME', 'LAST_NAME', 'SSN', 'CUST_STATE']]"
   ]
  },
  {
   "cell_type": "code",
   "execution_count": 7,
   "metadata": {},
   "outputs": [],
   "source": [
    "customer_state_transaction_df = trans_types_values_df.join(trans_state_cust, trans_state_cust['SSN'] == trans_types_values_df['CUST_SSN'])"
   ]
  },
  {
   "cell_type": "code",
   "execution_count": 8,
   "metadata": {},
   "outputs": [],
   "source": [
    "customer_state_transaction_df = customer_state_transaction_df.drop('CUST_SSN')"
   ]
  },
  {
   "cell_type": "code",
   "execution_count": 9,
   "metadata": {},
   "outputs": [
    {
     "name": "stdout",
     "output_type": "stream",
     "text": [
      "root\n",
      " |-- TRANSACTION_TYPE: string (nullable = true)\n",
      " |-- TRANSACTION_ID: long (nullable = true)\n",
      " |-- TRANSACTION_VALUE: double (nullable = true)\n",
      " |-- FIRST_NAME: string (nullable = true)\n",
      " |-- LAST_NAME: string (nullable = true)\n",
      " |-- SSN: long (nullable = true)\n",
      " |-- CUST_STATE: string (nullable = true)\n",
      "\n"
     ]
    }
   ],
   "source": [
    "customer_state_transaction_df.printSchema()"
   ]
  },
  {
   "cell_type": "code",
   "execution_count": 10,
   "metadata": {},
   "outputs": [
    {
     "name": "stdout",
     "output_type": "stream",
     "text": [
      "+----------+-----+\n",
      "|CUST_STATE|count|\n",
      "+----------+-----+\n",
      "|        NY| 4825|\n",
      "|        GA| 3772|\n",
      "|        PA| 3463|\n",
      "|        FL| 3197|\n",
      "|        IL| 2961|\n",
      "|        MI| 2546|\n",
      "|        MD| 2365|\n",
      "|        NJ| 2294|\n",
      "|        CA| 2209|\n",
      "|        OH| 2018|\n",
      "|        NC| 1957|\n",
      "|        VA| 1859|\n",
      "|        MA| 1746|\n",
      "|        TX| 1562|\n",
      "|        WI| 1549|\n",
      "|        SC| 1358|\n",
      "|        MN| 1145|\n",
      "|        MS| 1085|\n",
      "|        KY|  971|\n",
      "|        WA|  923|\n",
      "|        IA|  878|\n",
      "|        CT|  693|\n",
      "|        IN|  594|\n",
      "|        MT|  286|\n",
      "|        AR|  234|\n",
      "|        AL|  204|\n",
      "+----------+-----+\n",
      "\n"
     ]
    }
   ],
   "source": [
    "customer_state_transaction_df.groupBy('CUST_STATE').count().sort(desc('count')).show(40)"
   ]
  },
  {
   "cell_type": "code",
   "execution_count": 11,
   "metadata": {},
   "outputs": [],
   "source": [
    "states_transaction_df = spark_sesh.createDataFrame(customer_state_transaction_df.groupBy('CUST_STATE').count().sort(desc('count')).collect())"
   ]
  },
  {
   "cell_type": "code",
   "execution_count": 12,
   "metadata": {},
   "outputs": [
    {
     "name": "stdout",
     "output_type": "stream",
     "text": [
      "+----------+-----+\n",
      "|CUST_STATE|count|\n",
      "+----------+-----+\n",
      "|        NY| 4825|\n",
      "|        GA| 3772|\n",
      "|        PA| 3463|\n",
      "|        FL| 3197|\n",
      "|        IL| 2961|\n",
      "|        MI| 2546|\n",
      "|        MD| 2365|\n",
      "|        NJ| 2294|\n",
      "|        CA| 2209|\n",
      "|        OH| 2018|\n",
      "|        NC| 1957|\n",
      "|        VA| 1859|\n",
      "|        MA| 1746|\n",
      "|        TX| 1562|\n",
      "|        WI| 1549|\n",
      "|        SC| 1358|\n",
      "|        MN| 1145|\n",
      "|        MS| 1085|\n",
      "|        KY|  971|\n",
      "|        WA|  923|\n",
      "+----------+-----+\n",
      "only showing top 20 rows\n",
      "\n"
     ]
    }
   ],
   "source": [
    "states_transaction_df.show()"
   ]
  },
  {
   "cell_type": "code",
   "execution_count": 13,
   "metadata": {},
   "outputs": [],
   "source": [
    "to_pd = states_transaction_df.toPandas()"
   ]
  },
  {
   "cell_type": "code",
   "execution_count": 17,
   "metadata": {},
   "outputs": [
    {
     "data": {
      "image/png": "[encoded data removed]",
      "text/plain": [
       "<Figure size 640x480 with 1 Axes>"
      ]
     },
     "metadata": {},
     "output_type": "display_data"
    }
   ],
   "source": [
    "plt.bar(to_pd['CUST_STATE'], to_pd['count'])\n",
    "plt.show()"
   ]
  },
  {
   "attachments": {},
   "cell_type": "markdown",
   "metadata": {},
   "source": [
    "### Transactions Ranked by Customer"
   ]
  },
  {
   "cell_type": "code",
   "execution_count": 18,
   "metadata": {},
   "outputs": [
    {
     "name": "stdout",
     "output_type": "stream",
     "text": [
      "root\n",
      " |-- TRANSACTION_TYPE: string (nullable = true)\n",
      " |-- TRANSACTION_ID: long (nullable = true)\n",
      " |-- TRANSACTION_VALUE: double (nullable = true)\n",
      " |-- FIRST_NAME: string (nullable = true)\n",
      " |-- LAST_NAME: string (nullable = true)\n",
      " |-- SSN: long (nullable = true)\n",
      " |-- CUST_STATE: string (nullable = true)\n",
      "\n"
     ]
    }
   ],
   "source": [
    "customer_state_transaction_df.printSchema()"
   ]
  },
  {
   "cell_type": "code",
   "execution_count": 19,
   "metadata": {},
   "outputs": [],
   "source": [
    "transactions_per_customer = spark_sesh.createDataFrame(customer_state_transaction_df.groupBy(['FIRST_NAME', 'LAST_NAME']).count().sort(desc('count')).collect())\n",
    "# create dataframe iterating through all info from .collect(), otherwise just showing partial data"
   ]
  },
  {
   "cell_type": "code",
   "execution_count": 20,
   "metadata": {},
   "outputs": [
    {
     "name": "stdout",
     "output_type": "stream",
     "text": [
      "+----------+---------+-----+\n",
      "|FIRST_NAME|LAST_NAME|count|\n",
      "+----------+---------+-----+\n",
      "|    Lorrie|Whitfield|   99|\n",
      "|   Brianna|     Ames|   99|\n",
      "|      Bret|  Perkins|   99|\n",
      "|   Thurman|     Vera|   99|\n",
      "|   Chelsea|   Koenig|   99|\n",
      "|    Carrol|    Lynch|   99|\n",
      "|    Joesph|  Mcclain|   98|\n",
      "|     Addie| Cisneros|   98|\n",
      "|Marguerite| Holloway|   98|\n",
      "|     Mayra|   Meyers|   98|\n",
      "|       Rod| Lockhart|   98|\n",
      "|    Marsha|     Hunt|   98|\n",
      "|     Adele|    Arias|   98|\n",
      "|    Virgil|  Mueller|   98|\n",
      "|       Bud|    Boyce|   98|\n",
      "|   Whitney|    Boggs|   98|\n",
      "|    Deanne|Jorgensen|   98|\n",
      "|     Julie|  Griffin|   97|\n",
      "|     Staci|    Lilly|   97|\n",
      "|    Damion|  Kennedy|   97|\n",
      "+----------+---------+-----+\n",
      "only showing top 20 rows\n",
      "\n"
     ]
    }
   ],
   "source": [
    "transactions_per_customer.show()"
   ]
  },
  {
   "cell_type": "code",
   "execution_count": 21,
   "metadata": {},
   "outputs": [],
   "source": [
    "to_pd = transactions_per_customer.toPandas()  # have to concat df"
   ]
  },
  {
   "cell_type": "code",
   "execution_count": null,
   "metadata": {},
   "outputs": [],
   "source": []
  },
  {
   "attachments": {},
   "cell_type": "markdown",
   "metadata": {},
   "source": [
    "### Applications Approved for Self Employed Applicants - Ratio of Approved vs Disapproved"
   ]
  },
  {
   "cell_type": "code",
   "execution_count": 113,
   "metadata": {},
   "outputs": [
    {
     "name": "stdout",
     "output_type": "stream",
     "text": [
      "root\n",
      " |-- Application_ID: string (nullable = true)\n",
      " |-- Application_Status: string (nullable = true)\n",
      " |-- Credit_History: long (nullable = true)\n",
      " |-- Dependents: string (nullable = true)\n",
      " |-- Education: string (nullable = true)\n",
      " |-- Gender: string (nullable = true)\n",
      " |-- Income: string (nullable = true)\n",
      " |-- Married: string (nullable = true)\n",
      " |-- Property_Area: string (nullable = true)\n",
      " |-- Self_Employed: string (nullable = true)\n",
      "\n"
     ]
    }
   ],
   "source": [
    "sql_loan_df.printSchema()"
   ]
  },
  {
   "cell_type": "code",
   "execution_count": 114,
   "metadata": {},
   "outputs": [
    {
     "name": "stdout",
     "output_type": "stream",
     "text": [
      "+--------------+------------------+--------------+----------+------------+------+------+-------+-------------+-------------+\n",
      "|Application_ID|Application_Status|Credit_History|Dependents|   Education|Gender|Income|Married|Property_Area|Self_Employed|\n",
      "+--------------+------------------+--------------+----------+------------+------+------+-------+-------------+-------------+\n",
      "|      LP001155|                 Y|             1|         0|Not Graduate|Female|   low|    Yes|    Semiurban|           No|\n",
      "|      LP001673|                 N|             1|         0|    Graduate|  Male|  high|     No|        Urban|          Yes|\n",
      "+--------------+------------------+--------------+----------+------------+------+------+-------+-------------+-------------+\n",
      "only showing top 2 rows\n",
      "\n"
     ]
    }
   ],
   "source": [
    "sql_loan_df.show(2)"
   ]
  },
  {
   "cell_type": "code",
   "execution_count": 126,
   "metadata": {},
   "outputs": [],
   "source": [
    "applications_self_employed_approved_df = sql_loan_df.filter(sql_loan_df['Application_Status'] == 'Y').filter(sql_loan_df['Self_Employed'] == 'Yes')  # filter does not return NoneType"
   ]
  },
  {
   "cell_type": "code",
   "execution_count": 127,
   "metadata": {},
   "outputs": [
    {
     "name": "stdout",
     "output_type": "stream",
     "text": [
      "+--------------+------------------+--------------+----------+------------+------+------+-------+-------------+-------------+\n",
      "|Application_ID|Application_Status|Credit_History|Dependents|   Education|Gender|Income|Married|Property_Area|Self_Employed|\n",
      "+--------------+------------------+--------------+----------+------------+------+------+-------+-------------+-------------+\n",
      "|      LP002626|                 Y|             1|         0|    Graduate|  Male|   low|    Yes|        Urban|          Yes|\n",
      "|      LP001529|                 Y|             1|         0|    Graduate|  Male|   low|    Yes|        Rural|          Yes|\n",
      "|      LP002795|                 Y|             1|        3+|    Graduate|  Male|  high|    Yes|    Semiurban|          Yes|\n",
      "|      LP001005|                 Y|             1|         0|    Graduate|  Male|   low|    Yes|        Urban|          Yes|\n",
      "|      LP002813|                 Y|             1|         1|    Graduate|Female|  high|    Yes|    Semiurban|          Yes|\n",
      "|      LP001841|                 Y|             1|         0|Not Graduate|  Male|   low|     No|        Rural|          Yes|\n",
      "|      LP001011|                 Y|             1|         2|    Graduate|  Male|medium|    Yes|        Urban|          Yes|\n",
      "|      LP002821|                 Y|             1|         0|Not Graduate|  Male|medium|     No|    Semiurban|          Yes|\n",
      "|      LP002180|                 Y|             1|         0|    Graduate|  Male|medium|     No|        Rural|          Yes|\n",
      "|      LP001713|                 Y|             1|         1|    Graduate|  Male|medium|    Yes|        Urban|          Yes|\n",
      "|      LP002692|                 Y|             1|        3+|    Graduate|  Male|medium|    Yes|        Rural|          Yes|\n",
      "|      LP001392|                 Y|             1|         1|    Graduate|Female|medium|     No|    Semiurban|          Yes|\n",
      "|      LP001715|                 Y|             1|        3+|Not Graduate|  Male|medium|    Yes|        Rural|          Yes|\n",
      "|      LP002693|                 Y|             1|         2|    Graduate|  Male|medium|    Yes|        Rural|          Yes|\n",
      "|      LP002194|                 Y|             1|         0|    Graduate|Female|  high|     No|    Semiurban|          Yes|\n",
      "|      LP001872|                 Y|             1|         0|    Graduate|  Male|medium|     No|    Semiurban|          Yes|\n",
      "|      LP002699|                 Y|             1|         2|    Graduate|  Male|  high|    Yes|        Rural|          Yes|\n",
      "|      LP002201|                 Y|             1|         2|    Graduate|  Male|medium|    Yes|        Rural|          Yes|\n",
      "|      LP001238|                 Y|             1|        3+|Not Graduate|  Male|medium|    Yes|        Urban|          Yes|\n",
      "|      LP001245|                 Y|             1|         2|Not Graduate|  Male|   low|    Yes|    Semiurban|          Yes|\n",
      "+--------------+------------------+--------------+----------+------------+------+------+-------+-------------+-------------+\n",
      "only showing top 20 rows\n",
      "\n"
     ]
    }
   ],
   "source": [
    "applications_self_employed_approved_df.show()"
   ]
  },
  {
   "cell_type": "code",
   "execution_count": 128,
   "metadata": {},
   "outputs": [],
   "source": [
    "applications_self_employed_denied_df = sql_loan_df.filter(sql_loan_df['Application_Status'] == 'N').filter(sql_loan_df['Self_Employed'] == 'Yes')"
   ]
  },
  {
   "cell_type": "code",
   "execution_count": 133,
   "metadata": {},
   "outputs": [
    {
     "name": "stdout",
     "output_type": "stream",
     "text": [
      "+--------------+------------------+--------------+----------+------------+------+------+-------+-------------+-------------+\n",
      "|Application_ID|Application_Status|Credit_History|Dependents|   Education|Gender|Income|Married|Property_Area|Self_Employed|\n",
      "+--------------+------------------+--------------+----------+------------+------+------+-------+-------------+-------------+\n",
      "|      LP001673|                 N|             1|         0|    Graduate|  Male|  high|     No|        Urban|          Yes|\n",
      "|      LP002142|                 N|             0|         0|    Graduate|Female|medium|    Yes|        Rural|          Yes|\n",
      "|      LP002301|                 N|             1|         0|    Graduate|Female|medium|     No|        Rural|          Yes|\n",
      "|      LP001186|                 N|             0|         1|    Graduate|Female|  high|    Yes|        Urban|          Yes|\n",
      "|      LP002318|                 N|             1|         1|Not Graduate|Female|   low|     No|    Semiurban|          Yes|\n",
      "|      LP001844|                 N|             0|         0|    Graduate|  Male|  high|     No|        Urban|          Yes|\n",
      "|      LP001207|                 N|             0|         0|Not Graduate|  Male|   low|    Yes|        Rural|          Yes|\n",
      "|      LP002342|                 N|             1|         2|    Graduate|  Male|   low|    Yes|        Urban|          Yes|\n",
      "|      LP002050|                 N|             1|         1|    Graduate|  Male|  high|    Yes|        Rural|          Yes|\n",
      "|      LP001603|                 N|             1|         0|Not Graduate|  Male|medium|    Yes|    Semiurban|          Yes|\n",
      "|      LP002067|                 N|             0|         1|    Graduate|  Male|medium|    Yes|        Rural|          Yes|\n",
      "|      LP001451|                 N|             0|         1|    Graduate|  Male|  high|    Yes|        Urban|          Yes|\n",
      "|      LP001097|                 N|             1|         1|    Graduate|  Male|medium|     No|        Rural|          Yes|\n",
      "|      LP001259|                 N|             1|         1|    Graduate|  Male|   low|    Yes|        Urban|          Yes|\n",
      "|      LP002926|                 N|             0|         2|    Graduate|  Male|   low|    Yes|    Semiurban|          Yes|\n",
      "|      LP001910|                 N|             0|         1|Not Graduate|  Male|medium|     No|        Urban|          Yes|\n",
      "|      LP002931|                 N|             1|         2|    Graduate|  Male|medium|    Yes|    Semiurban|          Yes|\n",
      "|      LP002403|                 N|             0|         0|    Graduate|  Male|  high|     No|        Urban|          Yes|\n",
      "|      LP001641|                 N|             0|         1|    Graduate|  Male|   low|    Yes|        Rural|          Yes|\n",
      "|      LP002941|                 N|             1|         2|Not Graduate|  Male|medium|    Yes|        Rural|          Yes|\n",
      "+--------------+------------------+--------------+----------+------------+------+------+-------+-------------+-------------+\n",
      "only showing top 20 rows\n",
      "\n"
     ]
    }
   ],
   "source": [
    "applications_self_employed_denied_df.show()"
   ]
  },
  {
   "cell_type": "code",
   "execution_count": 148,
   "metadata": {},
   "outputs": [
    {
     "name": "stdout",
     "output_type": "stream",
     "text": [
      "\"\"\n",
      "======\n",
      "Self Employed Applicant Loan Status:\n",
      "------------------------------------ \n",
      "Approved: 46\n",
      "Disapproved: 24\n",
      "Total: 70\n",
      "=====\n",
      "\n"
     ]
    }
   ],
   "source": [
    "self_emp_y = len(applications_self_employed_approved_df.collect())  # confirmed in sql # ⭐\n",
    "self_emp_n = len(applications_self_employed_denied_df.collect())\n",
    "print(f\"\"\"\"\"\n",
    "======\n",
    "Self Employed Applicant Loan Status:\n",
    "------------------------------------ \n",
    "Approved: {self_emp_y}\n",
    "Disapproved: {self_emp_n}\n",
    "Total: {self_emp_y + self_emp_n}\n",
    "=====\n",
    "\"\"\")\n",
    "\n",
    "# ⭐ # collect returns an iterable I can get len of\n",
    "# prob another way I'm sure but this way works"
   ]
  },
  {
   "cell_type": "code",
   "execution_count": 149,
   "metadata": {},
   "outputs": [
    {
     "name": "stdout",
     "output_type": "stream",
     "text": [
      "0.66\n"
     ]
    }
   ],
   "source": [
    "ratio_self_emp_y_n = round((self_emp_y / (self_emp_y + self_emp_n)), 2)  # 2 sig figs\n",
    "print(ratio_self_emp_y_n)"
   ]
  },
  {
   "attachments": {},
   "cell_type": "markdown",
   "metadata": {},
   "source": [
    "#### Rejection Rate of Married Male Applicants"
   ]
  },
  {
   "cell_type": "code",
   "execution_count": 151,
   "metadata": {},
   "outputs": [
    {
     "name": "stdout",
     "output_type": "stream",
     "text": [
      "root\n",
      " |-- Application_ID: string (nullable = true)\n",
      " |-- Application_Status: string (nullable = true)\n",
      " |-- Credit_History: long (nullable = true)\n",
      " |-- Dependents: string (nullable = true)\n",
      " |-- Education: string (nullable = true)\n",
      " |-- Gender: string (nullable = true)\n",
      " |-- Income: string (nullable = true)\n",
      " |-- Married: string (nullable = true)\n",
      " |-- Property_Area: string (nullable = true)\n",
      " |-- Self_Employed: string (nullable = true)\n",
      "\n"
     ]
    }
   ],
   "source": [
    "sql_loan_df.printSchema()  # need to refresh my memory, don't wanna scroll up or open a side window lol"
   ]
  },
  {
   "cell_type": "code",
   "execution_count": 152,
   "metadata": {},
   "outputs": [
    {
     "name": "stdout",
     "output_type": "stream",
     "text": [
      "+--------------+------------------+--------------+----------+------------+------+------+-------+-------------+-------------+\n",
      "|Application_ID|Application_Status|Credit_History|Dependents|   Education|Gender|Income|Married|Property_Area|Self_Employed|\n",
      "+--------------+------------------+--------------+----------+------------+------+------+-------+-------------+-------------+\n",
      "|      LP001155|                 Y|             1|         0|Not Graduate|Female|   low|    Yes|    Semiurban|           No|\n",
      "+--------------+------------------+--------------+----------+------------+------+------+-------+-------------+-------------+\n",
      "only showing top 1 row\n",
      "\n"
     ]
    }
   ],
   "source": [
    "sql_loan_df.show(1)"
   ]
  },
  {
   "cell_type": "code",
   "execution_count": 153,
   "metadata": {},
   "outputs": [
    {
     "name": "stdout",
     "output_type": "stream",
     "text": [
      "<class 'pyspark.sql.dataframe.DataFrame'>\n"
     ]
    }
   ],
   "source": [
    "print(type(sql_loan_df))"
   ]
  },
  {
   "cell_type": "code",
   "execution_count": 157,
   "metadata": {},
   "outputs": [],
   "source": [
    "from pyspark.sql import DataFrame"
   ]
  },
  {
   "cell_type": "code",
   "execution_count": 167,
   "metadata": {},
   "outputs": [
    {
     "data": {
      "text/plain": [
       "DataFrame[Application_ID: string, Application_Status: string, Credit_History: bigint, Dependents: string, Education: string, Gender: string, Income: string, Married: string, Property_Area: string, Self_Employed: string]"
      ]
     },
     "execution_count": 167,
     "metadata": {},
     "output_type": "execute_result"
    }
   ],
   "source": [
    "sql_loan_df.filter(sql_loan_df['Married'] == 'Yes').filter(sql_loan_df['Gender'] == 'Male')"
   ]
  },
  {
   "cell_type": "code",
   "execution_count": 196,
   "metadata": {},
   "outputs": [],
   "source": [
    "# need gender == 'Male'\n",
    "# need application_status == 'Y'\n",
    "# need married = 'Y'\n",
    "\n",
    "\n",
    "# ===============\n",
    "# WARNING - Over Engineered Solution Incoming:\n",
    "# ===============\n",
    "\n",
    "\n",
    "# getting fancy with the types\n",
    "def find_ratio(dataframe : DataFrame, column_dict: dict):  # hardcode married / gender  # app :[y, n]\n",
    "    return_dict = {}\n",
    "    return_df = {}\n",
    "    compiled_results = {}\n",
    "    df_total = dataframe.filter(dataframe['Married'] == 'Yes').filter(dataframe['Gender'] == 'Male')\n",
    "    df_total_count = len(df_total.collect())\n",
    "    return_dict['Total'] = df_total_count\n",
    "    for column in column_dict.keys():\n",
    "        for values in column_dict[column]:  # y, n\n",
    "            df_partial = df_total.filter(df_total[column] == values)\n",
    "            #print(df_partial.show(1), \"\\n\")\n",
    "            key = f\"{column}: {values}\"\n",
    "            return_dict[key] = len(df_partial.collect())\n",
    "            return_df[key] = df_partial\n",
    "            compiled_results['Values'] = return_dict\n",
    "            compiled_results['DataFrames'] = return_df\n",
    "    print(compiled_results['Values'])\n",
    "    return compiled_results\n",
    "\n",
    "# this was not nessisary at all but it was fun lol\n",
    "# I'm prob gonna flesh this out at a later time to make it more useful\n",
    "\n"
   ]
  },
  {
   "cell_type": "code",
   "execution_count": 187,
   "metadata": {},
   "outputs": [
    {
     "name": "stdout",
     "output_type": "stream",
     "text": [
      "{'Total': 306, 'Application_Status: Y': 219, 'Application_Status: N': 87}\n"
     ]
    }
   ],
   "source": [
    "find_ratio = find_ratio(sql_loan_df, {'Application_Status':['Y', 'N']})\n"
   ]
  },
  {
   "cell_type": "code",
   "execution_count": 195,
   "metadata": {},
   "outputs": [
    {
     "name": "stdout",
     "output_type": "stream",
     "text": [
      "219\n",
      "\n",
      "87\n"
     ]
    },
    {
     "data": {
      "text/plain": [
       "0.716"
      ]
     },
     "execution_count": 195,
     "metadata": {},
     "output_type": "execute_result"
    }
   ],
   "source": [
    "print(find_ratio['Values']['Application_Status: Y'])\n",
    "print(\"\")\n",
    "print(find_ratio['Values']['Application_Status: N'])\n",
    "\n",
    "ratio_married_yes_no = round(find_ratio['Values']['Application_Status: Y'] / find_ratio['Values']['Total'], 3)\n",
    "ratio_married_yes_no  # 3 sig figs"
   ]
  },
  {
   "attachments": {},
   "cell_type": "markdown",
   "metadata": {},
   "source": [
    "### Top Three Months with Largest Transaction Data\n"
   ]
  },
  {
   "cell_type": "code",
   "execution_count": 214,
   "metadata": {},
   "outputs": [
    {
     "name": "stdout",
     "output_type": "stream",
     "text": [
      "root\n",
      " |-- BRANCH_CODE: long (nullable = true)\n",
      " |-- CREDIT_CARD_NO: string (nullable = true)\n",
      " |-- CUST_SSN: long (nullable = true)\n",
      " |-- TRANSACTION_ID: long (nullable = true)\n",
      " |-- TRANSACTION_TYPE: string (nullable = true)\n",
      " |-- TRANSACTION_VALUE: double (nullable = true)\n",
      " |-- TIMEID: date (nullable = true)\n",
      "\n"
     ]
    }
   ],
   "source": [
    "sql_credit_df.printSchema()\n"
   ]
  },
  {
   "cell_type": "code",
   "execution_count": 294,
   "metadata": {},
   "outputs": [
    {
     "name": "stderr",
     "output_type": "stream",
     "text": [
      "c:\\Users\\GzuzC\\OneDrive\\Documents\\Notes\\Personal Studies\\Workbooks and Worksheets\\Python\\PerScholas Data Engineering\\perscholas_capstone_project\\ignore\\ETL-capstone-env\\lib\\site-packages\\pyspark\\sql\\dataframe.py:3313: FutureWarning: DataFrame.to_pandas_on_spark is deprecated. Use DataFrame.pandas_api instead.\n",
      "  warnings.warn(\n"
     ]
    }
   ],
   "source": [
    "month_df = sql_credit_df.to_pandas_on_spark()"
   ]
  },
  {
   "cell_type": "code",
   "execution_count": 304,
   "metadata": {},
   "outputs": [],
   "source": [
    "sql_credit_month = sql_credit_df"
   ]
  },
  {
   "cell_type": "code",
   "execution_count": 307,
   "metadata": {},
   "outputs": [],
   "source": [
    "sql_credit_month = sql_credit_df.toPandas()  # need to do this in raw pandas b/c pandas_api and pyspark are crashing no matter what I do 😡"
   ]
  },
  {
   "cell_type": "code",
   "execution_count": 308,
   "metadata": {},
   "outputs": [],
   "source": [
    "month = sql_credit_month['TIMEID']"
   ]
  },
  {
   "cell_type": "code",
   "execution_count": 311,
   "metadata": {},
   "outputs": [],
   "source": [
    "month = month.apply(lambda x: str(x).split(\"-\")[1])"
   ]
  },
  {
   "cell_type": "code",
   "execution_count": 312,
   "metadata": {},
   "outputs": [
    {
     "data": {
      "text/html": [
       "<div>\n",
       "<style scoped>\n",
       "    .dataframe tbody tr th:only-of-type {\n",
       "        vertical-align: middle;\n",
       "    }\n",
       "\n",
       "    .dataframe tbody tr th {\n",
       "        vertical-align: top;\n",
       "    }\n",
       "\n",
       "    .dataframe thead th {\n",
       "        text-align: right;\n",
       "    }\n",
       "</style>\n",
       "<table border=\"1\" class=\"dataframe\">\n",
       "  <thead>\n",
       "    <tr style=\"text-align: right;\">\n",
       "      <th></th>\n",
       "      <th>BRANCH_CODE</th>\n",
       "      <th>CREDIT_CARD_NO</th>\n",
       "      <th>CUST_SSN</th>\n",
       "      <th>TRANSACTION_ID</th>\n",
       "      <th>TRANSACTION_TYPE</th>\n",
       "      <th>TRANSACTION_VALUE</th>\n",
       "      <th>TIMEID</th>\n",
       "      <th>MONTH</th>\n",
       "    </tr>\n",
       "  </thead>\n",
       "  <tbody>\n",
       "    <tr>\n",
       "      <th>0</th>\n",
       "      <td>100</td>\n",
       "      <td>4210653388557910</td>\n",
       "      <td>123457068</td>\n",
       "      <td>15771</td>\n",
       "      <td>Grocery</td>\n",
       "      <td>13.90</td>\n",
       "      <td>2018-12-23</td>\n",
       "      <td>12</td>\n",
       "    </tr>\n",
       "    <tr>\n",
       "      <th>1</th>\n",
       "      <td>49</td>\n",
       "      <td>4210653388557910</td>\n",
       "      <td>123457068</td>\n",
       "      <td>15772</td>\n",
       "      <td>Bills</td>\n",
       "      <td>3.23</td>\n",
       "      <td>2018-11-24</td>\n",
       "      <td>11</td>\n",
       "    </tr>\n",
       "    <tr>\n",
       "      <th>2</th>\n",
       "      <td>170</td>\n",
       "      <td>4210653388557910</td>\n",
       "      <td>123457068</td>\n",
       "      <td>15773</td>\n",
       "      <td>Grocery</td>\n",
       "      <td>38.33</td>\n",
       "      <td>2018-02-01</td>\n",
       "      <td>02</td>\n",
       "    </tr>\n",
       "    <tr>\n",
       "      <th>3</th>\n",
       "      <td>175</td>\n",
       "      <td>4210653388557910</td>\n",
       "      <td>123457068</td>\n",
       "      <td>15774</td>\n",
       "      <td>Bills</td>\n",
       "      <td>29.99</td>\n",
       "      <td>2018-10-09</td>\n",
       "      <td>10</td>\n",
       "    </tr>\n",
       "    <tr>\n",
       "      <th>4</th>\n",
       "      <td>93</td>\n",
       "      <td>4210653388557910</td>\n",
       "      <td>123457068</td>\n",
       "      <td>15775</td>\n",
       "      <td>Grocery</td>\n",
       "      <td>87.64</td>\n",
       "      <td>2018-02-01</td>\n",
       "      <td>02</td>\n",
       "    </tr>\n",
       "    <tr>\n",
       "      <th>...</th>\n",
       "      <td>...</td>\n",
       "      <td>...</td>\n",
       "      <td>...</td>\n",
       "      <td>...</td>\n",
       "      <td>...</td>\n",
       "      <td>...</td>\n",
       "      <td>...</td>\n",
       "      <td>...</td>\n",
       "    </tr>\n",
       "    <tr>\n",
       "      <th>46689</th>\n",
       "      <td>119</td>\n",
       "      <td>4210653381566399</td>\n",
       "      <td>123458197</td>\n",
       "      <td>9076</td>\n",
       "      <td>Bills</td>\n",
       "      <td>2.54</td>\n",
       "      <td>2018-04-20</td>\n",
       "      <td>04</td>\n",
       "    </tr>\n",
       "    <tr>\n",
       "      <th>46690</th>\n",
       "      <td>38</td>\n",
       "      <td>4210653381566399</td>\n",
       "      <td>123458197</td>\n",
       "      <td>9077</td>\n",
       "      <td>Education</td>\n",
       "      <td>73.41</td>\n",
       "      <td>2018-07-09</td>\n",
       "      <td>07</td>\n",
       "    </tr>\n",
       "    <tr>\n",
       "      <th>46691</th>\n",
       "      <td>10</td>\n",
       "      <td>4210653381566399</td>\n",
       "      <td>123458197</td>\n",
       "      <td>9078</td>\n",
       "      <td>Test</td>\n",
       "      <td>66.87</td>\n",
       "      <td>2018-01-13</td>\n",
       "      <td>01</td>\n",
       "    </tr>\n",
       "    <tr>\n",
       "      <th>46692</th>\n",
       "      <td>125</td>\n",
       "      <td>4210653381566399</td>\n",
       "      <td>123458197</td>\n",
       "      <td>9079</td>\n",
       "      <td>Test</td>\n",
       "      <td>94.91</td>\n",
       "      <td>2018-07-22</td>\n",
       "      <td>07</td>\n",
       "    </tr>\n",
       "    <tr>\n",
       "      <th>46693</th>\n",
       "      <td>32</td>\n",
       "      <td>4210653381566399</td>\n",
       "      <td>123458197</td>\n",
       "      <td>9080</td>\n",
       "      <td>Grocery</td>\n",
       "      <td>93.93</td>\n",
       "      <td>2018-09-22</td>\n",
       "      <td>09</td>\n",
       "    </tr>\n",
       "  </tbody>\n",
       "</table>\n",
       "<p>46694 rows × 8 columns</p>\n",
       "</div>"
      ],
      "text/plain": [
       "       BRANCH_CODE    CREDIT_CARD_NO   CUST_SSN  TRANSACTION_ID  \\\n",
       "0              100  4210653388557910  123457068           15771   \n",
       "1               49  4210653388557910  123457068           15772   \n",
       "2              170  4210653388557910  123457068           15773   \n",
       "3              175  4210653388557910  123457068           15774   \n",
       "4               93  4210653388557910  123457068           15775   \n",
       "...            ...               ...        ...             ...   \n",
       "46689          119  4210653381566399  123458197            9076   \n",
       "46690           38  4210653381566399  123458197            9077   \n",
       "46691           10  4210653381566399  123458197            9078   \n",
       "46692          125  4210653381566399  123458197            9079   \n",
       "46693           32  4210653381566399  123458197            9080   \n",
       "\n",
       "      TRANSACTION_TYPE  TRANSACTION_VALUE      TIMEID MONTH  \n",
       "0              Grocery              13.90  2018-12-23    12  \n",
       "1                Bills               3.23  2018-11-24    11  \n",
       "2              Grocery              38.33  2018-02-01    02  \n",
       "3                Bills              29.99  2018-10-09    10  \n",
       "4              Grocery              87.64  2018-02-01    02  \n",
       "...                ...                ...         ...   ...  \n",
       "46689            Bills               2.54  2018-04-20    04  \n",
       "46690        Education              73.41  2018-07-09    07  \n",
       "46691             Test              66.87  2018-01-13    01  \n",
       "46692             Test              94.91  2018-07-22    07  \n",
       "46693          Grocery              93.93  2018-09-22    09  \n",
       "\n",
       "[46694 rows x 8 columns]"
      ]
     },
     "execution_count": 312,
     "metadata": {},
     "output_type": "execute_result"
    }
   ],
   "source": [
    "sql_credit_month['MONTH'] = month\n",
    "sql_credit_month"
   ]
  },
  {
   "cell_type": "code",
   "execution_count": 334,
   "metadata": {},
   "outputs": [
    {
     "data": {
      "text/html": [
       "<div>\n",
       "<style scoped>\n",
       "    .dataframe tbody tr th:only-of-type {\n",
       "        vertical-align: middle;\n",
       "    }\n",
       "\n",
       "    .dataframe tbody tr th {\n",
       "        vertical-align: top;\n",
       "    }\n",
       "\n",
       "    .dataframe thead th {\n",
       "        text-align: right;\n",
       "    }\n",
       "</style>\n",
       "<table border=\"1\" class=\"dataframe\">\n",
       "  <thead>\n",
       "    <tr style=\"text-align: right;\">\n",
       "      <th></th>\n",
       "      <th>NUMBER OF TRANSACTIONS</th>\n",
       "    </tr>\n",
       "    <tr>\n",
       "      <th>MONTH</th>\n",
       "      <th></th>\n",
       "    </tr>\n",
       "  </thead>\n",
       "  <tbody>\n",
       "    <tr>\n",
       "      <th>02</th>\n",
       "      <td>3959</td>\n",
       "    </tr>\n",
       "    <tr>\n",
       "      <th>05</th>\n",
       "      <td>3946</td>\n",
       "    </tr>\n",
       "    <tr>\n",
       "      <th>10</th>\n",
       "      <td>3946</td>\n",
       "    </tr>\n",
       "    <tr>\n",
       "      <th>12</th>\n",
       "      <td>3936</td>\n",
       "    </tr>\n",
       "    <tr>\n",
       "      <th>07</th>\n",
       "      <td>3935</td>\n",
       "    </tr>\n",
       "    <tr>\n",
       "      <th>11</th>\n",
       "      <td>3901</td>\n",
       "    </tr>\n",
       "    <tr>\n",
       "      <th>09</th>\n",
       "      <td>3886</td>\n",
       "    </tr>\n",
       "    <tr>\n",
       "      <th>08</th>\n",
       "      <td>3861</td>\n",
       "    </tr>\n",
       "    <tr>\n",
       "      <th>03</th>\n",
       "      <td>3851</td>\n",
       "    </tr>\n",
       "    <tr>\n",
       "      <th>04</th>\n",
       "      <td>3840</td>\n",
       "    </tr>\n",
       "    <tr>\n",
       "      <th>06</th>\n",
       "      <td>3819</td>\n",
       "    </tr>\n",
       "    <tr>\n",
       "      <th>01</th>\n",
       "      <td>3814</td>\n",
       "    </tr>\n",
       "  </tbody>\n",
       "</table>\n",
       "</div>"
      ],
      "text/plain": [
       "       NUMBER OF TRANSACTIONS\n",
       "MONTH                        \n",
       "02                       3959\n",
       "05                       3946\n",
       "10                       3946\n",
       "12                       3936\n",
       "07                       3935\n",
       "11                       3901\n",
       "09                       3886\n",
       "08                       3861\n",
       "03                       3851\n",
       "04                       3840\n",
       "06                       3819\n",
       "01                       3814"
      ]
     },
     "execution_count": 334,
     "metadata": {},
     "output_type": "execute_result"
    }
   ],
   "source": [
    "grouped = sql_credit_month.groupby(by=\"MONTH\").count()\n",
    "grouped_df = grouped[['BRANCH_CODE']]\n",
    "grouped_df.columns = ['Number of Transactions'.upper()]\n",
    "grouped_df = grouped_df.sort_values(by='Number of Transactions'.upper(), ascending=False) \n",
    "grouped_df"
   ]
  },
  {
   "attachments": {},
   "cell_type": "markdown",
   "metadata": {},
   "source": [
    "### Which Branch Processed Highest Total Healthcare Transactions"
   ]
  },
  {
   "cell_type": "code",
   "execution_count": 5,
   "metadata": {},
   "outputs": [],
   "source": [
    "sql_branch_df_join = sql_branch_df.withColumnRenamed('BRANCH_CODE', 'BRANCH_CODE_')  # overcome duplicate columns"
   ]
  },
  {
   "cell_type": "code",
   "execution_count": 6,
   "metadata": {},
   "outputs": [],
   "source": [
    "branch_transactions_df = sql_branch_df_join.join(sql_credit_df, sql_branch_df_join['BRANCH_CODE_'] == sql_credit_df['BRANCH_CODE'])\n"
   ]
  },
  {
   "cell_type": "code",
   "execution_count": 7,
   "metadata": {},
   "outputs": [
    {
     "name": "stdout",
     "output_type": "stream",
     "text": [
      "root\n",
      " |-- BRANCH_CITY: string (nullable = true)\n",
      " |-- BRANCH_CODE_: long (nullable = true)\n",
      " |-- BRANCH_NAME: string (nullable = true)\n",
      " |-- BRANCH_PHONE: string (nullable = true)\n",
      " |-- BRANCH_STATE: string (nullable = true)\n",
      " |-- BRANCH_STREET: string (nullable = true)\n",
      " |-- BRANCH_ZIP: long (nullable = true)\n",
      " |-- LAST_UPDATED: string (nullable = true)\n",
      " |-- BRANCH_CODE: long (nullable = true)\n",
      " |-- CREDIT_CARD_NO: string (nullable = true)\n",
      " |-- CUST_SSN: long (nullable = true)\n",
      " |-- TRANSACTION_ID: long (nullable = true)\n",
      " |-- TRANSACTION_TYPE: string (nullable = true)\n",
      " |-- TRANSACTION_VALUE: double (nullable = true)\n",
      " |-- TIMEID: date (nullable = true)\n",
      "\n"
     ]
    }
   ],
   "source": [
    "branch_transactions_df.printSchema()"
   ]
  },
  {
   "cell_type": "code",
   "execution_count": 8,
   "metadata": {},
   "outputs": [],
   "source": [
    "branch_transactions_df = branch_transactions_df.drop('BRANCH_CODE_')\n"
   ]
  },
  {
   "cell_type": "code",
   "execution_count": 9,
   "metadata": {},
   "outputs": [
    {
     "name": "stdout",
     "output_type": "stream",
     "text": [
      "root\n",
      " |-- BRANCH_CITY: string (nullable = true)\n",
      " |-- BRANCH_NAME: string (nullable = true)\n",
      " |-- BRANCH_PHONE: string (nullable = true)\n",
      " |-- BRANCH_STATE: string (nullable = true)\n",
      " |-- BRANCH_STREET: string (nullable = true)\n",
      " |-- BRANCH_ZIP: long (nullable = true)\n",
      " |-- LAST_UPDATED: string (nullable = true)\n",
      " |-- BRANCH_CODE: long (nullable = true)\n",
      " |-- CREDIT_CARD_NO: string (nullable = true)\n",
      " |-- CUST_SSN: long (nullable = true)\n",
      " |-- TRANSACTION_ID: long (nullable = true)\n",
      " |-- TRANSACTION_TYPE: string (nullable = true)\n",
      " |-- TRANSACTION_VALUE: double (nullable = true)\n",
      " |-- TIMEID: date (nullable = true)\n",
      "\n"
     ]
    }
   ],
   "source": [
    "branch_transactions_df.printSchema()"
   ]
  },
  {
   "cell_type": "code",
   "execution_count": 10,
   "metadata": {},
   "outputs": [],
   "source": [
    "branch_transactions_pd_df = branch_transactions_df.toPandas()  # again, have to go to pandas b/c insaine crashing w/ pyspark, need to bugfix later"
   ]
  },
  {
   "cell_type": "code",
   "execution_count": 33,
   "metadata": {},
   "outputs": [
    {
     "data": {
      "text/html": [
       "<div>\n",
       "<style scoped>\n",
       "    .dataframe tbody tr th:only-of-type {\n",
       "        vertical-align: middle;\n",
       "    }\n",
       "\n",
       "    .dataframe tbody tr th {\n",
       "        vertical-align: top;\n",
       "    }\n",
       "\n",
       "    .dataframe thead th {\n",
       "        text-align: right;\n",
       "    }\n",
       "</style>\n",
       "<table border=\"1\" class=\"dataframe\">\n",
       "  <thead>\n",
       "    <tr style=\"text-align: right;\">\n",
       "      <th></th>\n",
       "      <th>BRANCH_CITY</th>\n",
       "      <th>BRANCH_NAME</th>\n",
       "      <th>BRANCH_PHONE</th>\n",
       "      <th>BRANCH_STATE</th>\n",
       "      <th>BRANCH_STREET</th>\n",
       "      <th>BRANCH_ZIP</th>\n",
       "      <th>LAST_UPDATED</th>\n",
       "      <th>BRANCH_CODE</th>\n",
       "      <th>CREDIT_CARD_NO</th>\n",
       "      <th>CUST_SSN</th>\n",
       "      <th>TRANSACTION_ID</th>\n",
       "      <th>TRANSACTION_TYPE</th>\n",
       "      <th>TRANSACTION_VALUE</th>\n",
       "      <th>TIMEID</th>\n",
       "    </tr>\n",
       "  </thead>\n",
       "  <tbody>\n",
       "    <tr>\n",
       "      <th>4</th>\n",
       "      <td>Glendora</td>\n",
       "      <td>Example Bank</td>\n",
       "      <td>1234785605</td>\n",
       "      <td>CA</td>\n",
       "      <td>School Street</td>\n",
       "      <td>91740</td>\n",
       "      <td>2018-04-18T16:51:47.000-04:00</td>\n",
       "      <td>29</td>\n",
       "      <td>4210653374816736</td>\n",
       "      <td>123457037</td>\n",
       "      <td>15924</td>\n",
       "      <td>Healthcare</td>\n",
       "      <td>30.29</td>\n",
       "      <td>2018-07-20</td>\n",
       "    </tr>\n",
       "    <tr>\n",
       "      <th>8</th>\n",
       "      <td>LakeJackson</td>\n",
       "      <td>Example Bank</td>\n",
       "      <td>1234356462</td>\n",
       "      <td>TX</td>\n",
       "      <td>Chestnut Avenue</td>\n",
       "      <td>77566</td>\n",
       "      <td>2018-04-18T16:51:47.000-04:00</td>\n",
       "      <td>26</td>\n",
       "      <td>4210653356896070</td>\n",
       "      <td>123456963</td>\n",
       "      <td>16180</td>\n",
       "      <td>Healthcare</td>\n",
       "      <td>95.07</td>\n",
       "      <td>2018-03-04</td>\n",
       "    </tr>\n",
       "    <tr>\n",
       "      <th>12</th>\n",
       "      <td>Glendora</td>\n",
       "      <td>Example Bank</td>\n",
       "      <td>1234785605</td>\n",
       "      <td>CA</td>\n",
       "      <td>School Street</td>\n",
       "      <td>91740</td>\n",
       "      <td>2018-04-18T16:51:47.000-04:00</td>\n",
       "      <td>29</td>\n",
       "      <td>4210653383785923</td>\n",
       "      <td>123456919</td>\n",
       "      <td>16330</td>\n",
       "      <td>Healthcare</td>\n",
       "      <td>59.63</td>\n",
       "      <td>2018-10-06</td>\n",
       "    </tr>\n",
       "    <tr>\n",
       "      <th>37</th>\n",
       "      <td>Glendora</td>\n",
       "      <td>Example Bank</td>\n",
       "      <td>1234785605</td>\n",
       "      <td>CA</td>\n",
       "      <td>School Street</td>\n",
       "      <td>91740</td>\n",
       "      <td>2018-04-18T16:51:47.000-04:00</td>\n",
       "      <td>29</td>\n",
       "      <td>4210653368689760</td>\n",
       "      <td>123456629</td>\n",
       "      <td>17866</td>\n",
       "      <td>Healthcare</td>\n",
       "      <td>78.65</td>\n",
       "      <td>2018-10-11</td>\n",
       "    </tr>\n",
       "    <tr>\n",
       "      <th>38</th>\n",
       "      <td>LakeJackson</td>\n",
       "      <td>Example Bank</td>\n",
       "      <td>1234356462</td>\n",
       "      <td>TX</td>\n",
       "      <td>Chestnut Avenue</td>\n",
       "      <td>77566</td>\n",
       "      <td>2018-04-18T16:51:47.000-04:00</td>\n",
       "      <td>26</td>\n",
       "      <td>4210653368689760</td>\n",
       "      <td>123456629</td>\n",
       "      <td>17882</td>\n",
       "      <td>Healthcare</td>\n",
       "      <td>35.46</td>\n",
       "      <td>2018-04-09</td>\n",
       "    </tr>\n",
       "  </tbody>\n",
       "</table>\n",
       "</div>"
      ],
      "text/plain": [
       "    BRANCH_CITY   BRANCH_NAME BRANCH_PHONE BRANCH_STATE    BRANCH_STREET  \\\n",
       "4      Glendora  Example Bank   1234785605           CA    School Street   \n",
       "8   LakeJackson  Example Bank   1234356462           TX  Chestnut Avenue   \n",
       "12     Glendora  Example Bank   1234785605           CA    School Street   \n",
       "37     Glendora  Example Bank   1234785605           CA    School Street   \n",
       "38  LakeJackson  Example Bank   1234356462           TX  Chestnut Avenue   \n",
       "\n",
       "    BRANCH_ZIP                   LAST_UPDATED  BRANCH_CODE    CREDIT_CARD_NO  \\\n",
       "4        91740  2018-04-18T16:51:47.000-04:00           29  4210653374816736   \n",
       "8        77566  2018-04-18T16:51:47.000-04:00           26  4210653356896070   \n",
       "12       91740  2018-04-18T16:51:47.000-04:00           29  4210653383785923   \n",
       "37       91740  2018-04-18T16:51:47.000-04:00           29  4210653368689760   \n",
       "38       77566  2018-04-18T16:51:47.000-04:00           26  4210653368689760   \n",
       "\n",
       "     CUST_SSN  TRANSACTION_ID TRANSACTION_TYPE  TRANSACTION_VALUE      TIMEID  \n",
       "4   123457037           15924       Healthcare              30.29  2018-07-20  \n",
       "8   123456963           16180       Healthcare              95.07  2018-03-04  \n",
       "12  123456919           16330       Healthcare              59.63  2018-10-06  \n",
       "37  123456629           17866       Healthcare              78.65  2018-10-11  \n",
       "38  123456629           17882       Healthcare              35.46  2018-04-09  "
      ]
     },
     "execution_count": 33,
     "metadata": {},
     "output_type": "execute_result"
    }
   ],
   "source": [
    "heathcare_pd_df = branch_transactions_pd_df[branch_transactions_pd_df['TRANSACTION_TYPE'] == 'Healthcare']\n",
    "heathcare_pd_df.head(5)"
   ]
  },
  {
   "cell_type": "code",
   "execution_count": 43,
   "metadata": {},
   "outputs": [],
   "source": [
    "healthcare_sum = heathcare_pd_df[['TRANSACTION_VALUE', 'BRANCH_CODE']].groupby('BRANCH_CODE').sum().sort_values('TRANSACTION_VALUE', ascending=False)\n",
    "healthcare_sum = healthcare_sum.reset_index()"
   ]
  },
  {
   "cell_type": "code",
   "execution_count": 44,
   "metadata": {},
   "outputs": [
    {
     "data": {
      "text/html": [
       "<div>\n",
       "<style scoped>\n",
       "    .dataframe tbody tr th:only-of-type {\n",
       "        vertical-align: middle;\n",
       "    }\n",
       "\n",
       "    .dataframe tbody tr th {\n",
       "        vertical-align: top;\n",
       "    }\n",
       "\n",
       "    .dataframe thead th {\n",
       "        text-align: right;\n",
       "    }\n",
       "</style>\n",
       "<table border=\"1\" class=\"dataframe\">\n",
       "  <thead>\n",
       "    <tr style=\"text-align: right;\">\n",
       "      <th></th>\n",
       "      <th>BRANCH_CODE</th>\n",
       "      <th>TRANSACTION_VALUE</th>\n",
       "    </tr>\n",
       "  </thead>\n",
       "  <tbody>\n",
       "    <tr>\n",
       "      <th>0</th>\n",
       "      <td>25</td>\n",
       "      <td>4370.18</td>\n",
       "    </tr>\n",
       "    <tr>\n",
       "      <th>1</th>\n",
       "      <td>60</td>\n",
       "      <td>4072.04</td>\n",
       "    </tr>\n",
       "    <tr>\n",
       "      <th>2</th>\n",
       "      <td>83</td>\n",
       "      <td>4003.37</td>\n",
       "    </tr>\n",
       "    <tr>\n",
       "      <th>3</th>\n",
       "      <td>36</td>\n",
       "      <td>3823.87</td>\n",
       "    </tr>\n",
       "    <tr>\n",
       "      <th>4</th>\n",
       "      <td>111</td>\n",
       "      <td>3720.27</td>\n",
       "    </tr>\n",
       "    <tr>\n",
       "      <th>...</th>\n",
       "      <td>...</td>\n",
       "      <td>...</td>\n",
       "    </tr>\n",
       "    <tr>\n",
       "      <th>109</th>\n",
       "      <td>160</td>\n",
       "      <td>1983.04</td>\n",
       "    </tr>\n",
       "    <tr>\n",
       "      <th>110</th>\n",
       "      <td>74</td>\n",
       "      <td>1965.88</td>\n",
       "    </tr>\n",
       "    <tr>\n",
       "      <th>111</th>\n",
       "      <td>192</td>\n",
       "      <td>1960.35</td>\n",
       "    </tr>\n",
       "    <tr>\n",
       "      <th>112</th>\n",
       "      <td>15</td>\n",
       "      <td>1873.71</td>\n",
       "    </tr>\n",
       "    <tr>\n",
       "      <th>113</th>\n",
       "      <td>49</td>\n",
       "      <td>1677.07</td>\n",
       "    </tr>\n",
       "  </tbody>\n",
       "</table>\n",
       "<p>114 rows × 2 columns</p>\n",
       "</div>"
      ],
      "text/plain": [
       "     BRANCH_CODE  TRANSACTION_VALUE\n",
       "0             25            4370.18\n",
       "1             60            4072.04\n",
       "2             83            4003.37\n",
       "3             36            3823.87\n",
       "4            111            3720.27\n",
       "..           ...                ...\n",
       "109          160            1983.04\n",
       "110           74            1965.88\n",
       "111          192            1960.35\n",
       "112           15            1873.71\n",
       "113           49            1677.07\n",
       "\n",
       "[114 rows x 2 columns]"
      ]
     },
     "execution_count": 44,
     "metadata": {},
     "output_type": "execute_result"
    }
   ],
   "source": [
    "healthcare_sum  # TBH this is making me appreciate SQL more and more "
   ]
  }
 ],
 "metadata": {
  "kernelspec": {
   "display_name": "ETL-capstone-env",
   "language": "python",
   "name": "python3"
  },
  "language_info": {
   "codemirror_mode": {
    "name": "ipython",
    "version": 3
   },
   "file_extension": ".py",
   "mimetype": "text/x-python",
   "name": "python",
   "nbconvert_exporter": "python",
   "pygments_lexer": "ipython3",
   "version": "3.10.7"
  },
  "orig_nbformat": 4,
  "vscode": {
   "interpreter": {
    "hash": "ee7ea43159b5ae9688b9ea80145f8aa5b0cd36336747c8056b8bd8bf647002b8"
   }
  }
 },
 "nbformat": 4,
 "nbformat_minor": 2
}
