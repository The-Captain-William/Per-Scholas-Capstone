{
 "cells": [
  {
   "attachments": {},
   "cell_type": "markdown",
   "metadata": {},
   "source": [
    "# ETL Worfklow\n"
   ]
  },
  {
   "attachments": {},
   "cell_type": "markdown",
   "metadata": {},
   "source": [
    "---"
   ]
  },
  {
   "attachments": {},
   "cell_type": "markdown",
   "metadata": {},
   "source": [
    "## Setup\n"
   ]
  },
  {
   "attachments": {},
   "cell_type": "markdown",
   "metadata": {},
   "source": [
    "Importing my libraries of choice"
   ]
  },
  {
   "cell_type": "code",
   "execution_count": 6,
   "metadata": {},
   "outputs": [],
   "source": [
    "import os\n",
    "import pyspark.sql\n",
    "import requests"
   ]
  },
  {
   "attachments": {},
   "cell_type": "markdown",
   "metadata": {},
   "source": [
    "Getting our SQL Server credientials ahead of time"
   ]
  },
  {
   "cell_type": "code",
   "execution_count": 3,
   "metadata": {},
   "outputs": [],
   "source": [
    "db_user = os.environ.get('DB_USER')\n",
    "db_password = os.environ.get('DB_PASSWORD')"
   ]
  },
  {
   "attachments": {},
   "cell_type": "markdown",
   "metadata": {},
   "source": [
    "Creating a spark session "
   ]
  },
  {
   "cell_type": "code",
   "execution_count": 4,
   "metadata": {},
   "outputs": [],
   "source": [
    "spark_sesh = pyspark.sql.SparkSession.builder.appName('Credit Card ETL').getOrCreate()"
   ]
  },
  {
   "cell_type": "code",
   "execution_count": 5,
   "metadata": {},
   "outputs": [
    {
     "data": {
      "text/html": [
       "\n",
       "            <div>\n",
       "                <p><b>SparkSession - in-memory</b></p>\n",
       "                \n",
       "        <div>\n",
       "            <p><b>SparkContext</b></p>\n",
       "\n",
       "            <p><a href=\"http://DESKTOP-AQ9UQ3O:4040\">Spark UI</a></p>\n",
       "\n",
       "            <dl>\n",
       "              <dt>Version</dt>\n",
       "                <dd><code>v3.3.1</code></dd>\n",
       "              <dt>Master</dt>\n",
       "                <dd><code>local[*]</code></dd>\n",
       "              <dt>AppName</dt>\n",
       "                <dd><code>Credit Card ETL</code></dd>\n",
       "            </dl>\n",
       "        </div>\n",
       "        \n",
       "            </div>\n",
       "        "
      ],
      "text/plain": [
       "<pyspark.sql.session.SparkSession at 0x1a6b63e0340>"
      ]
     },
     "execution_count": 5,
     "metadata": {},
     "output_type": "execute_result"
    }
   ],
   "source": [
    "spark_sesh"
   ]
  },
  {
   "attachments": {},
   "cell_type": "markdown",
   "metadata": {},
   "source": [
    "---"
   ]
  },
  {
   "attachments": {},
   "cell_type": "markdown",
   "metadata": {},
   "source": [
    "## Extract "
   ]
  },
  {
   "attachments": {},
   "cell_type": "markdown",
   "metadata": {},
   "source": [
    "I'm going to extract data from two datasets pertaining to the same bank, which are:\n",
    "\n",
    "\n",
    "- The Credit Card Dataset\n",
    "    - cdw_sapp_customer.JSON\n",
    "    - cdw_sapp_branch.JSON \n",
    "    - cdw_sapp_credit.JSON\n",
    "\n",
    "<br>\n",
    "\n",
    "- The Bank Loan Application Dataset\n",
    "    - Loan Application API Endpoint"
   ]
  },
  {
   "attachments": {},
   "cell_type": "markdown",
   "metadata": {},
   "source": [
    "📝 Notes: <br>\n",
    "- The customer.JSON file and branch.JSON file contains information about the bank customer and bank branch, respectively. \n",
    "- The credit.JSON file contains information about credit card transactions\n",
    "- The Loan Application is with respect to loans for purchasing homes, and includes information like whether or not the individuals were approved, gender, maritual status, and income."
   ]
  },
  {
   "attachments": {},
   "cell_type": "markdown",
   "metadata": {},
   "source": [
    "Extracting the JSON Files with sparksession.read.load()\n"
   ]
  },
  {
   "cell_type": "code",
   "execution_count": 102,
   "metadata": {},
   "outputs": [],
   "source": [
    "# JSON Files\n",
    "branch_df = spark_sesh.read.load('../../data/credit_card_dataset/cdw_sapp_branch.json', format='json')  # 👀 don't forget the to specify the format\n",
    "credit_df = spark_sesh.read.load('../../data/credit_card_dataset/cdw_sapp_credit.json', format='json')\n",
    "customer_df = spark_sesh.read.load('../../data/credit_card_dataset/cdw_sapp_custmer.json', format='json')"
   ]
  },
  {
   "attachments": {},
   "cell_type": "markdown",
   "metadata": {},
   "source": [
    "Defining an API endpoint\n"
   ]
  },
  {
   "cell_type": "code",
   "execution_count": 15,
   "metadata": {},
   "outputs": [],
   "source": [
    "LOAN_API_ENDPOINT = \"https://raw.githubusercontent.com/platformps/LoanDataset/main/loan_data.json\"\n"
   ]
  },
  {
   "attachments": {},
   "cell_type": "markdown",
   "metadata": {},
   "source": [
    "Creating a function to create a dataframe from an API Endpoint: <br>\n",
    " \n",
    "The function takes an API Endpoint URL and the current live spark session, <br>\n",
    "checks to see if the HTTP request is OK and returns a pyspark.sql DataFrame."
   ]
  },
  {
   "cell_type": "code",
   "execution_count": 23,
   "metadata": {},
   "outputs": [],
   "source": [
    "# API \n",
    "\n",
    "def api_check(api_endpoint: str, spark_session: pyspark.sql.SparkSession) -> pyspark.sql.DataFrame:  # param :type -> output-type\n",
    "    api = requests.get(LOAN_API_ENDPOINT)\n",
    "    print(f\"HTTP Status Code: {api.status_code}\")\n",
    "    if api.status_code == 200:\n",
    "        api_df = spark_session.createDataFrame(api.json())\n",
    "        return api_df\n",
    "\n"
   ]
  },
  {
   "cell_type": "code",
   "execution_count": 24,
   "metadata": {},
   "outputs": [
    {
     "name": "stdout",
     "output_type": "stream",
     "text": [
      "HTTP Status Code: 200\n"
     ]
    }
   ],
   "source": [
    "loan_df = api_check(LOAN_API_ENDPOINT, spark_sesh)"
   ]
  },
  {
   "attachments": {},
   "cell_type": "markdown",
   "metadata": {},
   "source": [
    "Let's check our DataFrames and make sure they are intact and ready for transformation"
   ]
  },
  {
   "cell_type": "code",
   "execution_count": 25,
   "metadata": {},
   "outputs": [],
   "source": [
    "dataframe_dict = {}\n",
    "\n",
    "dataframe_dict['branch'] = branch_df  # assign val to dict\n",
    "dataframe_dict['credit'] = credit_df\n",
    "dataframe_dict['customer'] = customer_df\n",
    "dataframe_dict['loan'] = loan_df"
   ]
  },
  {
   "cell_type": "code",
   "execution_count": 34,
   "metadata": {},
   "outputs": [
    {
     "name": "stdout",
     "output_type": "stream",
     "text": [
      "branch\n",
      "root\n",
      " |-- BRANCH_CITY: string (nullable = true)\n",
      " |-- BRANCH_CODE: long (nullable = true)\n",
      " |-- BRANCH_NAME: string (nullable = true)\n",
      " |-- BRANCH_PHONE: string (nullable = true)\n",
      " |-- BRANCH_STATE: string (nullable = true)\n",
      " |-- BRANCH_STREET: string (nullable = true)\n",
      " |-- BRANCH_ZIP: long (nullable = true)\n",
      " |-- LAST_UPDATED: string (nullable = true)\n",
      "\n",
      "credit\n",
      "root\n",
      " |-- BRANCH_CODE: long (nullable = true)\n",
      " |-- CREDIT_CARD_NO: string (nullable = true)\n",
      " |-- CUST_SSN: long (nullable = true)\n",
      " |-- DAY: long (nullable = true)\n",
      " |-- MONTH: long (nullable = true)\n",
      " |-- TRANSACTION_ID: long (nullable = true)\n",
      " |-- TRANSACTION_TYPE: string (nullable = true)\n",
      " |-- TRANSACTION_VALUE: double (nullable = true)\n",
      " |-- YEAR: long (nullable = true)\n",
      "\n",
      "customer\n",
      "root\n",
      " |-- APT_NO: string (nullable = true)\n",
      " |-- CREDIT_CARD_NO: string (nullable = true)\n",
      " |-- CUST_CITY: string (nullable = true)\n",
      " |-- CUST_COUNTRY: string (nullable = true)\n",
      " |-- CUST_EMAIL: string (nullable = true)\n",
      " |-- CUST_PHONE: long (nullable = true)\n",
      " |-- CUST_STATE: string (nullable = true)\n",
      " |-- CUST_ZIP: string (nullable = true)\n",
      " |-- FIRST_NAME: string (nullable = true)\n",
      " |-- LAST_NAME: string (nullable = true)\n",
      " |-- LAST_UPDATED: string (nullable = true)\n",
      " |-- MIDDLE_NAME: string (nullable = true)\n",
      " |-- SSN: long (nullable = true)\n",
      " |-- STREET_NAME: string (nullable = true)\n",
      "\n",
      "loan\n",
      "root\n",
      " |-- Application_ID: string (nullable = true)\n",
      " |-- Application_Status: string (nullable = true)\n",
      " |-- Credit_History: long (nullable = true)\n",
      " |-- Dependents: string (nullable = true)\n",
      " |-- Education: string (nullable = true)\n",
      " |-- Gender: string (nullable = true)\n",
      " |-- Income: string (nullable = true)\n",
      " |-- Married: string (nullable = true)\n",
      " |-- Property_Area: string (nullable = true)\n",
      " |-- Self_Employed: string (nullable = true)\n",
      "\n"
     ]
    }
   ],
   "source": [
    "for name, dataframe in dataframe_dict.items():  # k:v in (k, v)\n",
    "    print(name)\n",
    "    dataframe.printSchema()"
   ]
  },
  {
   "attachments": {},
   "cell_type": "markdown",
   "metadata": {},
   "source": [
    "----"
   ]
  },
  {
   "attachments": {},
   "cell_type": "markdown",
   "metadata": {},
   "source": [
    "## Transform"
   ]
  },
  {
   "attachments": {},
   "cell_type": "markdown",
   "metadata": {},
   "source": [
    "We are given a mapping document, which tells us what kind of transformations we should make on the data before loading it onto the server. <br>\n",
    "Let's take a look:"
   ]
  },
  {
   "attachments": {},
   "cell_type": "markdown",
   "metadata": {},
   "source": [
    "<div align='center'>\n",
    "<h3>Customer Table</h3>\n",
    "<img src='../../images/customer_mapping_doc.png' width=1200px>\n",
    "<h3>Branch Table</h3>\n",
    "<img src='../../images/branch_mapping_doc.png' width=1200px>\n",
    "<h3>Credit-Card Table</h3>\n",
    "<img src='../../images/creditcard_mapping_doc.png' width=1200px>\n",
    "<div>"
   ]
  },
  {
   "attachments": {},
   "cell_type": "markdown",
   "metadata": {},
   "source": [
    "📝 Note: <br>\n",
    "We are not given any specifics for the loan information dataframe, so I'm not going to touch that dataframe or modify any data types. <br>\n",
    "\n",
    "Furthermore, if you're following along, now would be a good time to split up your <br> views into several windows if you're using VS code or another similar IDE to <br> enhance your workflow, like this: <br>\n",
    "<img src='../../images/workflow_example.png' width=\"1200px\">"
   ]
  },
  {
   "attachments": {},
   "cell_type": "markdown",
   "metadata": {},
   "source": [
    "Let's Start with Customer Table: <br>\n",
    "\n",
    "📝Note: <br>\n",
    "Just to make sure I'm following along and not making mistakes, <br>\n",
    "Im using a small pandas dataframe to store the mapping document, so I can see what changes need to be made iterate through them, using pandas as a checklist of sorts.\n",
    "\n",
    "This is completely optional, and not required at all, but I prefer it."
   ]
  },
  {
   "cell_type": "code",
   "execution_count": 99,
   "metadata": {},
   "outputs": [],
   "source": [
    "import pandas as pd\n",
    "pd.set_option('display.max_colwidth', None) # ensuring pandas wont truncate col\n"
   ]
  },
  {
   "cell_type": "code",
   "execution_count": 100,
   "metadata": {},
   "outputs": [
    {
     "data": {
      "text/html": [
       "<div>\n",
       "<style scoped>\n",
       "    .dataframe tbody tr th:only-of-type {\n",
       "        vertical-align: middle;\n",
       "    }\n",
       "\n",
       "    .dataframe tbody tr th {\n",
       "        vertical-align: top;\n",
       "    }\n",
       "\n",
       "    .dataframe thead th {\n",
       "        text-align: right;\n",
       "    }\n",
       "</style>\n",
       "<table border=\"1\" class=\"dataframe\">\n",
       "  <thead>\n",
       "    <tr style=\"text-align: right;\">\n",
       "      <th></th>\n",
       "      <th>Source Column Names</th>\n",
       "      <th>Mapping Logic</th>\n",
       "      <th>Target Field names</th>\n",
       "      <th>Target DataType</th>\n",
       "    </tr>\n",
       "  </thead>\n",
       "  <tbody>\n",
       "    <tr>\n",
       "      <th>0</th>\n",
       "      <td>SSN</td>\n",
       "      <td>Direct Move</td>\n",
       "      <td>SSN</td>\n",
       "      <td>INT</td>\n",
       "    </tr>\n",
       "    <tr>\n",
       "      <th>1</th>\n",
       "      <td>FIRST_NAME</td>\n",
       "      <td>Convert the Name to Title Case</td>\n",
       "      <td>FIRST_NAME</td>\n",
       "      <td>VARCHAR</td>\n",
       "    </tr>\n",
       "    <tr>\n",
       "      <th>2</th>\n",
       "      <td>MIDDLE_NAME</td>\n",
       "      <td>Convert the middle name in lower case</td>\n",
       "      <td>MIDDLE_NAME</td>\n",
       "      <td>VARCHAR</td>\n",
       "    </tr>\n",
       "    <tr>\n",
       "      <th>3</th>\n",
       "      <td>LAST_NAME</td>\n",
       "      <td>Convert the Last Name in Title Case</td>\n",
       "      <td>LAST_NAME</td>\n",
       "      <td>VARCHAR</td>\n",
       "    </tr>\n",
       "    <tr>\n",
       "      <th>4</th>\n",
       "      <td>CREDIT_CARD_NO</td>\n",
       "      <td>Direct_move</td>\n",
       "      <td>Credit_card_no</td>\n",
       "      <td>VARCHAR</td>\n",
       "    </tr>\n",
       "    <tr>\n",
       "      <th>5</th>\n",
       "      <td>STREET_NAME,APT_NO</td>\n",
       "      <td>Concatenate Apartment no and Street name of customer's Residence with comma as a seperator (Street, Apartment)</td>\n",
       "      <td>FULL_STREET_ADDRESS</td>\n",
       "      <td>VARCHAR</td>\n",
       "    </tr>\n",
       "    <tr>\n",
       "      <th>6</th>\n",
       "      <td>CUST_CITY</td>\n",
       "      <td>Direct Move</td>\n",
       "      <td>CUST_CITY</td>\n",
       "      <td>VARCHAR</td>\n",
       "    </tr>\n",
       "    <tr>\n",
       "      <th>7</th>\n",
       "      <td>CUST_STATE</td>\n",
       "      <td>Direct Move</td>\n",
       "      <td>CUST_STATE</td>\n",
       "      <td>VARCHAR</td>\n",
       "    </tr>\n",
       "    <tr>\n",
       "      <th>8</th>\n",
       "      <td>CUST_COUNTRY</td>\n",
       "      <td>Direct move</td>\n",
       "      <td>CUST_COUNTRY</td>\n",
       "      <td>VARCHAR</td>\n",
       "    </tr>\n",
       "    <tr>\n",
       "      <th>9</th>\n",
       "      <td>CUST_ZIP</td>\n",
       "      <td>Direct move</td>\n",
       "      <td>CUST_ZIP</td>\n",
       "      <td>INT</td>\n",
       "    </tr>\n",
       "    <tr>\n",
       "      <th>10</th>\n",
       "      <td>CUST_PHONE</td>\n",
       "      <td>Change the format of phone number to (XXX)XXX-XXXX</td>\n",
       "      <td>CUST_PHONE</td>\n",
       "      <td>VARCHAR</td>\n",
       "    </tr>\n",
       "    <tr>\n",
       "      <th>11</th>\n",
       "      <td>CUST_EMAIL</td>\n",
       "      <td>Direct move</td>\n",
       "      <td>CUST_EMAIL</td>\n",
       "      <td>VARCHAR</td>\n",
       "    </tr>\n",
       "    <tr>\n",
       "      <th>12</th>\n",
       "      <td>LAST_UPDATED</td>\n",
       "      <td>Direct move</td>\n",
       "      <td>LAST_UPDATED</td>\n",
       "      <td>TIMESTAMP</td>\n",
       "    </tr>\n",
       "  </tbody>\n",
       "</table>\n",
       "</div>"
      ],
      "text/plain": [
       "   Source Column Names                                                                                                   Mapping Logic   Target Field names Target DataType\n",
       "0                  SSN                                                                                                     Direct Move                  SSN             INT\n",
       "1           FIRST_NAME                                                                                  Convert the Name to Title Case           FIRST_NAME         VARCHAR\n",
       "2          MIDDLE_NAME                                                                           Convert the middle name in lower case          MIDDLE_NAME         VARCHAR\n",
       "3            LAST_NAME                                                                             Convert the Last Name in Title Case            LAST_NAME         VARCHAR\n",
       "4       CREDIT_CARD_NO                                                                                                     Direct_move       Credit_card_no         VARCHAR\n",
       "5   STREET_NAME,APT_NO  Concatenate Apartment no and Street name of customer's Residence with comma as a seperator (Street, Apartment)  FULL_STREET_ADDRESS         VARCHAR\n",
       "6            CUST_CITY                                                                                                     Direct Move            CUST_CITY         VARCHAR\n",
       "7           CUST_STATE                                                                                                     Direct Move           CUST_STATE         VARCHAR\n",
       "8         CUST_COUNTRY                                                                                                     Direct move         CUST_COUNTRY         VARCHAR\n",
       "9             CUST_ZIP                                                                                                     Direct move             CUST_ZIP             INT\n",
       "10          CUST_PHONE                                                              Change the format of phone number to (XXX)XXX-XXXX           CUST_PHONE         VARCHAR\n",
       "11          CUST_EMAIL                                                                                                     Direct move           CUST_EMAIL         VARCHAR\n",
       "12        LAST_UPDATED                                                                                                     Direct move         LAST_UPDATED       TIMESTAMP"
      ]
     },
     "execution_count": 100,
     "metadata": {},
     "output_type": "execute_result"
    }
   ],
   "source": [
    "customer_map = pd.read_clipboard()\n",
    "customer_map\n"
   ]
  },
  {
   "cell_type": "code",
   "execution_count": 123,
   "metadata": {},
   "outputs": [
    {
     "data": {
      "text/html": [
       "<div>\n",
       "<style scoped>\n",
       "    .dataframe tbody tr th:only-of-type {\n",
       "        vertical-align: middle;\n",
       "    }\n",
       "\n",
       "    .dataframe tbody tr th {\n",
       "        vertical-align: top;\n",
       "    }\n",
       "\n",
       "    .dataframe thead th {\n",
       "        text-align: right;\n",
       "    }\n",
       "</style>\n",
       "<table border=\"1\" class=\"dataframe\">\n",
       "  <thead>\n",
       "    <tr style=\"text-align: right;\">\n",
       "      <th></th>\n",
       "      <th>Source Column Names</th>\n",
       "      <th>Mapping Logic</th>\n",
       "      <th>Target Field names</th>\n",
       "      <th>Target DataType</th>\n",
       "    </tr>\n",
       "  </thead>\n",
       "  <tbody>\n",
       "    <tr>\n",
       "      <th>0</th>\n",
       "      <td>SSN</td>\n",
       "      <td>direct move</td>\n",
       "      <td>SSN</td>\n",
       "      <td>INT</td>\n",
       "    </tr>\n",
       "    <tr>\n",
       "      <th>1</th>\n",
       "      <td>FIRST_NAME</td>\n",
       "      <td>convert the name to title case</td>\n",
       "      <td>FIRST_NAME</td>\n",
       "      <td>VARCHAR</td>\n",
       "    </tr>\n",
       "    <tr>\n",
       "      <th>2</th>\n",
       "      <td>MIDDLE_NAME</td>\n",
       "      <td>convert the middle name in lower case</td>\n",
       "      <td>MIDDLE_NAME</td>\n",
       "      <td>VARCHAR</td>\n",
       "    </tr>\n",
       "    <tr>\n",
       "      <th>3</th>\n",
       "      <td>LAST_NAME</td>\n",
       "      <td>convert the last name in title case</td>\n",
       "      <td>LAST_NAME</td>\n",
       "      <td>VARCHAR</td>\n",
       "    </tr>\n",
       "    <tr>\n",
       "      <th>4</th>\n",
       "      <td>CREDIT_CARD_NO</td>\n",
       "      <td>direct_move</td>\n",
       "      <td>Credit_card_no</td>\n",
       "      <td>VARCHAR</td>\n",
       "    </tr>\n",
       "    <tr>\n",
       "      <th>5</th>\n",
       "      <td>STREET_NAME,APT_NO</td>\n",
       "      <td>concatenate apartment no and street name of customer's residence with comma as a seperator (street, apartment)</td>\n",
       "      <td>FULL_STREET_ADDRESS</td>\n",
       "      <td>VARCHAR</td>\n",
       "    </tr>\n",
       "    <tr>\n",
       "      <th>6</th>\n",
       "      <td>CUST_CITY</td>\n",
       "      <td>direct move</td>\n",
       "      <td>CUST_CITY</td>\n",
       "      <td>VARCHAR</td>\n",
       "    </tr>\n",
       "    <tr>\n",
       "      <th>7</th>\n",
       "      <td>CUST_STATE</td>\n",
       "      <td>direct move</td>\n",
       "      <td>CUST_STATE</td>\n",
       "      <td>VARCHAR</td>\n",
       "    </tr>\n",
       "    <tr>\n",
       "      <th>8</th>\n",
       "      <td>CUST_COUNTRY</td>\n",
       "      <td>direct move</td>\n",
       "      <td>CUST_COUNTRY</td>\n",
       "      <td>VARCHAR</td>\n",
       "    </tr>\n",
       "    <tr>\n",
       "      <th>9</th>\n",
       "      <td>CUST_ZIP</td>\n",
       "      <td>direct move</td>\n",
       "      <td>CUST_ZIP</td>\n",
       "      <td>INT</td>\n",
       "    </tr>\n",
       "    <tr>\n",
       "      <th>10</th>\n",
       "      <td>CUST_PHONE</td>\n",
       "      <td>change the format of phone number to (xxx)xxx-xxxx</td>\n",
       "      <td>CUST_PHONE</td>\n",
       "      <td>VARCHAR</td>\n",
       "    </tr>\n",
       "    <tr>\n",
       "      <th>11</th>\n",
       "      <td>CUST_EMAIL</td>\n",
       "      <td>direct move</td>\n",
       "      <td>CUST_EMAIL</td>\n",
       "      <td>VARCHAR</td>\n",
       "    </tr>\n",
       "    <tr>\n",
       "      <th>12</th>\n",
       "      <td>LAST_UPDATED</td>\n",
       "      <td>direct move</td>\n",
       "      <td>LAST_UPDATED</td>\n",
       "      <td>TIMESTAMP</td>\n",
       "    </tr>\n",
       "  </tbody>\n",
       "</table>\n",
       "</div>"
      ],
      "text/plain": [
       "   Source Column Names                                                                                                   Mapping Logic   Target Field names Target DataType\n",
       "0                  SSN                                                                                                     direct move                  SSN             INT\n",
       "1           FIRST_NAME                                                                                  convert the name to title case           FIRST_NAME         VARCHAR\n",
       "2          MIDDLE_NAME                                                                           convert the middle name in lower case          MIDDLE_NAME         VARCHAR\n",
       "3            LAST_NAME                                                                             convert the last name in title case            LAST_NAME         VARCHAR\n",
       "4       CREDIT_CARD_NO                                                                                                     direct_move       Credit_card_no         VARCHAR\n",
       "5   STREET_NAME,APT_NO  concatenate apartment no and street name of customer's residence with comma as a seperator (street, apartment)  FULL_STREET_ADDRESS         VARCHAR\n",
       "6            CUST_CITY                                                                                                     direct move            CUST_CITY         VARCHAR\n",
       "7           CUST_STATE                                                                                                     direct move           CUST_STATE         VARCHAR\n",
       "8         CUST_COUNTRY                                                                                                     direct move         CUST_COUNTRY         VARCHAR\n",
       "9             CUST_ZIP                                                                                                     direct move             CUST_ZIP             INT\n",
       "10          CUST_PHONE                                                              change the format of phone number to (xxx)xxx-xxxx           CUST_PHONE         VARCHAR\n",
       "11          CUST_EMAIL                                                                                                     direct move           CUST_EMAIL         VARCHAR\n",
       "12        LAST_UPDATED                                                                                                     direct move         LAST_UPDATED       TIMESTAMP"
      ]
     },
     "execution_count": 123,
     "metadata": {},
     "output_type": "execute_result"
    }
   ],
   "source": [
    "customer_map['Mapping Logic'] = customer_map['Mapping Logic'].apply(lambda x: str(x).lower())\n",
    "customer_map"
   ]
  },
  {
   "cell_type": "code",
   "execution_count": 126,
   "metadata": {},
   "outputs": [
    {
     "data": {
      "text/html": [
       "<div>\n",
       "<style scoped>\n",
       "    .dataframe tbody tr th:only-of-type {\n",
       "        vertical-align: middle;\n",
       "    }\n",
       "\n",
       "    .dataframe tbody tr th {\n",
       "        vertical-align: top;\n",
       "    }\n",
       "\n",
       "    .dataframe thead th {\n",
       "        text-align: right;\n",
       "    }\n",
       "</style>\n",
       "<table border=\"1\" class=\"dataframe\">\n",
       "  <thead>\n",
       "    <tr style=\"text-align: right;\">\n",
       "      <th></th>\n",
       "      <th>Source Column Names</th>\n",
       "      <th>Mapping Logic</th>\n",
       "      <th>Target Field names</th>\n",
       "      <th>Target DataType</th>\n",
       "    </tr>\n",
       "  </thead>\n",
       "  <tbody>\n",
       "    <tr>\n",
       "      <th>0</th>\n",
       "      <td>SSN</td>\n",
       "      <td>direct move</td>\n",
       "      <td>SSN</td>\n",
       "      <td>INT</td>\n",
       "    </tr>\n",
       "    <tr>\n",
       "      <th>1</th>\n",
       "      <td>FIRST_NAME</td>\n",
       "      <td>convert the name to title case</td>\n",
       "      <td>FIRST_NAME</td>\n",
       "      <td>VARCHAR</td>\n",
       "    </tr>\n",
       "    <tr>\n",
       "      <th>2</th>\n",
       "      <td>MIDDLE_NAME</td>\n",
       "      <td>convert the middle name in lower case</td>\n",
       "      <td>MIDDLE_NAME</td>\n",
       "      <td>VARCHAR</td>\n",
       "    </tr>\n",
       "    <tr>\n",
       "      <th>3</th>\n",
       "      <td>LAST_NAME</td>\n",
       "      <td>convert the last name in title case</td>\n",
       "      <td>LAST_NAME</td>\n",
       "      <td>VARCHAR</td>\n",
       "    </tr>\n",
       "    <tr>\n",
       "      <th>4</th>\n",
       "      <td>CREDIT_CARD_NO</td>\n",
       "      <td>direct move</td>\n",
       "      <td>Credit_card_no</td>\n",
       "      <td>VARCHAR</td>\n",
       "    </tr>\n",
       "    <tr>\n",
       "      <th>5</th>\n",
       "      <td>STREET_NAME,APT_NO</td>\n",
       "      <td>concatenate apartment no and street name of customer's residence with comma as a seperator (street, apartment)</td>\n",
       "      <td>FULL_STREET_ADDRESS</td>\n",
       "      <td>VARCHAR</td>\n",
       "    </tr>\n",
       "    <tr>\n",
       "      <th>6</th>\n",
       "      <td>CUST_CITY</td>\n",
       "      <td>direct move</td>\n",
       "      <td>CUST_CITY</td>\n",
       "      <td>VARCHAR</td>\n",
       "    </tr>\n",
       "    <tr>\n",
       "      <th>7</th>\n",
       "      <td>CUST_STATE</td>\n",
       "      <td>direct move</td>\n",
       "      <td>CUST_STATE</td>\n",
       "      <td>VARCHAR</td>\n",
       "    </tr>\n",
       "    <tr>\n",
       "      <th>8</th>\n",
       "      <td>CUST_COUNTRY</td>\n",
       "      <td>direct move</td>\n",
       "      <td>CUST_COUNTRY</td>\n",
       "      <td>VARCHAR</td>\n",
       "    </tr>\n",
       "    <tr>\n",
       "      <th>9</th>\n",
       "      <td>CUST_ZIP</td>\n",
       "      <td>direct move</td>\n",
       "      <td>CUST_ZIP</td>\n",
       "      <td>INT</td>\n",
       "    </tr>\n",
       "    <tr>\n",
       "      <th>10</th>\n",
       "      <td>CUST_PHONE</td>\n",
       "      <td>change the format of phone number to (xxx)xxx-xxxx</td>\n",
       "      <td>CUST_PHONE</td>\n",
       "      <td>VARCHAR</td>\n",
       "    </tr>\n",
       "    <tr>\n",
       "      <th>11</th>\n",
       "      <td>CUST_EMAIL</td>\n",
       "      <td>direct move</td>\n",
       "      <td>CUST_EMAIL</td>\n",
       "      <td>VARCHAR</td>\n",
       "    </tr>\n",
       "    <tr>\n",
       "      <th>12</th>\n",
       "      <td>LAST_UPDATED</td>\n",
       "      <td>direct move</td>\n",
       "      <td>LAST_UPDATED</td>\n",
       "      <td>TIMESTAMP</td>\n",
       "    </tr>\n",
       "  </tbody>\n",
       "</table>\n",
       "</div>"
      ],
      "text/plain": [
       "   Source Column Names                                                                                                   Mapping Logic   Target Field names Target DataType\n",
       "0                  SSN                                                                                                     direct move                  SSN             INT\n",
       "1           FIRST_NAME                                                                                  convert the name to title case           FIRST_NAME         VARCHAR\n",
       "2          MIDDLE_NAME                                                                           convert the middle name in lower case          MIDDLE_NAME         VARCHAR\n",
       "3            LAST_NAME                                                                             convert the last name in title case            LAST_NAME         VARCHAR\n",
       "4       CREDIT_CARD_NO                                                                                                     direct move       Credit_card_no         VARCHAR\n",
       "5   STREET_NAME,APT_NO  concatenate apartment no and street name of customer's residence with comma as a seperator (street, apartment)  FULL_STREET_ADDRESS         VARCHAR\n",
       "6            CUST_CITY                                                                                                     direct move            CUST_CITY         VARCHAR\n",
       "7           CUST_STATE                                                                                                     direct move           CUST_STATE         VARCHAR\n",
       "8         CUST_COUNTRY                                                                                                     direct move         CUST_COUNTRY         VARCHAR\n",
       "9             CUST_ZIP                                                                                                     direct move             CUST_ZIP             INT\n",
       "10          CUST_PHONE                                                              change the format of phone number to (xxx)xxx-xxxx           CUST_PHONE         VARCHAR\n",
       "11          CUST_EMAIL                                                                                                     direct move           CUST_EMAIL         VARCHAR\n",
       "12        LAST_UPDATED                                                                                                     direct move         LAST_UPDATED       TIMESTAMP"
      ]
     },
     "execution_count": 126,
     "metadata": {},
     "output_type": "execute_result"
    }
   ],
   "source": [
    "customer_map['Mapping Logic'] = customer_map['Mapping Logic'].replace('direct_move', 'direct move')"
   ]
  },
  {
   "attachments": {},
   "cell_type": "markdown",
   "metadata": {},
   "source": [
    "Now I can see exactly what needs to be transformed. "
   ]
  },
  {
   "cell_type": "code",
   "execution_count": 131,
   "metadata": {},
   "outputs": [
    {
     "data": {
      "text/html": [
       "<div>\n",
       "<style scoped>\n",
       "    .dataframe tbody tr th:only-of-type {\n",
       "        vertical-align: middle;\n",
       "    }\n",
       "\n",
       "    .dataframe tbody tr th {\n",
       "        vertical-align: top;\n",
       "    }\n",
       "\n",
       "    .dataframe thead th {\n",
       "        text-align: right;\n",
       "    }\n",
       "</style>\n",
       "<table border=\"1\" class=\"dataframe\">\n",
       "  <thead>\n",
       "    <tr style=\"text-align: right;\">\n",
       "      <th></th>\n",
       "      <th>Source Column Names</th>\n",
       "      <th>Mapping Logic</th>\n",
       "      <th>Target Field names</th>\n",
       "      <th>Target DataType</th>\n",
       "    </tr>\n",
       "  </thead>\n",
       "  <tbody>\n",
       "    <tr>\n",
       "      <th>1</th>\n",
       "      <td>FIRST_NAME</td>\n",
       "      <td>convert the name to title case</td>\n",
       "      <td>FIRST_NAME</td>\n",
       "      <td>VARCHAR</td>\n",
       "    </tr>\n",
       "    <tr>\n",
       "      <th>2</th>\n",
       "      <td>MIDDLE_NAME</td>\n",
       "      <td>convert the middle name in lower case</td>\n",
       "      <td>MIDDLE_NAME</td>\n",
       "      <td>VARCHAR</td>\n",
       "    </tr>\n",
       "    <tr>\n",
       "      <th>3</th>\n",
       "      <td>LAST_NAME</td>\n",
       "      <td>convert the last name in title case</td>\n",
       "      <td>LAST_NAME</td>\n",
       "      <td>VARCHAR</td>\n",
       "    </tr>\n",
       "    <tr>\n",
       "      <th>5</th>\n",
       "      <td>STREET_NAME,APT_NO</td>\n",
       "      <td>concatenate apartment no and street name of customer's residence with comma as a seperator (street, apartment)</td>\n",
       "      <td>FULL_STREET_ADDRESS</td>\n",
       "      <td>VARCHAR</td>\n",
       "    </tr>\n",
       "    <tr>\n",
       "      <th>10</th>\n",
       "      <td>CUST_PHONE</td>\n",
       "      <td>change the format of phone number to (xxx)xxx-xxxx</td>\n",
       "      <td>CUST_PHONE</td>\n",
       "      <td>VARCHAR</td>\n",
       "    </tr>\n",
       "  </tbody>\n",
       "</table>\n",
       "</div>"
      ],
      "text/plain": [
       "   Source Column Names                                                                                                   Mapping Logic   Target Field names Target DataType\n",
       "1           FIRST_NAME                                                                                  convert the name to title case           FIRST_NAME         VARCHAR\n",
       "2          MIDDLE_NAME                                                                           convert the middle name in lower case          MIDDLE_NAME         VARCHAR\n",
       "3            LAST_NAME                                                                             convert the last name in title case            LAST_NAME         VARCHAR\n",
       "5   STREET_NAME,APT_NO  concatenate apartment no and street name of customer's residence with comma as a seperator (street, apartment)  FULL_STREET_ADDRESS         VARCHAR\n",
       "10          CUST_PHONE                                                              change the format of phone number to (xxx)xxx-xxxx           CUST_PHONE         VARCHAR"
      ]
     },
     "execution_count": 131,
     "metadata": {},
     "output_type": "execute_result"
    }
   ],
   "source": [
    "customer_transform_guide = customer_map[(customer_map['Mapping Logic'] != 'direct move')]\n",
    "customer_transform_guide"
   ]
  },
  {
   "cell_type": "code",
   "execution_count": 181,
   "metadata": {},
   "outputs": [
    {
     "data": {
      "text/html": [
       "<div>\n",
       "<style scoped>\n",
       "    .dataframe tbody tr th:only-of-type {\n",
       "        vertical-align: middle;\n",
       "    }\n",
       "\n",
       "    .dataframe tbody tr th {\n",
       "        vertical-align: top;\n",
       "    }\n",
       "\n",
       "    .dataframe thead th {\n",
       "        text-align: right;\n",
       "    }\n",
       "</style>\n",
       "<table border=\"1\" class=\"dataframe\">\n",
       "  <thead>\n",
       "    <tr style=\"text-align: right;\">\n",
       "      <th></th>\n",
       "      <th>Source Column Names</th>\n",
       "      <th>Mapping Logic</th>\n",
       "      <th>Target Field names</th>\n",
       "      <th>Target DataType</th>\n",
       "    </tr>\n",
       "  </thead>\n",
       "  <tbody>\n",
       "    <tr>\n",
       "      <th>1</th>\n",
       "      <td>FIRST_NAME</td>\n",
       "      <td>convert the name to title case</td>\n",
       "      <td>FIRST_NAME</td>\n",
       "      <td>VARCHAR</td>\n",
       "    </tr>\n",
       "    <tr>\n",
       "      <th>3</th>\n",
       "      <td>LAST_NAME</td>\n",
       "      <td>convert the last name in title case</td>\n",
       "      <td>LAST_NAME</td>\n",
       "      <td>VARCHAR</td>\n",
       "    </tr>\n",
       "  </tbody>\n",
       "</table>\n",
       "</div>"
      ],
      "text/plain": [
       "  Source Column Names                        Mapping Logic Target Field names Target DataType\n",
       "1          FIRST_NAME       convert the name to title case         FIRST_NAME         VARCHAR\n",
       "3           LAST_NAME  convert the last name in title case          LAST_NAME         VARCHAR"
      ]
     },
     "execution_count": 181,
     "metadata": {},
     "output_type": "execute_result"
    }
   ],
   "source": [
    "customer_transform_guide[(customer_transform_guide['Mapping Logic'].str.contains('title'))]"
   ]
  },
  {
   "cell_type": "code",
   "execution_count": 129,
   "metadata": {},
   "outputs": [
    {
     "name": "stdout",
     "output_type": "stream",
     "text": [
      "+------+----------------+------------+-------------+-------------------+----------+----------+--------+----------+---------+--------------------+-----------+---------+-----------------+\n",
      "|APT_NO|  CREDIT_CARD_NO|   CUST_CITY| CUST_COUNTRY|         CUST_EMAIL|CUST_PHONE|CUST_STATE|CUST_ZIP|FIRST_NAME|LAST_NAME|        LAST_UPDATED|MIDDLE_NAME|      SSN|      STREET_NAME|\n",
      "+------+----------------+------------+-------------+-------------------+----------+----------+--------+----------+---------+--------------------+-----------+---------+-----------------+\n",
      "|   656|4210653310061055|     Natchez|United States|AHooper@example.com|   1237818|        MS|   39120|      Alec|   Hooper|2018-04-21T12:49:...|         Wm|123456100|Main Street North|\n",
      "|   829|4210653310102868|Wethersfield|United States|EHolman@example.com|   1238933|        CT|   06109|      Etta|   Holman|2018-04-21T12:49:...|    Brendan|123453023|    Redwood Drive|\n",
      "+------+----------------+------------+-------------+-------------------+----------+----------+--------+----------+---------+--------------------+-----------+---------+-----------------+\n",
      "only showing top 2 rows\n",
      "\n"
     ]
    }
   ],
   "source": [
    "customer_df.show(2)"
   ]
  },
  {
   "attachments": {},
   "cell_type": "markdown",
   "metadata": {},
   "source": [
    "### Transforming the name"
   ]
  },
  {
   "cell_type": "code",
   "execution_count": 292,
   "metadata": {},
   "outputs": [],
   "source": [
    "customer_df_backup = customer_df\n"
   ]
  },
  {
   "cell_type": "code",
   "execution_count": 184,
   "metadata": {},
   "outputs": [],
   "source": [
    "import pyspark.sql.functions as F"
   ]
  },
  {
   "cell_type": "code",
   "execution_count": 232,
   "metadata": {},
   "outputs": [],
   "source": [
    "customer_df = customer_df.withColumns({'FIRST_NAME':F.initcap(customer_df['FIRST_NAME']), 'LAST_NAME':F.initcap(customer_df['LAST_NAME'])})"
   ]
  },
  {
   "cell_type": "code",
   "execution_count": 233,
   "metadata": {},
   "outputs": [],
   "source": [
    "customer_df = customer_df.withColumn('MIDDLE_NAME', F.lower(customer_df['MIDDLE_NAME']))"
   ]
  },
  {
   "attachments": {},
   "cell_type": "markdown",
   "metadata": {},
   "source": [
    "Confirming Transformation is correct"
   ]
  },
  {
   "cell_type": "code",
   "execution_count": 234,
   "metadata": {},
   "outputs": [
    {
     "name": "stdout",
     "output_type": "stream",
     "text": [
      "+----------+---------+-----------+\n",
      "|FIRST_NAME|LAST_NAME|MIDDLE_NAME|\n",
      "+----------+---------+-----------+\n",
      "|      Alec|   Hooper|         wm|\n",
      "|      Etta|   Holman|    brendan|\n",
      "+----------+---------+-----------+\n",
      "only showing top 2 rows\n",
      "\n"
     ]
    }
   ],
   "source": [
    "customer_df['FIRST_NAME', 'LAST_NAME', 'MIDDLE_NAME'].show(2)"
   ]
  },
  {
   "cell_type": "code",
   "execution_count": 235,
   "metadata": {},
   "outputs": [
    {
     "data": {
      "text/html": [
       "<div>\n",
       "<style scoped>\n",
       "    .dataframe tbody tr th:only-of-type {\n",
       "        vertical-align: middle;\n",
       "    }\n",
       "\n",
       "    .dataframe tbody tr th {\n",
       "        vertical-align: top;\n",
       "    }\n",
       "\n",
       "    .dataframe thead th {\n",
       "        text-align: right;\n",
       "    }\n",
       "</style>\n",
       "<table border=\"1\" class=\"dataframe\">\n",
       "  <thead>\n",
       "    <tr style=\"text-align: right;\">\n",
       "      <th></th>\n",
       "      <th>Source Column Names</th>\n",
       "      <th>Mapping Logic</th>\n",
       "      <th>Target Field names</th>\n",
       "      <th>Target DataType</th>\n",
       "    </tr>\n",
       "  </thead>\n",
       "  <tbody>\n",
       "    <tr>\n",
       "      <th>5</th>\n",
       "      <td>STREET_NAME,APT_NO</td>\n",
       "      <td>concatenate apartment no and street name of customer's residence with comma as a seperator (street, apartment)</td>\n",
       "      <td>FULL_STREET_ADDRESS</td>\n",
       "      <td>VARCHAR</td>\n",
       "    </tr>\n",
       "    <tr>\n",
       "      <th>10</th>\n",
       "      <td>CUST_PHONE</td>\n",
       "      <td>change the format of phone number to (xxx)xxx-xxxx</td>\n",
       "      <td>CUST_PHONE</td>\n",
       "      <td>VARCHAR</td>\n",
       "    </tr>\n",
       "  </tbody>\n",
       "</table>\n",
       "</div>"
      ],
      "text/plain": [
       "   Source Column Names                                                                                                   Mapping Logic   Target Field names Target DataType\n",
       "5   STREET_NAME,APT_NO  concatenate apartment no and street name of customer's residence with comma as a seperator (street, apartment)  FULL_STREET_ADDRESS         VARCHAR\n",
       "10          CUST_PHONE                                                              change the format of phone number to (xxx)xxx-xxxx           CUST_PHONE         VARCHAR"
      ]
     },
     "execution_count": 235,
     "metadata": {},
     "output_type": "execute_result"
    }
   ],
   "source": [
    "customer_transform_guide.iloc[3:]\n"
   ]
  },
  {
   "attachments": {},
   "cell_type": "markdown",
   "metadata": {},
   "source": [
    "### Transforming the Address"
   ]
  },
  {
   "attachments": {},
   "cell_type": "markdown",
   "metadata": {},
   "source": [
    "The easiest way to do this is to generate a SQL temp-table that is attached to the current spark session. <br>\n",
    "I'm operating on the temp-table with SQL instead of Python here and its much easier and cleaner."
   ]
  },
  {
   "cell_type": "code",
   "execution_count": 245,
   "metadata": {},
   "outputs": [],
   "source": [
    "test = customer_df.createOrReplaceGlobalTempView('customer')"
   ]
  },
  {
   "cell_type": "code",
   "execution_count": 253,
   "metadata": {},
   "outputs": [],
   "source": [
    "customer_df = spark_sesh.sql(\"\"\"\n",
    "SELECT\n",
    "    *,\n",
    "    CONCAT(STREET_NAME, \", \", APT_NO) AS FULL_STREET_ADDRESS\n",
    "FROM\n",
    "    global_temp.customer\n",
    "\"\"\")"
   ]
  },
  {
   "attachments": {},
   "cell_type": "markdown",
   "metadata": {},
   "source": [
    "📝Note: <br>\n",
    "It might be *expensive* to concatenate the columns apt_no and street_name in one dataframe and then include them *again*<br>\n",
    "by using the 'select *' statement and dropping the extraneous columns, but with this current dataset the operations are pretty fast, and I'd rather save time using * and .drop() than including each and every column manually. <br>\n",
    "\n",
    "Either way, we still have one more transformations left and pyspark's dataframes are immutable, so we generate a new copy of a dataframe every time."
   ]
  },
  {
   "cell_type": "code",
   "execution_count": 254,
   "metadata": {},
   "outputs": [
    {
     "name": "stdout",
     "output_type": "stream",
     "text": [
      "+------+----------------+------------+-------------+-------------------+----------+----------+--------+----------+---------+--------------------+-----------+---------+-----------------+--------------------+\n",
      "|APT_NO|  CREDIT_CARD_NO|   CUST_CITY| CUST_COUNTRY|         CUST_EMAIL|CUST_PHONE|CUST_STATE|CUST_ZIP|FIRST_NAME|LAST_NAME|        LAST_UPDATED|MIDDLE_NAME|      SSN|      STREET_NAME| FULL_STREET_ADDRESS|\n",
      "+------+----------------+------------+-------------+-------------------+----------+----------+--------+----------+---------+--------------------+-----------+---------+-----------------+--------------------+\n",
      "|   656|4210653310061055|     Natchez|United States|AHooper@example.com|   1237818|        MS|   39120|      Alec|   Hooper|2018-04-21T12:49:...|         wm|123456100|Main Street North|Main Street North...|\n",
      "|   829|4210653310102868|Wethersfield|United States|EHolman@example.com|   1238933|        CT|   06109|      Etta|   Holman|2018-04-21T12:49:...|    brendan|123453023|    Redwood Drive|  Redwood Drive, 829|\n",
      "+------+----------------+------------+-------------+-------------------+----------+----------+--------+----------+---------+--------------------+-----------+---------+-----------------+--------------------+\n",
      "only showing top 2 rows\n",
      "\n"
     ]
    }
   ],
   "source": [
    "customer_df.show(2)"
   ]
  },
  {
   "cell_type": "code",
   "execution_count": 255,
   "metadata": {},
   "outputs": [],
   "source": [
    "customer_df = customer_df.drop('APT_NO', 'STREET_NAME')"
   ]
  },
  {
   "attachments": {},
   "cell_type": "markdown",
   "metadata": {},
   "source": [
    "The address is now concatenated and the other two columns are dropped."
   ]
  },
  {
   "cell_type": "code",
   "execution_count": 257,
   "metadata": {},
   "outputs": [
    {
     "name": "stdout",
     "output_type": "stream",
     "text": [
      "+----------------+------------+-------------+-------------------+----------+----------+--------+----------+---------+-----------------------------+-----------+---------+----------------------+\n",
      "|CREDIT_CARD_NO  |CUST_CITY   |CUST_COUNTRY |CUST_EMAIL         |CUST_PHONE|CUST_STATE|CUST_ZIP|FIRST_NAME|LAST_NAME|LAST_UPDATED                 |MIDDLE_NAME|SSN      |FULL_STREET_ADDRESS   |\n",
      "+----------------+------------+-------------+-------------------+----------+----------+--------+----------+---------+-----------------------------+-----------+---------+----------------------+\n",
      "|4210653310061055|Natchez     |United States|AHooper@example.com|1237818   |MS        |39120   |Alec      |Hooper   |2018-04-21T12:49:02.000-04:00|wm         |123456100|Main Street North, 656|\n",
      "|4210653310102868|Wethersfield|United States|EHolman@example.com|1238933   |CT        |06109   |Etta      |Holman   |2018-04-21T12:49:02.000-04:00|brendan    |123453023|Redwood Drive, 829    |\n",
      "+----------------+------------+-------------+-------------------+----------+----------+--------+----------+---------+-----------------------------+-----------+---------+----------------------+\n",
      "only showing top 2 rows\n",
      "\n"
     ]
    }
   ],
   "source": [
    "customer_df.show(2, truncate=False)"
   ]
  },
  {
   "attachments": {},
   "cell_type": "markdown",
   "metadata": {},
   "source": [
    "### Transforming the Phone number"
   ]
  },
  {
   "cell_type": "code",
   "execution_count": 259,
   "metadata": {},
   "outputs": [
    {
     "data": {
      "text/plain": [
       "Source Column Names                                            CUST_PHONE\n",
       "Mapping Logic          change the format of phone number to (xxx)xxx-xxxx\n",
       "Target Field names                                             CUST_PHONE\n",
       "Target DataType                                                   VARCHAR\n",
       "Name: 10, dtype: object"
      ]
     },
     "execution_count": 259,
     "metadata": {},
     "output_type": "execute_result"
    }
   ],
   "source": [
    "customer_transform_guide.iloc[4]"
   ]
  },
  {
   "cell_type": "code",
   "execution_count": 263,
   "metadata": {},
   "outputs": [
    {
     "name": "stdout",
     "output_type": "stream",
     "text": [
      "+----------+\n",
      "|CUST_PHONE|\n",
      "+----------+\n",
      "|   1237818|\n",
      "|   1238933|\n",
      "+----------+\n",
      "only showing top 2 rows\n",
      "\n"
     ]
    }
   ],
   "source": [
    "customer_df[['CUST_PHONE']].show(2)"
   ]
  },
  {
   "attachments": {},
   "cell_type": "markdown",
   "metadata": {},
   "source": [
    "Here we are only required to add an artificial area code and the parenthesis and dash, so I'll do just that.\n"
   ]
  },
  {
   "attachments": {},
   "cell_type": "markdown",
   "metadata": {},
   "source": [
    "Using Pyspark.sql's  user-defined function this time:"
   ]
  },
  {
   "cell_type": "code",
   "execution_count": 288,
   "metadata": {},
   "outputs": [],
   "source": [
    "phone_refactor = F.udf(lambda phone: \"(555)\" + str(phone)[:3] + \"-\" + str(phone)[3:])\n",
    "# phone[0, 3) + phone[3:]\n",
    "# note the slice includes the end of the string with [:]"
   ]
  },
  {
   "cell_type": "code",
   "execution_count": 295,
   "metadata": {},
   "outputs": [],
   "source": [
    "customer_df = customer_df.withColumn('CUST_PHONE', phone_refactor(customer_df['CUST_PHONE']))"
   ]
  },
  {
   "cell_type": "code",
   "execution_count": 296,
   "metadata": {},
   "outputs": [
    {
     "name": "stdout",
     "output_type": "stream",
     "text": [
      "+----------------+------------+-------------+-------------------+-------------+----------+--------+----------+---------+--------------------+-----------+---------+--------------------+\n",
      "|  CREDIT_CARD_NO|   CUST_CITY| CUST_COUNTRY|         CUST_EMAIL|   CUST_PHONE|CUST_STATE|CUST_ZIP|FIRST_NAME|LAST_NAME|        LAST_UPDATED|MIDDLE_NAME|      SSN| FULL_STREET_ADDRESS|\n",
      "+----------------+------------+-------------+-------------------+-------------+----------+--------+----------+---------+--------------------+-----------+---------+--------------------+\n",
      "|4210653310061055|     Natchez|United States|AHooper@example.com|(555)123-7818|        MS|   39120|      Alec|   Hooper|2018-04-21T12:49:...|         wm|123456100|Main Street North...|\n",
      "|4210653310102868|Wethersfield|United States|EHolman@example.com|(555)123-8933|        CT|   06109|      Etta|   Holman|2018-04-21T12:49:...|    brendan|123453023|  Redwood Drive, 829|\n",
      "+----------------+------------+-------------+-------------------+-------------+----------+--------+----------+---------+--------------------+-----------+---------+--------------------+\n",
      "only showing top 2 rows\n",
      "\n"
     ]
    }
   ],
   "source": [
    "customer_df.show(2)"
   ]
  },
  {
   "attachments": {},
   "cell_type": "markdown",
   "metadata": {},
   "source": [
    "Checking the types, you can see I transformed the phone number to a more-appropriate string datatype while modifying the phone number. <br>\n",
    "(It was previously long int type)"
   ]
  },
  {
   "cell_type": "code",
   "execution_count": 297,
   "metadata": {},
   "outputs": [
    {
     "data": {
      "text/plain": [
       "[('CREDIT_CARD_NO', 'string'),\n",
       " ('CUST_CITY', 'string'),\n",
       " ('CUST_COUNTRY', 'string'),\n",
       " ('CUST_EMAIL', 'string'),\n",
       " ('CUST_PHONE', 'string'),\n",
       " ('CUST_STATE', 'string'),\n",
       " ('CUST_ZIP', 'string'),\n",
       " ('FIRST_NAME', 'string'),\n",
       " ('LAST_NAME', 'string'),\n",
       " ('LAST_UPDATED', 'string'),\n",
       " ('MIDDLE_NAME', 'string'),\n",
       " ('SSN', 'bigint'),\n",
       " ('FULL_STREET_ADDRESS', 'string')]"
      ]
     },
     "execution_count": 297,
     "metadata": {},
     "output_type": "execute_result"
    }
   ],
   "source": [
    "customer_df.dtypes"
   ]
  },
  {
   "cell_type": "code",
   "execution_count": 299,
   "metadata": {},
   "outputs": [
    {
     "data": {
      "text/html": [
       "<div>\n",
       "<style scoped>\n",
       "    .dataframe tbody tr th:only-of-type {\n",
       "        vertical-align: middle;\n",
       "    }\n",
       "\n",
       "    .dataframe tbody tr th {\n",
       "        vertical-align: top;\n",
       "    }\n",
       "\n",
       "    .dataframe thead th {\n",
       "        text-align: right;\n",
       "    }\n",
       "</style>\n",
       "<table border=\"1\" class=\"dataframe\">\n",
       "  <thead>\n",
       "    <tr style=\"text-align: right;\">\n",
       "      <th></th>\n",
       "      <th>Source Column Names</th>\n",
       "      <th>Mapping Logic</th>\n",
       "      <th>Target Field names</th>\n",
       "      <th>Target DataType</th>\n",
       "    </tr>\n",
       "  </thead>\n",
       "  <tbody>\n",
       "    <tr>\n",
       "      <th>0</th>\n",
       "      <td>SSN</td>\n",
       "      <td>direct move</td>\n",
       "      <td>SSN</td>\n",
       "      <td>INT</td>\n",
       "    </tr>\n",
       "    <tr>\n",
       "      <th>1</th>\n",
       "      <td>FIRST_NAME</td>\n",
       "      <td>convert the name to title case</td>\n",
       "      <td>FIRST_NAME</td>\n",
       "      <td>VARCHAR</td>\n",
       "    </tr>\n",
       "    <tr>\n",
       "      <th>2</th>\n",
       "      <td>MIDDLE_NAME</td>\n",
       "      <td>convert the middle name in lower case</td>\n",
       "      <td>MIDDLE_NAME</td>\n",
       "      <td>VARCHAR</td>\n",
       "    </tr>\n",
       "    <tr>\n",
       "      <th>3</th>\n",
       "      <td>LAST_NAME</td>\n",
       "      <td>convert the last name in title case</td>\n",
       "      <td>LAST_NAME</td>\n",
       "      <td>VARCHAR</td>\n",
       "    </tr>\n",
       "    <tr>\n",
       "      <th>4</th>\n",
       "      <td>CREDIT_CARD_NO</td>\n",
       "      <td>direct move</td>\n",
       "      <td>Credit_card_no</td>\n",
       "      <td>VARCHAR</td>\n",
       "    </tr>\n",
       "    <tr>\n",
       "      <th>5</th>\n",
       "      <td>STREET_NAME,APT_NO</td>\n",
       "      <td>concatenate apartment no and street name of customer's residence with comma as a seperator (street, apartment)</td>\n",
       "      <td>FULL_STREET_ADDRESS</td>\n",
       "      <td>VARCHAR</td>\n",
       "    </tr>\n",
       "    <tr>\n",
       "      <th>6</th>\n",
       "      <td>CUST_CITY</td>\n",
       "      <td>direct move</td>\n",
       "      <td>CUST_CITY</td>\n",
       "      <td>VARCHAR</td>\n",
       "    </tr>\n",
       "    <tr>\n",
       "      <th>7</th>\n",
       "      <td>CUST_STATE</td>\n",
       "      <td>direct move</td>\n",
       "      <td>CUST_STATE</td>\n",
       "      <td>VARCHAR</td>\n",
       "    </tr>\n",
       "    <tr>\n",
       "      <th>8</th>\n",
       "      <td>CUST_COUNTRY</td>\n",
       "      <td>direct move</td>\n",
       "      <td>CUST_COUNTRY</td>\n",
       "      <td>VARCHAR</td>\n",
       "    </tr>\n",
       "    <tr>\n",
       "      <th>9</th>\n",
       "      <td>CUST_ZIP</td>\n",
       "      <td>direct move</td>\n",
       "      <td>CUST_ZIP</td>\n",
       "      <td>INT</td>\n",
       "    </tr>\n",
       "    <tr>\n",
       "      <th>10</th>\n",
       "      <td>CUST_PHONE</td>\n",
       "      <td>change the format of phone number to (xxx)xxx-xxxx</td>\n",
       "      <td>CUST_PHONE</td>\n",
       "      <td>VARCHAR</td>\n",
       "    </tr>\n",
       "    <tr>\n",
       "      <th>11</th>\n",
       "      <td>CUST_EMAIL</td>\n",
       "      <td>direct move</td>\n",
       "      <td>CUST_EMAIL</td>\n",
       "      <td>VARCHAR</td>\n",
       "    </tr>\n",
       "    <tr>\n",
       "      <th>12</th>\n",
       "      <td>LAST_UPDATED</td>\n",
       "      <td>direct move</td>\n",
       "      <td>LAST_UPDATED</td>\n",
       "      <td>TIMESTAMP</td>\n",
       "    </tr>\n",
       "  </tbody>\n",
       "</table>\n",
       "</div>"
      ],
      "text/plain": [
       "   Source Column Names                                                                                                   Mapping Logic   Target Field names Target DataType\n",
       "0                  SSN                                                                                                     direct move                  SSN             INT\n",
       "1           FIRST_NAME                                                                                  convert the name to title case           FIRST_NAME         VARCHAR\n",
       "2          MIDDLE_NAME                                                                           convert the middle name in lower case          MIDDLE_NAME         VARCHAR\n",
       "3            LAST_NAME                                                                             convert the last name in title case            LAST_NAME         VARCHAR\n",
       "4       CREDIT_CARD_NO                                                                                                     direct move       Credit_card_no         VARCHAR\n",
       "5   STREET_NAME,APT_NO  concatenate apartment no and street name of customer's residence with comma as a seperator (street, apartment)  FULL_STREET_ADDRESS         VARCHAR\n",
       "6            CUST_CITY                                                                                                     direct move            CUST_CITY         VARCHAR\n",
       "7           CUST_STATE                                                                                                     direct move           CUST_STATE         VARCHAR\n",
       "8         CUST_COUNTRY                                                                                                     direct move         CUST_COUNTRY         VARCHAR\n",
       "9             CUST_ZIP                                                                                                     direct move             CUST_ZIP             INT\n",
       "10          CUST_PHONE                                                              change the format of phone number to (xxx)xxx-xxxx           CUST_PHONE         VARCHAR\n",
       "11          CUST_EMAIL                                                                                                     direct move           CUST_EMAIL         VARCHAR\n",
       "12        LAST_UPDATED                                                                                                     direct move         LAST_UPDATED       TIMESTAMP"
      ]
     },
     "execution_count": 299,
     "metadata": {},
     "output_type": "execute_result"
    }
   ],
   "source": [
    "customer_map"
   ]
  },
  {
   "attachments": {},
   "cell_type": "markdown",
   "metadata": {},
   "source": [
    "---"
   ]
  }
 ],
 "metadata": {
  "kernelspec": {
   "display_name": "ETL-capstone-env",
   "language": "python",
   "name": "python3"
  },
  "language_info": {
   "codemirror_mode": {
    "name": "ipython",
    "version": 3
   },
   "file_extension": ".py",
   "mimetype": "text/x-python",
   "name": "python",
   "nbconvert_exporter": "python",
   "pygments_lexer": "ipython3",
   "version": "3.10.7"
  },
  "orig_nbformat": 4
 },
 "nbformat": 4,
 "nbformat_minor": 2
}
