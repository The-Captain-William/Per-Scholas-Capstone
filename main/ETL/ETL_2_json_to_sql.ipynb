{
 "cells": [
  {
   "attachments": {},
   "cell_type": "markdown",
   "metadata": {},
   "source": [
    "# ETL Worfklow\n",
    "---"
   ]
  },
  {
   "attachments": {},
   "cell_type": "markdown",
   "metadata": {},
   "source": [
    "## Setup\n"
   ]
  },
  {
   "attachments": {},
   "cell_type": "markdown",
   "metadata": {},
   "source": [
    "Importing my libraries of choice"
   ]
  },
  {
   "cell_type": "code",
   "execution_count": 1,
   "metadata": {},
   "outputs": [],
   "source": [
    "import os\n",
    "import pyspark.sql\n",
    "import requests"
   ]
  },
  {
   "attachments": {},
   "cell_type": "markdown",
   "metadata": {},
   "source": [
    "Getting our SQL Server credientials ahead of time"
   ]
  },
  {
   "cell_type": "code",
   "execution_count": 2,
   "metadata": {},
   "outputs": [],
   "source": [
    "db_user = os.environ.get('DB_USER')\n",
    "db_password = os.environ.get('DB_PASSWORD')"
   ]
  },
  {
   "attachments": {},
   "cell_type": "markdown",
   "metadata": {},
   "source": [
    "Creating a spark session "
   ]
  },
  {
   "cell_type": "code",
   "execution_count": 3,
   "metadata": {},
   "outputs": [],
   "source": [
    "spark_sesh = pyspark.sql.SparkSession.builder.appName('Credit Card ETL').getOrCreate()"
   ]
  },
  {
   "cell_type": "code",
   "execution_count": 4,
   "metadata": {},
   "outputs": [
    {
     "data": {
      "text/html": [
       "\n",
       "            <div>\n",
       "                <p><b>SparkSession - in-memory</b></p>\n",
       "                \n",
       "        <div>\n",
       "            <p><b>SparkContext</b></p>\n",
       "\n",
       "            <p><a href=\"http://DESKTOP-AQ9UQ3O:4040\">Spark UI</a></p>\n",
       "\n",
       "            <dl>\n",
       "              <dt>Version</dt>\n",
       "                <dd><code>v3.3.1</code></dd>\n",
       "              <dt>Master</dt>\n",
       "                <dd><code>local[*]</code></dd>\n",
       "              <dt>AppName</dt>\n",
       "                <dd><code>Credit Card ETL</code></dd>\n",
       "            </dl>\n",
       "        </div>\n",
       "        \n",
       "            </div>\n",
       "        "
      ],
      "text/plain": [
       "<pyspark.sql.session.SparkSession at 0x1e0d27332e0>"
      ]
     },
     "execution_count": 4,
     "metadata": {},
     "output_type": "execute_result"
    }
   ],
   "source": [
    "spark_sesh"
   ]
  },
  {
   "attachments": {},
   "cell_type": "markdown",
   "metadata": {},
   "source": [
    "## Extract \n",
    "---"
   ]
  },
  {
   "attachments": {},
   "cell_type": "markdown",
   "metadata": {},
   "source": [
    "I'm going to extract data from two datasets pertaining to the same bank, which are:\n",
    "\n",
    "\n",
    "- The Credit Card Dataset\n",
    "    - cdw_sapp_customer.JSON\n",
    "    - cdw_sapp_branch.JSON \n",
    "    - cdw_sapp_credit.JSON\n",
    "\n",
    "<br>\n",
    "\n",
    "- The Bank Loan Application Dataset\n",
    "    - Loan Application API Endpoint"
   ]
  },
  {
   "attachments": {},
   "cell_type": "markdown",
   "metadata": {},
   "source": [
    "📝 Notes: <br>\n",
    "- The customer.JSON file and branch.JSON file contains information about the bank customer and bank branch, respectively. \n",
    "- The credit.JSON file contains information about credit card transactions\n",
    "- The Loan Application is with respect to loans for purchasing homes, and includes information like whether or not the individuals were approved, gender, maritual status, and income."
   ]
  },
  {
   "attachments": {},
   "cell_type": "markdown",
   "metadata": {},
   "source": [
    "Extracting the JSON Files with sparksession.read.load()\n"
   ]
  },
  {
   "cell_type": "code",
   "execution_count": 5,
   "metadata": {},
   "outputs": [],
   "source": [
    "# JSON Files\n",
    "branch_df = spark_sesh.read.load('../../data/credit_card_dataset/cdw_sapp_branch.json', format='json')  # 👀 don't forget the to specify the format\n",
    "credit_df = spark_sesh.read.load('../../data/credit_card_dataset/cdw_sapp_credit.json', format='json')\n",
    "customer_df = spark_sesh.read.load('../../data/credit_card_dataset/cdw_sapp_custmer.json', format='json')"
   ]
  },
  {
   "attachments": {},
   "cell_type": "markdown",
   "metadata": {},
   "source": [
    "Defining an API endpoint\n"
   ]
  },
  {
   "cell_type": "code",
   "execution_count": 6,
   "metadata": {},
   "outputs": [],
   "source": [
    "LOAN_API_ENDPOINT = \"https://raw.githubusercontent.com/platformps/LoanDataset/main/loan_data.json\"\n"
   ]
  },
  {
   "attachments": {},
   "cell_type": "markdown",
   "metadata": {},
   "source": [
    "Creating a function to create a dataframe from an API Endpoint: <br>\n",
    " \n",
    "The function takes an API Endpoint URL and the current live spark session, <br>\n",
    "checks to see if the HTTP request is OK and returns a pyspark.sql DataFrame."
   ]
  },
  {
   "cell_type": "code",
   "execution_count": 7,
   "metadata": {},
   "outputs": [],
   "source": [
    "# API \n",
    "\n",
    "def api_check(api_endpoint: str, spark_session: pyspark.sql.SparkSession) -> pyspark.sql.DataFrame:  # param :type -> output-type\n",
    "    api = requests.get(LOAN_API_ENDPOINT)\n",
    "    print(f\"HTTP Status Code: {api.status_code}\")\n",
    "    if api.status_code == 200:\n",
    "        api_df = spark_session.createDataFrame(api.json())\n",
    "        return api_df\n",
    "\n"
   ]
  },
  {
   "cell_type": "code",
   "execution_count": 8,
   "metadata": {},
   "outputs": [
    {
     "name": "stdout",
     "output_type": "stream",
     "text": [
      "HTTP Status Code: 200\n"
     ]
    }
   ],
   "source": [
    "loan_df = api_check(LOAN_API_ENDPOINT, spark_sesh)"
   ]
  },
  {
   "attachments": {},
   "cell_type": "markdown",
   "metadata": {},
   "source": [
    "Let's check our DataFrames and make sure they are intact and ready for transformation"
   ]
  },
  {
   "cell_type": "code",
   "execution_count": 9,
   "metadata": {},
   "outputs": [],
   "source": [
    "dataframe_dict = {}\n",
    "\n",
    "dataframe_dict['branch'] = branch_df  # assign val to dict\n",
    "dataframe_dict['credit'] = credit_df\n",
    "dataframe_dict['customer'] = customer_df\n",
    "dataframe_dict['loan'] = loan_df"
   ]
  },
  {
   "cell_type": "code",
   "execution_count": 10,
   "metadata": {},
   "outputs": [
    {
     "name": "stdout",
     "output_type": "stream",
     "text": [
      "branch\n",
      "root\n",
      " |-- BRANCH_CITY: string (nullable = true)\n",
      " |-- BRANCH_CODE: long (nullable = true)\n",
      " |-- BRANCH_NAME: string (nullable = true)\n",
      " |-- BRANCH_PHONE: string (nullable = true)\n",
      " |-- BRANCH_STATE: string (nullable = true)\n",
      " |-- BRANCH_STREET: string (nullable = true)\n",
      " |-- BRANCH_ZIP: long (nullable = true)\n",
      " |-- LAST_UPDATED: string (nullable = true)\n",
      "\n",
      "credit\n",
      "root\n",
      " |-- BRANCH_CODE: long (nullable = true)\n",
      " |-- CREDIT_CARD_NO: string (nullable = true)\n",
      " |-- CUST_SSN: long (nullable = true)\n",
      " |-- DAY: long (nullable = true)\n",
      " |-- MONTH: long (nullable = true)\n",
      " |-- TRANSACTION_ID: long (nullable = true)\n",
      " |-- TRANSACTION_TYPE: string (nullable = true)\n",
      " |-- TRANSACTION_VALUE: double (nullable = true)\n",
      " |-- YEAR: long (nullable = true)\n",
      "\n",
      "customer\n",
      "root\n",
      " |-- APT_NO: string (nullable = true)\n",
      " |-- CREDIT_CARD_NO: string (nullable = true)\n",
      " |-- CUST_CITY: string (nullable = true)\n",
      " |-- CUST_COUNTRY: string (nullable = true)\n",
      " |-- CUST_EMAIL: string (nullable = true)\n",
      " |-- CUST_PHONE: long (nullable = true)\n",
      " |-- CUST_STATE: string (nullable = true)\n",
      " |-- CUST_ZIP: string (nullable = true)\n",
      " |-- FIRST_NAME: string (nullable = true)\n",
      " |-- LAST_NAME: string (nullable = true)\n",
      " |-- LAST_UPDATED: string (nullable = true)\n",
      " |-- MIDDLE_NAME: string (nullable = true)\n",
      " |-- SSN: long (nullable = true)\n",
      " |-- STREET_NAME: string (nullable = true)\n",
      "\n",
      "loan\n",
      "root\n",
      " |-- Application_ID: string (nullable = true)\n",
      " |-- Application_Status: string (nullable = true)\n",
      " |-- Credit_History: long (nullable = true)\n",
      " |-- Dependents: string (nullable = true)\n",
      " |-- Education: string (nullable = true)\n",
      " |-- Gender: string (nullable = true)\n",
      " |-- Income: string (nullable = true)\n",
      " |-- Married: string (nullable = true)\n",
      " |-- Property_Area: string (nullable = true)\n",
      " |-- Self_Employed: string (nullable = true)\n",
      "\n"
     ]
    }
   ],
   "source": [
    "for name, dataframe in dataframe_dict.items():  # k:v in (k, v)\n",
    "    print(name)\n",
    "    dataframe.printSchema()"
   ]
  },
  {
   "attachments": {},
   "cell_type": "markdown",
   "metadata": {},
   "source": [
    "## Transform\n",
    "---"
   ]
  },
  {
   "attachments": {},
   "cell_type": "markdown",
   "metadata": {},
   "source": [
    "We are given a mapping document, which tells us what kind of transformations we should make on the data before loading it onto the server. <br>\n",
    "Let's take a look:"
   ]
  },
  {
   "attachments": {},
   "cell_type": "markdown",
   "metadata": {},
   "source": [
    "<div align='center'>\n",
    "<h3>Tables</h3>\n",
    "<h3>Customer Table</h3>\n",
    "<img src='../../images/customer_mapping_doc.png' width=1200px>\n",
    "<h3>Branch Table</h3>\n",
    "<img src='../../images/branch_mapping_doc.png' width=1200px>\n",
    "<h3>Credit-Card Table</h3>\n",
    "<img src='../../images/creditcard_mapping_doc.png' width=1200px>\n",
    "</div>"
   ]
  },
  {
   "attachments": {},
   "cell_type": "markdown",
   "metadata": {},
   "source": [
    "📝 Notes: <br>\n",
    "We are not given any specifics for the loan information dataframe, so I'm not going to touch that dataframe or modify any data types. <br>\n",
    "\n",
    "Furthermore, if you're following along, now would be a good time to split up your <br> views into several windows if you're using VS code or another similar IDE to <br> enhance your workflow, like this: <br>\n",
    "<img src='../../images/workflow_example.png' width=\"1200px\">"
   ]
  },
  {
   "attachments": {},
   "cell_type": "markdown",
   "metadata": {},
   "source": [
    "### Transforming the Customer Table \n"
   ]
  },
  {
   "attachments": {},
   "cell_type": "markdown",
   "metadata": {},
   "source": [
    "Let's Start with Customer Table: <br>\n",
    "\n",
    "📝Note: <br>\n",
    "Just to make sure I'm following along and not making mistakes, <br>\n",
    "Im using a small pandas dataframe to store the mapping document, so I can see what changes need to be made iterate through them, using pandas as a checklist of sorts.\n",
    "\n",
    "This is completely optional, and not required at all, but I prefer it."
   ]
  },
  {
   "cell_type": "code",
   "execution_count": 58,
   "metadata": {},
   "outputs": [],
   "source": [
    "import pandas as pd\n",
    "pd.set_option('display.max_colwidth', None) # ensuring pandas wont truncate col\n"
   ]
  },
  {
   "cell_type": "code",
   "execution_count": 59,
   "metadata": {},
   "outputs": [
    {
     "data": {
      "text/html": [
       "<div>\n",
       "<style scoped>\n",
       "    .dataframe tbody tr th:only-of-type {\n",
       "        vertical-align: middle;\n",
       "    }\n",
       "\n",
       "    .dataframe tbody tr th {\n",
       "        vertical-align: top;\n",
       "    }\n",
       "\n",
       "    .dataframe thead th {\n",
       "        text-align: right;\n",
       "    }\n",
       "</style>\n",
       "<table border=\"1\" class=\"dataframe\">\n",
       "  <thead>\n",
       "    <tr style=\"text-align: right;\">\n",
       "      <th></th>\n",
       "      <th>Source Column Names</th>\n",
       "      <th>Mapping Logic</th>\n",
       "      <th>Target Table</th>\n",
       "      <th>Target Field names</th>\n",
       "      <th>Target DataType</th>\n",
       "      <th>Description</th>\n",
       "    </tr>\n",
       "  </thead>\n",
       "  <tbody>\n",
       "    <tr>\n",
       "      <th>0</th>\n",
       "      <td>SSN</td>\n",
       "      <td>Direct Move</td>\n",
       "      <td>CDW_SAPP_CUSTOMER</td>\n",
       "      <td>SSN</td>\n",
       "      <td>VARCHAR</td>\n",
       "      <td>Social Security Number of the customer (National ID)</td>\n",
       "    </tr>\n",
       "    <tr>\n",
       "      <th>1</th>\n",
       "      <td>FIRST_NAME</td>\n",
       "      <td>Convert the Name to Title Case</td>\n",
       "      <td>CDW_SAPP_CUSTOMER</td>\n",
       "      <td>FIRST_NAME</td>\n",
       "      <td>VARCHAR</td>\n",
       "      <td>First Name of the Customer</td>\n",
       "    </tr>\n",
       "    <tr>\n",
       "      <th>2</th>\n",
       "      <td>MIDDLE_NAME</td>\n",
       "      <td>Convert the middle name in lower case</td>\n",
       "      <td>CDW_SAPP_CUSTOMER</td>\n",
       "      <td>MIDDLE_NAME</td>\n",
       "      <td>VARCHAR</td>\n",
       "      <td>Middle Name of the customer</td>\n",
       "    </tr>\n",
       "    <tr>\n",
       "      <th>3</th>\n",
       "      <td>LAST_NAME</td>\n",
       "      <td>Convert the Last Name in Title Case</td>\n",
       "      <td>CDW_SAPP_CUSTOMER</td>\n",
       "      <td>LAST_NAME</td>\n",
       "      <td>VARCHAR</td>\n",
       "      <td>Last Name of the customer</td>\n",
       "    </tr>\n",
       "    <tr>\n",
       "      <th>4</th>\n",
       "      <td>CREDIT_CARD_NO</td>\n",
       "      <td>Direct_move</td>\n",
       "      <td>CDW_SAPP_CUSTOMER</td>\n",
       "      <td>Credit_card_no</td>\n",
       "      <td>VARCHAR</td>\n",
       "      <td>Credit card number of customer</td>\n",
       "    </tr>\n",
       "    <tr>\n",
       "      <th>5</th>\n",
       "      <td>STREET_NAME,APT_NO</td>\n",
       "      <td>Concatenate Apartment no and Street name of customer's Residence with comma as a seperator (Street, Apartment)</td>\n",
       "      <td>CDW_SAPP_CUSTOMER</td>\n",
       "      <td>FULL_STREET_ADDRESS</td>\n",
       "      <td>VARCHAR</td>\n",
       "      <td>Apartment no and Street name of customer's Residence</td>\n",
       "    </tr>\n",
       "    <tr>\n",
       "      <th>6</th>\n",
       "      <td>CUST_CITY</td>\n",
       "      <td>Direct Move</td>\n",
       "      <td>CDW_SAPP_CUSTOMER</td>\n",
       "      <td>CUST_CITY</td>\n",
       "      <td>VARCHAR</td>\n",
       "      <td>Customer’s Current City</td>\n",
       "    </tr>\n",
       "    <tr>\n",
       "      <th>7</th>\n",
       "      <td>CUST_STATE</td>\n",
       "      <td>Direct Move</td>\n",
       "      <td>CDW_SAPP_CUSTOMER</td>\n",
       "      <td>CUST_STATE</td>\n",
       "      <td>VARCHAR</td>\n",
       "      <td>Customer’s State code</td>\n",
       "    </tr>\n",
       "    <tr>\n",
       "      <th>8</th>\n",
       "      <td>CUST_COUNTRY</td>\n",
       "      <td>Direct move</td>\n",
       "      <td>CDW_SAPP_CUSTOMER</td>\n",
       "      <td>CUST_COUNTRY</td>\n",
       "      <td>VARCHAR</td>\n",
       "      <td>Customer’s country code</td>\n",
       "    </tr>\n",
       "    <tr>\n",
       "      <th>9</th>\n",
       "      <td>CUST_ZIP</td>\n",
       "      <td>Direct move</td>\n",
       "      <td>CDW_SAPP_CUSTOMER</td>\n",
       "      <td>CUST_ZIP</td>\n",
       "      <td>VARCHAR</td>\n",
       "      <td>Zip code of Customer's Country</td>\n",
       "    </tr>\n",
       "    <tr>\n",
       "      <th>10</th>\n",
       "      <td>CUST_PHONE</td>\n",
       "      <td>Change the format of phone number to (XXX)XXX-XXXX</td>\n",
       "      <td>CDW_SAPP_CUSTOMER</td>\n",
       "      <td>CUST_PHONE</td>\n",
       "      <td>VARCHAR</td>\n",
       "      <td>Contact Number of the customer</td>\n",
       "    </tr>\n",
       "    <tr>\n",
       "      <th>11</th>\n",
       "      <td>CUST_EMAIL</td>\n",
       "      <td>Direct move</td>\n",
       "      <td>CDW_SAPP_CUSTOMER</td>\n",
       "      <td>CUST_EMAIL</td>\n",
       "      <td>VARCHAR</td>\n",
       "      <td>Email address of the customer</td>\n",
       "    </tr>\n",
       "    <tr>\n",
       "      <th>12</th>\n",
       "      <td>LAST_UPDATED</td>\n",
       "      <td>Direct move</td>\n",
       "      <td>CDW_SAPP_CUSTOMER</td>\n",
       "      <td>LAST_UPDATED</td>\n",
       "      <td>TIMESTAMP</td>\n",
       "      <td>Record inserted / modification date.</td>\n",
       "    </tr>\n",
       "  </tbody>\n",
       "</table>\n",
       "</div>"
      ],
      "text/plain": [
       "   Source Column Names  \\\n",
       "0                  SSN   \n",
       "1           FIRST_NAME   \n",
       "2          MIDDLE_NAME   \n",
       "3            LAST_NAME   \n",
       "4       CREDIT_CARD_NO   \n",
       "5   STREET_NAME,APT_NO   \n",
       "6            CUST_CITY   \n",
       "7           CUST_STATE   \n",
       "8         CUST_COUNTRY   \n",
       "9             CUST_ZIP   \n",
       "10          CUST_PHONE   \n",
       "11          CUST_EMAIL   \n",
       "12        LAST_UPDATED   \n",
       "\n",
       "                                                                                                     Mapping Logic  \\\n",
       "0                                                                                                      Direct Move   \n",
       "1                                                                                   Convert the Name to Title Case   \n",
       "2                                                                            Convert the middle name in lower case   \n",
       "3                                                                              Convert the Last Name in Title Case   \n",
       "4                                                                                                      Direct_move   \n",
       "5   Concatenate Apartment no and Street name of customer's Residence with comma as a seperator (Street, Apartment)   \n",
       "6                                                                                                      Direct Move   \n",
       "7                                                                                                      Direct Move   \n",
       "8                                                                                                      Direct move   \n",
       "9                                                                                                      Direct move   \n",
       "10                                                              Change the format of phone number to (XXX)XXX-XXXX   \n",
       "11                                                                                                     Direct move   \n",
       "12                                                                                                     Direct move   \n",
       "\n",
       "        Target Table    Target Field names Target DataType  \\\n",
       "0   CDW_SAPP_CUSTOMER                  SSN         VARCHAR   \n",
       "1   CDW_SAPP_CUSTOMER           FIRST_NAME         VARCHAR   \n",
       "2   CDW_SAPP_CUSTOMER          MIDDLE_NAME         VARCHAR   \n",
       "3   CDW_SAPP_CUSTOMER            LAST_NAME         VARCHAR   \n",
       "4   CDW_SAPP_CUSTOMER       Credit_card_no         VARCHAR   \n",
       "5   CDW_SAPP_CUSTOMER  FULL_STREET_ADDRESS         VARCHAR   \n",
       "6   CDW_SAPP_CUSTOMER            CUST_CITY         VARCHAR   \n",
       "7   CDW_SAPP_CUSTOMER           CUST_STATE         VARCHAR   \n",
       "8   CDW_SAPP_CUSTOMER         CUST_COUNTRY         VARCHAR   \n",
       "9   CDW_SAPP_CUSTOMER             CUST_ZIP         VARCHAR   \n",
       "10  CDW_SAPP_CUSTOMER           CUST_PHONE         VARCHAR   \n",
       "11  CDW_SAPP_CUSTOMER           CUST_EMAIL         VARCHAR   \n",
       "12  CDW_SAPP_CUSTOMER         LAST_UPDATED       TIMESTAMP   \n",
       "\n",
       "                                             Description  \n",
       "0   Social Security Number of the customer (National ID)  \n",
       "1                             First Name of the Customer  \n",
       "2                            Middle Name of the customer  \n",
       "3                              Last Name of the customer  \n",
       "4                         Credit card number of customer  \n",
       "5   Apartment no and Street name of customer's Residence  \n",
       "6                                Customer’s Current City  \n",
       "7                                  Customer’s State code  \n",
       "8                                Customer’s country code  \n",
       "9                         Zip code of Customer's Country  \n",
       "10                        Contact Number of the customer  \n",
       "11                         Email address of the customer  \n",
       "12                  Record inserted / modification date.  "
      ]
     },
     "execution_count": 59,
     "metadata": {},
     "output_type": "execute_result"
    }
   ],
   "source": [
    "customer_map = pd.read_clipboard()\n",
    "customer_map\n"
   ]
  },
  {
   "cell_type": "code",
   "execution_count": 60,
   "metadata": {},
   "outputs": [
    {
     "data": {
      "text/html": [
       "<div>\n",
       "<style scoped>\n",
       "    .dataframe tbody tr th:only-of-type {\n",
       "        vertical-align: middle;\n",
       "    }\n",
       "\n",
       "    .dataframe tbody tr th {\n",
       "        vertical-align: top;\n",
       "    }\n",
       "\n",
       "    .dataframe thead th {\n",
       "        text-align: right;\n",
       "    }\n",
       "</style>\n",
       "<table border=\"1\" class=\"dataframe\">\n",
       "  <thead>\n",
       "    <tr style=\"text-align: right;\">\n",
       "      <th></th>\n",
       "      <th>Source Column Names</th>\n",
       "      <th>Mapping Logic</th>\n",
       "      <th>Target Table</th>\n",
       "      <th>Target Field names</th>\n",
       "      <th>Target DataType</th>\n",
       "      <th>Description</th>\n",
       "    </tr>\n",
       "  </thead>\n",
       "  <tbody>\n",
       "    <tr>\n",
       "      <th>0</th>\n",
       "      <td>SSN</td>\n",
       "      <td>direct move</td>\n",
       "      <td>CDW_SAPP_CUSTOMER</td>\n",
       "      <td>SSN</td>\n",
       "      <td>VARCHAR</td>\n",
       "      <td>Social Security Number of the customer (National ID)</td>\n",
       "    </tr>\n",
       "    <tr>\n",
       "      <th>1</th>\n",
       "      <td>FIRST_NAME</td>\n",
       "      <td>convert the name to title case</td>\n",
       "      <td>CDW_SAPP_CUSTOMER</td>\n",
       "      <td>FIRST_NAME</td>\n",
       "      <td>VARCHAR</td>\n",
       "      <td>First Name of the Customer</td>\n",
       "    </tr>\n",
       "    <tr>\n",
       "      <th>2</th>\n",
       "      <td>MIDDLE_NAME</td>\n",
       "      <td>convert the middle name in lower case</td>\n",
       "      <td>CDW_SAPP_CUSTOMER</td>\n",
       "      <td>MIDDLE_NAME</td>\n",
       "      <td>VARCHAR</td>\n",
       "      <td>Middle Name of the customer</td>\n",
       "    </tr>\n",
       "    <tr>\n",
       "      <th>3</th>\n",
       "      <td>LAST_NAME</td>\n",
       "      <td>convert the last name in title case</td>\n",
       "      <td>CDW_SAPP_CUSTOMER</td>\n",
       "      <td>LAST_NAME</td>\n",
       "      <td>VARCHAR</td>\n",
       "      <td>Last Name of the customer</td>\n",
       "    </tr>\n",
       "    <tr>\n",
       "      <th>4</th>\n",
       "      <td>CREDIT_CARD_NO</td>\n",
       "      <td>direct_move</td>\n",
       "      <td>CDW_SAPP_CUSTOMER</td>\n",
       "      <td>Credit_card_no</td>\n",
       "      <td>VARCHAR</td>\n",
       "      <td>Credit card number of customer</td>\n",
       "    </tr>\n",
       "    <tr>\n",
       "      <th>5</th>\n",
       "      <td>STREET_NAME,APT_NO</td>\n",
       "      <td>concatenate apartment no and street name of customer's residence with comma as a seperator (street, apartment)</td>\n",
       "      <td>CDW_SAPP_CUSTOMER</td>\n",
       "      <td>FULL_STREET_ADDRESS</td>\n",
       "      <td>VARCHAR</td>\n",
       "      <td>Apartment no and Street name of customer's Residence</td>\n",
       "    </tr>\n",
       "    <tr>\n",
       "      <th>6</th>\n",
       "      <td>CUST_CITY</td>\n",
       "      <td>direct move</td>\n",
       "      <td>CDW_SAPP_CUSTOMER</td>\n",
       "      <td>CUST_CITY</td>\n",
       "      <td>VARCHAR</td>\n",
       "      <td>Customer’s Current City</td>\n",
       "    </tr>\n",
       "    <tr>\n",
       "      <th>7</th>\n",
       "      <td>CUST_STATE</td>\n",
       "      <td>direct move</td>\n",
       "      <td>CDW_SAPP_CUSTOMER</td>\n",
       "      <td>CUST_STATE</td>\n",
       "      <td>VARCHAR</td>\n",
       "      <td>Customer’s State code</td>\n",
       "    </tr>\n",
       "    <tr>\n",
       "      <th>8</th>\n",
       "      <td>CUST_COUNTRY</td>\n",
       "      <td>direct move</td>\n",
       "      <td>CDW_SAPP_CUSTOMER</td>\n",
       "      <td>CUST_COUNTRY</td>\n",
       "      <td>VARCHAR</td>\n",
       "      <td>Customer’s country code</td>\n",
       "    </tr>\n",
       "    <tr>\n",
       "      <th>9</th>\n",
       "      <td>CUST_ZIP</td>\n",
       "      <td>direct move</td>\n",
       "      <td>CDW_SAPP_CUSTOMER</td>\n",
       "      <td>CUST_ZIP</td>\n",
       "      <td>VARCHAR</td>\n",
       "      <td>Zip code of Customer's Country</td>\n",
       "    </tr>\n",
       "    <tr>\n",
       "      <th>10</th>\n",
       "      <td>CUST_PHONE</td>\n",
       "      <td>change the format of phone number to (xxx)xxx-xxxx</td>\n",
       "      <td>CDW_SAPP_CUSTOMER</td>\n",
       "      <td>CUST_PHONE</td>\n",
       "      <td>VARCHAR</td>\n",
       "      <td>Contact Number of the customer</td>\n",
       "    </tr>\n",
       "    <tr>\n",
       "      <th>11</th>\n",
       "      <td>CUST_EMAIL</td>\n",
       "      <td>direct move</td>\n",
       "      <td>CDW_SAPP_CUSTOMER</td>\n",
       "      <td>CUST_EMAIL</td>\n",
       "      <td>VARCHAR</td>\n",
       "      <td>Email address of the customer</td>\n",
       "    </tr>\n",
       "    <tr>\n",
       "      <th>12</th>\n",
       "      <td>LAST_UPDATED</td>\n",
       "      <td>direct move</td>\n",
       "      <td>CDW_SAPP_CUSTOMER</td>\n",
       "      <td>LAST_UPDATED</td>\n",
       "      <td>TIMESTAMP</td>\n",
       "      <td>Record inserted / modification date.</td>\n",
       "    </tr>\n",
       "  </tbody>\n",
       "</table>\n",
       "</div>"
      ],
      "text/plain": [
       "   Source Column Names  \\\n",
       "0                  SSN   \n",
       "1           FIRST_NAME   \n",
       "2          MIDDLE_NAME   \n",
       "3            LAST_NAME   \n",
       "4       CREDIT_CARD_NO   \n",
       "5   STREET_NAME,APT_NO   \n",
       "6            CUST_CITY   \n",
       "7           CUST_STATE   \n",
       "8         CUST_COUNTRY   \n",
       "9             CUST_ZIP   \n",
       "10          CUST_PHONE   \n",
       "11          CUST_EMAIL   \n",
       "12        LAST_UPDATED   \n",
       "\n",
       "                                                                                                     Mapping Logic  \\\n",
       "0                                                                                                      direct move   \n",
       "1                                                                                   convert the name to title case   \n",
       "2                                                                            convert the middle name in lower case   \n",
       "3                                                                              convert the last name in title case   \n",
       "4                                                                                                      direct_move   \n",
       "5   concatenate apartment no and street name of customer's residence with comma as a seperator (street, apartment)   \n",
       "6                                                                                                      direct move   \n",
       "7                                                                                                      direct move   \n",
       "8                                                                                                      direct move   \n",
       "9                                                                                                      direct move   \n",
       "10                                                              change the format of phone number to (xxx)xxx-xxxx   \n",
       "11                                                                                                     direct move   \n",
       "12                                                                                                     direct move   \n",
       "\n",
       "        Target Table    Target Field names Target DataType  \\\n",
       "0   CDW_SAPP_CUSTOMER                  SSN         VARCHAR   \n",
       "1   CDW_SAPP_CUSTOMER           FIRST_NAME         VARCHAR   \n",
       "2   CDW_SAPP_CUSTOMER          MIDDLE_NAME         VARCHAR   \n",
       "3   CDW_SAPP_CUSTOMER            LAST_NAME         VARCHAR   \n",
       "4   CDW_SAPP_CUSTOMER       Credit_card_no         VARCHAR   \n",
       "5   CDW_SAPP_CUSTOMER  FULL_STREET_ADDRESS         VARCHAR   \n",
       "6   CDW_SAPP_CUSTOMER            CUST_CITY         VARCHAR   \n",
       "7   CDW_SAPP_CUSTOMER           CUST_STATE         VARCHAR   \n",
       "8   CDW_SAPP_CUSTOMER         CUST_COUNTRY         VARCHAR   \n",
       "9   CDW_SAPP_CUSTOMER             CUST_ZIP         VARCHAR   \n",
       "10  CDW_SAPP_CUSTOMER           CUST_PHONE         VARCHAR   \n",
       "11  CDW_SAPP_CUSTOMER           CUST_EMAIL         VARCHAR   \n",
       "12  CDW_SAPP_CUSTOMER         LAST_UPDATED       TIMESTAMP   \n",
       "\n",
       "                                             Description  \n",
       "0   Social Security Number of the customer (National ID)  \n",
       "1                             First Name of the Customer  \n",
       "2                            Middle Name of the customer  \n",
       "3                              Last Name of the customer  \n",
       "4                         Credit card number of customer  \n",
       "5   Apartment no and Street name of customer's Residence  \n",
       "6                                Customer’s Current City  \n",
       "7                                  Customer’s State code  \n",
       "8                                Customer’s country code  \n",
       "9                         Zip code of Customer's Country  \n",
       "10                        Contact Number of the customer  \n",
       "11                         Email address of the customer  \n",
       "12                  Record inserted / modification date.  "
      ]
     },
     "execution_count": 60,
     "metadata": {},
     "output_type": "execute_result"
    }
   ],
   "source": [
    "customer_map['Mapping Logic'] = customer_map['Mapping Logic'].apply(lambda x: str(x).lower())\n",
    "customer_map"
   ]
  },
  {
   "cell_type": "code",
   "execution_count": 61,
   "metadata": {},
   "outputs": [],
   "source": [
    "customer_map['Mapping Logic'] = customer_map['Mapping Logic'].replace('direct_move', 'direct move')"
   ]
  },
  {
   "cell_type": "code",
   "execution_count": 62,
   "metadata": {},
   "outputs": [
    {
     "data": {
      "text/html": [
       "<div>\n",
       "<style scoped>\n",
       "    .dataframe tbody tr th:only-of-type {\n",
       "        vertical-align: middle;\n",
       "    }\n",
       "\n",
       "    .dataframe tbody tr th {\n",
       "        vertical-align: top;\n",
       "    }\n",
       "\n",
       "    .dataframe thead th {\n",
       "        text-align: right;\n",
       "    }\n",
       "</style>\n",
       "<table border=\"1\" class=\"dataframe\">\n",
       "  <thead>\n",
       "    <tr style=\"text-align: right;\">\n",
       "      <th></th>\n",
       "      <th>Source Column Names</th>\n",
       "      <th>Mapping Logic</th>\n",
       "      <th>Target Table</th>\n",
       "      <th>Target Field names</th>\n",
       "      <th>Target DataType</th>\n",
       "      <th>Description</th>\n",
       "    </tr>\n",
       "  </thead>\n",
       "  <tbody>\n",
       "    <tr>\n",
       "      <th>0</th>\n",
       "      <td>SSN</td>\n",
       "      <td>direct move</td>\n",
       "      <td>CDW_SAPP_CUSTOMER</td>\n",
       "      <td>SSN</td>\n",
       "      <td>VARCHAR</td>\n",
       "      <td>Social Security Number of the customer (National ID)</td>\n",
       "    </tr>\n",
       "    <tr>\n",
       "      <th>1</th>\n",
       "      <td>FIRST_NAME</td>\n",
       "      <td>convert the name to title case</td>\n",
       "      <td>CDW_SAPP_CUSTOMER</td>\n",
       "      <td>FIRST_NAME</td>\n",
       "      <td>VARCHAR</td>\n",
       "      <td>First Name of the Customer</td>\n",
       "    </tr>\n",
       "  </tbody>\n",
       "</table>\n",
       "</div>"
      ],
      "text/plain": [
       "  Source Column Names                   Mapping Logic      Target Table   \\\n",
       "0                 SSN                     direct move  CDW_SAPP_CUSTOMER   \n",
       "1          FIRST_NAME  convert the name to title case  CDW_SAPP_CUSTOMER   \n",
       "\n",
       "  Target Field names Target DataType  \\\n",
       "0                SSN         VARCHAR   \n",
       "1         FIRST_NAME         VARCHAR   \n",
       "\n",
       "                                            Description  \n",
       "0  Social Security Number of the customer (National ID)  \n",
       "1                            First Name of the Customer  "
      ]
     },
     "execution_count": 62,
     "metadata": {},
     "output_type": "execute_result"
    }
   ],
   "source": [
    "customer_map['Target Field names'] = customer_map['Target Field names'].apply(lambda x: str(x).upper())\n",
    "customer_map.head(2)"
   ]
  },
  {
   "attachments": {},
   "cell_type": "markdown",
   "metadata": {},
   "source": [
    "Now I can see exactly what needs to be transformed. "
   ]
  },
  {
   "cell_type": "code",
   "execution_count": 63,
   "metadata": {},
   "outputs": [
    {
     "data": {
      "text/html": [
       "<div>\n",
       "<style scoped>\n",
       "    .dataframe tbody tr th:only-of-type {\n",
       "        vertical-align: middle;\n",
       "    }\n",
       "\n",
       "    .dataframe tbody tr th {\n",
       "        vertical-align: top;\n",
       "    }\n",
       "\n",
       "    .dataframe thead th {\n",
       "        text-align: right;\n",
       "    }\n",
       "</style>\n",
       "<table border=\"1\" class=\"dataframe\">\n",
       "  <thead>\n",
       "    <tr style=\"text-align: right;\">\n",
       "      <th></th>\n",
       "      <th>Source Column Names</th>\n",
       "      <th>Mapping Logic</th>\n",
       "      <th>Target Table</th>\n",
       "      <th>Target Field names</th>\n",
       "      <th>Target DataType</th>\n",
       "      <th>Description</th>\n",
       "    </tr>\n",
       "  </thead>\n",
       "  <tbody>\n",
       "    <tr>\n",
       "      <th>1</th>\n",
       "      <td>FIRST_NAME</td>\n",
       "      <td>convert the name to title case</td>\n",
       "      <td>CDW_SAPP_CUSTOMER</td>\n",
       "      <td>FIRST_NAME</td>\n",
       "      <td>VARCHAR</td>\n",
       "      <td>First Name of the Customer</td>\n",
       "    </tr>\n",
       "    <tr>\n",
       "      <th>2</th>\n",
       "      <td>MIDDLE_NAME</td>\n",
       "      <td>convert the middle name in lower case</td>\n",
       "      <td>CDW_SAPP_CUSTOMER</td>\n",
       "      <td>MIDDLE_NAME</td>\n",
       "      <td>VARCHAR</td>\n",
       "      <td>Middle Name of the customer</td>\n",
       "    </tr>\n",
       "    <tr>\n",
       "      <th>3</th>\n",
       "      <td>LAST_NAME</td>\n",
       "      <td>convert the last name in title case</td>\n",
       "      <td>CDW_SAPP_CUSTOMER</td>\n",
       "      <td>LAST_NAME</td>\n",
       "      <td>VARCHAR</td>\n",
       "      <td>Last Name of the customer</td>\n",
       "    </tr>\n",
       "    <tr>\n",
       "      <th>5</th>\n",
       "      <td>STREET_NAME,APT_NO</td>\n",
       "      <td>concatenate apartment no and street name of customer's residence with comma as a seperator (street, apartment)</td>\n",
       "      <td>CDW_SAPP_CUSTOMER</td>\n",
       "      <td>FULL_STREET_ADDRESS</td>\n",
       "      <td>VARCHAR</td>\n",
       "      <td>Apartment no and Street name of customer's Residence</td>\n",
       "    </tr>\n",
       "    <tr>\n",
       "      <th>10</th>\n",
       "      <td>CUST_PHONE</td>\n",
       "      <td>change the format of phone number to (xxx)xxx-xxxx</td>\n",
       "      <td>CDW_SAPP_CUSTOMER</td>\n",
       "      <td>CUST_PHONE</td>\n",
       "      <td>VARCHAR</td>\n",
       "      <td>Contact Number of the customer</td>\n",
       "    </tr>\n",
       "  </tbody>\n",
       "</table>\n",
       "</div>"
      ],
      "text/plain": [
       "   Source Column Names  \\\n",
       "1           FIRST_NAME   \n",
       "2          MIDDLE_NAME   \n",
       "3            LAST_NAME   \n",
       "5   STREET_NAME,APT_NO   \n",
       "10          CUST_PHONE   \n",
       "\n",
       "                                                                                                     Mapping Logic  \\\n",
       "1                                                                                   convert the name to title case   \n",
       "2                                                                            convert the middle name in lower case   \n",
       "3                                                                              convert the last name in title case   \n",
       "5   concatenate apartment no and street name of customer's residence with comma as a seperator (street, apartment)   \n",
       "10                                                              change the format of phone number to (xxx)xxx-xxxx   \n",
       "\n",
       "        Target Table    Target Field names Target DataType  \\\n",
       "1   CDW_SAPP_CUSTOMER           FIRST_NAME         VARCHAR   \n",
       "2   CDW_SAPP_CUSTOMER          MIDDLE_NAME         VARCHAR   \n",
       "3   CDW_SAPP_CUSTOMER            LAST_NAME         VARCHAR   \n",
       "5   CDW_SAPP_CUSTOMER  FULL_STREET_ADDRESS         VARCHAR   \n",
       "10  CDW_SAPP_CUSTOMER           CUST_PHONE         VARCHAR   \n",
       "\n",
       "                                             Description  \n",
       "1                             First Name of the Customer  \n",
       "2                            Middle Name of the customer  \n",
       "3                              Last Name of the customer  \n",
       "5   Apartment no and Street name of customer's Residence  \n",
       "10                        Contact Number of the customer  "
      ]
     },
     "execution_count": 63,
     "metadata": {},
     "output_type": "execute_result"
    }
   ],
   "source": [
    "customer_transform_guide = customer_map[(customer_map['Mapping Logic'] != 'direct move')]\n",
    "customer_transform_guide"
   ]
  },
  {
   "cell_type": "code",
   "execution_count": 64,
   "metadata": {},
   "outputs": [],
   "source": [
    "customer_transform_guide.set_index('Source Column Names', inplace=True)"
   ]
  },
  {
   "cell_type": "code",
   "execution_count": 65,
   "metadata": {},
   "outputs": [
    {
     "data": {
      "text/html": [
       "<div>\n",
       "<style scoped>\n",
       "    .dataframe tbody tr th:only-of-type {\n",
       "        vertical-align: middle;\n",
       "    }\n",
       "\n",
       "    .dataframe tbody tr th {\n",
       "        vertical-align: top;\n",
       "    }\n",
       "\n",
       "    .dataframe thead th {\n",
       "        text-align: right;\n",
       "    }\n",
       "</style>\n",
       "<table border=\"1\" class=\"dataframe\">\n",
       "  <thead>\n",
       "    <tr style=\"text-align: right;\">\n",
       "      <th></th>\n",
       "      <th>Mapping Logic</th>\n",
       "      <th>Target Table</th>\n",
       "      <th>Target Field names</th>\n",
       "      <th>Target DataType</th>\n",
       "      <th>Description</th>\n",
       "    </tr>\n",
       "    <tr>\n",
       "      <th>Source Column Names</th>\n",
       "      <th></th>\n",
       "      <th></th>\n",
       "      <th></th>\n",
       "      <th></th>\n",
       "      <th></th>\n",
       "    </tr>\n",
       "  </thead>\n",
       "  <tbody>\n",
       "    <tr>\n",
       "      <th>FIRST_NAME</th>\n",
       "      <td>convert the name to title case</td>\n",
       "      <td>CDW_SAPP_CUSTOMER</td>\n",
       "      <td>FIRST_NAME</td>\n",
       "      <td>VARCHAR</td>\n",
       "      <td>First Name of the Customer</td>\n",
       "    </tr>\n",
       "    <tr>\n",
       "      <th>MIDDLE_NAME</th>\n",
       "      <td>convert the middle name in lower case</td>\n",
       "      <td>CDW_SAPP_CUSTOMER</td>\n",
       "      <td>MIDDLE_NAME</td>\n",
       "      <td>VARCHAR</td>\n",
       "      <td>Middle Name of the customer</td>\n",
       "    </tr>\n",
       "    <tr>\n",
       "      <th>LAST_NAME</th>\n",
       "      <td>convert the last name in title case</td>\n",
       "      <td>CDW_SAPP_CUSTOMER</td>\n",
       "      <td>LAST_NAME</td>\n",
       "      <td>VARCHAR</td>\n",
       "      <td>Last Name of the customer</td>\n",
       "    </tr>\n",
       "    <tr>\n",
       "      <th>STREET_NAME,APT_NO</th>\n",
       "      <td>concatenate apartment no and street name of customer's residence with comma as a seperator (street, apartment)</td>\n",
       "      <td>CDW_SAPP_CUSTOMER</td>\n",
       "      <td>FULL_STREET_ADDRESS</td>\n",
       "      <td>VARCHAR</td>\n",
       "      <td>Apartment no and Street name of customer's Residence</td>\n",
       "    </tr>\n",
       "  </tbody>\n",
       "</table>\n",
       "</div>"
      ],
      "text/plain": [
       "                                                                                                                      Mapping Logic  \\\n",
       "Source Column Names                                                                                                                   \n",
       "FIRST_NAME                                                                                           convert the name to title case   \n",
       "MIDDLE_NAME                                                                                   convert the middle name in lower case   \n",
       "LAST_NAME                                                                                       convert the last name in title case   \n",
       "STREET_NAME,APT_NO   concatenate apartment no and street name of customer's residence with comma as a seperator (street, apartment)   \n",
       "\n",
       "                         Target Table    Target Field names Target DataType  \\\n",
       "Source Column Names                                                           \n",
       "FIRST_NAME           CDW_SAPP_CUSTOMER           FIRST_NAME         VARCHAR   \n",
       "MIDDLE_NAME          CDW_SAPP_CUSTOMER          MIDDLE_NAME         VARCHAR   \n",
       "LAST_NAME            CDW_SAPP_CUSTOMER            LAST_NAME         VARCHAR   \n",
       "STREET_NAME,APT_NO   CDW_SAPP_CUSTOMER  FULL_STREET_ADDRESS         VARCHAR   \n",
       "\n",
       "                                                              Description  \n",
       "Source Column Names                                                        \n",
       "FIRST_NAME                                     First Name of the Customer  \n",
       "MIDDLE_NAME                                   Middle Name of the customer  \n",
       "LAST_NAME                                       Last Name of the customer  \n",
       "STREET_NAME,APT_NO   Apartment no and Street name of customer's Residence  "
      ]
     },
     "execution_count": 65,
     "metadata": {},
     "output_type": "execute_result"
    }
   ],
   "source": [
    "customer_transform_guide.filter(like='NAME', axis=0)"
   ]
  },
  {
   "attachments": {},
   "cell_type": "markdown",
   "metadata": {},
   "source": [
    "#### Transforming the name"
   ]
  },
  {
   "cell_type": "code",
   "execution_count": 22,
   "metadata": {},
   "outputs": [],
   "source": [
    "customer_df_backup = customer_df\n"
   ]
  },
  {
   "cell_type": "code",
   "execution_count": 23,
   "metadata": {},
   "outputs": [],
   "source": [
    "import pyspark.sql.functions as F"
   ]
  },
  {
   "cell_type": "code",
   "execution_count": 24,
   "metadata": {},
   "outputs": [],
   "source": [
    "customer_df = customer_df.withColumns({'FIRST_NAME':F.initcap(customer_df['FIRST_NAME']), 'LAST_NAME':F.initcap(customer_df['LAST_NAME'])})"
   ]
  },
  {
   "cell_type": "code",
   "execution_count": 25,
   "metadata": {},
   "outputs": [],
   "source": [
    "customer_df = customer_df.withColumn('MIDDLE_NAME', F.lower(customer_df['MIDDLE_NAME']))"
   ]
  },
  {
   "attachments": {},
   "cell_type": "markdown",
   "metadata": {},
   "source": [
    "Confirming Transformation is correct"
   ]
  },
  {
   "cell_type": "code",
   "execution_count": 26,
   "metadata": {},
   "outputs": [
    {
     "name": "stdout",
     "output_type": "stream",
     "text": [
      "+----------+---------+-----------+\n",
      "|FIRST_NAME|LAST_NAME|MIDDLE_NAME|\n",
      "+----------+---------+-----------+\n",
      "|      Alec|   Hooper|         wm|\n",
      "|      Etta|   Holman|    brendan|\n",
      "+----------+---------+-----------+\n",
      "only showing top 2 rows\n",
      "\n"
     ]
    }
   ],
   "source": [
    "customer_df['FIRST_NAME', 'LAST_NAME', 'MIDDLE_NAME'].show(2)"
   ]
  },
  {
   "attachments": {},
   "cell_type": "markdown",
   "metadata": {},
   "source": [
    "#### Transforming the Address"
   ]
  },
  {
   "attachments": {},
   "cell_type": "markdown",
   "metadata": {},
   "source": [
    "The easiest way to do this is to generate a SQL temp-table that is attached to the current spark session. <br>\n",
    "I'm operating on the temp-table with SQL instead of Python here and its much easier and cleaner."
   ]
  },
  {
   "cell_type": "code",
   "execution_count": 27,
   "metadata": {},
   "outputs": [],
   "source": [
    "test = customer_df.createOrReplaceGlobalTempView('customer')"
   ]
  },
  {
   "cell_type": "code",
   "execution_count": 28,
   "metadata": {},
   "outputs": [],
   "source": [
    "customer_df = spark_sesh.sql(\"\"\"\n",
    "SELECT\n",
    "    *,\n",
    "    CONCAT(STREET_NAME, \", \", APT_NO) AS FULL_STREET_ADDRESS\n",
    "FROM\n",
    "    global_temp.customer\n",
    "\"\"\")"
   ]
  },
  {
   "attachments": {},
   "cell_type": "markdown",
   "metadata": {},
   "source": [
    "📝Notes: <br>\n",
    "It might be *expensive* to concatenate the columns apt_no and street_name in one dataframe and then include them *again*<br>\n",
    "by using the `select *` statement and dropping the extraneous columns, but with this current dataset the operations are pretty fast, and I'd rather save time using `*` and `.drop()` than including each and every column manually. <br>\n",
    "\n",
    "Either way, we still have one more transformations left and pyspark's dataframes are immutable, so we generate a new copy of a dataframe every time."
   ]
  },
  {
   "cell_type": "code",
   "execution_count": 31,
   "metadata": {},
   "outputs": [
    {
     "name": "stdout",
     "output_type": "stream",
     "text": [
      "+------+-----------------+----------------------+\n",
      "|APT_NO|STREET_NAME      |FULL_STREET_ADDRESS   |\n",
      "+------+-----------------+----------------------+\n",
      "|656   |Main Street North|Main Street North, 656|\n",
      "|829   |Redwood Drive    |Redwood Drive, 829    |\n",
      "+------+-----------------+----------------------+\n",
      "only showing top 2 rows\n",
      "\n"
     ]
    }
   ],
   "source": [
    "customer_df[['APT_NO', 'STREET_NAME', 'FULL_STREET_ADDRESS']].show(2, truncate=False)"
   ]
  },
  {
   "cell_type": "code",
   "execution_count": 32,
   "metadata": {},
   "outputs": [],
   "source": [
    "customer_df = customer_df.drop('APT_NO', 'STREET_NAME')"
   ]
  },
  {
   "attachments": {},
   "cell_type": "markdown",
   "metadata": {},
   "source": [
    "The address is now concatenated and the other two columns are dropped."
   ]
  },
  {
   "cell_type": "code",
   "execution_count": 33,
   "metadata": {},
   "outputs": [
    {
     "name": "stdout",
     "output_type": "stream",
     "text": [
      "+----------------------+\n",
      "|FULL_STREET_ADDRESS   |\n",
      "+----------------------+\n",
      "|Main Street North, 656|\n",
      "|Redwood Drive, 829    |\n",
      "+----------------------+\n",
      "only showing top 2 rows\n",
      "\n"
     ]
    }
   ],
   "source": [
    "customer_df[['FULL_STREET_ADDRESS']].show(2, truncate=False)"
   ]
  },
  {
   "cell_type": "code",
   "execution_count": 34,
   "metadata": {},
   "outputs": [
    {
     "name": "stdout",
     "output_type": "stream",
     "text": [
      "root\n",
      " |-- CREDIT_CARD_NO: string (nullable = true)\n",
      " |-- CUST_CITY: string (nullable = true)\n",
      " |-- CUST_COUNTRY: string (nullable = true)\n",
      " |-- CUST_EMAIL: string (nullable = true)\n",
      " |-- CUST_PHONE: long (nullable = true)\n",
      " |-- CUST_STATE: string (nullable = true)\n",
      " |-- CUST_ZIP: string (nullable = true)\n",
      " |-- FIRST_NAME: string (nullable = true)\n",
      " |-- LAST_NAME: string (nullable = true)\n",
      " |-- LAST_UPDATED: string (nullable = true)\n",
      " |-- MIDDLE_NAME: string (nullable = true)\n",
      " |-- SSN: long (nullable = true)\n",
      " |-- FULL_STREET_ADDRESS: string (nullable = true)\n",
      "\n"
     ]
    }
   ],
   "source": [
    "customer_df.printSchema()"
   ]
  },
  {
   "attachments": {},
   "cell_type": "markdown",
   "metadata": {},
   "source": [
    "#### Transforming the Phone number"
   ]
  },
  {
   "cell_type": "code",
   "execution_count": 66,
   "metadata": {},
   "outputs": [
    {
     "data": {
      "text/html": [
       "<div>\n",
       "<style scoped>\n",
       "    .dataframe tbody tr th:only-of-type {\n",
       "        vertical-align: middle;\n",
       "    }\n",
       "\n",
       "    .dataframe tbody tr th {\n",
       "        vertical-align: top;\n",
       "    }\n",
       "\n",
       "    .dataframe thead th {\n",
       "        text-align: right;\n",
       "    }\n",
       "</style>\n",
       "<table border=\"1\" class=\"dataframe\">\n",
       "  <thead>\n",
       "    <tr style=\"text-align: right;\">\n",
       "      <th></th>\n",
       "      <th>Mapping Logic</th>\n",
       "      <th>Target Table</th>\n",
       "      <th>Target Field names</th>\n",
       "      <th>Target DataType</th>\n",
       "      <th>Description</th>\n",
       "    </tr>\n",
       "    <tr>\n",
       "      <th>Source Column Names</th>\n",
       "      <th></th>\n",
       "      <th></th>\n",
       "      <th></th>\n",
       "      <th></th>\n",
       "      <th></th>\n",
       "    </tr>\n",
       "  </thead>\n",
       "  <tbody>\n",
       "    <tr>\n",
       "      <th>CUST_PHONE</th>\n",
       "      <td>change the format of phone number to (xxx)xxx-xxxx</td>\n",
       "      <td>CDW_SAPP_CUSTOMER</td>\n",
       "      <td>CUST_PHONE</td>\n",
       "      <td>VARCHAR</td>\n",
       "      <td>Contact Number of the customer</td>\n",
       "    </tr>\n",
       "  </tbody>\n",
       "</table>\n",
       "</div>"
      ],
      "text/plain": [
       "                                                          Mapping Logic  \\\n",
       "Source Column Names                                                       \n",
       "CUST_PHONE           change the format of phone number to (xxx)xxx-xxxx   \n",
       "\n",
       "                         Target Table  Target Field names Target DataType  \\\n",
       "Source Column Names                                                         \n",
       "CUST_PHONE           CDW_SAPP_CUSTOMER         CUST_PHONE         VARCHAR   \n",
       "\n",
       "                                        Description  \n",
       "Source Column Names                                  \n",
       "CUST_PHONE           Contact Number of the customer  "
      ]
     },
     "execution_count": 66,
     "metadata": {},
     "output_type": "execute_result"
    }
   ],
   "source": [
    "customer_transform_guide.filter(like='PHONE', axis=0)"
   ]
  },
  {
   "cell_type": "code",
   "execution_count": 50,
   "metadata": {},
   "outputs": [
    {
     "name": "stdout",
     "output_type": "stream",
     "text": [
      "+----------+\n",
      "|CUST_PHONE|\n",
      "+----------+\n",
      "|   1237818|\n",
      "|   1238933|\n",
      "+----------+\n",
      "only showing top 2 rows\n",
      "\n"
     ]
    }
   ],
   "source": [
    "customer_df[['CUST_PHONE']].show(2)"
   ]
  },
  {
   "attachments": {},
   "cell_type": "markdown",
   "metadata": {},
   "source": [
    "Here we are only required to add an artificial area code and the parenthesis and dash, so I'll do just that.\n"
   ]
  },
  {
   "attachments": {},
   "cell_type": "markdown",
   "metadata": {},
   "source": [
    "Using Pyspark.sql's  user-defined function this time:"
   ]
  },
  {
   "cell_type": "code",
   "execution_count": 51,
   "metadata": {},
   "outputs": [],
   "source": [
    "phone_refactor = F.udf(lambda phone: \"(555)\" + str(phone)[:3] + \"-\" + str(phone)[3:])\n",
    "# phone[0, 3) + phone[3:]\n",
    "# note the slice includes the end of the string with [:]"
   ]
  },
  {
   "cell_type": "code",
   "execution_count": 52,
   "metadata": {},
   "outputs": [],
   "source": [
    "customer_df = customer_df.withColumn('CUST_PHONE', phone_refactor(customer_df['CUST_PHONE']))"
   ]
  },
  {
   "cell_type": "code",
   "execution_count": 53,
   "metadata": {},
   "outputs": [
    {
     "name": "stdout",
     "output_type": "stream",
     "text": [
      "+-------------+\n",
      "|   CUST_PHONE|\n",
      "+-------------+\n",
      "|(555)123-7818|\n",
      "|(555)123-8933|\n",
      "+-------------+\n",
      "only showing top 2 rows\n",
      "\n"
     ]
    }
   ],
   "source": [
    "customer_df[['CUST_PHONE']].show(2)"
   ]
  },
  {
   "attachments": {},
   "cell_type": "markdown",
   "metadata": {},
   "source": [
    "Checking the types, you can see I transformed the phone number to a more-appropriate string datatype while modifying the phone number. <br>\n",
    "(It was previously long int type)"
   ]
  },
  {
   "cell_type": "code",
   "execution_count": 54,
   "metadata": {},
   "outputs": [
    {
     "data": {
      "text/plain": [
       "[('CREDIT_CARD_NO', 'string'),\n",
       " ('CUST_CITY', 'string'),\n",
       " ('CUST_COUNTRY', 'string'),\n",
       " ('CUST_EMAIL', 'string'),\n",
       " ('CUST_PHONE', 'string'),\n",
       " ('CUST_STATE', 'string'),\n",
       " ('CUST_ZIP', 'string'),\n",
       " ('FIRST_NAME', 'string'),\n",
       " ('LAST_NAME', 'string'),\n",
       " ('LAST_UPDATED', 'string'),\n",
       " ('MIDDLE_NAME', 'string'),\n",
       " ('SSN', 'bigint'),\n",
       " ('FULL_STREET_ADDRESS', 'string')]"
      ]
     },
     "execution_count": 54,
     "metadata": {},
     "output_type": "execute_result"
    }
   ],
   "source": [
    "customer_df.dtypes"
   ]
  },
  {
   "cell_type": "code",
   "execution_count": null,
   "metadata": {},
   "outputs": [],
   "source": [
    "customer_df = customer_df.withColumn('SSN', customer_df['SSN'].cast('string'))"
   ]
  },
  {
   "cell_type": "code",
   "execution_count": 76,
   "metadata": {},
   "outputs": [
    {
     "name": "stdout",
     "output_type": "stream",
     "text": [
      "+-----------------------------+\n",
      "|LAST_UPDATED                 |\n",
      "+-----------------------------+\n",
      "|2018-04-21T12:49:02.000-04:00|\n",
      "|2018-04-21T12:49:02.000-04:00|\n",
      "+-----------------------------+\n",
      "only showing top 2 rows\n",
      "\n"
     ]
    }
   ],
   "source": [
    "customer_df[['LAST_UPDATED']].show(2, truncate=False)"
   ]
  },
  {
   "cell_type": "code",
   "execution_count": 78,
   "metadata": {},
   "outputs": [],
   "source": [
    "customer_df= customer_df.withColumn('LAST_UPDATED', customer_df['LAST_UPDATED'].cast('timestamp'))"
   ]
  },
  {
   "cell_type": "code",
   "execution_count": 79,
   "metadata": {},
   "outputs": [
    {
     "name": "stdout",
     "output_type": "stream",
     "text": [
      "+-------------------+\n",
      "|LAST_UPDATED       |\n",
      "+-------------------+\n",
      "|2018-04-21 12:49:02|\n",
      "|2018-04-21 12:49:02|\n",
      "+-------------------+\n",
      "only showing top 2 rows\n",
      "\n"
     ]
    }
   ],
   "source": [
    "customer_df[['LAST_UPDATED']].show(2, truncate=False)"
   ]
  },
  {
   "attachments": {},
   "cell_type": "markdown",
   "metadata": {},
   "source": [
    "#### Confirming Types for Customer One Last Time"
   ]
  },
  {
   "attachments": {},
   "cell_type": "markdown",
   "metadata": {},
   "source": [
    "Here I'm just comparing the expected vs actual datatypes and making sure they are at least somewhat similar  - pyspark.sql does not have all of the exact datatypes that most sql database engines have. \n",
    "<br><br>\n",
    "Also, not to mention pyspark.sql datatypes don't really have the ability to set constraints on what goes into their columns. <br>\n",
    "For example, I created a database where CUST_STATE is VARCHAR(2), and while VARCHAR(2) and VARCHAR(32) take up the exact <br>\n",
    "same amount of disk space, VARCHAR(2) can potentially help save us from some data-entry headaches later down the line."
   ]
  },
  {
   "cell_type": "code",
   "execution_count": 138,
   "metadata": {},
   "outputs": [],
   "source": [
    "def compare_types(mapping_requirements: pd.DataFrame, column_names: str, dataframe: pyspark.sql.DataFrame) -> pd.DataFrame:\n",
    "    \"\"\"\n",
    "    Mapping Requirements -> df\n",
    "    Column Names -> Name of the column on the Mapping Requirements df that contains the column names \n",
    "    Dataframe -> actual dataframe we are transforming, must be pyspark.sql df (for now)\n",
    "    \"\"\"\n",
    "    mapping_column_names = \", \".join(name for name in mapping_requirements.columns)\n",
    "    pyspark_df_column_names = \", \".join(name[0] for name in dataframe.dtypes)\n",
    "    types_df = pd.DataFrame(dataframe.dtypes)  # make df of d-types\n",
    "    dataframe_var_name_col = 'Current Column Names'\n",
    "    dataframe_var_name_type = 'Current Column Types'\n",
    "    types_df.columns = [dataframe_var_name_col, dataframe_var_name_type]  # set column names\n",
    "    mapping_df = pd.merge(mapping_requirements, types_df, left_on=column_names, right_on=dataframe_var_name_col, how='outer')  # pd merge\n",
    "    # print(f\"Mapping Document Total Columns: {len(mapping_requirements.columns)}\")\n",
    "    # print(f\"Mapping Document Columns: {mapping_column_names}\")\n",
    "    # print(\"\")\n",
    "    # print(f\"DataFrame Total Columns: {len(dataframe.dtypes)}\")\n",
    "    # print(f\"DataFrame Column Names: {pyspark_df_column_names}\")\n",
    "    return mapping_df "
   ]
  },
  {
   "cell_type": "code",
   "execution_count": 139,
   "metadata": {},
   "outputs": [
    {
     "data": {
      "text/html": [
       "<div>\n",
       "<style scoped>\n",
       "    .dataframe tbody tr th:only-of-type {\n",
       "        vertical-align: middle;\n",
       "    }\n",
       "\n",
       "    .dataframe tbody tr th {\n",
       "        vertical-align: top;\n",
       "    }\n",
       "\n",
       "    .dataframe thead th {\n",
       "        text-align: right;\n",
       "    }\n",
       "</style>\n",
       "<table border=\"1\" class=\"dataframe\">\n",
       "  <thead>\n",
       "    <tr style=\"text-align: right;\">\n",
       "      <th></th>\n",
       "      <th>Source Column Names</th>\n",
       "      <th>Mapping Logic</th>\n",
       "      <th>Target Field names</th>\n",
       "      <th>Current Column Names</th>\n",
       "      <th>Target DataType</th>\n",
       "      <th>Current Column Types</th>\n",
       "    </tr>\n",
       "  </thead>\n",
       "  <tbody>\n",
       "    <tr>\n",
       "      <th>0</th>\n",
       "      <td>SSN</td>\n",
       "      <td>direct move</td>\n",
       "      <td>SSN</td>\n",
       "      <td>SSN</td>\n",
       "      <td>VARCHAR</td>\n",
       "      <td>string</td>\n",
       "    </tr>\n",
       "    <tr>\n",
       "      <th>1</th>\n",
       "      <td>FIRST_NAME</td>\n",
       "      <td>convert the name to title case</td>\n",
       "      <td>FIRST_NAME</td>\n",
       "      <td>FIRST_NAME</td>\n",
       "      <td>VARCHAR</td>\n",
       "      <td>string</td>\n",
       "    </tr>\n",
       "    <tr>\n",
       "      <th>2</th>\n",
       "      <td>MIDDLE_NAME</td>\n",
       "      <td>convert the middle name in lower case</td>\n",
       "      <td>MIDDLE_NAME</td>\n",
       "      <td>MIDDLE_NAME</td>\n",
       "      <td>VARCHAR</td>\n",
       "      <td>string</td>\n",
       "    </tr>\n",
       "    <tr>\n",
       "      <th>3</th>\n",
       "      <td>LAST_NAME</td>\n",
       "      <td>convert the last name in title case</td>\n",
       "      <td>LAST_NAME</td>\n",
       "      <td>LAST_NAME</td>\n",
       "      <td>VARCHAR</td>\n",
       "      <td>string</td>\n",
       "    </tr>\n",
       "    <tr>\n",
       "      <th>4</th>\n",
       "      <td>CREDIT_CARD_NO</td>\n",
       "      <td>direct move</td>\n",
       "      <td>CREDIT_CARD_NO</td>\n",
       "      <td>CREDIT_CARD_NO</td>\n",
       "      <td>VARCHAR</td>\n",
       "      <td>string</td>\n",
       "    </tr>\n",
       "    <tr>\n",
       "      <th>5</th>\n",
       "      <td>STREET_NAME,APT_NO</td>\n",
       "      <td>concatenate apartment no and street name of customer's residence with comma as a seperator (street, apartment)</td>\n",
       "      <td>FULL_STREET_ADDRESS</td>\n",
       "      <td>FULL_STREET_ADDRESS</td>\n",
       "      <td>VARCHAR</td>\n",
       "      <td>string</td>\n",
       "    </tr>\n",
       "    <tr>\n",
       "      <th>6</th>\n",
       "      <td>CUST_CITY</td>\n",
       "      <td>direct move</td>\n",
       "      <td>CUST_CITY</td>\n",
       "      <td>CUST_CITY</td>\n",
       "      <td>VARCHAR</td>\n",
       "      <td>string</td>\n",
       "    </tr>\n",
       "    <tr>\n",
       "      <th>7</th>\n",
       "      <td>CUST_STATE</td>\n",
       "      <td>direct move</td>\n",
       "      <td>CUST_STATE</td>\n",
       "      <td>CUST_STATE</td>\n",
       "      <td>VARCHAR</td>\n",
       "      <td>string</td>\n",
       "    </tr>\n",
       "    <tr>\n",
       "      <th>8</th>\n",
       "      <td>CUST_COUNTRY</td>\n",
       "      <td>direct move</td>\n",
       "      <td>CUST_COUNTRY</td>\n",
       "      <td>CUST_COUNTRY</td>\n",
       "      <td>VARCHAR</td>\n",
       "      <td>string</td>\n",
       "    </tr>\n",
       "    <tr>\n",
       "      <th>9</th>\n",
       "      <td>CUST_ZIP</td>\n",
       "      <td>direct move</td>\n",
       "      <td>CUST_ZIP</td>\n",
       "      <td>CUST_ZIP</td>\n",
       "      <td>VARCHAR</td>\n",
       "      <td>string</td>\n",
       "    </tr>\n",
       "    <tr>\n",
       "      <th>10</th>\n",
       "      <td>CUST_PHONE</td>\n",
       "      <td>change the format of phone number to (xxx)xxx-xxxx</td>\n",
       "      <td>CUST_PHONE</td>\n",
       "      <td>CUST_PHONE</td>\n",
       "      <td>VARCHAR</td>\n",
       "      <td>string</td>\n",
       "    </tr>\n",
       "    <tr>\n",
       "      <th>11</th>\n",
       "      <td>CUST_EMAIL</td>\n",
       "      <td>direct move</td>\n",
       "      <td>CUST_EMAIL</td>\n",
       "      <td>CUST_EMAIL</td>\n",
       "      <td>VARCHAR</td>\n",
       "      <td>string</td>\n",
       "    </tr>\n",
       "    <tr>\n",
       "      <th>12</th>\n",
       "      <td>LAST_UPDATED</td>\n",
       "      <td>direct move</td>\n",
       "      <td>LAST_UPDATED</td>\n",
       "      <td>LAST_UPDATED</td>\n",
       "      <td>TIMESTAMP</td>\n",
       "      <td>timestamp</td>\n",
       "    </tr>\n",
       "  </tbody>\n",
       "</table>\n",
       "</div>"
      ],
      "text/plain": [
       "   Source Column Names  \\\n",
       "0                  SSN   \n",
       "1           FIRST_NAME   \n",
       "2          MIDDLE_NAME   \n",
       "3            LAST_NAME   \n",
       "4       CREDIT_CARD_NO   \n",
       "5   STREET_NAME,APT_NO   \n",
       "6            CUST_CITY   \n",
       "7           CUST_STATE   \n",
       "8         CUST_COUNTRY   \n",
       "9             CUST_ZIP   \n",
       "10          CUST_PHONE   \n",
       "11          CUST_EMAIL   \n",
       "12        LAST_UPDATED   \n",
       "\n",
       "                                                                                                     Mapping Logic  \\\n",
       "0                                                                                                      direct move   \n",
       "1                                                                                   convert the name to title case   \n",
       "2                                                                            convert the middle name in lower case   \n",
       "3                                                                              convert the last name in title case   \n",
       "4                                                                                                      direct move   \n",
       "5   concatenate apartment no and street name of customer's residence with comma as a seperator (street, apartment)   \n",
       "6                                                                                                      direct move   \n",
       "7                                                                                                      direct move   \n",
       "8                                                                                                      direct move   \n",
       "9                                                                                                      direct move   \n",
       "10                                                              change the format of phone number to (xxx)xxx-xxxx   \n",
       "11                                                                                                     direct move   \n",
       "12                                                                                                     direct move   \n",
       "\n",
       "     Target Field names Current Column Names Target DataType  \\\n",
       "0                   SSN                  SSN         VARCHAR   \n",
       "1            FIRST_NAME           FIRST_NAME         VARCHAR   \n",
       "2           MIDDLE_NAME          MIDDLE_NAME         VARCHAR   \n",
       "3             LAST_NAME            LAST_NAME         VARCHAR   \n",
       "4        CREDIT_CARD_NO       CREDIT_CARD_NO         VARCHAR   \n",
       "5   FULL_STREET_ADDRESS  FULL_STREET_ADDRESS         VARCHAR   \n",
       "6             CUST_CITY            CUST_CITY         VARCHAR   \n",
       "7            CUST_STATE           CUST_STATE         VARCHAR   \n",
       "8          CUST_COUNTRY         CUST_COUNTRY         VARCHAR   \n",
       "9              CUST_ZIP             CUST_ZIP         VARCHAR   \n",
       "10           CUST_PHONE           CUST_PHONE         VARCHAR   \n",
       "11           CUST_EMAIL           CUST_EMAIL         VARCHAR   \n",
       "12         LAST_UPDATED         LAST_UPDATED       TIMESTAMP   \n",
       "\n",
       "   Current Column Types  \n",
       "0                string  \n",
       "1                string  \n",
       "2                string  \n",
       "3                string  \n",
       "4                string  \n",
       "5                string  \n",
       "6                string  \n",
       "7                string  \n",
       "8                string  \n",
       "9                string  \n",
       "10               string  \n",
       "11               string  \n",
       "12            timestamp  "
      ]
     },
     "execution_count": 139,
     "metadata": {},
     "output_type": "execute_result"
    }
   ],
   "source": [
    "compare_types(customer_map, 'Target Field names', customer_df)\\\n",
    "    [['Source Column Names', 'Mapping Logic', 'Target Field names', 'Current Column Names', 'Target DataType', 'Current Column Types',]]"
   ]
  },
  {
   "attachments": {},
   "cell_type": "markdown",
   "metadata": {},
   "source": [
    "### Transforming the Branch Table"
   ]
  },
  {
   "attachments": {},
   "cell_type": "markdown",
   "metadata": {},
   "source": [
    "Let's take a look at the branch table:"
   ]
  },
  {
   "cell_type": "code",
   "execution_count": null,
   "metadata": {},
   "outputs": [],
   "source": []
  }
 ],
 "metadata": {
  "kernelspec": {
   "display_name": "ETL-capstone-env",
   "language": "python",
   "name": "python3"
  },
  "language_info": {
   "codemirror_mode": {
    "name": "ipython",
    "version": 3
   },
   "file_extension": ".py",
   "mimetype": "text/x-python",
   "name": "python",
   "nbconvert_exporter": "python",
   "pygments_lexer": "ipython3",
   "version": "3.10.7"
  },
  "orig_nbformat": 4
 },
 "nbformat": 4,
 "nbformat_minor": 2
}
