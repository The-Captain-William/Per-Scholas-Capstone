{
 "cells": [
  {
   "cell_type": "code",
   "execution_count": 2,
   "metadata": {},
   "outputs": [],
   "source": [
    "import os\n",
    "import mysql.connector as MariaDB\n"
   ]
  },
  {
   "attachments": {},
   "cell_type": "markdown",
   "metadata": {},
   "source": [
    "## Building the Database\n",
    "Setting up the Mysql.Connector object to serve as an access to connect to the database.\n"
   ]
  },
  {
   "cell_type": "code",
   "execution_count": 3,
   "metadata": {},
   "outputs": [],
   "source": [
    "# establish connection to MariaDB\n",
    "db_user = os.environ.get('DB_USER')\n",
    "db_password = os.environ.get('DB_PASSWORD')\n",
    "# getting db user and db pass from PATH variables"
   ]
  },
  {
   "cell_type": "code",
   "execution_count": 5,
   "metadata": {},
   "outputs": [],
   "source": [
    "sql_connection = MariaDB.connect(\n",
    "    user=db_user,\n",
    "    password=db_password,\n",
    "    host='localhost'\n",
    ")"
   ]
  },
  {
   "attachments": {},
   "cell_type": "markdown",
   "metadata": {},
   "source": [
    "Initializing the cursor object, which communicates with the SQL server."
   ]
  },
  {
   "cell_type": "code",
   "execution_count": 6,
   "metadata": {},
   "outputs": [],
   "source": [
    "cursor = sql_connection.cursor()"
   ]
  },
  {
   "attachments": {},
   "cell_type": "markdown",
   "metadata": {},
   "source": [
    "Creating DB\n"
   ]
  },
  {
   "cell_type": "code",
   "execution_count": 7,
   "metadata": {},
   "outputs": [],
   "source": [
    "try: \n",
    "    cursor.execute(\"\"\"\n",
    "    CREATE DATABASE db_capstone DEFAULT CHARACTER SET 'utf8'\n",
    "\n",
    "    \"\"\")\n",
    "except MariaDB.Error as error:\n",
    "    print(f\"Failed to Create Database, {error}\")\n",
    "\n"
   ]
  },
  {
   "attachments": {},
   "cell_type": "markdown",
   "metadata": {},
   "source": [
    "Creating Tables with dictionary"
   ]
  },
  {
   "cell_type": "code",
   "execution_count": 15,
   "metadata": {},
   "outputs": [],
   "source": [
    "# maria db docs https://mariadb.com/kb/en/documentation/\n",
    "\n",
    "db_capstone_tables = {}\n",
    "\n",
    "db_capstone_tables['CDW_SAPP_CUSTOMER'] = \"\"\"\n",
    "    CREATE TABLE CDW_SAPP_CUSTOMER (\n",
    "    cust_id INT PRIMARY KEY AUTO_INCREMENT,\n",
    "    ssn VARCHAR(9) NOT NULL UNIQUE,\n",
    "    first_name VARCHAR(255) NOT NULL,\n",
    "    middle_name VARCHAR(255),\n",
    "    last_name VARCHAR(255) NOT NULL,\n",
    "    credit_card_no VARCHAR(16) NOT NULL,\n",
    "    full_street_address VARCHAR(225) NOT NULL,\n",
    "    cust_city VARCHAR(25) NOT NULL,\n",
    "    cust_state VARCHAR(2) NOT NULL,\n",
    "    cust_country VARCHAR(225) NOT NULL,\n",
    "    cust_zip VARCHAR(5) NOT NULL,\n",
    "    cust_phone VARCHAR(13),\n",
    "    cust_email VARCHAR(255),\n",
    "    last_updated TIMESTAMP\n",
    "    )\n",
    "\"\"\"\n",
    "# SAPP_CUSTOMER\n",
    "\n",
    "# ssid not null and unique\n",
    "# opted to use ssn as varchar considering we are not\n",
    "# using ssn for computation\n",
    "\n",
    "# also opted to generate a primary key instead of using \n",
    "# ssn as a primary key\n",
    "\n",
    "# notes on creating tables\n",
    "# note the CREATE TABLE [tablename] (column, type, ~constraint) syntax\n",
    "\n",
    "db_capstone_tables['CDW_SAPP_BRANCH'] = \"\"\"\n",
    "    CREATE TABLE CDW_SAPP_BRANCH (\n",
    "    branch_code INT PRIMARY KEY AUTO_INCREMENT,\n",
    "    branch_name VARCHAR(225) NOT NULL,\n",
    "    branch_street VARCHAR(225) NOT NULL,\n",
    "    branch_city VARCHAR(225) NOT NULL,\n",
    "    branch_state VARCHAR(2) NOT NULL,\n",
    "    branch_zip VARCHAR(5) NOT NULL,\n",
    "    branch_phone VARCHAR(13) NOT NULL,\n",
    "    last_updated TIMESTAMP\n",
    "    )\n",
    "\n",
    "\"\"\"\n",
    "# SAPP_BRANCH\n",
    "\n",
    "# added primary key\n",
    "\n",
    "\n",
    "db_capstone_tables['CDW_SAPP_CREDIT_CARD'] = \"\"\"\n",
    "    CREATE TABLE CDW_SAPP_CREDIT_CARD (\n",
    "    transaction_id INT PRIMARY KEY AUTO_INCREMENT,\n",
    "    timeid DATE NOT NULL,\n",
    "    credit_card_no VARCHAR(16) NOT NULL,\n",
    "    cust_ssn VARCHAR(9) NOT NULL,\n",
    "    branch_code INT NOT NULL,\n",
    "    transaction_type VARCHAR(225) NOT NULL,\n",
    "    transaction_value DOUBLE NOT NULL\n",
    "    )\n",
    "\"\"\"\n",
    "\n",
    "# SAPP_CREDIT_CARD\n",
    "\n",
    "# transaction_value\n",
    "# debated making transaction values unsigned b/c negative values\n",
    "# are w.r.t what side of the transaction you're on.\n",
    "# decided to leave them in for now. \n",
    "\n",
    "# timeid\n",
    "# opted to make timeid TIME instead of varchar, simply makes more sense\n",
    "# easier to perform queries with\n"
   ]
  },
  {
   "attachments": {},
   "cell_type": "markdown",
   "metadata": {},
   "source": [
    "Iterating through table dictionary"
   ]
  },
  {
   "cell_type": "code",
   "execution_count": 16,
   "metadata": {},
   "outputs": [],
   "source": [
    "cursor.execute(\"USE db_capstone\")\n",
    "\n",
    "for table in db_capstone_tables:\n",
    "    try: \n",
    "        cursor.execute(db_capstone_tables[table])\n",
    "    except MariaDB.Error as error:\n",
    "        print(f\"Error while creating {table}:\\n{error}\")\n",
    "\n",
    "# will iterate through all k:v pairs\n",
    "# will continue to attempt CREATE TABLE statement even if\n",
    "# one or more fail\n"
   ]
  },
  {
   "attachments": {},
   "cell_type": "markdown",
   "metadata": {},
   "source": [
    "With the code above, I've now created a SQL Database with the schema as shown below:\n",
    "\n",
    "<div>\n",
    "    <img src='https://github.com/The-Captain-William/Per-Scholas-Capstone/blob/main/images/capstone_physical_model.png?raw=true'>\n",
    "</div>\n",
    "\n",
    "Where \n",
    "- 'ssn' from sapp_customer relates to 'cust_ssn' from sapp_credit_card\n",
    "- 'branch_code' from sapp_branch realtes to 'branc_code' from sapp_credit_card\n",
    "\n",
    "📝 Note: \n",
    "<p>I debated if I should use the 'ssn' from sapp_customer as the primary key, and rename 'cust_ssn' to 'ssn' so joining tables can be slightly easier, \n",
    "<br>but I decided it would be more appropriate to stick with what we have here.</p>"
   ]
  }
 ],
 "metadata": {
  "kernelspec": {
   "display_name": "ETL-capstone-env",
   "language": "python",
   "name": "python3"
  },
  "language_info": {
   "codemirror_mode": {
    "name": "ipython",
    "version": 3
   },
   "file_extension": ".py",
   "mimetype": "text/x-python",
   "name": "python",
   "nbconvert_exporter": "python",
   "pygments_lexer": "ipython3",
   "version": "3.10.7"
  },
  "orig_nbformat": 4
 },
 "nbformat": 4,
 "nbformat_minor": 2
}
