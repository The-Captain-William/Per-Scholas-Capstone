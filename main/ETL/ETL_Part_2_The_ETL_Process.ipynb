{
 "cells": [
  {
   "attachments": {},
   "cell_type": "markdown",
   "metadata": {},
   "source": [
    "# ETL Worfklow\n",
    "---"
   ]
  },
  {
   "attachments": {},
   "cell_type": "markdown",
   "metadata": {},
   "source": [
    "## Setup\n"
   ]
  },
  {
   "attachments": {},
   "cell_type": "markdown",
   "metadata": {},
   "source": [
    "Importing my libraries of choice"
   ]
  },
  {
   "cell_type": "code",
   "execution_count": 1,
   "metadata": {},
   "outputs": [],
   "source": [
    "import os\n",
    "import pyspark.sql\n",
    "import requests"
   ]
  },
  {
   "attachments": {},
   "cell_type": "markdown",
   "metadata": {},
   "source": [
    "Getting our SQL Server credientials ahead of time"
   ]
  },
  {
   "cell_type": "code",
   "execution_count": 2,
   "metadata": {},
   "outputs": [],
   "source": [
    "db_user = os.environ.get('DB_USER')\n",
    "db_password = os.environ.get('DB_PASSWORD')"
   ]
  },
  {
   "attachments": {},
   "cell_type": "markdown",
   "metadata": {},
   "source": [
    "Creating a spark session "
   ]
  },
  {
   "cell_type": "code",
   "execution_count": 3,
   "metadata": {},
   "outputs": [],
   "source": [
    "spark_sesh = pyspark.sql.SparkSession.builder.appName('Credit Card ETL').getOrCreate()"
   ]
  },
  {
   "cell_type": "code",
   "execution_count": 4,
   "metadata": {},
   "outputs": [
    {
     "data": {
      "text/html": [
       "\n",
       "            <div>\n",
       "                <p><b>SparkSession - in-memory</b></p>\n",
       "                \n",
       "        <div>\n",
       "            <p><b>SparkContext</b></p>\n",
       "\n",
       "            <p><a href=\"http://DESKTOP-AQ9UQ3O:4040\">Spark UI</a></p>\n",
       "\n",
       "            <dl>\n",
       "              <dt>Version</dt>\n",
       "                <dd><code>v3.3.1</code></dd>\n",
       "              <dt>Master</dt>\n",
       "                <dd><code>local[*]</code></dd>\n",
       "              <dt>AppName</dt>\n",
       "                <dd><code>Credit Card ETL</code></dd>\n",
       "            </dl>\n",
       "        </div>\n",
       "        \n",
       "            </div>\n",
       "        "
      ],
      "text/plain": [
       "<pyspark.sql.session.SparkSession at 0x1e0d27332e0>"
      ]
     },
     "execution_count": 4,
     "metadata": {},
     "output_type": "execute_result"
    }
   ],
   "source": [
    "spark_sesh"
   ]
  },
  {
   "attachments": {},
   "cell_type": "markdown",
   "metadata": {},
   "source": [
    "## Extract \n",
    "---"
   ]
  },
  {
   "attachments": {},
   "cell_type": "markdown",
   "metadata": {},
   "source": [
    "I'm going to extract data from two datasets pertaining to the same bank, which are:\n",
    "\n",
    "\n",
    "- The Credit Card Dataset\n",
    "    - cdw_sapp_customer.JSON\n",
    "    - cdw_sapp_branch.JSON \n",
    "    - cdw_sapp_credit.JSON\n",
    "\n",
    "<br>\n",
    "\n",
    "- The Bank Loan Application Dataset\n",
    "    - Loan Application API Endpoint"
   ]
  },
  {
   "attachments": {},
   "cell_type": "markdown",
   "metadata": {},
   "source": [
    "📝 Notes: <br>\n",
    "- The customer.JSON file and branch.JSON file contains information about the bank customer and bank branch, respectively. \n",
    "- The credit.JSON file contains information about credit card transactions\n",
    "- The Loan Application is with respect to loans for purchasing homes, and includes information like whether or not the individuals were approved, gender, maritual status, and income."
   ]
  },
  {
   "attachments": {},
   "cell_type": "markdown",
   "metadata": {},
   "source": [
    "Extracting the JSON Files with sparksession.read.load()\n"
   ]
  },
  {
   "cell_type": "code",
   "execution_count": 5,
   "metadata": {},
   "outputs": [],
   "source": [
    "# JSON Files\n",
    "branch_df = spark_sesh.read.load('../../data/credit_card_dataset/cdw_sapp_branch.json', format='json')  # 👀 don't forget the to specify the format\n",
    "customer_df = spark_sesh.read.load('../../data/credit_card_dataset/cdw_sapp_custmer.json', format='json')\n",
    "credit_df = spark_sesh.read.load('../../data/credit_card_dataset/cdw_sapp_credit.json', format='json')\n"
   ]
  },
  {
   "attachments": {},
   "cell_type": "markdown",
   "metadata": {},
   "source": [
    "Defining an API endpoint\n"
   ]
  },
  {
   "cell_type": "code",
   "execution_count": 6,
   "metadata": {},
   "outputs": [],
   "source": [
    "LOAN_API_ENDPOINT = \"https://raw.githubusercontent.com/platformps/LoanDataset/main/loan_data.json\"\n"
   ]
  },
  {
   "attachments": {},
   "cell_type": "markdown",
   "metadata": {},
   "source": [
    "Creating a function to create a dataframe from an API Endpoint: <br>\n",
    " \n",
    "The function takes an API Endpoint URL and the current live spark session, <br>\n",
    "checks to see if the HTTP request is OK and returns a pyspark.sql DataFrame."
   ]
  },
  {
   "cell_type": "code",
   "execution_count": 7,
   "metadata": {},
   "outputs": [],
   "source": [
    "# API \n",
    "\n",
    "def api_check(api_endpoint: str, spark_session: pyspark.sql.SparkSession) -> pyspark.sql.DataFrame:  # param :type -> output-type\n",
    "    api = requests.get(LOAN_API_ENDPOINT)\n",
    "    print(f\"HTTP Status Code: {api.status_code}\")\n",
    "    if api.status_code == 200:\n",
    "        api_df = spark_session.createDataFrame(api.json())\n",
    "        return api_df\n",
    "\n"
   ]
  },
  {
   "cell_type": "code",
   "execution_count": 8,
   "metadata": {},
   "outputs": [
    {
     "name": "stdout",
     "output_type": "stream",
     "text": [
      "HTTP Status Code: 200\n"
     ]
    }
   ],
   "source": [
    "loan_df = api_check(LOAN_API_ENDPOINT, spark_sesh)"
   ]
  },
  {
   "attachments": {},
   "cell_type": "markdown",
   "metadata": {},
   "source": [
    "Let's check our DataFrames and make sure they are intact and ready for transformation"
   ]
  },
  {
   "cell_type": "code",
   "execution_count": 9,
   "metadata": {},
   "outputs": [],
   "source": [
    "dataframe_dict = {}\n",
    "\n",
    "dataframe_dict['branch'] = branch_df  # assign val to dict\n",
    "dataframe_dict['credit'] = credit_df\n",
    "dataframe_dict['customer'] = customer_df\n",
    "dataframe_dict['loan'] = loan_df"
   ]
  },
  {
   "cell_type": "code",
   "execution_count": 10,
   "metadata": {},
   "outputs": [
    {
     "name": "stdout",
     "output_type": "stream",
     "text": [
      "branch\n",
      "root\n",
      " |-- BRANCH_CITY: string (nullable = true)\n",
      " |-- BRANCH_CODE: long (nullable = true)\n",
      " |-- BRANCH_NAME: string (nullable = true)\n",
      " |-- BRANCH_PHONE: string (nullable = true)\n",
      " |-- BRANCH_STATE: string (nullable = true)\n",
      " |-- BRANCH_STREET: string (nullable = true)\n",
      " |-- BRANCH_ZIP: long (nullable = true)\n",
      " |-- LAST_UPDATED: string (nullable = true)\n",
      "\n",
      "credit\n",
      "root\n",
      " |-- BRANCH_CODE: long (nullable = true)\n",
      " |-- CREDIT_CARD_NO: string (nullable = true)\n",
      " |-- CUST_SSN: long (nullable = true)\n",
      " |-- DAY: long (nullable = true)\n",
      " |-- MONTH: long (nullable = true)\n",
      " |-- TRANSACTION_ID: long (nullable = true)\n",
      " |-- TRANSACTION_TYPE: string (nullable = true)\n",
      " |-- TRANSACTION_VALUE: double (nullable = true)\n",
      " |-- YEAR: long (nullable = true)\n",
      "\n",
      "customer\n",
      "root\n",
      " |-- APT_NO: string (nullable = true)\n",
      " |-- CREDIT_CARD_NO: string (nullable = true)\n",
      " |-- CUST_CITY: string (nullable = true)\n",
      " |-- CUST_COUNTRY: string (nullable = true)\n",
      " |-- CUST_EMAIL: string (nullable = true)\n",
      " |-- CUST_PHONE: long (nullable = true)\n",
      " |-- CUST_STATE: string (nullable = true)\n",
      " |-- CUST_ZIP: string (nullable = true)\n",
      " |-- FIRST_NAME: string (nullable = true)\n",
      " |-- LAST_NAME: string (nullable = true)\n",
      " |-- LAST_UPDATED: string (nullable = true)\n",
      " |-- MIDDLE_NAME: string (nullable = true)\n",
      " |-- SSN: long (nullable = true)\n",
      " |-- STREET_NAME: string (nullable = true)\n",
      "\n",
      "loan\n",
      "root\n",
      " |-- Application_ID: string (nullable = true)\n",
      " |-- Application_Status: string (nullable = true)\n",
      " |-- Credit_History: long (nullable = true)\n",
      " |-- Dependents: string (nullable = true)\n",
      " |-- Education: string (nullable = true)\n",
      " |-- Gender: string (nullable = true)\n",
      " |-- Income: string (nullable = true)\n",
      " |-- Married: string (nullable = true)\n",
      " |-- Property_Area: string (nullable = true)\n",
      " |-- Self_Employed: string (nullable = true)\n",
      "\n"
     ]
    }
   ],
   "source": [
    "for name, dataframe in dataframe_dict.items():  # k:v in (k, v)\n",
    "    print(name)\n",
    "    dataframe.printSchema()"
   ]
  },
  {
   "attachments": {},
   "cell_type": "markdown",
   "metadata": {},
   "source": [
    "## Transform\n",
    "---"
   ]
  },
  {
   "attachments": {},
   "cell_type": "markdown",
   "metadata": {},
   "source": [
    "We are given a mapping document, which tells us what kind of transformations we should make on the data before loading it onto the server. <br>\n",
    "Let's take a look:"
   ]
  },
  {
   "attachments": {},
   "cell_type": "markdown",
   "metadata": {},
   "source": [
    "<div align='center'>\n",
    "<h3>Tables</h3>\n",
    "<h3>Customer Table</h3>\n",
    "<img src='../../images/customer_mapping_doc.png' width=1200px>\n",
    "<h3>Branch Table</h3>\n",
    "<img src='../../images/branch_mapping_doc.png' width=1200px>\n",
    "<h3>Credit-Card Table</h3>\n",
    "<img src='../../images/creditcard_mapping_doc.png' width=1200px>\n",
    "</div>"
   ]
  },
  {
   "attachments": {},
   "cell_type": "markdown",
   "metadata": {},
   "source": [
    "📝 Notes: <br>\n",
    "We are not given any specifics for the loan information dataframe, so I'm not going to touch that dataframe or modify any data types. <br>\n",
    "\n",
    "Furthermore, if you're following along, now would be a good time to split up your <br> views into several windows if you're using VS code or another similar IDE to <br> enhance your workflow, like this: <br>\n",
    "<img src='../../images/workflow_example.png' width=\"1200px\">"
   ]
  },
  {
   "attachments": {},
   "cell_type": "markdown",
   "metadata": {},
   "source": [
    "### Transforming the Customer Table \n"
   ]
  },
  {
   "attachments": {},
   "cell_type": "markdown",
   "metadata": {},
   "source": [
    "Let's Start with Customer Table: <br>\n",
    "\n",
    "📝Note: <br>\n",
    "Just to make sure I'm following along and not making mistakes, <br>\n",
    "Im using a small pandas dataframe to store the mapping document, so I can see what changes need to be made iterate through them, using pandas as a checklist of sorts.\n",
    "\n",
    "This is completely optional, and not required at all, but I prefer it."
   ]
  },
  {
   "cell_type": "code",
   "execution_count": 58,
   "metadata": {},
   "outputs": [],
   "source": [
    "import pandas as pd\n",
    "pd.set_option('display.max_colwidth', None) # ensuring pandas wont truncate col\n"
   ]
  },
  {
   "cell_type": "code",
   "execution_count": 59,
   "metadata": {},
   "outputs": [
    {
     "data": {
      "text/html": [
       "<div>\n",
       "<style scoped>\n",
       "    .dataframe tbody tr th:only-of-type {\n",
       "        vertical-align: middle;\n",
       "    }\n",
       "\n",
       "    .dataframe tbody tr th {\n",
       "        vertical-align: top;\n",
       "    }\n",
       "\n",
       "    .dataframe thead th {\n",
       "        text-align: right;\n",
       "    }\n",
       "</style>\n",
       "<table border=\"1\" class=\"dataframe\">\n",
       "  <thead>\n",
       "    <tr style=\"text-align: right;\">\n",
       "      <th></th>\n",
       "      <th>Source Column Names</th>\n",
       "      <th>Mapping Logic</th>\n",
       "      <th>Target Table</th>\n",
       "      <th>Target Field names</th>\n",
       "      <th>Target DataType</th>\n",
       "      <th>Description</th>\n",
       "    </tr>\n",
       "  </thead>\n",
       "  <tbody>\n",
       "    <tr>\n",
       "      <th>0</th>\n",
       "      <td>SSN</td>\n",
       "      <td>Direct Move</td>\n",
       "      <td>CDW_SAPP_CUSTOMER</td>\n",
       "      <td>SSN</td>\n",
       "      <td>VARCHAR</td>\n",
       "      <td>Social Security Number of the customer (National ID)</td>\n",
       "    </tr>\n",
       "    <tr>\n",
       "      <th>1</th>\n",
       "      <td>FIRST_NAME</td>\n",
       "      <td>Convert the Name to Title Case</td>\n",
       "      <td>CDW_SAPP_CUSTOMER</td>\n",
       "      <td>FIRST_NAME</td>\n",
       "      <td>VARCHAR</td>\n",
       "      <td>First Name of the Customer</td>\n",
       "    </tr>\n",
       "    <tr>\n",
       "      <th>2</th>\n",
       "      <td>MIDDLE_NAME</td>\n",
       "      <td>Convert the middle name in lower case</td>\n",
       "      <td>CDW_SAPP_CUSTOMER</td>\n",
       "      <td>MIDDLE_NAME</td>\n",
       "      <td>VARCHAR</td>\n",
       "      <td>Middle Name of the customer</td>\n",
       "    </tr>\n",
       "    <tr>\n",
       "      <th>3</th>\n",
       "      <td>LAST_NAME</td>\n",
       "      <td>Convert the Last Name in Title Case</td>\n",
       "      <td>CDW_SAPP_CUSTOMER</td>\n",
       "      <td>LAST_NAME</td>\n",
       "      <td>VARCHAR</td>\n",
       "      <td>Last Name of the customer</td>\n",
       "    </tr>\n",
       "    <tr>\n",
       "      <th>4</th>\n",
       "      <td>CREDIT_CARD_NO</td>\n",
       "      <td>Direct_move</td>\n",
       "      <td>CDW_SAPP_CUSTOMER</td>\n",
       "      <td>Credit_card_no</td>\n",
       "      <td>VARCHAR</td>\n",
       "      <td>Credit card number of customer</td>\n",
       "    </tr>\n",
       "    <tr>\n",
       "      <th>5</th>\n",
       "      <td>STREET_NAME,APT_NO</td>\n",
       "      <td>Concatenate Apartment no and Street name of customer's Residence with comma as a seperator (Street, Apartment)</td>\n",
       "      <td>CDW_SAPP_CUSTOMER</td>\n",
       "      <td>FULL_STREET_ADDRESS</td>\n",
       "      <td>VARCHAR</td>\n",
       "      <td>Apartment no and Street name of customer's Residence</td>\n",
       "    </tr>\n",
       "    <tr>\n",
       "      <th>6</th>\n",
       "      <td>CUST_CITY</td>\n",
       "      <td>Direct Move</td>\n",
       "      <td>CDW_SAPP_CUSTOMER</td>\n",
       "      <td>CUST_CITY</td>\n",
       "      <td>VARCHAR</td>\n",
       "      <td>Customer’s Current City</td>\n",
       "    </tr>\n",
       "    <tr>\n",
       "      <th>7</th>\n",
       "      <td>CUST_STATE</td>\n",
       "      <td>Direct Move</td>\n",
       "      <td>CDW_SAPP_CUSTOMER</td>\n",
       "      <td>CUST_STATE</td>\n",
       "      <td>VARCHAR</td>\n",
       "      <td>Customer’s State code</td>\n",
       "    </tr>\n",
       "    <tr>\n",
       "      <th>8</th>\n",
       "      <td>CUST_COUNTRY</td>\n",
       "      <td>Direct move</td>\n",
       "      <td>CDW_SAPP_CUSTOMER</td>\n",
       "      <td>CUST_COUNTRY</td>\n",
       "      <td>VARCHAR</td>\n",
       "      <td>Customer’s country code</td>\n",
       "    </tr>\n",
       "    <tr>\n",
       "      <th>9</th>\n",
       "      <td>CUST_ZIP</td>\n",
       "      <td>Direct move</td>\n",
       "      <td>CDW_SAPP_CUSTOMER</td>\n",
       "      <td>CUST_ZIP</td>\n",
       "      <td>VARCHAR</td>\n",
       "      <td>Zip code of Customer's Country</td>\n",
       "    </tr>\n",
       "    <tr>\n",
       "      <th>10</th>\n",
       "      <td>CUST_PHONE</td>\n",
       "      <td>Change the format of phone number to (XXX)XXX-XXXX</td>\n",
       "      <td>CDW_SAPP_CUSTOMER</td>\n",
       "      <td>CUST_PHONE</td>\n",
       "      <td>VARCHAR</td>\n",
       "      <td>Contact Number of the customer</td>\n",
       "    </tr>\n",
       "    <tr>\n",
       "      <th>11</th>\n",
       "      <td>CUST_EMAIL</td>\n",
       "      <td>Direct move</td>\n",
       "      <td>CDW_SAPP_CUSTOMER</td>\n",
       "      <td>CUST_EMAIL</td>\n",
       "      <td>VARCHAR</td>\n",
       "      <td>Email address of the customer</td>\n",
       "    </tr>\n",
       "    <tr>\n",
       "      <th>12</th>\n",
       "      <td>LAST_UPDATED</td>\n",
       "      <td>Direct move</td>\n",
       "      <td>CDW_SAPP_CUSTOMER</td>\n",
       "      <td>LAST_UPDATED</td>\n",
       "      <td>TIMESTAMP</td>\n",
       "      <td>Record inserted / modification date.</td>\n",
       "    </tr>\n",
       "  </tbody>\n",
       "</table>\n",
       "</div>"
      ],
      "text/plain": [
       "   Source Column Names  \\\n",
       "0                  SSN   \n",
       "1           FIRST_NAME   \n",
       "2          MIDDLE_NAME   \n",
       "3            LAST_NAME   \n",
       "4       CREDIT_CARD_NO   \n",
       "5   STREET_NAME,APT_NO   \n",
       "6            CUST_CITY   \n",
       "7           CUST_STATE   \n",
       "8         CUST_COUNTRY   \n",
       "9             CUST_ZIP   \n",
       "10          CUST_PHONE   \n",
       "11          CUST_EMAIL   \n",
       "12        LAST_UPDATED   \n",
       "\n",
       "                                                                                                     Mapping Logic  \\\n",
       "0                                                                                                      Direct Move   \n",
       "1                                                                                   Convert the Name to Title Case   \n",
       "2                                                                            Convert the middle name in lower case   \n",
       "3                                                                              Convert the Last Name in Title Case   \n",
       "4                                                                                                      Direct_move   \n",
       "5   Concatenate Apartment no and Street name of customer's Residence with comma as a seperator (Street, Apartment)   \n",
       "6                                                                                                      Direct Move   \n",
       "7                                                                                                      Direct Move   \n",
       "8                                                                                                      Direct move   \n",
       "9                                                                                                      Direct move   \n",
       "10                                                              Change the format of phone number to (XXX)XXX-XXXX   \n",
       "11                                                                                                     Direct move   \n",
       "12                                                                                                     Direct move   \n",
       "\n",
       "        Target Table    Target Field names Target DataType  \\\n",
       "0   CDW_SAPP_CUSTOMER                  SSN         VARCHAR   \n",
       "1   CDW_SAPP_CUSTOMER           FIRST_NAME         VARCHAR   \n",
       "2   CDW_SAPP_CUSTOMER          MIDDLE_NAME         VARCHAR   \n",
       "3   CDW_SAPP_CUSTOMER            LAST_NAME         VARCHAR   \n",
       "4   CDW_SAPP_CUSTOMER       Credit_card_no         VARCHAR   \n",
       "5   CDW_SAPP_CUSTOMER  FULL_STREET_ADDRESS         VARCHAR   \n",
       "6   CDW_SAPP_CUSTOMER            CUST_CITY         VARCHAR   \n",
       "7   CDW_SAPP_CUSTOMER           CUST_STATE         VARCHAR   \n",
       "8   CDW_SAPP_CUSTOMER         CUST_COUNTRY         VARCHAR   \n",
       "9   CDW_SAPP_CUSTOMER             CUST_ZIP         VARCHAR   \n",
       "10  CDW_SAPP_CUSTOMER           CUST_PHONE         VARCHAR   \n",
       "11  CDW_SAPP_CUSTOMER           CUST_EMAIL         VARCHAR   \n",
       "12  CDW_SAPP_CUSTOMER         LAST_UPDATED       TIMESTAMP   \n",
       "\n",
       "                                             Description  \n",
       "0   Social Security Number of the customer (National ID)  \n",
       "1                             First Name of the Customer  \n",
       "2                            Middle Name of the customer  \n",
       "3                              Last Name of the customer  \n",
       "4                         Credit card number of customer  \n",
       "5   Apartment no and Street name of customer's Residence  \n",
       "6                                Customer’s Current City  \n",
       "7                                  Customer’s State code  \n",
       "8                                Customer’s country code  \n",
       "9                         Zip code of Customer's Country  \n",
       "10                        Contact Number of the customer  \n",
       "11                         Email address of the customer  \n",
       "12                  Record inserted / modification date.  "
      ]
     },
     "execution_count": 59,
     "metadata": {},
     "output_type": "execute_result"
    }
   ],
   "source": [
    "customer_map = pd.read_clipboard()\n",
    "customer_map\n"
   ]
  },
  {
   "cell_type": "code",
   "execution_count": 60,
   "metadata": {},
   "outputs": [
    {
     "data": {
      "text/html": [
       "<div>\n",
       "<style scoped>\n",
       "    .dataframe tbody tr th:only-of-type {\n",
       "        vertical-align: middle;\n",
       "    }\n",
       "\n",
       "    .dataframe tbody tr th {\n",
       "        vertical-align: top;\n",
       "    }\n",
       "\n",
       "    .dataframe thead th {\n",
       "        text-align: right;\n",
       "    }\n",
       "</style>\n",
       "<table border=\"1\" class=\"dataframe\">\n",
       "  <thead>\n",
       "    <tr style=\"text-align: right;\">\n",
       "      <th></th>\n",
       "      <th>Source Column Names</th>\n",
       "      <th>Mapping Logic</th>\n",
       "      <th>Target Table</th>\n",
       "      <th>Target Field names</th>\n",
       "      <th>Target DataType</th>\n",
       "      <th>Description</th>\n",
       "    </tr>\n",
       "  </thead>\n",
       "  <tbody>\n",
       "    <tr>\n",
       "      <th>0</th>\n",
       "      <td>SSN</td>\n",
       "      <td>direct move</td>\n",
       "      <td>CDW_SAPP_CUSTOMER</td>\n",
       "      <td>SSN</td>\n",
       "      <td>VARCHAR</td>\n",
       "      <td>Social Security Number of the customer (National ID)</td>\n",
       "    </tr>\n",
       "    <tr>\n",
       "      <th>1</th>\n",
       "      <td>FIRST_NAME</td>\n",
       "      <td>convert the name to title case</td>\n",
       "      <td>CDW_SAPP_CUSTOMER</td>\n",
       "      <td>FIRST_NAME</td>\n",
       "      <td>VARCHAR</td>\n",
       "      <td>First Name of the Customer</td>\n",
       "    </tr>\n",
       "    <tr>\n",
       "      <th>2</th>\n",
       "      <td>MIDDLE_NAME</td>\n",
       "      <td>convert the middle name in lower case</td>\n",
       "      <td>CDW_SAPP_CUSTOMER</td>\n",
       "      <td>MIDDLE_NAME</td>\n",
       "      <td>VARCHAR</td>\n",
       "      <td>Middle Name of the customer</td>\n",
       "    </tr>\n",
       "    <tr>\n",
       "      <th>3</th>\n",
       "      <td>LAST_NAME</td>\n",
       "      <td>convert the last name in title case</td>\n",
       "      <td>CDW_SAPP_CUSTOMER</td>\n",
       "      <td>LAST_NAME</td>\n",
       "      <td>VARCHAR</td>\n",
       "      <td>Last Name of the customer</td>\n",
       "    </tr>\n",
       "    <tr>\n",
       "      <th>4</th>\n",
       "      <td>CREDIT_CARD_NO</td>\n",
       "      <td>direct_move</td>\n",
       "      <td>CDW_SAPP_CUSTOMER</td>\n",
       "      <td>Credit_card_no</td>\n",
       "      <td>VARCHAR</td>\n",
       "      <td>Credit card number of customer</td>\n",
       "    </tr>\n",
       "    <tr>\n",
       "      <th>5</th>\n",
       "      <td>STREET_NAME,APT_NO</td>\n",
       "      <td>concatenate apartment no and street name of customer's residence with comma as a seperator (street, apartment)</td>\n",
       "      <td>CDW_SAPP_CUSTOMER</td>\n",
       "      <td>FULL_STREET_ADDRESS</td>\n",
       "      <td>VARCHAR</td>\n",
       "      <td>Apartment no and Street name of customer's Residence</td>\n",
       "    </tr>\n",
       "    <tr>\n",
       "      <th>6</th>\n",
       "      <td>CUST_CITY</td>\n",
       "      <td>direct move</td>\n",
       "      <td>CDW_SAPP_CUSTOMER</td>\n",
       "      <td>CUST_CITY</td>\n",
       "      <td>VARCHAR</td>\n",
       "      <td>Customer’s Current City</td>\n",
       "    </tr>\n",
       "    <tr>\n",
       "      <th>7</th>\n",
       "      <td>CUST_STATE</td>\n",
       "      <td>direct move</td>\n",
       "      <td>CDW_SAPP_CUSTOMER</td>\n",
       "      <td>CUST_STATE</td>\n",
       "      <td>VARCHAR</td>\n",
       "      <td>Customer’s State code</td>\n",
       "    </tr>\n",
       "    <tr>\n",
       "      <th>8</th>\n",
       "      <td>CUST_COUNTRY</td>\n",
       "      <td>direct move</td>\n",
       "      <td>CDW_SAPP_CUSTOMER</td>\n",
       "      <td>CUST_COUNTRY</td>\n",
       "      <td>VARCHAR</td>\n",
       "      <td>Customer’s country code</td>\n",
       "    </tr>\n",
       "    <tr>\n",
       "      <th>9</th>\n",
       "      <td>CUST_ZIP</td>\n",
       "      <td>direct move</td>\n",
       "      <td>CDW_SAPP_CUSTOMER</td>\n",
       "      <td>CUST_ZIP</td>\n",
       "      <td>VARCHAR</td>\n",
       "      <td>Zip code of Customer's Country</td>\n",
       "    </tr>\n",
       "    <tr>\n",
       "      <th>10</th>\n",
       "      <td>CUST_PHONE</td>\n",
       "      <td>change the format of phone number to (xxx)xxx-xxxx</td>\n",
       "      <td>CDW_SAPP_CUSTOMER</td>\n",
       "      <td>CUST_PHONE</td>\n",
       "      <td>VARCHAR</td>\n",
       "      <td>Contact Number of the customer</td>\n",
       "    </tr>\n",
       "    <tr>\n",
       "      <th>11</th>\n",
       "      <td>CUST_EMAIL</td>\n",
       "      <td>direct move</td>\n",
       "      <td>CDW_SAPP_CUSTOMER</td>\n",
       "      <td>CUST_EMAIL</td>\n",
       "      <td>VARCHAR</td>\n",
       "      <td>Email address of the customer</td>\n",
       "    </tr>\n",
       "    <tr>\n",
       "      <th>12</th>\n",
       "      <td>LAST_UPDATED</td>\n",
       "      <td>direct move</td>\n",
       "      <td>CDW_SAPP_CUSTOMER</td>\n",
       "      <td>LAST_UPDATED</td>\n",
       "      <td>TIMESTAMP</td>\n",
       "      <td>Record inserted / modification date.</td>\n",
       "    </tr>\n",
       "  </tbody>\n",
       "</table>\n",
       "</div>"
      ],
      "text/plain": [
       "   Source Column Names  \\\n",
       "0                  SSN   \n",
       "1           FIRST_NAME   \n",
       "2          MIDDLE_NAME   \n",
       "3            LAST_NAME   \n",
       "4       CREDIT_CARD_NO   \n",
       "5   STREET_NAME,APT_NO   \n",
       "6            CUST_CITY   \n",
       "7           CUST_STATE   \n",
       "8         CUST_COUNTRY   \n",
       "9             CUST_ZIP   \n",
       "10          CUST_PHONE   \n",
       "11          CUST_EMAIL   \n",
       "12        LAST_UPDATED   \n",
       "\n",
       "                                                                                                     Mapping Logic  \\\n",
       "0                                                                                                      direct move   \n",
       "1                                                                                   convert the name to title case   \n",
       "2                                                                            convert the middle name in lower case   \n",
       "3                                                                              convert the last name in title case   \n",
       "4                                                                                                      direct_move   \n",
       "5   concatenate apartment no and street name of customer's residence with comma as a seperator (street, apartment)   \n",
       "6                                                                                                      direct move   \n",
       "7                                                                                                      direct move   \n",
       "8                                                                                                      direct move   \n",
       "9                                                                                                      direct move   \n",
       "10                                                              change the format of phone number to (xxx)xxx-xxxx   \n",
       "11                                                                                                     direct move   \n",
       "12                                                                                                     direct move   \n",
       "\n",
       "        Target Table    Target Field names Target DataType  \\\n",
       "0   CDW_SAPP_CUSTOMER                  SSN         VARCHAR   \n",
       "1   CDW_SAPP_CUSTOMER           FIRST_NAME         VARCHAR   \n",
       "2   CDW_SAPP_CUSTOMER          MIDDLE_NAME         VARCHAR   \n",
       "3   CDW_SAPP_CUSTOMER            LAST_NAME         VARCHAR   \n",
       "4   CDW_SAPP_CUSTOMER       Credit_card_no         VARCHAR   \n",
       "5   CDW_SAPP_CUSTOMER  FULL_STREET_ADDRESS         VARCHAR   \n",
       "6   CDW_SAPP_CUSTOMER            CUST_CITY         VARCHAR   \n",
       "7   CDW_SAPP_CUSTOMER           CUST_STATE         VARCHAR   \n",
       "8   CDW_SAPP_CUSTOMER         CUST_COUNTRY         VARCHAR   \n",
       "9   CDW_SAPP_CUSTOMER             CUST_ZIP         VARCHAR   \n",
       "10  CDW_SAPP_CUSTOMER           CUST_PHONE         VARCHAR   \n",
       "11  CDW_SAPP_CUSTOMER           CUST_EMAIL         VARCHAR   \n",
       "12  CDW_SAPP_CUSTOMER         LAST_UPDATED       TIMESTAMP   \n",
       "\n",
       "                                             Description  \n",
       "0   Social Security Number of the customer (National ID)  \n",
       "1                             First Name of the Customer  \n",
       "2                            Middle Name of the customer  \n",
       "3                              Last Name of the customer  \n",
       "4                         Credit card number of customer  \n",
       "5   Apartment no and Street name of customer's Residence  \n",
       "6                                Customer’s Current City  \n",
       "7                                  Customer’s State code  \n",
       "8                                Customer’s country code  \n",
       "9                         Zip code of Customer's Country  \n",
       "10                        Contact Number of the customer  \n",
       "11                         Email address of the customer  \n",
       "12                  Record inserted / modification date.  "
      ]
     },
     "execution_count": 60,
     "metadata": {},
     "output_type": "execute_result"
    }
   ],
   "source": [
    "customer_map['Mapping Logic'] = customer_map['Mapping Logic'].apply(lambda x: str(x).lower())\n",
    "customer_map"
   ]
  },
  {
   "cell_type": "code",
   "execution_count": 61,
   "metadata": {},
   "outputs": [],
   "source": [
    "customer_map['Mapping Logic'] = customer_map['Mapping Logic'].replace('direct_move', 'direct move')"
   ]
  },
  {
   "cell_type": "code",
   "execution_count": 62,
   "metadata": {},
   "outputs": [
    {
     "data": {
      "text/html": [
       "<div>\n",
       "<style scoped>\n",
       "    .dataframe tbody tr th:only-of-type {\n",
       "        vertical-align: middle;\n",
       "    }\n",
       "\n",
       "    .dataframe tbody tr th {\n",
       "        vertical-align: top;\n",
       "    }\n",
       "\n",
       "    .dataframe thead th {\n",
       "        text-align: right;\n",
       "    }\n",
       "</style>\n",
       "<table border=\"1\" class=\"dataframe\">\n",
       "  <thead>\n",
       "    <tr style=\"text-align: right;\">\n",
       "      <th></th>\n",
       "      <th>Source Column Names</th>\n",
       "      <th>Mapping Logic</th>\n",
       "      <th>Target Table</th>\n",
       "      <th>Target Field names</th>\n",
       "      <th>Target DataType</th>\n",
       "      <th>Description</th>\n",
       "    </tr>\n",
       "  </thead>\n",
       "  <tbody>\n",
       "    <tr>\n",
       "      <th>0</th>\n",
       "      <td>SSN</td>\n",
       "      <td>direct move</td>\n",
       "      <td>CDW_SAPP_CUSTOMER</td>\n",
       "      <td>SSN</td>\n",
       "      <td>VARCHAR</td>\n",
       "      <td>Social Security Number of the customer (National ID)</td>\n",
       "    </tr>\n",
       "    <tr>\n",
       "      <th>1</th>\n",
       "      <td>FIRST_NAME</td>\n",
       "      <td>convert the name to title case</td>\n",
       "      <td>CDW_SAPP_CUSTOMER</td>\n",
       "      <td>FIRST_NAME</td>\n",
       "      <td>VARCHAR</td>\n",
       "      <td>First Name of the Customer</td>\n",
       "    </tr>\n",
       "  </tbody>\n",
       "</table>\n",
       "</div>"
      ],
      "text/plain": [
       "  Source Column Names                   Mapping Logic      Target Table   \\\n",
       "0                 SSN                     direct move  CDW_SAPP_CUSTOMER   \n",
       "1          FIRST_NAME  convert the name to title case  CDW_SAPP_CUSTOMER   \n",
       "\n",
       "  Target Field names Target DataType  \\\n",
       "0                SSN         VARCHAR   \n",
       "1         FIRST_NAME         VARCHAR   \n",
       "\n",
       "                                            Description  \n",
       "0  Social Security Number of the customer (National ID)  \n",
       "1                            First Name of the Customer  "
      ]
     },
     "execution_count": 62,
     "metadata": {},
     "output_type": "execute_result"
    }
   ],
   "source": [
    "customer_map['Target Field names'] = customer_map['Target Field names'].apply(lambda x: str(x).upper())\n",
    "customer_map.head(2)"
   ]
  },
  {
   "attachments": {},
   "cell_type": "markdown",
   "metadata": {},
   "source": [
    "Now I can see exactly what needs to be transformed. "
   ]
  },
  {
   "cell_type": "code",
   "execution_count": 63,
   "metadata": {},
   "outputs": [
    {
     "data": {
      "text/html": [
       "<div>\n",
       "<style scoped>\n",
       "    .dataframe tbody tr th:only-of-type {\n",
       "        vertical-align: middle;\n",
       "    }\n",
       "\n",
       "    .dataframe tbody tr th {\n",
       "        vertical-align: top;\n",
       "    }\n",
       "\n",
       "    .dataframe thead th {\n",
       "        text-align: right;\n",
       "    }\n",
       "</style>\n",
       "<table border=\"1\" class=\"dataframe\">\n",
       "  <thead>\n",
       "    <tr style=\"text-align: right;\">\n",
       "      <th></th>\n",
       "      <th>Source Column Names</th>\n",
       "      <th>Mapping Logic</th>\n",
       "      <th>Target Table</th>\n",
       "      <th>Target Field names</th>\n",
       "      <th>Target DataType</th>\n",
       "      <th>Description</th>\n",
       "    </tr>\n",
       "  </thead>\n",
       "  <tbody>\n",
       "    <tr>\n",
       "      <th>1</th>\n",
       "      <td>FIRST_NAME</td>\n",
       "      <td>convert the name to title case</td>\n",
       "      <td>CDW_SAPP_CUSTOMER</td>\n",
       "      <td>FIRST_NAME</td>\n",
       "      <td>VARCHAR</td>\n",
       "      <td>First Name of the Customer</td>\n",
       "    </tr>\n",
       "    <tr>\n",
       "      <th>2</th>\n",
       "      <td>MIDDLE_NAME</td>\n",
       "      <td>convert the middle name in lower case</td>\n",
       "      <td>CDW_SAPP_CUSTOMER</td>\n",
       "      <td>MIDDLE_NAME</td>\n",
       "      <td>VARCHAR</td>\n",
       "      <td>Middle Name of the customer</td>\n",
       "    </tr>\n",
       "    <tr>\n",
       "      <th>3</th>\n",
       "      <td>LAST_NAME</td>\n",
       "      <td>convert the last name in title case</td>\n",
       "      <td>CDW_SAPP_CUSTOMER</td>\n",
       "      <td>LAST_NAME</td>\n",
       "      <td>VARCHAR</td>\n",
       "      <td>Last Name of the customer</td>\n",
       "    </tr>\n",
       "    <tr>\n",
       "      <th>5</th>\n",
       "      <td>STREET_NAME,APT_NO</td>\n",
       "      <td>concatenate apartment no and street name of customer's residence with comma as a seperator (street, apartment)</td>\n",
       "      <td>CDW_SAPP_CUSTOMER</td>\n",
       "      <td>FULL_STREET_ADDRESS</td>\n",
       "      <td>VARCHAR</td>\n",
       "      <td>Apartment no and Street name of customer's Residence</td>\n",
       "    </tr>\n",
       "    <tr>\n",
       "      <th>10</th>\n",
       "      <td>CUST_PHONE</td>\n",
       "      <td>change the format of phone number to (xxx)xxx-xxxx</td>\n",
       "      <td>CDW_SAPP_CUSTOMER</td>\n",
       "      <td>CUST_PHONE</td>\n",
       "      <td>VARCHAR</td>\n",
       "      <td>Contact Number of the customer</td>\n",
       "    </tr>\n",
       "  </tbody>\n",
       "</table>\n",
       "</div>"
      ],
      "text/plain": [
       "   Source Column Names  \\\n",
       "1           FIRST_NAME   \n",
       "2          MIDDLE_NAME   \n",
       "3            LAST_NAME   \n",
       "5   STREET_NAME,APT_NO   \n",
       "10          CUST_PHONE   \n",
       "\n",
       "                                                                                                     Mapping Logic  \\\n",
       "1                                                                                   convert the name to title case   \n",
       "2                                                                            convert the middle name in lower case   \n",
       "3                                                                              convert the last name in title case   \n",
       "5   concatenate apartment no and street name of customer's residence with comma as a seperator (street, apartment)   \n",
       "10                                                              change the format of phone number to (xxx)xxx-xxxx   \n",
       "\n",
       "        Target Table    Target Field names Target DataType  \\\n",
       "1   CDW_SAPP_CUSTOMER           FIRST_NAME         VARCHAR   \n",
       "2   CDW_SAPP_CUSTOMER          MIDDLE_NAME         VARCHAR   \n",
       "3   CDW_SAPP_CUSTOMER            LAST_NAME         VARCHAR   \n",
       "5   CDW_SAPP_CUSTOMER  FULL_STREET_ADDRESS         VARCHAR   \n",
       "10  CDW_SAPP_CUSTOMER           CUST_PHONE         VARCHAR   \n",
       "\n",
       "                                             Description  \n",
       "1                             First Name of the Customer  \n",
       "2                            Middle Name of the customer  \n",
       "3                              Last Name of the customer  \n",
       "5   Apartment no and Street name of customer's Residence  \n",
       "10                        Contact Number of the customer  "
      ]
     },
     "execution_count": 63,
     "metadata": {},
     "output_type": "execute_result"
    }
   ],
   "source": [
    "customer_transform_guide = customer_map[(customer_map['Mapping Logic'] != 'direct move')]\n",
    "customer_transform_guide"
   ]
  },
  {
   "cell_type": "code",
   "execution_count": 64,
   "metadata": {},
   "outputs": [],
   "source": [
    "customer_transform_guide.set_index('Source Column Names', inplace=True)"
   ]
  },
  {
   "cell_type": "code",
   "execution_count": 65,
   "metadata": {},
   "outputs": [
    {
     "data": {
      "text/html": [
       "<div>\n",
       "<style scoped>\n",
       "    .dataframe tbody tr th:only-of-type {\n",
       "        vertical-align: middle;\n",
       "    }\n",
       "\n",
       "    .dataframe tbody tr th {\n",
       "        vertical-align: top;\n",
       "    }\n",
       "\n",
       "    .dataframe thead th {\n",
       "        text-align: right;\n",
       "    }\n",
       "</style>\n",
       "<table border=\"1\" class=\"dataframe\">\n",
       "  <thead>\n",
       "    <tr style=\"text-align: right;\">\n",
       "      <th></th>\n",
       "      <th>Mapping Logic</th>\n",
       "      <th>Target Table</th>\n",
       "      <th>Target Field names</th>\n",
       "      <th>Target DataType</th>\n",
       "      <th>Description</th>\n",
       "    </tr>\n",
       "    <tr>\n",
       "      <th>Source Column Names</th>\n",
       "      <th></th>\n",
       "      <th></th>\n",
       "      <th></th>\n",
       "      <th></th>\n",
       "      <th></th>\n",
       "    </tr>\n",
       "  </thead>\n",
       "  <tbody>\n",
       "    <tr>\n",
       "      <th>FIRST_NAME</th>\n",
       "      <td>convert the name to title case</td>\n",
       "      <td>CDW_SAPP_CUSTOMER</td>\n",
       "      <td>FIRST_NAME</td>\n",
       "      <td>VARCHAR</td>\n",
       "      <td>First Name of the Customer</td>\n",
       "    </tr>\n",
       "    <tr>\n",
       "      <th>MIDDLE_NAME</th>\n",
       "      <td>convert the middle name in lower case</td>\n",
       "      <td>CDW_SAPP_CUSTOMER</td>\n",
       "      <td>MIDDLE_NAME</td>\n",
       "      <td>VARCHAR</td>\n",
       "      <td>Middle Name of the customer</td>\n",
       "    </tr>\n",
       "    <tr>\n",
       "      <th>LAST_NAME</th>\n",
       "      <td>convert the last name in title case</td>\n",
       "      <td>CDW_SAPP_CUSTOMER</td>\n",
       "      <td>LAST_NAME</td>\n",
       "      <td>VARCHAR</td>\n",
       "      <td>Last Name of the customer</td>\n",
       "    </tr>\n",
       "    <tr>\n",
       "      <th>STREET_NAME,APT_NO</th>\n",
       "      <td>concatenate apartment no and street name of customer's residence with comma as a seperator (street, apartment)</td>\n",
       "      <td>CDW_SAPP_CUSTOMER</td>\n",
       "      <td>FULL_STREET_ADDRESS</td>\n",
       "      <td>VARCHAR</td>\n",
       "      <td>Apartment no and Street name of customer's Residence</td>\n",
       "    </tr>\n",
       "  </tbody>\n",
       "</table>\n",
       "</div>"
      ],
      "text/plain": [
       "                                                                                                                      Mapping Logic  \\\n",
       "Source Column Names                                                                                                                   \n",
       "FIRST_NAME                                                                                           convert the name to title case   \n",
       "MIDDLE_NAME                                                                                   convert the middle name in lower case   \n",
       "LAST_NAME                                                                                       convert the last name in title case   \n",
       "STREET_NAME,APT_NO   concatenate apartment no and street name of customer's residence with comma as a seperator (street, apartment)   \n",
       "\n",
       "                         Target Table    Target Field names Target DataType  \\\n",
       "Source Column Names                                                           \n",
       "FIRST_NAME           CDW_SAPP_CUSTOMER           FIRST_NAME         VARCHAR   \n",
       "MIDDLE_NAME          CDW_SAPP_CUSTOMER          MIDDLE_NAME         VARCHAR   \n",
       "LAST_NAME            CDW_SAPP_CUSTOMER            LAST_NAME         VARCHAR   \n",
       "STREET_NAME,APT_NO   CDW_SAPP_CUSTOMER  FULL_STREET_ADDRESS         VARCHAR   \n",
       "\n",
       "                                                              Description  \n",
       "Source Column Names                                                        \n",
       "FIRST_NAME                                     First Name of the Customer  \n",
       "MIDDLE_NAME                                   Middle Name of the customer  \n",
       "LAST_NAME                                       Last Name of the customer  \n",
       "STREET_NAME,APT_NO   Apartment no and Street name of customer's Residence  "
      ]
     },
     "execution_count": 65,
     "metadata": {},
     "output_type": "execute_result"
    }
   ],
   "source": [
    "customer_transform_guide.filter(like='NAME', axis=0)"
   ]
  },
  {
   "attachments": {},
   "cell_type": "markdown",
   "metadata": {},
   "source": [
    "#### Transforming the Customers' Name"
   ]
  },
  {
   "cell_type": "code",
   "execution_count": 370,
   "metadata": {},
   "outputs": [],
   "source": [
    "customer_df_backup = customer_df\n"
   ]
  },
  {
   "cell_type": "code",
   "execution_count": 23,
   "metadata": {},
   "outputs": [],
   "source": [
    "import pyspark.sql.functions as F"
   ]
  },
  {
   "cell_type": "code",
   "execution_count": 371,
   "metadata": {},
   "outputs": [],
   "source": [
    "customer_df = customer_df.withColumns({'FIRST_NAME':F.initcap(customer_df['FIRST_NAME']), 'LAST_NAME':F.initcap(customer_df['LAST_NAME'])})"
   ]
  },
  {
   "cell_type": "code",
   "execution_count": 372,
   "metadata": {},
   "outputs": [],
   "source": [
    "customer_df = customer_df.withColumn('MIDDLE_NAME', F.lower(customer_df['MIDDLE_NAME']))"
   ]
  },
  {
   "attachments": {},
   "cell_type": "markdown",
   "metadata": {},
   "source": [
    "Confirming Transformation is correct"
   ]
  },
  {
   "cell_type": "code",
   "execution_count": 373,
   "metadata": {},
   "outputs": [
    {
     "name": "stdout",
     "output_type": "stream",
     "text": [
      "+----------+---------+-----------+\n",
      "|FIRST_NAME|LAST_NAME|MIDDLE_NAME|\n",
      "+----------+---------+-----------+\n",
      "|      Alec|   Hooper|         wm|\n",
      "|      Etta|   Holman|    brendan|\n",
      "+----------+---------+-----------+\n",
      "only showing top 2 rows\n",
      "\n"
     ]
    }
   ],
   "source": [
    "customer_df['FIRST_NAME', 'LAST_NAME', 'MIDDLE_NAME'].show(2)"
   ]
  },
  {
   "attachments": {},
   "cell_type": "markdown",
   "metadata": {},
   "source": [
    "#### Transforming the Address"
   ]
  },
  {
   "attachments": {},
   "cell_type": "markdown",
   "metadata": {},
   "source": [
    "The easiest way to do this is to generate a SQL temp-table that is attached to the current spark session. <br>\n",
    "I'm operating on the temp-table with SQL instead of Python here and its much easier and cleaner."
   ]
  },
  {
   "cell_type": "code",
   "execution_count": 374,
   "metadata": {},
   "outputs": [],
   "source": [
    "customer_df.createOrReplaceGlobalTempView('customer')"
   ]
  },
  {
   "cell_type": "code",
   "execution_count": 375,
   "metadata": {},
   "outputs": [],
   "source": [
    "customer_df = spark_sesh.sql(\"\"\"\n",
    "SELECT\n",
    "    *,\n",
    "    CONCAT(STREET_NAME, \", \", APT_NO) AS FULL_STREET_ADDRESS\n",
    "FROM\n",
    "    global_temp.customer\n",
    "\"\"\")"
   ]
  },
  {
   "attachments": {},
   "cell_type": "markdown",
   "metadata": {},
   "source": [
    "📝Notes: <br>\n",
    "It might be *expensive* to concatenate the columns apt_no and street_name in one dataframe and then include them *again*<br>\n",
    "by using the `select *` statement and dropping the extraneous columns, but with this current dataset the operations are pretty fast, and I'd rather save time using `*` and `.drop()` than including each and every column manually. <br>\n",
    "\n",
    "Either way, we still have more transformations left and pyspark's dataframes are immutable, so we generate a new copy of a dataframe every time."
   ]
  },
  {
   "cell_type": "code",
   "execution_count": 376,
   "metadata": {},
   "outputs": [
    {
     "name": "stdout",
     "output_type": "stream",
     "text": [
      "+------+-----------------+----------------------+\n",
      "|APT_NO|STREET_NAME      |FULL_STREET_ADDRESS   |\n",
      "+------+-----------------+----------------------+\n",
      "|656   |Main Street North|Main Street North, 656|\n",
      "|829   |Redwood Drive    |Redwood Drive, 829    |\n",
      "+------+-----------------+----------------------+\n",
      "only showing top 2 rows\n",
      "\n"
     ]
    }
   ],
   "source": [
    "customer_df[['APT_NO', 'STREET_NAME', 'FULL_STREET_ADDRESS']].show(2, truncate=False)"
   ]
  },
  {
   "cell_type": "code",
   "execution_count": 377,
   "metadata": {},
   "outputs": [],
   "source": [
    "customer_df = customer_df.drop('APT_NO', 'STREET_NAME')"
   ]
  },
  {
   "attachments": {},
   "cell_type": "markdown",
   "metadata": {},
   "source": [
    "The address is now concatenated and the other two columns are dropped."
   ]
  },
  {
   "cell_type": "code",
   "execution_count": 378,
   "metadata": {},
   "outputs": [
    {
     "name": "stdout",
     "output_type": "stream",
     "text": [
      "+----------------------+\n",
      "|FULL_STREET_ADDRESS   |\n",
      "+----------------------+\n",
      "|Main Street North, 656|\n",
      "|Redwood Drive, 829    |\n",
      "+----------------------+\n",
      "only showing top 2 rows\n",
      "\n"
     ]
    }
   ],
   "source": [
    "customer_df[['FULL_STREET_ADDRESS']].show(2, truncate=False)"
   ]
  },
  {
   "cell_type": "code",
   "execution_count": 379,
   "metadata": {},
   "outputs": [
    {
     "name": "stdout",
     "output_type": "stream",
     "text": [
      "root\n",
      " |-- CREDIT_CARD_NO: string (nullable = true)\n",
      " |-- CUST_CITY: string (nullable = true)\n",
      " |-- CUST_COUNTRY: string (nullable = true)\n",
      " |-- CUST_EMAIL: string (nullable = true)\n",
      " |-- CUST_PHONE: long (nullable = true)\n",
      " |-- CUST_STATE: string (nullable = true)\n",
      " |-- CUST_ZIP: string (nullable = true)\n",
      " |-- FIRST_NAME: string (nullable = true)\n",
      " |-- LAST_NAME: string (nullable = true)\n",
      " |-- LAST_UPDATED: string (nullable = true)\n",
      " |-- MIDDLE_NAME: string (nullable = true)\n",
      " |-- SSN: long (nullable = true)\n",
      " |-- FULL_STREET_ADDRESS: string (nullable = true)\n",
      "\n"
     ]
    }
   ],
   "source": [
    "customer_df.printSchema()"
   ]
  },
  {
   "attachments": {},
   "cell_type": "markdown",
   "metadata": {},
   "source": [
    "#### Transforming the  Customers' Phone number"
   ]
  },
  {
   "cell_type": "code",
   "execution_count": 66,
   "metadata": {},
   "outputs": [
    {
     "data": {
      "text/html": [
       "<div>\n",
       "<style scoped>\n",
       "    .dataframe tbody tr th:only-of-type {\n",
       "        vertical-align: middle;\n",
       "    }\n",
       "\n",
       "    .dataframe tbody tr th {\n",
       "        vertical-align: top;\n",
       "    }\n",
       "\n",
       "    .dataframe thead th {\n",
       "        text-align: right;\n",
       "    }\n",
       "</style>\n",
       "<table border=\"1\" class=\"dataframe\">\n",
       "  <thead>\n",
       "    <tr style=\"text-align: right;\">\n",
       "      <th></th>\n",
       "      <th>Mapping Logic</th>\n",
       "      <th>Target Table</th>\n",
       "      <th>Target Field names</th>\n",
       "      <th>Target DataType</th>\n",
       "      <th>Description</th>\n",
       "    </tr>\n",
       "    <tr>\n",
       "      <th>Source Column Names</th>\n",
       "      <th></th>\n",
       "      <th></th>\n",
       "      <th></th>\n",
       "      <th></th>\n",
       "      <th></th>\n",
       "    </tr>\n",
       "  </thead>\n",
       "  <tbody>\n",
       "    <tr>\n",
       "      <th>CUST_PHONE</th>\n",
       "      <td>change the format of phone number to (xxx)xxx-xxxx</td>\n",
       "      <td>CDW_SAPP_CUSTOMER</td>\n",
       "      <td>CUST_PHONE</td>\n",
       "      <td>VARCHAR</td>\n",
       "      <td>Contact Number of the customer</td>\n",
       "    </tr>\n",
       "  </tbody>\n",
       "</table>\n",
       "</div>"
      ],
      "text/plain": [
       "                                                          Mapping Logic  \\\n",
       "Source Column Names                                                       \n",
       "CUST_PHONE           change the format of phone number to (xxx)xxx-xxxx   \n",
       "\n",
       "                         Target Table  Target Field names Target DataType  \\\n",
       "Source Column Names                                                         \n",
       "CUST_PHONE           CDW_SAPP_CUSTOMER         CUST_PHONE         VARCHAR   \n",
       "\n",
       "                                        Description  \n",
       "Source Column Names                                  \n",
       "CUST_PHONE           Contact Number of the customer  "
      ]
     },
     "execution_count": 66,
     "metadata": {},
     "output_type": "execute_result"
    }
   ],
   "source": [
    "customer_transform_guide.filter(like='PHONE', axis=0)"
   ]
  },
  {
   "cell_type": "code",
   "execution_count": 50,
   "metadata": {},
   "outputs": [
    {
     "name": "stdout",
     "output_type": "stream",
     "text": [
      "+----------+\n",
      "|CUST_PHONE|\n",
      "+----------+\n",
      "|   1237818|\n",
      "|   1238933|\n",
      "+----------+\n",
      "only showing top 2 rows\n",
      "\n"
     ]
    }
   ],
   "source": [
    "customer_df[['CUST_PHONE']].show(2)"
   ]
  },
  {
   "attachments": {},
   "cell_type": "markdown",
   "metadata": {},
   "source": [
    "Here we are only required to add an artificial area code and the parenthesis and a dash, so I'll do just that.\n"
   ]
  },
  {
   "attachments": {},
   "cell_type": "markdown",
   "metadata": {},
   "source": [
    "Using Pyspark.sql's  user-defined function this time:"
   ]
  },
  {
   "cell_type": "code",
   "execution_count": 380,
   "metadata": {},
   "outputs": [],
   "source": [
    "phone_refactor = F.udf(lambda phone: \"(555)\" + str(phone)[:3] + \"-\" + str(phone)[3:])\n",
    "# phone[0, 3) + phone[3:]\n",
    "# note the slice includes the end of the string with [:]"
   ]
  },
  {
   "cell_type": "code",
   "execution_count": 381,
   "metadata": {},
   "outputs": [],
   "source": [
    "customer_df = customer_df.withColumn('CUST_PHONE', phone_refactor(customer_df['CUST_PHONE']))"
   ]
  },
  {
   "cell_type": "code",
   "execution_count": 382,
   "metadata": {},
   "outputs": [
    {
     "name": "stdout",
     "output_type": "stream",
     "text": [
      "+-------------+\n",
      "|   CUST_PHONE|\n",
      "+-------------+\n",
      "|(555)123-7818|\n",
      "|(555)123-8933|\n",
      "+-------------+\n",
      "only showing top 2 rows\n",
      "\n"
     ]
    }
   ],
   "source": [
    "customer_df[['CUST_PHONE']].show(2)"
   ]
  },
  {
   "attachments": {},
   "cell_type": "markdown",
   "metadata": {},
   "source": [
    "Checking the types, you can see I transformed the phone number to a more-appropriate string datatype while modifying the phone number <br>\n",
    "(It was previously long int type)."
   ]
  },
  {
   "cell_type": "code",
   "execution_count": 54,
   "metadata": {},
   "outputs": [
    {
     "data": {
      "text/plain": [
       "[('CREDIT_CARD_NO', 'string'),\n",
       " ('CUST_CITY', 'string'),\n",
       " ('CUST_COUNTRY', 'string'),\n",
       " ('CUST_EMAIL', 'string'),\n",
       " ('CUST_PHONE', 'string'),\n",
       " ('CUST_STATE', 'string'),\n",
       " ('CUST_ZIP', 'string'),\n",
       " ('FIRST_NAME', 'string'),\n",
       " ('LAST_NAME', 'string'),\n",
       " ('LAST_UPDATED', 'string'),\n",
       " ('MIDDLE_NAME', 'string'),\n",
       " ('SSN', 'bigint'),\n",
       " ('FULL_STREET_ADDRESS', 'string')]"
      ]
     },
     "execution_count": 54,
     "metadata": {},
     "output_type": "execute_result"
    }
   ],
   "source": [
    "customer_df.dtypes"
   ]
  },
  {
   "cell_type": "code",
   "execution_count": 383,
   "metadata": {},
   "outputs": [],
   "source": [
    "customer_df = customer_df.withColumn('SSN', customer_df['SSN'].cast('string'))"
   ]
  },
  {
   "cell_type": "code",
   "execution_count": 76,
   "metadata": {},
   "outputs": [
    {
     "name": "stdout",
     "output_type": "stream",
     "text": [
      "+-----------------------------+\n",
      "|LAST_UPDATED                 |\n",
      "+-----------------------------+\n",
      "|2018-04-21T12:49:02.000-04:00|\n",
      "|2018-04-21T12:49:02.000-04:00|\n",
      "+-----------------------------+\n",
      "only showing top 2 rows\n",
      "\n"
     ]
    }
   ],
   "source": [
    "customer_df[['LAST_UPDATED']].show(2, truncate=False)"
   ]
  },
  {
   "cell_type": "code",
   "execution_count": 384,
   "metadata": {},
   "outputs": [],
   "source": [
    "customer_df= customer_df.withColumn('LAST_UPDATED', customer_df['LAST_UPDATED'].cast('timestamp'))"
   ]
  },
  {
   "cell_type": "code",
   "execution_count": 385,
   "metadata": {},
   "outputs": [
    {
     "name": "stdout",
     "output_type": "stream",
     "text": [
      "+-------------------+\n",
      "|LAST_UPDATED       |\n",
      "+-------------------+\n",
      "|2018-04-21 12:49:02|\n",
      "|2018-04-21 12:49:02|\n",
      "+-------------------+\n",
      "only showing top 2 rows\n",
      "\n"
     ]
    }
   ],
   "source": [
    "customer_df[['LAST_UPDATED']].show(2, truncate=False)"
   ]
  },
  {
   "attachments": {},
   "cell_type": "markdown",
   "metadata": {},
   "source": [
    "#### Confirming Types for Customer One Last Time"
   ]
  },
  {
   "attachments": {},
   "cell_type": "markdown",
   "metadata": {},
   "source": [
    "Here I'm just comparing the expected vs actual datatypes and making sure they are at least somewhat similar  - pyspark.sql does not have all of the exact datatypes that most sql database engines have. \n",
    "<br><br>\n",
    "Also, not to mention pyspark.sql datatypes don't really have the ability to set constraints on what goes into their columns. <br>\n",
    "For example, I created a database where CUST_STATE is VARCHAR(2), and while VARCHAR(2) and VARCHAR(32) take up the exact <br>\n",
    "same amount of disk space, VARCHAR(2) can potentially help save us from some data-entry headaches later down the line.\n",
    "\n",
    "To look at my SQL table creation, click <a href='https://github.com/The-Captain-William/Per-Scholas-Capstone/blob/main/main/ETL/ETL_Part_1_building_the_database.ipynb'>here</a>. "
   ]
  },
  {
   "cell_type": "code",
   "execution_count": 142,
   "metadata": {},
   "outputs": [],
   "source": [
    "def compare_types(mapping_requirements: pd.DataFrame, column_names: str, dataframe: pyspark.sql.DataFrame) -> pd.DataFrame:\n",
    "    \"\"\"\n",
    "    Mapping Requirements -> mapping requirements in the form of a dataframe\\n\n",
    "    Column Names -> Name of the column on the Mapping Requirements df that contains the column names\\n\n",
    "    Dataframe -> actual dataframe we are transforming, must be pyspark.sql df (for now)\\n\n",
    "    \"\"\"\n",
    "    mapping_column_names = \", \".join(name for name in mapping_requirements.columns)\n",
    "    pyspark_df_column_names = \", \".join(name[0] for name in dataframe.dtypes)\n",
    "    types_df = pd.DataFrame(dataframe.dtypes)  # make df of d-types\n",
    "    dataframe_var_name_col = 'Current Column Names'\n",
    "    dataframe_var_name_type = 'Current Column Types'\n",
    "    types_df.columns = [dataframe_var_name_col, dataframe_var_name_type]  # set column names\n",
    "    mapping_df = pd.merge(mapping_requirements, types_df, left_on=column_names, right_on=dataframe_var_name_col, how='outer')  # pd merge\n",
    "    # print(f\"Mapping Document Total Columns: {len(mapping_requirements.columns)}\")\n",
    "    # print(f\"Mapping Document Columns: {mapping_column_names}\")\n",
    "    # print(\"\")\n",
    "    # print(f\"DataFrame Total Columns: {len(dataframe.dtypes)}\")\n",
    "    # print(f\"DataFrame Column Names: {pyspark_df_column_names}\")\n",
    "    return mapping_df "
   ]
  },
  {
   "cell_type": "code",
   "execution_count": 386,
   "metadata": {},
   "outputs": [
    {
     "data": {
      "text/html": [
       "<div>\n",
       "<style scoped>\n",
       "    .dataframe tbody tr th:only-of-type {\n",
       "        vertical-align: middle;\n",
       "    }\n",
       "\n",
       "    .dataframe tbody tr th {\n",
       "        vertical-align: top;\n",
       "    }\n",
       "\n",
       "    .dataframe thead th {\n",
       "        text-align: right;\n",
       "    }\n",
       "</style>\n",
       "<table border=\"1\" class=\"dataframe\">\n",
       "  <thead>\n",
       "    <tr style=\"text-align: right;\">\n",
       "      <th></th>\n",
       "      <th>Source Column Names</th>\n",
       "      <th>Mapping Logic</th>\n",
       "      <th>Target Field names</th>\n",
       "      <th>Current Column Names</th>\n",
       "      <th>Target DataType</th>\n",
       "      <th>Current Column Types</th>\n",
       "    </tr>\n",
       "  </thead>\n",
       "  <tbody>\n",
       "    <tr>\n",
       "      <th>0</th>\n",
       "      <td>SSN</td>\n",
       "      <td>direct move</td>\n",
       "      <td>SSN</td>\n",
       "      <td>SSN</td>\n",
       "      <td>VARCHAR</td>\n",
       "      <td>string</td>\n",
       "    </tr>\n",
       "    <tr>\n",
       "      <th>1</th>\n",
       "      <td>FIRST_NAME</td>\n",
       "      <td>convert the name to title case</td>\n",
       "      <td>FIRST_NAME</td>\n",
       "      <td>FIRST_NAME</td>\n",
       "      <td>VARCHAR</td>\n",
       "      <td>string</td>\n",
       "    </tr>\n",
       "    <tr>\n",
       "      <th>2</th>\n",
       "      <td>MIDDLE_NAME</td>\n",
       "      <td>convert the middle name in lower case</td>\n",
       "      <td>MIDDLE_NAME</td>\n",
       "      <td>MIDDLE_NAME</td>\n",
       "      <td>VARCHAR</td>\n",
       "      <td>string</td>\n",
       "    </tr>\n",
       "    <tr>\n",
       "      <th>3</th>\n",
       "      <td>LAST_NAME</td>\n",
       "      <td>convert the last name in title case</td>\n",
       "      <td>LAST_NAME</td>\n",
       "      <td>LAST_NAME</td>\n",
       "      <td>VARCHAR</td>\n",
       "      <td>string</td>\n",
       "    </tr>\n",
       "    <tr>\n",
       "      <th>4</th>\n",
       "      <td>CREDIT_CARD_NO</td>\n",
       "      <td>direct move</td>\n",
       "      <td>CREDIT_CARD_NO</td>\n",
       "      <td>CREDIT_CARD_NO</td>\n",
       "      <td>VARCHAR</td>\n",
       "      <td>string</td>\n",
       "    </tr>\n",
       "    <tr>\n",
       "      <th>5</th>\n",
       "      <td>STREET_NAME,APT_NO</td>\n",
       "      <td>concatenate apartment no and street name of customer's residence with comma as a seperator (street, apartment)</td>\n",
       "      <td>FULL_STREET_ADDRESS</td>\n",
       "      <td>FULL_STREET_ADDRESS</td>\n",
       "      <td>VARCHAR</td>\n",
       "      <td>string</td>\n",
       "    </tr>\n",
       "    <tr>\n",
       "      <th>6</th>\n",
       "      <td>CUST_CITY</td>\n",
       "      <td>direct move</td>\n",
       "      <td>CUST_CITY</td>\n",
       "      <td>CUST_CITY</td>\n",
       "      <td>VARCHAR</td>\n",
       "      <td>string</td>\n",
       "    </tr>\n",
       "    <tr>\n",
       "      <th>7</th>\n",
       "      <td>CUST_STATE</td>\n",
       "      <td>direct move</td>\n",
       "      <td>CUST_STATE</td>\n",
       "      <td>CUST_STATE</td>\n",
       "      <td>VARCHAR</td>\n",
       "      <td>string</td>\n",
       "    </tr>\n",
       "    <tr>\n",
       "      <th>8</th>\n",
       "      <td>CUST_COUNTRY</td>\n",
       "      <td>direct move</td>\n",
       "      <td>CUST_COUNTRY</td>\n",
       "      <td>CUST_COUNTRY</td>\n",
       "      <td>VARCHAR</td>\n",
       "      <td>string</td>\n",
       "    </tr>\n",
       "    <tr>\n",
       "      <th>9</th>\n",
       "      <td>CUST_ZIP</td>\n",
       "      <td>direct move</td>\n",
       "      <td>CUST_ZIP</td>\n",
       "      <td>CUST_ZIP</td>\n",
       "      <td>VARCHAR</td>\n",
       "      <td>string</td>\n",
       "    </tr>\n",
       "    <tr>\n",
       "      <th>10</th>\n",
       "      <td>CUST_PHONE</td>\n",
       "      <td>change the format of phone number to (xxx)xxx-xxxx</td>\n",
       "      <td>CUST_PHONE</td>\n",
       "      <td>CUST_PHONE</td>\n",
       "      <td>VARCHAR</td>\n",
       "      <td>string</td>\n",
       "    </tr>\n",
       "    <tr>\n",
       "      <th>11</th>\n",
       "      <td>CUST_EMAIL</td>\n",
       "      <td>direct move</td>\n",
       "      <td>CUST_EMAIL</td>\n",
       "      <td>CUST_EMAIL</td>\n",
       "      <td>VARCHAR</td>\n",
       "      <td>string</td>\n",
       "    </tr>\n",
       "    <tr>\n",
       "      <th>12</th>\n",
       "      <td>LAST_UPDATED</td>\n",
       "      <td>direct move</td>\n",
       "      <td>LAST_UPDATED</td>\n",
       "      <td>LAST_UPDATED</td>\n",
       "      <td>TIMESTAMP</td>\n",
       "      <td>timestamp</td>\n",
       "    </tr>\n",
       "  </tbody>\n",
       "</table>\n",
       "</div>"
      ],
      "text/plain": [
       "   Source Column Names  \\\n",
       "0                  SSN   \n",
       "1           FIRST_NAME   \n",
       "2          MIDDLE_NAME   \n",
       "3            LAST_NAME   \n",
       "4       CREDIT_CARD_NO   \n",
       "5   STREET_NAME,APT_NO   \n",
       "6            CUST_CITY   \n",
       "7           CUST_STATE   \n",
       "8         CUST_COUNTRY   \n",
       "9             CUST_ZIP   \n",
       "10          CUST_PHONE   \n",
       "11          CUST_EMAIL   \n",
       "12        LAST_UPDATED   \n",
       "\n",
       "                                                                                                     Mapping Logic  \\\n",
       "0                                                                                                      direct move   \n",
       "1                                                                                   convert the name to title case   \n",
       "2                                                                            convert the middle name in lower case   \n",
       "3                                                                              convert the last name in title case   \n",
       "4                                                                                                      direct move   \n",
       "5   concatenate apartment no and street name of customer's residence with comma as a seperator (street, apartment)   \n",
       "6                                                                                                      direct move   \n",
       "7                                                                                                      direct move   \n",
       "8                                                                                                      direct move   \n",
       "9                                                                                                      direct move   \n",
       "10                                                              change the format of phone number to (xxx)xxx-xxxx   \n",
       "11                                                                                                     direct move   \n",
       "12                                                                                                     direct move   \n",
       "\n",
       "     Target Field names Current Column Names Target DataType  \\\n",
       "0                   SSN                  SSN         VARCHAR   \n",
       "1            FIRST_NAME           FIRST_NAME         VARCHAR   \n",
       "2           MIDDLE_NAME          MIDDLE_NAME         VARCHAR   \n",
       "3             LAST_NAME            LAST_NAME         VARCHAR   \n",
       "4        CREDIT_CARD_NO       CREDIT_CARD_NO         VARCHAR   \n",
       "5   FULL_STREET_ADDRESS  FULL_STREET_ADDRESS         VARCHAR   \n",
       "6             CUST_CITY            CUST_CITY         VARCHAR   \n",
       "7            CUST_STATE           CUST_STATE         VARCHAR   \n",
       "8          CUST_COUNTRY         CUST_COUNTRY         VARCHAR   \n",
       "9              CUST_ZIP             CUST_ZIP         VARCHAR   \n",
       "10           CUST_PHONE           CUST_PHONE         VARCHAR   \n",
       "11           CUST_EMAIL           CUST_EMAIL         VARCHAR   \n",
       "12         LAST_UPDATED         LAST_UPDATED       TIMESTAMP   \n",
       "\n",
       "   Current Column Types  \n",
       "0                string  \n",
       "1                string  \n",
       "2                string  \n",
       "3                string  \n",
       "4                string  \n",
       "5                string  \n",
       "6                string  \n",
       "7                string  \n",
       "8                string  \n",
       "9                string  \n",
       "10               string  \n",
       "11               string  \n",
       "12            timestamp  "
      ]
     },
     "execution_count": 386,
     "metadata": {},
     "output_type": "execute_result"
    }
   ],
   "source": [
    "compare_types(customer_map, 'Target Field names', customer_df)\\\n",
    "    [['Source Column Names', 'Mapping Logic', 'Target Field names', 'Current Column Names', 'Target DataType', 'Current Column Types',]]"
   ]
  },
  {
   "attachments": {},
   "cell_type": "markdown",
   "metadata": {},
   "source": [
    "### Transforming the Branch Table"
   ]
  },
  {
   "attachments": {},
   "cell_type": "markdown",
   "metadata": {},
   "source": [
    "Let's take a look at the branch table:"
   ]
  },
  {
   "cell_type": "code",
   "execution_count": 170,
   "metadata": {},
   "outputs": [
    {
     "data": {
      "text/plain": [
       "'Source File Column Names, Mapping Logic, Target Table, Target Field names, Target DataType, Description'"
      ]
     },
     "execution_count": 170,
     "metadata": {},
     "output_type": "execute_result"
    }
   ],
   "source": [
    "branch_map = pd.read_clipboard()\n",
    "\", \".join(name for name in branch_map.columns)"
   ]
  },
  {
   "cell_type": "code",
   "execution_count": 172,
   "metadata": {},
   "outputs": [
    {
     "data": {
      "text/html": [
       "<div>\n",
       "<style scoped>\n",
       "    .dataframe tbody tr th:only-of-type {\n",
       "        vertical-align: middle;\n",
       "    }\n",
       "\n",
       "    .dataframe tbody tr th {\n",
       "        vertical-align: top;\n",
       "    }\n",
       "\n",
       "    .dataframe thead th {\n",
       "        text-align: right;\n",
       "    }\n",
       "</style>\n",
       "<table border=\"1\" class=\"dataframe\">\n",
       "  <thead>\n",
       "    <tr style=\"text-align: right;\">\n",
       "      <th></th>\n",
       "      <th>Source File Column Names</th>\n",
       "      <th>Mapping Logic</th>\n",
       "      <th>Target Table</th>\n",
       "      <th>Target Field names</th>\n",
       "      <th>Target DataType</th>\n",
       "      <th>Description</th>\n",
       "      <th>Current Column Names_x</th>\n",
       "      <th>Current Column Types_x</th>\n",
       "      <th>Current Column Names_y</th>\n",
       "      <th>Current Column Types_y</th>\n",
       "    </tr>\n",
       "  </thead>\n",
       "  <tbody>\n",
       "    <tr>\n",
       "      <th>0</th>\n",
       "      <td>BRANCH_CODE</td>\n",
       "      <td>Direct move</td>\n",
       "      <td>cdw_sapp_branch</td>\n",
       "      <td>BRANCH_CODE</td>\n",
       "      <td>INT</td>\n",
       "      <td>Uniquely identifies a branch of the retail store</td>\n",
       "      <td>BRANCH_CODE</td>\n",
       "      <td>bigint</td>\n",
       "      <td>BRANCH_CODE</td>\n",
       "      <td>bigint</td>\n",
       "    </tr>\n",
       "    <tr>\n",
       "      <th>1</th>\n",
       "      <td>BRANCH_NAME</td>\n",
       "      <td>Direct move</td>\n",
       "      <td>cdw_sapp_branch</td>\n",
       "      <td>BRANCH_NAME</td>\n",
       "      <td>VARCHAR</td>\n",
       "      <td>Name of the Branch</td>\n",
       "      <td>BRANCH_NAME</td>\n",
       "      <td>string</td>\n",
       "      <td>BRANCH_NAME</td>\n",
       "      <td>string</td>\n",
       "    </tr>\n",
       "    <tr>\n",
       "      <th>2</th>\n",
       "      <td>BRANCH_STREET</td>\n",
       "      <td>Direct move</td>\n",
       "      <td>cdw_sapp_branch</td>\n",
       "      <td>BRANCH_STREET</td>\n",
       "      <td>VARCHAR</td>\n",
       "      <td>Street Address</td>\n",
       "      <td>BRANCH_STREET</td>\n",
       "      <td>string</td>\n",
       "      <td>BRANCH_STREET</td>\n",
       "      <td>string</td>\n",
       "    </tr>\n",
       "    <tr>\n",
       "      <th>3</th>\n",
       "      <td>BRANCH_CITY</td>\n",
       "      <td>Direct move</td>\n",
       "      <td>cdw_sapp_branch</td>\n",
       "      <td>BRANCH_CITY</td>\n",
       "      <td>VARCHAR</td>\n",
       "      <td>City name where the branch is located</td>\n",
       "      <td>BRANCH_CITY</td>\n",
       "      <td>string</td>\n",
       "      <td>BRANCH_CITY</td>\n",
       "      <td>string</td>\n",
       "    </tr>\n",
       "    <tr>\n",
       "      <th>4</th>\n",
       "      <td>BRANCH_STATE</td>\n",
       "      <td>Direct move</td>\n",
       "      <td>cdw_sapp_branch</td>\n",
       "      <td>BRANCH_STATE</td>\n",
       "      <td>VARCHAR</td>\n",
       "      <td>State name where the branch is located</td>\n",
       "      <td>BRANCH_STATE</td>\n",
       "      <td>string</td>\n",
       "      <td>BRANCH_STATE</td>\n",
       "      <td>string</td>\n",
       "    </tr>\n",
       "    <tr>\n",
       "      <th>5</th>\n",
       "      <td>BRANCH_ZIP</td>\n",
       "      <td>If the source value is null load default (99999) value else Direct move</td>\n",
       "      <td>cdw_sapp_branch</td>\n",
       "      <td>BRANCH_ZIP</td>\n",
       "      <td>VARCHAR</td>\n",
       "      <td>Zip postal code(default value 999999)</td>\n",
       "      <td>BRANCH_ZIP</td>\n",
       "      <td>bigint</td>\n",
       "      <td>BRANCH_ZIP</td>\n",
       "      <td>bigint</td>\n",
       "    </tr>\n",
       "    <tr>\n",
       "      <th>6</th>\n",
       "      <td>BRANCH_PHONE</td>\n",
       "      <td>Change the format of phone number to (XXX)XXX-XXXX</td>\n",
       "      <td>cdw_sapp_branch</td>\n",
       "      <td>BRANCH_PHONE</td>\n",
       "      <td>VARCHAR</td>\n",
       "      <td>Phone number of the branch</td>\n",
       "      <td>BRANCH_PHONE</td>\n",
       "      <td>string</td>\n",
       "      <td>BRANCH_PHONE</td>\n",
       "      <td>string</td>\n",
       "    </tr>\n",
       "    <tr>\n",
       "      <th>7</th>\n",
       "      <td>LAST_UPDATED</td>\n",
       "      <td>Direct move</td>\n",
       "      <td>cdw_sapp_branch</td>\n",
       "      <td>LAST_UPDATED</td>\n",
       "      <td>TIMESTAMP</td>\n",
       "      <td>Record inserted / modification date.</td>\n",
       "      <td>LAST_UPDATED</td>\n",
       "      <td>string</td>\n",
       "      <td>LAST_UPDATED</td>\n",
       "      <td>string</td>\n",
       "    </tr>\n",
       "  </tbody>\n",
       "</table>\n",
       "</div>"
      ],
      "text/plain": [
       "  Source File Column Names  \\\n",
       "0              BRANCH_CODE   \n",
       "1              BRANCH_NAME   \n",
       "2            BRANCH_STREET   \n",
       "3              BRANCH_CITY   \n",
       "4             BRANCH_STATE   \n",
       "5               BRANCH_ZIP   \n",
       "6             BRANCH_PHONE   \n",
       "7             LAST_UPDATED   \n",
       "\n",
       "                                                             Mapping Logic  \\\n",
       "0                                                              Direct move   \n",
       "1                                                             Direct move    \n",
       "2                                                             Direct move    \n",
       "3                                                             Direct move    \n",
       "4                                                             Direct move    \n",
       "5  If the source value is null load default (99999) value else Direct move   \n",
       "6                       Change the format of phone number to (XXX)XXX-XXXX   \n",
       "7                                                              Direct move   \n",
       "\n",
       "      Target Table Target Field names Target DataType  \\\n",
       "0  cdw_sapp_branch        BRANCH_CODE             INT   \n",
       "1  cdw_sapp_branch        BRANCH_NAME         VARCHAR   \n",
       "2  cdw_sapp_branch      BRANCH_STREET         VARCHAR   \n",
       "3  cdw_sapp_branch        BRANCH_CITY         VARCHAR   \n",
       "4  cdw_sapp_branch       BRANCH_STATE         VARCHAR   \n",
       "5  cdw_sapp_branch         BRANCH_ZIP         VARCHAR   \n",
       "6  cdw_sapp_branch       BRANCH_PHONE         VARCHAR   \n",
       "7  cdw_sapp_branch       LAST_UPDATED       TIMESTAMP   \n",
       "\n",
       "                                        Description Current Column Names_x  \\\n",
       "0  Uniquely identifies a branch of the retail store            BRANCH_CODE   \n",
       "1                                Name of the Branch            BRANCH_NAME   \n",
       "2                                    Street Address          BRANCH_STREET   \n",
       "3            City name where the branch is located             BRANCH_CITY   \n",
       "4           State name where the branch is located            BRANCH_STATE   \n",
       "5             Zip postal code(default value 999999)             BRANCH_ZIP   \n",
       "6                        Phone number of the branch           BRANCH_PHONE   \n",
       "7              Record inserted / modification date.           LAST_UPDATED   \n",
       "\n",
       "  Current Column Types_x Current Column Names_y Current Column Types_y  \n",
       "0                 bigint            BRANCH_CODE                 bigint  \n",
       "1                 string            BRANCH_NAME                 string  \n",
       "2                 string          BRANCH_STREET                 string  \n",
       "3                 string            BRANCH_CITY                 string  \n",
       "4                 string           BRANCH_STATE                 string  \n",
       "5                 bigint             BRANCH_ZIP                 bigint  \n",
       "6                 string           BRANCH_PHONE                 string  \n",
       "7                 string           LAST_UPDATED                 string  "
      ]
     },
     "execution_count": 172,
     "metadata": {},
     "output_type": "execute_result"
    }
   ],
   "source": [
    "branch_map = compare_types(branch_map, 'Target Field names', branch_df)\n",
    "branch_map"
   ]
  },
  {
   "cell_type": "code",
   "execution_count": 191,
   "metadata": {},
   "outputs": [
    {
     "data": {
      "text/html": [
       "<div>\n",
       "<style scoped>\n",
       "    .dataframe tbody tr th:only-of-type {\n",
       "        vertical-align: middle;\n",
       "    }\n",
       "\n",
       "    .dataframe tbody tr th {\n",
       "        vertical-align: top;\n",
       "    }\n",
       "\n",
       "    .dataframe thead th {\n",
       "        text-align: right;\n",
       "    }\n",
       "</style>\n",
       "<table border=\"1\" class=\"dataframe\">\n",
       "  <thead>\n",
       "    <tr style=\"text-align: right;\">\n",
       "      <th></th>\n",
       "      <th>Source File Column Names</th>\n",
       "      <th>Mapping Logic</th>\n",
       "      <th>Target Table</th>\n",
       "      <th>Target Field names</th>\n",
       "      <th>Target DataType</th>\n",
       "      <th>Description</th>\n",
       "      <th>Current Column Names_x</th>\n",
       "      <th>Current Column Types_x</th>\n",
       "      <th>Current Column Names_y</th>\n",
       "      <th>Current Column Types_y</th>\n",
       "    </tr>\n",
       "  </thead>\n",
       "  <tbody>\n",
       "    <tr>\n",
       "      <th>5</th>\n",
       "      <td>BRANCH_ZIP</td>\n",
       "      <td>if the source value is null load default (99999) value else direct move</td>\n",
       "      <td>cdw_sapp_branch</td>\n",
       "      <td>BRANCH_ZIP</td>\n",
       "      <td>VARCHAR</td>\n",
       "      <td>Zip postal code(default value 999999)</td>\n",
       "      <td>BRANCH_ZIP</td>\n",
       "      <td>bigint</td>\n",
       "      <td>BRANCH_ZIP</td>\n",
       "      <td>bigint</td>\n",
       "    </tr>\n",
       "    <tr>\n",
       "      <th>6</th>\n",
       "      <td>BRANCH_PHONE</td>\n",
       "      <td>change the format of phone number to (xxx)xxx-xxxx</td>\n",
       "      <td>cdw_sapp_branch</td>\n",
       "      <td>BRANCH_PHONE</td>\n",
       "      <td>VARCHAR</td>\n",
       "      <td>Phone number of the branch</td>\n",
       "      <td>BRANCH_PHONE</td>\n",
       "      <td>string</td>\n",
       "      <td>BRANCH_PHONE</td>\n",
       "      <td>string</td>\n",
       "    </tr>\n",
       "  </tbody>\n",
       "</table>\n",
       "</div>"
      ],
      "text/plain": [
       "  Source File Column Names  \\\n",
       "5               BRANCH_ZIP   \n",
       "6             BRANCH_PHONE   \n",
       "\n",
       "                                                             Mapping Logic  \\\n",
       "5  if the source value is null load default (99999) value else direct move   \n",
       "6                       change the format of phone number to (xxx)xxx-xxxx   \n",
       "\n",
       "      Target Table Target Field names Target DataType  \\\n",
       "5  cdw_sapp_branch         BRANCH_ZIP         VARCHAR   \n",
       "6  cdw_sapp_branch       BRANCH_PHONE         VARCHAR   \n",
       "\n",
       "                             Description Current Column Names_x  \\\n",
       "5  Zip postal code(default value 999999)             BRANCH_ZIP   \n",
       "6             Phone number of the branch           BRANCH_PHONE   \n",
       "\n",
       "  Current Column Types_x Current Column Names_y Current Column Types_y  \n",
       "5                 bigint             BRANCH_ZIP                 bigint  \n",
       "6                 string           BRANCH_PHONE                 string  "
      ]
     },
     "execution_count": 191,
     "metadata": {},
     "output_type": "execute_result"
    }
   ],
   "source": [
    "branch_map['Mapping Logic'] = branch_map['Mapping Logic'].apply(lambda x: str(x).strip().lower())\n",
    "branch_map[branch_map['Mapping Logic'] != 'direct move']"
   ]
  },
  {
   "cell_type": "code",
   "execution_count": 254,
   "metadata": {},
   "outputs": [],
   "source": [
    "branch_df_backup = branch_df"
   ]
  },
  {
   "attachments": {},
   "cell_type": "markdown",
   "metadata": {},
   "source": [
    "#### Transforming the Branch Phone Number"
   ]
  },
  {
   "cell_type": "code",
   "execution_count": 196,
   "metadata": {},
   "outputs": [
    {
     "name": "stdout",
     "output_type": "stream",
     "text": [
      "+------------+\n",
      "|BRANCH_PHONE|\n",
      "+------------+\n",
      "|  1234565276|\n",
      "|  1234618993|\n",
      "|  1234985926|\n",
      "+------------+\n",
      "only showing top 3 rows\n",
      "\n"
     ]
    }
   ],
   "source": [
    "branch_df[['BRANCH_PHONE']].show(3)"
   ]
  },
  {
   "cell_type": "code",
   "execution_count": 197,
   "metadata": {},
   "outputs": [
    {
     "data": {
      "text/plain": [
       "10"
      ]
     },
     "execution_count": 197,
     "metadata": {},
     "output_type": "execute_result"
    }
   ],
   "source": [
    "len('1234565276')"
   ]
  },
  {
   "cell_type": "code",
   "execution_count": 198,
   "metadata": {},
   "outputs": [
    {
     "name": "stdout",
     "output_type": "stream",
     "text": [
      "+------------+\n",
      "|BRANCH_PHONE|\n",
      "+------------+\n",
      "|(123)4565276|\n",
      "|(123)4618993|\n",
      "|(123)4985926|\n",
      "+------------+\n",
      "only showing top 3 rows\n",
      "\n"
     ]
    }
   ],
   "source": [
    "branch_phone_refactor= F.udf(lambda phone_number: \"(\" + phone_number[:3] + \")\" + phone_number[3:])\n",
    "branch_df = branch_df.withColumn('BRANCH_PHONE', branch_phone_refactor(branch_df['BRANCH_PHONE']))\n",
    "branch_df[['BRANCH_PHONE']].show(3)"
   ]
  },
  {
   "attachments": {},
   "cell_type": "markdown",
   "metadata": {},
   "source": [
    "#### Transforming the Branch Zip"
   ]
  },
  {
   "cell_type": "code",
   "execution_count": 203,
   "metadata": {},
   "outputs": [
    {
     "data": {
      "text/html": [
       "<div>\n",
       "<style scoped>\n",
       "    .dataframe tbody tr th:only-of-type {\n",
       "        vertical-align: middle;\n",
       "    }\n",
       "\n",
       "    .dataframe tbody tr th {\n",
       "        vertical-align: top;\n",
       "    }\n",
       "\n",
       "    .dataframe thead th {\n",
       "        text-align: right;\n",
       "    }\n",
       "</style>\n",
       "<table border=\"1\" class=\"dataframe\">\n",
       "  <thead>\n",
       "    <tr style=\"text-align: right;\">\n",
       "      <th></th>\n",
       "      <th>Mapping Logic</th>\n",
       "      <th>Source File Column Names</th>\n",
       "    </tr>\n",
       "  </thead>\n",
       "  <tbody>\n",
       "    <tr>\n",
       "      <th>5</th>\n",
       "      <td>if the source value is null load default (99999) value else direct move</td>\n",
       "      <td>BRANCH_ZIP</td>\n",
       "    </tr>\n",
       "  </tbody>\n",
       "</table>\n",
       "</div>"
      ],
      "text/plain": [
       "                                                             Mapping Logic  \\\n",
       "5  if the source value is null load default (99999) value else direct move   \n",
       "\n",
       "  Source File Column Names  \n",
       "5               BRANCH_ZIP  "
      ]
     },
     "execution_count": 203,
     "metadata": {},
     "output_type": "execute_result"
    }
   ],
   "source": [
    "branch_map[['Mapping Logic', 'Source File Column Names']].iloc[[5]]"
   ]
  },
  {
   "attachments": {},
   "cell_type": "markdown",
   "metadata": {},
   "source": [
    "I don't think there are any NaN or Null values but I'm checking anyway"
   ]
  },
  {
   "cell_type": "code",
   "execution_count": 204,
   "metadata": {},
   "outputs": [
    {
     "name": "stdout",
     "output_type": "stream",
     "text": [
      "+----------+\n",
      "|BRANCH_ZIP|\n",
      "+----------+\n",
      "|     55044|\n",
      "|     60142|\n",
      "|     11419|\n",
      "|     32068|\n",
      "|     19406|\n",
      "|      7501|\n",
      "|     14534|\n",
      "|      6109|\n",
      "|     44070|\n",
      "|      8844|\n",
      "+----------+\n",
      "only showing top 10 rows\n",
      "\n"
     ]
    }
   ],
   "source": [
    "branch_df[['BRANCH_ZIP']].show(10)"
   ]
  },
  {
   "cell_type": "code",
   "execution_count": 226,
   "metadata": {},
   "outputs": [],
   "source": [
    "branch_df[['BRANCH_ZIP']].createOrReplaceGlobalTempView('zip')"
   ]
  },
  {
   "cell_type": "code",
   "execution_count": 237,
   "metadata": {},
   "outputs": [
    {
     "name": "stdout",
     "output_type": "stream",
     "text": [
      "+----------+\n",
      "|BRANCH_ZIP|\n",
      "+----------+\n",
      "+----------+\n",
      "\n"
     ]
    }
   ],
   "source": [
    "spark_sesh.sql(\"select * from global_temp.zip where branch_zip = null\").show()"
   ]
  },
  {
   "cell_type": "code",
   "execution_count": 239,
   "metadata": {},
   "outputs": [
    {
     "name": "stdout",
     "output_type": "stream",
     "text": [
      "+-------+------------------+\n",
      "|summary|        BRANCH_ZIP|\n",
      "+-------+------------------+\n",
      "|  count|               115|\n",
      "|   mean|  38975.2347826087|\n",
      "| stddev|23938.156819564818|\n",
      "|    min|              2155|\n",
      "|    max|             98908|\n",
      "+-------+------------------+\n",
      "\n"
     ]
    }
   ],
   "source": [
    "branch_df[['BRANCH_ZIP']].describe().show()"
   ]
  },
  {
   "cell_type": "code",
   "execution_count": 245,
   "metadata": {},
   "outputs": [
    {
     "name": "stdout",
     "output_type": "stream",
     "text": [
      "+-------+------------------+\n",
      "|summary|        BRANCH_ZIP|\n",
      "+-------+------------------+\n",
      "|  count|               115|\n",
      "|   mean|  38975.2347826087|\n",
      "| stddev|23938.156819564818|\n",
      "|    min|              2155|\n",
      "|    max|             98908|\n",
      "+-------+------------------+\n",
      "\n"
     ]
    }
   ],
   "source": [
    "branch_df = branch_df.fillna({'BRANCH_ZIP':99999})  # fillna can take dict {col:replacement value} and can take multiple k:v pairs\n",
    "branch_df[['BRANCH_ZIP']].describe().show()\n",
    "\n",
    "# this operation is potentially expensive\n",
    "# https://spark.apache.org/docs/latest/api/python/reference/pyspark.pandas/api/pyspark.pandas.DataFrame.fillna.html?highlight=fillna"
   ]
  },
  {
   "attachments": {},
   "cell_type": "markdown",
   "metadata": {},
   "source": [
    "#### Casting Correct Types for the Branch Zip"
   ]
  },
  {
   "cell_type": "code",
   "execution_count": 253,
   "metadata": {},
   "outputs": [
    {
     "data": {
      "text/html": [
       "<div>\n",
       "<style scoped>\n",
       "    .dataframe tbody tr th:only-of-type {\n",
       "        vertical-align: middle;\n",
       "    }\n",
       "\n",
       "    .dataframe tbody tr th {\n",
       "        vertical-align: top;\n",
       "    }\n",
       "\n",
       "    .dataframe thead th {\n",
       "        text-align: right;\n",
       "    }\n",
       "</style>\n",
       "<table border=\"1\" class=\"dataframe\">\n",
       "  <thead>\n",
       "    <tr style=\"text-align: right;\">\n",
       "      <th></th>\n",
       "      <th>Target Field names</th>\n",
       "      <th>Current Column Names_x</th>\n",
       "      <th>Target DataType</th>\n",
       "      <th>Current Column Types_y</th>\n",
       "    </tr>\n",
       "  </thead>\n",
       "  <tbody>\n",
       "    <tr>\n",
       "      <th>0</th>\n",
       "      <td>BRANCH_CODE</td>\n",
       "      <td>BRANCH_CODE</td>\n",
       "      <td>INT</td>\n",
       "      <td>bigint</td>\n",
       "    </tr>\n",
       "    <tr>\n",
       "      <th>1</th>\n",
       "      <td>BRANCH_NAME</td>\n",
       "      <td>BRANCH_NAME</td>\n",
       "      <td>VARCHAR</td>\n",
       "      <td>string</td>\n",
       "    </tr>\n",
       "    <tr>\n",
       "      <th>2</th>\n",
       "      <td>BRANCH_STREET</td>\n",
       "      <td>BRANCH_STREET</td>\n",
       "      <td>VARCHAR</td>\n",
       "      <td>string</td>\n",
       "    </tr>\n",
       "    <tr>\n",
       "      <th>3</th>\n",
       "      <td>BRANCH_CITY</td>\n",
       "      <td>BRANCH_CITY</td>\n",
       "      <td>VARCHAR</td>\n",
       "      <td>string</td>\n",
       "    </tr>\n",
       "    <tr>\n",
       "      <th>4</th>\n",
       "      <td>BRANCH_STATE</td>\n",
       "      <td>BRANCH_STATE</td>\n",
       "      <td>VARCHAR</td>\n",
       "      <td>string</td>\n",
       "    </tr>\n",
       "    <tr>\n",
       "      <th>5</th>\n",
       "      <td>BRANCH_ZIP</td>\n",
       "      <td>BRANCH_ZIP</td>\n",
       "      <td>VARCHAR</td>\n",
       "      <td>bigint</td>\n",
       "    </tr>\n",
       "    <tr>\n",
       "      <th>6</th>\n",
       "      <td>BRANCH_PHONE</td>\n",
       "      <td>BRANCH_PHONE</td>\n",
       "      <td>VARCHAR</td>\n",
       "      <td>string</td>\n",
       "    </tr>\n",
       "    <tr>\n",
       "      <th>7</th>\n",
       "      <td>LAST_UPDATED</td>\n",
       "      <td>LAST_UPDATED</td>\n",
       "      <td>TIMESTAMP</td>\n",
       "      <td>string</td>\n",
       "    </tr>\n",
       "  </tbody>\n",
       "</table>\n",
       "</div>"
      ],
      "text/plain": [
       "  Target Field names Current Column Names_x Target DataType  \\\n",
       "0        BRANCH_CODE            BRANCH_CODE             INT   \n",
       "1        BRANCH_NAME            BRANCH_NAME         VARCHAR   \n",
       "2      BRANCH_STREET          BRANCH_STREET         VARCHAR   \n",
       "3        BRANCH_CITY            BRANCH_CITY         VARCHAR   \n",
       "4       BRANCH_STATE           BRANCH_STATE         VARCHAR   \n",
       "5         BRANCH_ZIP             BRANCH_ZIP         VARCHAR   \n",
       "6       BRANCH_PHONE           BRANCH_PHONE         VARCHAR   \n",
       "7       LAST_UPDATED           LAST_UPDATED       TIMESTAMP   \n",
       "\n",
       "  Current Column Types_y  \n",
       "0                 bigint  \n",
       "1                 string  \n",
       "2                 string  \n",
       "3                 string  \n",
       "4                 string  \n",
       "5                 bigint  \n",
       "6                 string  \n",
       "7                 string  "
      ]
     },
     "execution_count": 253,
     "metadata": {},
     "output_type": "execute_result"
    }
   ],
   "source": [
    "#branch_map.columns\n",
    "branch_map[['Target Field names', 'Current Column Names_x', 'Target DataType', 'Current Column Types_y']]"
   ]
  },
  {
   "attachments": {},
   "cell_type": "markdown",
   "metadata": {},
   "source": [
    "This time I'm using the `withColumns` method and using a dictionary instead of the `withColumn` method, <br>\n",
    "Considering the bulk of the transformations are over with."
   ]
  },
  {
   "cell_type": "code",
   "execution_count": 255,
   "metadata": {},
   "outputs": [
    {
     "name": "stdout",
     "output_type": "stream",
     "text": [
      "root\n",
      " |-- BRANCH_CITY: string (nullable = true)\n",
      " |-- BRANCH_CODE: long (nullable = true)\n",
      " |-- BRANCH_NAME: string (nullable = true)\n",
      " |-- BRANCH_PHONE: string (nullable = true)\n",
      " |-- BRANCH_STATE: string (nullable = true)\n",
      " |-- BRANCH_STREET: string (nullable = true)\n",
      " |-- BRANCH_ZIP: string (nullable = false)\n",
      " |-- LAST_UPDATED: timestamp (nullable = true)\n",
      "\n"
     ]
    }
   ],
   "source": [
    "branch_df = branch_df.withColumns({'BRANCH_ZIP':branch_df['BRANCH_ZIP'].cast('string'),\n",
    "                                   'LAST_UPDATED':branch_df['LAST_UPDATED'].cast('timestamp')})\n",
    "branch_df.printSchema()"
   ]
  },
  {
   "cell_type": "code",
   "execution_count": 257,
   "metadata": {},
   "outputs": [
    {
     "name": "stdout",
     "output_type": "stream",
     "text": [
      "+-------------------+\n",
      "|       LAST_UPDATED|\n",
      "+-------------------+\n",
      "|2018-04-18 16:51:47|\n",
      "|2018-04-18 16:51:47|\n",
      "+-------------------+\n",
      "only showing top 2 rows\n",
      "\n"
     ]
    }
   ],
   "source": [
    "branch_df[['LAST_UPDATED']].show(2)"
   ]
  },
  {
   "attachments": {},
   "cell_type": "markdown",
   "metadata": {},
   "source": [
    "### Transforming the Credit Card Table"
   ]
  },
  {
   "attachments": {},
   "cell_type": "markdown",
   "metadata": {},
   "source": [
    "Again, I'm just going to make a mapping table in pandas so I don't make mistakes. "
   ]
  },
  {
   "cell_type": "code",
   "execution_count": 272,
   "metadata": {},
   "outputs": [
    {
     "data": {
      "text/html": [
       "<div>\n",
       "<style scoped>\n",
       "    .dataframe tbody tr th:only-of-type {\n",
       "        vertical-align: middle;\n",
       "    }\n",
       "\n",
       "    .dataframe tbody tr th {\n",
       "        vertical-align: top;\n",
       "    }\n",
       "\n",
       "    .dataframe thead th {\n",
       "        text-align: right;\n",
       "    }\n",
       "</style>\n",
       "<table border=\"1\" class=\"dataframe\">\n",
       "  <thead>\n",
       "    <tr style=\"text-align: right;\">\n",
       "      <th></th>\n",
       "      <th>Source File Column Names</th>\n",
       "      <th>Mapping Logic</th>\n",
       "      <th>Target Field names</th>\n",
       "      <th>Target DataType</th>\n",
       "      <th>Description</th>\n",
       "    </tr>\n",
       "  </thead>\n",
       "  <tbody>\n",
       "    <tr>\n",
       "      <th>0</th>\n",
       "      <td>CREDIT_CARD_NO</td>\n",
       "      <td>Direct Move</td>\n",
       "      <td>CUST_CC_NO</td>\n",
       "      <td>VARCHAR</td>\n",
       "      <td>Credit card number of customer</td>\n",
       "    </tr>\n",
       "    <tr>\n",
       "      <th>1</th>\n",
       "      <td>DAY, MONTH, YEAR</td>\n",
       "      <td>Convert DAY, MONTH, and YEAR into a TIMEID (YYYYMMDD)</td>\n",
       "      <td>TIMEID</td>\n",
       "      <td>DATE</td>\n",
       "      <td>Surrogate key of the period(time) table</td>\n",
       "    </tr>\n",
       "    <tr>\n",
       "      <th>2</th>\n",
       "      <td>CUST_SSN</td>\n",
       "      <td>Direct Move</td>\n",
       "      <td>CUST_SSN</td>\n",
       "      <td>VARCHAR</td>\n",
       "      <td>Surrogate key of the customer table. Used to uniquely identify a row.</td>\n",
       "    </tr>\n",
       "    <tr>\n",
       "      <th>3</th>\n",
       "      <td>BRANCH_CODE</td>\n",
       "      <td>Direct Move</td>\n",
       "      <td>BRANCH_CODE</td>\n",
       "      <td>INT</td>\n",
       "      <td>Surrogate key of the branch table</td>\n",
       "    </tr>\n",
       "    <tr>\n",
       "      <th>4</th>\n",
       "      <td>TRANSACTION_TYPE</td>\n",
       "      <td>Direct Move</td>\n",
       "      <td>TRANSACTION_TYPE</td>\n",
       "      <td>VARCHAR</td>\n",
       "      <td>Transaction Type</td>\n",
       "    </tr>\n",
       "    <tr>\n",
       "      <th>5</th>\n",
       "      <td>TRANSACTION_VALUE</td>\n",
       "      <td>Direct Move</td>\n",
       "      <td>TRANSACTION_VALUE</td>\n",
       "      <td>DOUBLE</td>\n",
       "      <td>Customer’s Current City</td>\n",
       "    </tr>\n",
       "    <tr>\n",
       "      <th>6</th>\n",
       "      <td>TRANSACTION_ID</td>\n",
       "      <td>Direct move</td>\n",
       "      <td>TRANSACTION_ID</td>\n",
       "      <td>INT</td>\n",
       "      <td>Uniquely identifies a transaction</td>\n",
       "    </tr>\n",
       "  </tbody>\n",
       "</table>\n",
       "</div>"
      ],
      "text/plain": [
       "  Source File Column Names  \\\n",
       "0           CREDIT_CARD_NO   \n",
       "1         DAY, MONTH, YEAR   \n",
       "2                 CUST_SSN   \n",
       "3              BRANCH_CODE   \n",
       "4         TRANSACTION_TYPE   \n",
       "5        TRANSACTION_VALUE   \n",
       "6           TRANSACTION_ID   \n",
       "\n",
       "                                           Mapping Logic Target Field names  \\\n",
       "0                                            Direct Move         CUST_CC_NO   \n",
       "1  Convert DAY, MONTH, and YEAR into a TIMEID (YYYYMMDD)            TIMEID    \n",
       "2                                            Direct Move           CUST_SSN   \n",
       "3                                            Direct Move        BRANCH_CODE   \n",
       "4                                            Direct Move   TRANSACTION_TYPE   \n",
       "5                                            Direct Move  TRANSACTION_VALUE   \n",
       "6                                            Direct move     TRANSACTION_ID   \n",
       "\n",
       "  Target DataType  \\\n",
       "0         VARCHAR   \n",
       "1            DATE   \n",
       "2         VARCHAR   \n",
       "3             INT   \n",
       "4         VARCHAR   \n",
       "5          DOUBLE   \n",
       "6             INT   \n",
       "\n",
       "                                                             Description  \n",
       "0                                         Credit card number of customer  \n",
       "1                                Surrogate key of the period(time) table  \n",
       "2  Surrogate key of the customer table. Used to uniquely identify a row.  \n",
       "3                                      Surrogate key of the branch table  \n",
       "4                                                       Transaction Type  \n",
       "5                                                Customer’s Current City  \n",
       "6                                      Uniquely identifies a transaction  "
      ]
     },
     "execution_count": 272,
     "metadata": {},
     "output_type": "execute_result"
    }
   ],
   "source": [
    "credit_map = pd.read_clipboard()\n",
    "credit_map"
   ]
  },
  {
   "cell_type": "code",
   "execution_count": 275,
   "metadata": {},
   "outputs": [
    {
     "data": {
      "text/plain": [
       "[('BRANCH_CODE', 'bigint'),\n",
       " ('CREDIT_CARD_NO', 'string'),\n",
       " ('CUST_SSN', 'bigint'),\n",
       " ('DAY', 'bigint'),\n",
       " ('MONTH', 'bigint'),\n",
       " ('TRANSACTION_ID', 'bigint'),\n",
       " ('TRANSACTION_TYPE', 'string'),\n",
       " ('TRANSACTION_VALUE', 'double'),\n",
       " ('YEAR', 'bigint')]"
      ]
     },
     "execution_count": 275,
     "metadata": {},
     "output_type": "execute_result"
    }
   ],
   "source": [
    "credit_df.dtypes"
   ]
  },
  {
   "cell_type": "code",
   "execution_count": 351,
   "metadata": {},
   "outputs": [],
   "source": [
    "credit_df_backup = credit_df\n",
    "#credit_df = credit_df_backup # 🔨 break in-case of emergency 🚨\n"
   ]
  },
  {
   "attachments": {},
   "cell_type": "markdown",
   "metadata": {},
   "source": [
    "#### Creating a DATE Column for the Transaction Table from three seperate columns\n"
   ]
  },
  {
   "cell_type": "code",
   "execution_count": 326,
   "metadata": {},
   "outputs": [
    {
     "name": "stdout",
     "output_type": "stream",
     "text": [
      "+----+-----+---+\n",
      "|YEAR|MONTH|DAY|\n",
      "+----+-----+---+\n",
      "|2018|    2| 14|\n",
      "|2018|    3| 20|\n",
      "|2018|    7|  8|\n",
      "|2018|    4| 19|\n",
      "+----+-----+---+\n",
      "only showing top 4 rows\n",
      "\n"
     ]
    }
   ],
   "source": [
    "credit_df[['YEAR', 'MONTH', 'DAY']].show(4)"
   ]
  },
  {
   "attachments": {},
   "cell_type": "markdown",
   "metadata": {},
   "source": [
    "I want to create strings of the y/m/d and then add a zero if the number is 1 through 9. <br>\n",
    "This will make it easier for the last step when I want to convert the string to a date. "
   ]
  },
  {
   "cell_type": "code",
   "execution_count": 328,
   "metadata": {},
   "outputs": [],
   "source": [
    "add_zeroes_bby = F.udf(lambda num: \"0\" + str(num) if num <= 9 else str(num))"
   ]
  },
  {
   "cell_type": "code",
   "execution_count": 329,
   "metadata": {},
   "outputs": [],
   "source": [
    "credit_df = credit_df.withColumns(\n",
    "    {\"YEAR\":add_zeroes_bby(credit_df[\"YEAR\"]),\n",
    "     \"MONTH\":add_zeroes_bby(credit_df[\"MONTH\"]),\n",
    "     \"DAY\":add_zeroes_bby(credit_df[\"DAY\"])}\n",
    ")"
   ]
  },
  {
   "cell_type": "code",
   "execution_count": 331,
   "metadata": {},
   "outputs": [],
   "source": [
    "credit_df.createOrReplaceGlobalTempView('credit')"
   ]
  },
  {
   "cell_type": "code",
   "execution_count": 333,
   "metadata": {},
   "outputs": [
    {
     "name": "stdout",
     "output_type": "stream",
     "text": [
      "+----+-----+---+\n",
      "|YEAR|MONTH|DAY|\n",
      "+----+-----+---+\n",
      "|2018|   02| 14|\n",
      "|2018|   03| 20|\n",
      "|2018|   07| 08|\n",
      "|2018|   04| 19|\n",
      "+----+-----+---+\n",
      "only showing top 4 rows\n",
      "\n"
     ]
    }
   ],
   "source": [
    "credit_df[['YEAR', 'MONTH', 'DAY']].show(4)"
   ]
  },
  {
   "attachments": {},
   "cell_type": "markdown",
   "metadata": {},
   "source": [
    "Making a temp table"
   ]
  },
  {
   "cell_type": "code",
   "execution_count": 336,
   "metadata": {},
   "outputs": [],
   "source": [
    "credit_df = spark_sesh.sql(\"\"\"\n",
    "    SELECT \n",
    "        *, \n",
    "        CONCAT(YEAR, \"-\", MONTH, \"-\", DAY) AS TIMEID\n",
    "    FROM\n",
    "        global_temp.credit\n",
    "\"\"\")"
   ]
  },
  {
   "cell_type": "code",
   "execution_count": 339,
   "metadata": {},
   "outputs": [
    {
     "name": "stdout",
     "output_type": "stream",
     "text": [
      "+----------+\n",
      "|    TIMEID|\n",
      "+----------+\n",
      "|2018-02-14|\n",
      "|2018-03-20|\n",
      "+----------+\n",
      "only showing top 2 rows\n",
      "\n"
     ]
    }
   ],
   "source": [
    "credit_df[['TIMEID']].show(2)"
   ]
  },
  {
   "cell_type": "code",
   "execution_count": null,
   "metadata": {},
   "outputs": [],
   "source": [
    "credit_df = credit_df.drop('YEAR', 'MONTH', 'DAY')\n"
   ]
  },
  {
   "attachments": {},
   "cell_type": "markdown",
   "metadata": {},
   "source": [
    "### Comparing Types and Mapping Table to Current Customer Table"
   ]
  },
  {
   "attachments": {},
   "cell_type": "markdown",
   "metadata": {},
   "source": [
    "The mapping table is a little janky and needs some transformation itself, lol.<br>"
   ]
  },
  {
   "cell_type": "code",
   "execution_count": 349,
   "metadata": {},
   "outputs": [],
   "source": [
    "credit_map['Target Field names'] = credit_map['Target Field names'].apply(lambda x: str(x).strip())"
   ]
  },
  {
   "attachments": {},
   "cell_type": "markdown",
   "metadata": {},
   "source": [
    "You can see here everything looks pretty good, except we need to:\n",
    "- Change CREDIT_CARD_NO to CUST_CC_NO\n",
    "- Change CUST_SSN to a a string type\n",
    "- Change our newly created TIMEID column type from string to date"
   ]
  },
  {
   "cell_type": "code",
   "execution_count": 350,
   "metadata": {},
   "outputs": [
    {
     "data": {
      "text/html": [
       "<div>\n",
       "<style scoped>\n",
       "    .dataframe tbody tr th:only-of-type {\n",
       "        vertical-align: middle;\n",
       "    }\n",
       "\n",
       "    .dataframe tbody tr th {\n",
       "        vertical-align: top;\n",
       "    }\n",
       "\n",
       "    .dataframe thead th {\n",
       "        text-align: right;\n",
       "    }\n",
       "</style>\n",
       "<table border=\"1\" class=\"dataframe\">\n",
       "  <thead>\n",
       "    <tr style=\"text-align: right;\">\n",
       "      <th></th>\n",
       "      <th>Source File Column Names</th>\n",
       "      <th>Mapping Logic</th>\n",
       "      <th>Target Field names</th>\n",
       "      <th>Target DataType</th>\n",
       "      <th>Description</th>\n",
       "      <th>Current Column Names</th>\n",
       "      <th>Current Column Types</th>\n",
       "    </tr>\n",
       "  </thead>\n",
       "  <tbody>\n",
       "    <tr>\n",
       "      <th>0</th>\n",
       "      <td>CREDIT_CARD_NO</td>\n",
       "      <td>Direct Move</td>\n",
       "      <td>CUST_CC_NO</td>\n",
       "      <td>VARCHAR</td>\n",
       "      <td>Credit card number of customer</td>\n",
       "      <td>NaN</td>\n",
       "      <td>NaN</td>\n",
       "    </tr>\n",
       "    <tr>\n",
       "      <th>1</th>\n",
       "      <td>DAY, MONTH, YEAR</td>\n",
       "      <td>Convert DAY, MONTH, and YEAR into a TIMEID (YYYYMMDD)</td>\n",
       "      <td>TIMEID</td>\n",
       "      <td>DATE</td>\n",
       "      <td>Surrogate key of the period(time) table</td>\n",
       "      <td>TIMEID</td>\n",
       "      <td>string</td>\n",
       "    </tr>\n",
       "    <tr>\n",
       "      <th>2</th>\n",
       "      <td>CUST_SSN</td>\n",
       "      <td>Direct Move</td>\n",
       "      <td>CUST_SSN</td>\n",
       "      <td>VARCHAR</td>\n",
       "      <td>Surrogate key of the customer table. Used to uniquely identify a row.</td>\n",
       "      <td>CUST_SSN</td>\n",
       "      <td>bigint</td>\n",
       "    </tr>\n",
       "    <tr>\n",
       "      <th>3</th>\n",
       "      <td>BRANCH_CODE</td>\n",
       "      <td>Direct Move</td>\n",
       "      <td>BRANCH_CODE</td>\n",
       "      <td>INT</td>\n",
       "      <td>Surrogate key of the branch table</td>\n",
       "      <td>BRANCH_CODE</td>\n",
       "      <td>bigint</td>\n",
       "    </tr>\n",
       "    <tr>\n",
       "      <th>4</th>\n",
       "      <td>TRANSACTION_TYPE</td>\n",
       "      <td>Direct Move</td>\n",
       "      <td>TRANSACTION_TYPE</td>\n",
       "      <td>VARCHAR</td>\n",
       "      <td>Transaction Type</td>\n",
       "      <td>TRANSACTION_TYPE</td>\n",
       "      <td>string</td>\n",
       "    </tr>\n",
       "    <tr>\n",
       "      <th>5</th>\n",
       "      <td>TRANSACTION_VALUE</td>\n",
       "      <td>Direct Move</td>\n",
       "      <td>TRANSACTION_VALUE</td>\n",
       "      <td>DOUBLE</td>\n",
       "      <td>Customer’s Current City</td>\n",
       "      <td>TRANSACTION_VALUE</td>\n",
       "      <td>double</td>\n",
       "    </tr>\n",
       "    <tr>\n",
       "      <th>6</th>\n",
       "      <td>TRANSACTION_ID</td>\n",
       "      <td>Direct move</td>\n",
       "      <td>TRANSACTION_ID</td>\n",
       "      <td>INT</td>\n",
       "      <td>Uniquely identifies a transaction</td>\n",
       "      <td>TRANSACTION_ID</td>\n",
       "      <td>bigint</td>\n",
       "    </tr>\n",
       "    <tr>\n",
       "      <th>7</th>\n",
       "      <td>NaN</td>\n",
       "      <td>NaN</td>\n",
       "      <td>NaN</td>\n",
       "      <td>NaN</td>\n",
       "      <td>NaN</td>\n",
       "      <td>CREDIT_CARD_NO</td>\n",
       "      <td>string</td>\n",
       "    </tr>\n",
       "  </tbody>\n",
       "</table>\n",
       "</div>"
      ],
      "text/plain": [
       "  Source File Column Names  \\\n",
       "0           CREDIT_CARD_NO   \n",
       "1         DAY, MONTH, YEAR   \n",
       "2                 CUST_SSN   \n",
       "3              BRANCH_CODE   \n",
       "4         TRANSACTION_TYPE   \n",
       "5        TRANSACTION_VALUE   \n",
       "6           TRANSACTION_ID   \n",
       "7                      NaN   \n",
       "\n",
       "                                           Mapping Logic Target Field names  \\\n",
       "0                                            Direct Move         CUST_CC_NO   \n",
       "1  Convert DAY, MONTH, and YEAR into a TIMEID (YYYYMMDD)             TIMEID   \n",
       "2                                            Direct Move           CUST_SSN   \n",
       "3                                            Direct Move        BRANCH_CODE   \n",
       "4                                            Direct Move   TRANSACTION_TYPE   \n",
       "5                                            Direct Move  TRANSACTION_VALUE   \n",
       "6                                            Direct move     TRANSACTION_ID   \n",
       "7                                                    NaN                NaN   \n",
       "\n",
       "  Target DataType  \\\n",
       "0         VARCHAR   \n",
       "1            DATE   \n",
       "2         VARCHAR   \n",
       "3             INT   \n",
       "4         VARCHAR   \n",
       "5          DOUBLE   \n",
       "6             INT   \n",
       "7             NaN   \n",
       "\n",
       "                                                             Description  \\\n",
       "0                                         Credit card number of customer   \n",
       "1                                Surrogate key of the period(time) table   \n",
       "2  Surrogate key of the customer table. Used to uniquely identify a row.   \n",
       "3                                      Surrogate key of the branch table   \n",
       "4                                                       Transaction Type   \n",
       "5                                                Customer’s Current City   \n",
       "6                                      Uniquely identifies a transaction   \n",
       "7                                                                    NaN   \n",
       "\n",
       "  Current Column Names Current Column Types  \n",
       "0                  NaN                  NaN  \n",
       "1               TIMEID               string  \n",
       "2             CUST_SSN               bigint  \n",
       "3          BRANCH_CODE               bigint  \n",
       "4     TRANSACTION_TYPE               string  \n",
       "5    TRANSACTION_VALUE               double  \n",
       "6       TRANSACTION_ID               bigint  \n",
       "7       CREDIT_CARD_NO               string  "
      ]
     },
     "execution_count": 350,
     "metadata": {},
     "output_type": "execute_result"
    }
   ],
   "source": [
    "compare_types(credit_map, 'Target Field names', credit_df)"
   ]
  },
  {
   "attachments": {},
   "cell_type": "markdown",
   "metadata": {},
   "source": [
    "Casting datatypes with our friend `withColumns`"
   ]
  },
  {
   "cell_type": "code",
   "execution_count": 364,
   "metadata": {},
   "outputs": [],
   "source": [
    "credit_df = credit_df.withColumns(\n",
    "    {\"CREDIT_CARD_NO\": credit_df['CREDIT_CARD_NO'].cast('string'),\n",
    "     \"TIMEID\":credit_df['TIMEID'].cast('date'),\n",
    "     \"CUST_SSN\":credit_df['CUST_SSN'].cast('string')}\n",
    ")\n",
    "\n"
   ]
  },
  {
   "attachments": {},
   "cell_type": "markdown",
   "metadata": {},
   "source": [
    "Renaming the `CREDIT_CARD_NO` column "
   ]
  },
  {
   "cell_type": "code",
   "execution_count": 365,
   "metadata": {},
   "outputs": [],
   "source": [
    "credit_df = credit_df.withColumnRenamed('CREDIT_CARD_NO', 'CUST_CC_NO')"
   ]
  },
  {
   "cell_type": "code",
   "execution_count": 366,
   "metadata": {},
   "outputs": [
    {
     "name": "stdout",
     "output_type": "stream",
     "text": [
      "root\n",
      " |-- BRANCH_CODE: long (nullable = true)\n",
      " |-- CUST_CC_NO: string (nullable = true)\n",
      " |-- CUST_SSN: string (nullable = true)\n",
      " |-- TRANSACTION_ID: long (nullable = true)\n",
      " |-- TRANSACTION_TYPE: string (nullable = true)\n",
      " |-- TRANSACTION_VALUE: double (nullable = true)\n",
      " |-- TIMEID: date (nullable = true)\n",
      "\n"
     ]
    }
   ],
   "source": [
    "credit_df.printSchema()"
   ]
  },
  {
   "cell_type": "code",
   "execution_count": 367,
   "metadata": {},
   "outputs": [
    {
     "data": {
      "text/html": [
       "<div>\n",
       "<style scoped>\n",
       "    .dataframe tbody tr th:only-of-type {\n",
       "        vertical-align: middle;\n",
       "    }\n",
       "\n",
       "    .dataframe tbody tr th {\n",
       "        vertical-align: top;\n",
       "    }\n",
       "\n",
       "    .dataframe thead th {\n",
       "        text-align: right;\n",
       "    }\n",
       "</style>\n",
       "<table border=\"1\" class=\"dataframe\">\n",
       "  <thead>\n",
       "    <tr style=\"text-align: right;\">\n",
       "      <th></th>\n",
       "      <th>Source File Column Names</th>\n",
       "      <th>Mapping Logic</th>\n",
       "      <th>Target Field names</th>\n",
       "      <th>Target DataType</th>\n",
       "      <th>Description</th>\n",
       "      <th>Current Column Names</th>\n",
       "      <th>Current Column Types</th>\n",
       "    </tr>\n",
       "  </thead>\n",
       "  <tbody>\n",
       "    <tr>\n",
       "      <th>0</th>\n",
       "      <td>CREDIT_CARD_NO</td>\n",
       "      <td>Direct Move</td>\n",
       "      <td>CUST_CC_NO</td>\n",
       "      <td>VARCHAR</td>\n",
       "      <td>Credit card number of customer</td>\n",
       "      <td>CUST_CC_NO</td>\n",
       "      <td>string</td>\n",
       "    </tr>\n",
       "    <tr>\n",
       "      <th>1</th>\n",
       "      <td>DAY, MONTH, YEAR</td>\n",
       "      <td>Convert DAY, MONTH, and YEAR into a TIMEID (YYYYMMDD)</td>\n",
       "      <td>TIMEID</td>\n",
       "      <td>DATE</td>\n",
       "      <td>Surrogate key of the period(time) table</td>\n",
       "      <td>TIMEID</td>\n",
       "      <td>date</td>\n",
       "    </tr>\n",
       "    <tr>\n",
       "      <th>2</th>\n",
       "      <td>CUST_SSN</td>\n",
       "      <td>Direct Move</td>\n",
       "      <td>CUST_SSN</td>\n",
       "      <td>VARCHAR</td>\n",
       "      <td>Surrogate key of the customer table. Used to uniquely identify a row.</td>\n",
       "      <td>CUST_SSN</td>\n",
       "      <td>string</td>\n",
       "    </tr>\n",
       "    <tr>\n",
       "      <th>3</th>\n",
       "      <td>BRANCH_CODE</td>\n",
       "      <td>Direct Move</td>\n",
       "      <td>BRANCH_CODE</td>\n",
       "      <td>INT</td>\n",
       "      <td>Surrogate key of the branch table</td>\n",
       "      <td>BRANCH_CODE</td>\n",
       "      <td>bigint</td>\n",
       "    </tr>\n",
       "    <tr>\n",
       "      <th>4</th>\n",
       "      <td>TRANSACTION_TYPE</td>\n",
       "      <td>Direct Move</td>\n",
       "      <td>TRANSACTION_TYPE</td>\n",
       "      <td>VARCHAR</td>\n",
       "      <td>Transaction Type</td>\n",
       "      <td>TRANSACTION_TYPE</td>\n",
       "      <td>string</td>\n",
       "    </tr>\n",
       "    <tr>\n",
       "      <th>5</th>\n",
       "      <td>TRANSACTION_VALUE</td>\n",
       "      <td>Direct Move</td>\n",
       "      <td>TRANSACTION_VALUE</td>\n",
       "      <td>DOUBLE</td>\n",
       "      <td>Customer’s Current City</td>\n",
       "      <td>TRANSACTION_VALUE</td>\n",
       "      <td>double</td>\n",
       "    </tr>\n",
       "    <tr>\n",
       "      <th>6</th>\n",
       "      <td>TRANSACTION_ID</td>\n",
       "      <td>Direct move</td>\n",
       "      <td>TRANSACTION_ID</td>\n",
       "      <td>INT</td>\n",
       "      <td>Uniquely identifies a transaction</td>\n",
       "      <td>TRANSACTION_ID</td>\n",
       "      <td>bigint</td>\n",
       "    </tr>\n",
       "  </tbody>\n",
       "</table>\n",
       "</div>"
      ],
      "text/plain": [
       "  Source File Column Names  \\\n",
       "0           CREDIT_CARD_NO   \n",
       "1         DAY, MONTH, YEAR   \n",
       "2                 CUST_SSN   \n",
       "3              BRANCH_CODE   \n",
       "4         TRANSACTION_TYPE   \n",
       "5        TRANSACTION_VALUE   \n",
       "6           TRANSACTION_ID   \n",
       "\n",
       "                                           Mapping Logic Target Field names  \\\n",
       "0                                            Direct Move         CUST_CC_NO   \n",
       "1  Convert DAY, MONTH, and YEAR into a TIMEID (YYYYMMDD)             TIMEID   \n",
       "2                                            Direct Move           CUST_SSN   \n",
       "3                                            Direct Move        BRANCH_CODE   \n",
       "4                                            Direct Move   TRANSACTION_TYPE   \n",
       "5                                            Direct Move  TRANSACTION_VALUE   \n",
       "6                                            Direct move     TRANSACTION_ID   \n",
       "\n",
       "  Target DataType  \\\n",
       "0         VARCHAR   \n",
       "1            DATE   \n",
       "2         VARCHAR   \n",
       "3             INT   \n",
       "4         VARCHAR   \n",
       "5          DOUBLE   \n",
       "6             INT   \n",
       "\n",
       "                                                             Description  \\\n",
       "0                                         Credit card number of customer   \n",
       "1                                Surrogate key of the period(time) table   \n",
       "2  Surrogate key of the customer table. Used to uniquely identify a row.   \n",
       "3                                      Surrogate key of the branch table   \n",
       "4                                                       Transaction Type   \n",
       "5                                                Customer’s Current City   \n",
       "6                                      Uniquely identifies a transaction   \n",
       "\n",
       "  Current Column Names Current Column Types  \n",
       "0           CUST_CC_NO               string  \n",
       "1               TIMEID                 date  \n",
       "2             CUST_SSN               string  \n",
       "3          BRANCH_CODE               bigint  \n",
       "4     TRANSACTION_TYPE               string  \n",
       "5    TRANSACTION_VALUE               double  \n",
       "6       TRANSACTION_ID               bigint  "
      ]
     },
     "execution_count": 367,
     "metadata": {},
     "output_type": "execute_result"
    }
   ],
   "source": [
    "compare_types(credit_map, 'Target Field names', credit_df)"
   ]
  },
  {
   "cell_type": "code",
   "execution_count": 369,
   "metadata": {},
   "outputs": [
    {
     "name": "stdout",
     "output_type": "stream",
     "text": [
      "+----------+\n",
      "|    TIMEID|\n",
      "+----------+\n",
      "|2018-02-14|\n",
      "|2018-03-20|\n",
      "+----------+\n",
      "only showing top 2 rows\n",
      "\n"
     ]
    }
   ],
   "source": [
    "credit_df[['TIMEID']].show(2)"
   ]
  },
  {
   "attachments": {},
   "cell_type": "markdown",
   "metadata": {},
   "source": [
    "We are DONE transforming, its time to Load!"
   ]
  },
  {
   "attachments": {},
   "cell_type": "markdown",
   "metadata": {},
   "source": [
    "## Load"
   ]
  },
  {
   "cell_type": "code",
   "execution_count": 392,
   "metadata": {},
   "outputs": [],
   "source": [
    "customer_df_backup = customer_df\n",
    "branch_df_backup = branch_df\n",
    "credit_df_backup = credit_df"
   ]
  },
  {
   "attachments": {},
   "cell_type": "markdown",
   "metadata": {},
   "source": [
    "Here Im assigning dataframes to a dictionary and passing them as such. If the dataset was really huge I'd probably pass them a different way."
   ]
  },
  {
   "cell_type": "code",
   "execution_count": 394,
   "metadata": {},
   "outputs": [],
   "source": [
    "dataframe_dict = {}\n",
    "dataframe_dict['cdw_sapp_customer'] = customer_df\n",
    "dataframe_dict['cdw_sapp_branch'] = branch_df\n",
    "dataframe_dict['cdw_sapp_credit_card'] = credit_df\n",
    "dataframe_dict['cdw_sapp_loan_application'] = loan_df"
   ]
  },
  {
   "cell_type": "code",
   "execution_count": null,
   "metadata": {},
   "outputs": [],
   "source": [
    "from pyspark.sql import DataFrameWriter \n"
   ]
  },
  {
   "cell_type": "code",
   "execution_count": 407,
   "metadata": {},
   "outputs": [],
   "source": [
    "def push_to_server(dictionary: dict, mode='append'):\n",
    "    for table_name, data_frame in dictionary.items():\n",
    "        data_frame.write.jdbc(\n",
    "            url='jdbc:mysql://localhost:3306/db_capstone',\n",
    "            table=table_name,\n",
    "            mode=mode,\n",
    "            properties={\"user\":db_user, \"password\":db_password, \"driver\":\"com.mysql.cj.jdbc.Driver\"}\n",
    ")\n",
    "\n"
   ]
  },
  {
   "cell_type": "code",
   "execution_count": 408,
   "metadata": {},
   "outputs": [],
   "source": [
    "push_to_server(dataframe_dict, 'append')"
   ]
  },
  {
   "attachments": {},
   "cell_type": "markdown",
   "metadata": {},
   "source": [
    "📝 Notes:\n",
    "- Be mindful that 'overwrite' will not just overwrite the data in your SQL server, but the data TYPES as well, <br>\n",
    "causing potential performance losses and wasted disk space if your SQL database tables have already been optimized. "
   ]
  },
  {
   "attachments": {},
   "cell_type": "markdown",
   "metadata": {},
   "source": [
    "Here is a snapshot of the final result!\n",
    "<div>\n",
    "<img src='../../images/loading_pyspark_dataframes.png'>\n",
    "</div>"
   ]
  },
  {
   "attachments": {},
   "cell_type": "markdown",
   "metadata": {},
   "source": [
    "Let's not forget to close our pyspark connection!"
   ]
  },
  {
   "cell_type": "code",
   "execution_count": 409,
   "metadata": {},
   "outputs": [],
   "source": [
    "spark_sesh.stop()"
   ]
  }
 ],
 "metadata": {
  "kernelspec": {
   "display_name": "ETL-capstone-env",
   "language": "python",
   "name": "python3"
  },
  "language_info": {
   "codemirror_mode": {
    "name": "ipython",
    "version": 3
   },
   "file_extension": ".py",
   "mimetype": "text/x-python",
   "name": "python",
   "nbconvert_exporter": "python",
   "pygments_lexer": "ipython3",
   "version": "3.10.7"
  },
  "orig_nbformat": 4
 },
 "nbformat": 4,
 "nbformat_minor": 2
}
